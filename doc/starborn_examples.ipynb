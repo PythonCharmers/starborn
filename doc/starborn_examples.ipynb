{
 "cells": [
  {
   "cell_type": "code",
   "execution_count": 2,
   "metadata": {},
   "outputs": [],
   "source": [
    "import pandas as pd\n",
    "import vega_datasets\n",
    "import seaborn as sns\n",
    "import starborn as star"
   ]
  },
  {
   "cell_type": "code",
   "execution_count": 15,
   "metadata": {},
   "outputs": [
    {
     "data": {
      "text/plain": [
       "<module 'starborn' from '/Users/schofield/Dropbox/PythonCharmers/Code/starborn/starborn/__init__.py'>"
      ]
     },
     "execution_count": 15,
     "metadata": {},
     "output_type": "execute_result"
    }
   ],
   "source": [
    "from importlib import reload\n",
    "reload(star.core)\n",
    "reload(star)"
   ]
  },
  {
   "cell_type": "code",
   "execution_count": 4,
   "metadata": {},
   "outputs": [],
   "source": [
    "cars = vega_datasets.data.cars()"
   ]
  },
  {
   "cell_type": "markdown",
   "metadata": {},
   "source": [
    "## Joint plots"
   ]
  },
  {
   "cell_type": "code",
   "execution_count": 5,
   "metadata": {},
   "outputs": [
    {
     "name": "stderr",
     "output_type": "stream",
     "text": [
      "/Users/schofield/miniconda/envs/py36/lib/python3.6/site-packages/matplotlib/axes/_axes.py:6462: UserWarning: The 'normed' kwarg is deprecated, and has been replaced by the 'density' kwarg.\n",
      "  warnings.warn(\"The 'normed' kwarg is deprecated, and has been \"\n",
      "/Users/schofield/miniconda/envs/py36/lib/python3.6/site-packages/matplotlib/axes/_axes.py:6462: UserWarning: The 'normed' kwarg is deprecated, and has been replaced by the 'density' kwarg.\n",
      "  warnings.warn(\"The 'normed' kwarg is deprecated, and has been \"\n"
     ]
    },
    {
     "data": {
      "text/plain": [
       "<seaborn.axisgrid.JointGrid at 0x10911dd68>"
      ]
     },
     "execution_count": 5,
     "metadata": {},
     "output_type": "execute_result"
    },
    {
     "data": {
      "image/png": "[encoded data removed]",
      "text/plain": [
       "<Figure size 432x432 with 3 Axes>"
      ]
     },
     "metadata": {},
     "output_type": "display_data"
    }
   ],
   "source": [
    "sns.jointplot('Weight_in_lbs', 'Miles_per_Gallon', cars)"
   ]
  },
  {
   "cell_type": "code",
   "execution_count": 6,
   "metadata": {},
   "outputs": [
    {
     "data": {
      "application/vnd.vegalite.v2+json": {
       "$schema": "https://vega.github.io/schema/vega-lite/v2.4.1.json",
       "config": {
        "view": {
         "height": 300,
         "width": 400
        }
       },
       "vconcat": [
        {
         "data": {
          "values": [
           {
            "Acceleration": 12,
            "Cylinders": 8,
            "Displacement": 307,
            "Horsepower": 130,
            "Miles_per_Gallon": 18,
            "Name": "chevrolet chevelle malibu",
            "Origin": "USA",
            "Weight_in_lbs": 3504,
            "Year": "1970-01-01"
           },
           {
            "Acceleration": 11.5,
            "Cylinders": 8,
            "Displacement": 350,
            "Horsepower": 165,
            "Miles_per_Gallon": 15,
            "Name": "buick skylark 320",
            "Origin": "USA",
            "Weight_in_lbs": 3693,
            "Year": "1970-01-01"
           },
           {
            "Acceleration": 11,
            "Cylinders": 8,
            "Displacement": 318,
            "Horsepower": 150,
            "Miles_per_Gallon": 18,
            "Name": "plymouth satellite",
            "Origin": "USA",
            "Weight_in_lbs": 3436,
            "Year": "1970-01-01"
           },
           {
            "Acceleration": 12,
            "Cylinders": 8,
            "Displacement": 304,
            "Horsepower": 150,
            "Miles_per_Gallon": 16,
            "Name": "amc rebel sst",
            "Origin": "USA",
            "Weight_in_lbs": 3433,
            "Year": "1970-01-01"
           },
           {
            "Acceleration": 10.5,
            "Cylinders": 8,
            "Displacement": 302,
            "Horsepower": 140,
            "Miles_per_Gallon": 17,
            "Name": "ford torino",
            "Origin": "USA",
            "Weight_in_lbs": 3449,
            "Year": "1970-01-01"
           },
           {
            "Acceleration": 10,
            "Cylinders": 8,
            "Displacement": 429,
            "Horsepower": 198,
            "Miles_per_Gallon": 15,
            "Name": "ford galaxie 500",
            "Origin": "USA",
            "Weight_in_lbs": 4341,
            "Year": "1970-01-01"
           },
           {
            "Acceleration": 9,
            "Cylinders": 8,
            "Displacement": 454,
            "Horsepower": 220,
            "Miles_per_Gallon": 14,
            "Name": "chevrolet impala",
            "Origin": "USA",
            "Weight_in_lbs": 4354,
            "Year": "1970-01-01"
           },
           {
            "Acceleration": 8.5,
            "Cylinders": 8,
            "Displacement": 440,
            "Horsepower": 215,
            "Miles_per_Gallon": 14,
            "Name": "plymouth fury iii",
            "Origin": "USA",
            "Weight_in_lbs": 4312,
            "Year": "1970-01-01"
           },
           {
            "Acceleration": 10,
            "Cylinders": 8,
            "Displacement": 455,
            "Horsepower": 225,
            "Miles_per_Gallon": 14,
            "Name": "pontiac catalina",
            "Origin": "USA",
            "Weight_in_lbs": 4425,
            "Year": "1970-01-01"
           },
           {
            "Acceleration": 8.5,
            "Cylinders": 8,
            "Displacement": 390,
            "Horsepower": 190,
            "Miles_per_Gallon": 15,
            "Name": "amc ambassador dpl",
            "Origin": "USA",
            "Weight_in_lbs": 3850,
            "Year": "1970-01-01"
           },
           {
            "Acceleration": 17.5,
            "Cylinders": 4,
            "Displacement": 133,
            "Horsepower": 115,
            "Miles_per_Gallon": null,
            "Name": "citroen ds-21 pallas",
            "Origin": "Europe",
            "Weight_in_lbs": 3090,
            "Year": "1970-01-01"
           },
           {
            "Acceleration": 11.5,
            "Cylinders": 8,
            "Displacement": 350,
            "Horsepower": 165,
            "Miles_per_Gallon": null,
            "Name": "chevrolet chevelle concours (sw)",
            "Origin": "USA",
            "Weight_in_lbs": 4142,
            "Year": "1970-01-01"
           },
           {
            "Acceleration": 11,
            "Cylinders": 8,
            "Displacement": 351,
            "Horsepower": 153,
            "Miles_per_Gallon": null,
            "Name": "ford torino (sw)",
            "Origin": "USA",
            "Weight_in_lbs": 4034,
            "Year": "1970-01-01"
           },
           {
            "Acceleration": 10.5,
            "Cylinders": 8,
            "Displacement": 383,
            "Horsepower": 175,
            "Miles_per_Gallon": null,
            "Name": "plymouth satellite (sw)",
            "Origin": "USA",
            "Weight_in_lbs": 4166,
            "Year": "1970-01-01"
           },
           {
            "Acceleration": 11,
            "Cylinders": 8,
            "Displacement": 360,
            "Horsepower": 175,
            "Miles_per_Gallon": null,
            "Name": "amc rebel sst (sw)",
            "Origin": "USA",
            "Weight_in_lbs": 3850,
            "Year": "1970-01-01"
           },
           {
            "Acceleration": 10,
            "Cylinders": 8,
            "Displacement": 383,
            "Horsepower": 170,
            "Miles_per_Gallon": 15,
            "Name": "dodge challenger se",
            "Origin": "USA",
            "Weight_in_lbs": 3563,
            "Year": "1970-01-01"
           },
           {
            "Acceleration": 8,
            "Cylinders": 8,
            "Displacement": 340,
            "Horsepower": 160,
            "Miles_per_Gallon": 14,
            "Name": "plymouth 'cuda 340",
            "Origin": "USA",
            "Weight_in_lbs": 3609,
            "Year": "1970-01-01"
           },
           {
            "Acceleration": 8,
            "Cylinders": 8,
            "Displacement": 302,
            "Horsepower": 140,
            "Miles_per_Gallon": null,
            "Name": "ford mustang boss 302",
            "Origin": "USA",
            "Weight_in_lbs": 3353,
            "Year": "1970-01-01"
           },
           {
            "Acceleration": 9.5,
            "Cylinders": 8,
            "Displacement": 400,
            "Horsepower": 150,
            "Miles_per_Gallon": 15,
            "Name": "chevrolet monte carlo",
            "Origin": "USA",
            "Weight_in_lbs": 3761,
            "Year": "1970-01-01"
           },
           {
            "Acceleration": 10,
            "Cylinders": 8,
            "Displacement": 455,
            "Horsepower": 225,
            "Miles_per_Gallon": 14,
            "Name": "buick estate wagon (sw)",
            "Origin": "USA",
            "Weight_in_lbs": 3086,
            "Year": "1970-01-01"
           },
           {
            "Acceleration": 15,
            "Cylinders": 4,
            "Displacement": 113,
            "Horsepower": 95,
            "Miles_per_Gallon": 24,
            "Name": "toyota corona mark ii",
            "Origin": "Japan",
            "Weight_in_lbs": 2372,
            "Year": "1970-01-01"
           },
           {
            "Acceleration": 15.5,
            "Cylinders": 6,
            "Displacement": 198,
            "Horsepower": 95,
            "Miles_per_Gallon": 22,
            "Name": "plymouth duster",
            "Origin": "USA",
            "Weight_in_lbs": 2833,
            "Year": "1970-01-01"
           },
           {
            "Acceleration": 15.5,
            "Cylinders": 6,
            "Displacement": 199,
            "Horsepower": 97,
            "Miles_per_Gallon": 18,
            "Name": "amc hornet",
            "Origin": "USA",
            "Weight_in_lbs": 2774,
            "Year": "1970-01-01"
           },
           {
            "Acceleration": 16,
            "Cylinders": 6,
            "Displacement": 200,
            "Horsepower": 85,
            "Miles_per_Gallon": 21,
            "Name": "ford maverick",
            "Origin": "USA",
            "Weight_in_lbs": 2587,
            "Year": "1970-01-01"
           },
           {
            "Acceleration": 14.5,
            "Cylinders": 4,
            "Displacement": 97,
            "Horsepower": 88,
            "Miles_per_Gallon": 27,
            "Name": "datsun pl510",
            "Origin": "Japan",
            "Weight_in_lbs": 2130,
            "Year": "1970-01-01"
           },
           {
            "Acceleration": 20.5,
            "Cylinders": 4,
            "Displacement": 97,
            "Horsepower": 46,
            "Miles_per_Gallon": 26,
            "Name": "volkswagen 1131 deluxe sedan",
            "Origin": "Europe",
            "Weight_in_lbs": 1835,
            "Year": "1970-01-01"
           },
           {
            "Acceleration": 17.5,
            "Cylinders": 4,
            "Displacement": 110,
            "Horsepower": 87,
            "Miles_per_Gallon": 25,
            "Name": "peugeot 504",
            "Origin": "Europe",
            "Weight_in_lbs": 2672,
            "Year": "1970-01-01"
           },
           {
            "Acceleration": 14.5,
            "Cylinders": 4,
            "Displacement": 107,
            "Horsepower": 90,
            "Miles_per_Gallon": 24,
            "Name": "audi 100 ls",
            "Origin": "Europe",
            "Weight_in_lbs": 2430,
            "Year": "1970-01-01"
           },
           {
            "Acceleration": 17.5,
            "Cylinders": 4,
            "Displacement": 104,
            "Horsepower": 95,
            "Miles_per_Gallon": 25,
            "Name": "saab 99e",
            "Origin": "Europe",
            "Weight_in_lbs": 2375,
            "Year": "1970-01-01"
           },
           {
            "Acceleration": 12.5,
            "Cylinders": 4,
            "Displacement": 121,
            "Horsepower": 113,
            "Miles_per_Gallon": 26,
            "Name": "bmw 2002",
            "Origin": "Europe",
            "Weight_in_lbs": 2234,
            "Year": "1970-01-01"
           },
           {
            "Acceleration": 15,
            "Cylinders": 6,
            "Displacement": 199,
            "Horsepower": 90,
            "Miles_per_Gallon": 21,
            "Name": "amc gremlin",
            "Origin": "USA",
            "Weight_in_lbs": 2648,
            "Year": "1970-01-01"
           },
           {
            "Acceleration": 14,
            "Cylinders": 8,
            "Displacement": 360,
            "Horsepower": 215,
            "Miles_per_Gallon": 10,
            "Name": "ford f250",
            "Origin": "USA",
            "Weight_in_lbs": 4615,
            "Year": "1970-01-01"
           },
           {
            "Acceleration": 15,
            "Cylinders": 8,
            "Displacement": 307,
            "Horsepower": 200,
            "Miles_per_Gallon": 10,
            "Name": "chevy c20",
            "Origin": "USA",
            "Weight_in_lbs": 4376,
            "Year": "1970-01-01"
           },
           {
            "Acceleration": 13.5,
            "Cylinders": 8,
            "Displacement": 318,
            "Horsepower": 210,
            "Miles_per_Gallon": 11,
            "Name": "dodge d200",
            "Origin": "USA",
            "Weight_in_lbs": 4382,
            "Year": "1970-01-01"
           },
           {
            "Acceleration": 18.5,
            "Cylinders": 8,
            "Displacement": 304,
            "Horsepower": 193,
            "Miles_per_Gallon": 9,
            "Name": "hi 1200d",
            "Origin": "USA",
            "Weight_in_lbs": 4732,
            "Year": "1970-01-01"
           },
           {
            "Acceleration": 14.5,
            "Cylinders": 4,
            "Displacement": 97,
            "Horsepower": 88,
            "Miles_per_Gallon": 27,
            "Name": "datsun pl510",
            "Origin": "Japan",
            "Weight_in_lbs": 2130,
            "Year": "1971-01-01"
           },
           {
            "Acceleration": 15.5,
            "Cylinders": 4,
            "Displacement": 140,
            "Horsepower": 90,
            "Miles_per_Gallon": 28,
            "Name": "chevrolet vega 2300",
            "Origin": "USA",
            "Weight_in_lbs": 2264,
            "Year": "1971-01-01"
           },
           {
            "Acceleration": 14,
            "Cylinders": 4,
            "Displacement": 113,
            "Horsepower": 95,
            "Miles_per_Gallon": 25,
            "Name": "toyota corona",
            "Origin": "Japan",
            "Weight_in_lbs": 2228,
            "Year": "1971-01-01"
           },
           {
            "Acceleration": 19,
            "Cylinders": 4,
            "Displacement": 98,
            "Horsepower": null,
            "Miles_per_Gallon": 25,
            "Name": "ford pinto",
            "Origin": "USA",
            "Weight_in_lbs": 2046,
            "Year": "1971-01-01"
           },
           {
            "Acceleration": 20,
            "Cylinders": 4,
            "Displacement": 97,
            "Horsepower": 48,
            "Miles_per_Gallon": null,
            "Name": "volkswagen super beetle 117",
            "Origin": "Europe",
            "Weight_in_lbs": 1978,
            "Year": "1971-01-01"
           },
           {
            "Acceleration": 13,
            "Cylinders": 6,
            "Displacement": 232,
            "Horsepower": 100,
            "Miles_per_Gallon": 19,
            "Name": "amc gremlin",
            "Origin": "USA",
            "Weight_in_lbs": 2634,
            "Year": "1971-01-01"
           },
           {
            "Acceleration": 15.5,
            "Cylinders": 6,
            "Displacement": 225,
            "Horsepower": 105,
            "Miles_per_Gallon": 16,
            "Name": "plymouth satellite custom",
            "Origin": "USA",
            "Weight_in_lbs": 3439,
            "Year": "1971-01-01"
           },
           {
            "Acceleration": 15.5,
            "Cylinders": 6,
            "Displacement": 250,
            "Horsepower": 100,
            "Miles_per_Gallon": 17,
            "Name": "chevrolet chevelle malibu",
            "Origin": "USA",
            "Weight_in_lbs": 3329,
            "Year": "1971-01-01"
           },
           {
            "Acceleration": 15.5,
            "Cylinders": 6,
            "Displacement": 250,
            "Horsepower": 88,
            "Miles_per_Gallon": 19,
            "Name": "ford torino 500",
            "Origin": "USA",
            "Weight_in_lbs": 3302,
            "Year": "1971-01-01"
           },
           {
            "Acceleration": 15.5,
            "Cylinders": 6,
            "Displacement": 232,
            "Horsepower": 100,
            "Miles_per_Gallon": 18,
            "Name": "amc matador",
            "Origin": "USA",
            "Weight_in_lbs": 3288,
            "Year": "1971-01-01"
           },
           {
            "Acceleration": 12,
            "Cylinders": 8,
            "Displacement": 350,
            "Horsepower": 165,
            "Miles_per_Gallon": 14,
            "Name": "chevrolet impala",
            "Origin": "USA",
            "Weight_in_lbs": 4209,
            "Year": "1971-01-01"
           },
           {
            "Acceleration": 11.5,
            "Cylinders": 8,
            "Displacement": 400,
            "Horsepower": 175,
            "Miles_per_Gallon": 14,
            "Name": "pontiac catalina brougham",
            "Origin": "USA",
            "Weight_in_lbs": 4464,
            "Year": "1971-01-01"
           },
           {
            "Acceleration": 13.5,
            "Cylinders": 8,
            "Displacement": 351,
            "Horsepower": 153,
            "Miles_per_Gallon": 14,
            "Name": "ford galaxie 500",
            "Origin": "USA",
            "Weight_in_lbs": 4154,
            "Year": "1971-01-01"
           },
           {
            "Acceleration": 13,
            "Cylinders": 8,
            "Displacement": 318,
            "Horsepower": 150,
            "Miles_per_Gallon": 14,
            "Name": "plymouth fury iii",
            "Origin": "USA",
            "Weight_in_lbs": 4096,
            "Year": "1971-01-01"
           },
           {
            "Acceleration": 11.5,
            "Cylinders": 8,
            "Displacement": 383,
            "Horsepower": 180,
            "Miles_per_Gallon": 12,
            "Name": "dodge monaco (sw)",
            "Origin": "USA",
            "Weight_in_lbs": 4955,
            "Year": "1971-01-01"
           },
           {
            "Acceleration": 12,
            "Cylinders": 8,
            "Displacement": 400,
            "Horsepower": 170,
            "Miles_per_Gallon": 13,
            "Name": "ford country squire (sw)",
            "Origin": "USA",
            "Weight_in_lbs": 4746,
            "Year": "1971-01-01"
           },
           {
            "Acceleration": 12,
            "Cylinders": 8,
            "Displacement": 400,
            "Horsepower": 175,
            "Miles_per_Gallon": 13,
            "Name": "pontiac safari (sw)",
            "Origin": "USA",
            "Weight_in_lbs": 5140,
            "Year": "1971-01-01"
           },
           {
            "Acceleration": 13.5,
            "Cylinders": 6,
            "Displacement": 258,
            "Horsepower": 110,
            "Miles_per_Gallon": 18,
            "Name": "amc hornet sportabout (sw)",
            "Origin": "USA",
            "Weight_in_lbs": 2962,
            "Year": "1971-01-01"
           },
           {
            "Acceleration": 19,
            "Cylinders": 4,
            "Displacement": 140,
            "Horsepower": 72,
            "Miles_per_Gallon": 22,
            "Name": "chevrolet vega (sw)",
            "Origin": "USA",
            "Weight_in_lbs": 2408,
            "Year": "1971-01-01"
           },
           {
            "Acceleration": 15,
            "Cylinders": 6,
            "Displacement": 250,
            "Horsepower": 100,
            "Miles_per_Gallon": 19,
            "Name": "pontiac firebird",
            "Origin": "USA",
            "Weight_in_lbs": 3282,
            "Year": "1971-01-01"
           },
           {
            "Acceleration": 14.5,
            "Cylinders": 6,
            "Displacement": 250,
            "Horsepower": 88,
            "Miles_per_Gallon": 18,
            "Name": "ford mustang",
            "Origin": "USA",
            "Weight_in_lbs": 3139,
            "Year": "1971-01-01"
           },
           {
            "Acceleration": 14,
            "Cylinders": 4,
            "Displacement": 122,
            "Horsepower": 86,
            "Miles_per_Gallon": 23,
            "Name": "mercury capri 2000",
            "Origin": "USA",
            "Weight_in_lbs": 2220,
            "Year": "1971-01-01"
           },
           {
            "Acceleration": 14,
            "Cylinders": 4,
            "Displacement": 116,
            "Horsepower": 90,
            "Miles_per_Gallon": 28,
            "Name": "opel 1900",
            "Origin": "Europe",
            "Weight_in_lbs": 2123,
            "Year": "1971-01-01"
           },
           {
            "Acceleration": 19.5,
            "Cylinders": 4,
            "Displacement": 79,
            "Horsepower": 70,
            "Miles_per_Gallon": 30,
            "Name": "peugeot 304",
            "Origin": "Europe",
            "Weight_in_lbs": 2074,
            "Year": "1971-01-01"
           },
           {
            "Acceleration": 14.5,
            "Cylinders": 4,
            "Displacement": 88,
            "Horsepower": 76,
            "Miles_per_Gallon": 30,
            "Name": "fiat 124b",
            "Origin": "Europe",
            "Weight_in_lbs": 2065,
            "Year": "1971-01-01"
           },
           {
            "Acceleration": 19,
            "Cylinders": 4,
            "Displacement": 71,
            "Horsepower": 65,
            "Miles_per_Gallon": 31,
            "Name": "toyota corolla 1200",
            "Origin": "Japan",
            "Weight_in_lbs": 1773,
            "Year": "1971-01-01"
           },
           {
            "Acceleration": 18,
            "Cylinders": 4,
            "Displacement": 72,
            "Horsepower": 69,
            "Miles_per_Gallon": 35,
            "Name": "datsun 1200",
            "Origin": "Japan",
            "Weight_in_lbs": 1613,
            "Year": "1971-01-01"
           },
           {
            "Acceleration": 19,
            "Cylinders": 4,
            "Displacement": 97,
            "Horsepower": 60,
            "Miles_per_Gallon": 27,
            "Name": "volkswagen model 111",
            "Origin": "Europe",
            "Weight_in_lbs": 1834,
            "Year": "1971-01-01"
           },
           {
            "Acceleration": 20.5,
            "Cylinders": 4,
            "Displacement": 91,
            "Horsepower": 70,
            "Miles_per_Gallon": 26,
            "Name": "plymouth cricket",
            "Origin": "USA",
            "Weight_in_lbs": 1955,
            "Year": "1971-01-01"
           },
           {
            "Acceleration": 15.5,
            "Cylinders": 4,
            "Displacement": 113,
            "Horsepower": 95,
            "Miles_per_Gallon": 24,
            "Name": "toyota corona hardtop",
            "Origin": "Japan",
            "Weight_in_lbs": 2278,
            "Year": "1972-01-01"
           },
           {
            "Acceleration": 17,
            "Cylinders": 4,
            "Displacement": 97.5,
            "Horsepower": 80,
            "Miles_per_Gallon": 25,
            "Name": "dodge colt hardtop",
            "Origin": "USA",
            "Weight_in_lbs": 2126,
            "Year": "1972-01-01"
           },
           {
            "Acceleration": 23.5,
            "Cylinders": 4,
            "Displacement": 97,
            "Horsepower": 54,
            "Miles_per_Gallon": 23,
            "Name": "volkswagen type 3",
            "Origin": "Europe",
            "Weight_in_lbs": 2254,
            "Year": "1972-01-01"
           },
           {
            "Acceleration": 19.5,
            "Cylinders": 4,
            "Displacement": 140,
            "Horsepower": 90,
            "Miles_per_Gallon": 20,
            "Name": "chevrolet vega",
            "Origin": "USA",
            "Weight_in_lbs": 2408,
            "Year": "1972-01-01"
           },
           {
            "Acceleration": 16.5,
            "Cylinders": 4,
            "Displacement": 122,
            "Horsepower": 86,
            "Miles_per_Gallon": 21,
            "Name": "ford pinto runabout",
            "Origin": "USA",
            "Weight_in_lbs": 2226,
            "Year": "1972-01-01"
           },
           {
            "Acceleration": 12,
            "Cylinders": 8,
            "Displacement": 350,
            "Horsepower": 165,
            "Miles_per_Gallon": 13,
            "Name": "chevrolet impala",
            "Origin": "USA",
            "Weight_in_lbs": 4274,
            "Year": "1972-01-01"
           },
           {
            "Acceleration": 12,
            "Cylinders": 8,
            "Displacement": 400,
            "Horsepower": 175,
            "Miles_per_Gallon": 14,
            "Name": "pontiac catalina",
            "Origin": "USA",
            "Weight_in_lbs": 4385,
            "Year": "1972-01-01"
           },
           {
            "Acceleration": 13.5,
            "Cylinders": 8,
            "Displacement": 318,
            "Horsepower": 150,
            "Miles_per_Gallon": 15,
            "Name": "plymouth fury iii",
            "Origin": "USA",
            "Weight_in_lbs": 4135,
            "Year": "1972-01-01"
           },
           {
            "Acceleration": 13,
            "Cylinders": 8,
            "Displacement": 351,
            "Horsepower": 153,
            "Miles_per_Gallon": 14,
            "Name": "ford galaxie 500",
            "Origin": "USA",
            "Weight_in_lbs": 4129,
            "Year": "1972-01-01"
           },
           {
            "Acceleration": 11.5,
            "Cylinders": 8,
            "Displacement": 304,
            "Horsepower": 150,
            "Miles_per_Gallon": 17,
            "Name": "amc ambassador sst",
            "Origin": "USA",
            "Weight_in_lbs": 3672,
            "Year": "1972-01-01"
           },
           {
            "Acceleration": 11,
            "Cylinders": 8,
            "Displacement": 429,
            "Horsepower": 208,
            "Miles_per_Gallon": 11,
            "Name": "mercury marquis",
            "Origin": "USA",
            "Weight_in_lbs": 4633,
            "Year": "1972-01-01"
           },
           {
            "Acceleration": 13.5,
            "Cylinders": 8,
            "Displacement": 350,
            "Horsepower": 155,
            "Miles_per_Gallon": 13,
            "Name": "buick lesabre custom",
            "Origin": "USA",
            "Weight_in_lbs": 4502,
            "Year": "1972-01-01"
           },
           {
            "Acceleration": 13.5,
            "Cylinders": 8,
            "Displacement": 350,
            "Horsepower": 160,
            "Miles_per_Gallon": 12,
            "Name": "oldsmobile delta 88 royale",
            "Origin": "USA",
            "Weight_in_lbs": 4456,
            "Year": "1972-01-01"
           },
           {
            "Acceleration": 12.5,
            "Cylinders": 8,
            "Displacement": 400,
            "Horsepower": 190,
            "Miles_per_Gallon": 13,
            "Name": "chrysler newport royal",
            "Origin": "USA",
            "Weight_in_lbs": 4422,
            "Year": "1972-01-01"
           },
           {
            "Acceleration": 13.5,
            "Cylinders": 3,
            "Displacement": 70,
            "Horsepower": 97,
            "Miles_per_Gallon": 19,
            "Name": "mazda rx2 coupe",
            "Origin": "Japan",
            "Weight_in_lbs": 2330,
            "Year": "1972-01-01"
           },
           {
            "Acceleration": 12.5,
            "Cylinders": 8,
            "Displacement": 304,
            "Horsepower": 150,
            "Miles_per_Gallon": 15,
            "Name": "amc matador (sw)",
            "Origin": "USA",
            "Weight_in_lbs": 3892,
            "Year": "1972-01-01"
           },
           {
            "Acceleration": 14,
            "Cylinders": 8,
            "Displacement": 307,
            "Horsepower": 130,
            "Miles_per_Gallon": 13,
            "Name": "chevrolet chevelle concours (sw)",
            "Origin": "USA",
            "Weight_in_lbs": 4098,
            "Year": "1972-01-01"
           },
           {
            "Acceleration": 16,
            "Cylinders": 8,
            "Displacement": 302,
            "Horsepower": 140,
            "Miles_per_Gallon": 13,
            "Name": "ford gran torino (sw)",
            "Origin": "USA",
            "Weight_in_lbs": 4294,
            "Year": "1972-01-01"
           },
           {
            "Acceleration": 14,
            "Cylinders": 8,
            "Displacement": 318,
            "Horsepower": 150,
            "Miles_per_Gallon": 14,
            "Name": "plymouth satellite custom (sw)",
            "Origin": "USA",
            "Weight_in_lbs": 4077,
            "Year": "1972-01-01"
           },
           {
            "Acceleration": 14.5,
            "Cylinders": 4,
            "Displacement": 121,
            "Horsepower": 112,
            "Miles_per_Gallon": 18,
            "Name": "volvo 145e (sw)",
            "Origin": "Europe",
            "Weight_in_lbs": 2933,
            "Year": "1972-01-01"
           },
           {
            "Acceleration": 18,
            "Cylinders": 4,
            "Displacement": 121,
            "Horsepower": 76,
            "Miles_per_Gallon": 22,
            "Name": "volkswagen 411 (sw)",
            "Origin": "Europe",
            "Weight_in_lbs": 2511,
            "Year": "1972-01-01"
           },
           {
            "Acceleration": 19.5,
            "Cylinders": 4,
            "Displacement": 120,
            "Horsepower": 87,
            "Miles_per_Gallon": 21,
            "Name": "peugeot 504 (sw)",
            "Origin": "Europe",
            "Weight_in_lbs": 2979,
            "Year": "1972-01-01"
           },
           {
            "Acceleration": 18,
            "Cylinders": 4,
            "Displacement": 96,
            "Horsepower": 69,
            "Miles_per_Gallon": 26,
            "Name": "renault 12 (sw)",
            "Origin": "Europe",
            "Weight_in_lbs": 2189,
            "Year": "1972-01-01"
           },
           {
            "Acceleration": 16,
            "Cylinders": 4,
            "Displacement": 122,
            "Horsepower": 86,
            "Miles_per_Gallon": 22,
            "Name": "ford pinto (sw)",
            "Origin": "USA",
            "Weight_in_lbs": 2395,
            "Year": "1972-01-01"
           },
           {
            "Acceleration": 17,
            "Cylinders": 4,
            "Displacement": 97,
            "Horsepower": 92,
            "Miles_per_Gallon": 28,
            "Name": "datsun 510 (sw)",
            "Origin": "Japan",
            "Weight_in_lbs": 2288,
            "Year": "1972-01-01"
           },
           {
            "Acceleration": 14.5,
            "Cylinders": 4,
            "Displacement": 120,
            "Horsepower": 97,
            "Miles_per_Gallon": 23,
            "Name": "toyouta corona mark ii (sw)",
            "Origin": "Japan",
            "Weight_in_lbs": 2506,
            "Year": "1972-01-01"
           },
           {
            "Acceleration": 15,
            "Cylinders": 4,
            "Displacement": 98,
            "Horsepower": 80,
            "Miles_per_Gallon": 28,
            "Name": "dodge colt (sw)",
            "Origin": "USA",
            "Weight_in_lbs": 2164,
            "Year": "1972-01-01"
           },
           {
            "Acceleration": 16.5,
            "Cylinders": 4,
            "Displacement": 97,
            "Horsepower": 88,
            "Miles_per_Gallon": 27,
            "Name": "toyota corolla 1600 (sw)",
            "Origin": "Japan",
            "Weight_in_lbs": 2100,
            "Year": "1972-01-01"
           },
           {
            "Acceleration": 13,
            "Cylinders": 8,
            "Displacement": 350,
            "Horsepower": 175,
            "Miles_per_Gallon": 13,
            "Name": "buick century 350",
            "Origin": "USA",
            "Weight_in_lbs": 4100,
            "Year": "1973-01-01"
           },
           {
            "Acceleration": 11.5,
            "Cylinders": 8,
            "Displacement": 304,
            "Horsepower": 150,
            "Miles_per_Gallon": 14,
            "Name": "amc matador",
            "Origin": "USA",
            "Weight_in_lbs": 3672,
            "Year": "1973-01-01"
           },
           {
            "Acceleration": 13,
            "Cylinders": 8,
            "Displacement": 350,
            "Horsepower": 145,
            "Miles_per_Gallon": 13,
            "Name": "chevrolet malibu",
            "Origin": "USA",
            "Weight_in_lbs": 3988,
            "Year": "1973-01-01"
           },
           {
            "Acceleration": 14.5,
            "Cylinders": 8,
            "Displacement": 302,
            "Horsepower": 137,
            "Miles_per_Gallon": 14,
            "Name": "ford gran torino",
            "Origin": "USA",
            "Weight_in_lbs": 4042,
            "Year": "1973-01-01"
           },
           {
            "Acceleration": 12.5,
            "Cylinders": 8,
            "Displacement": 318,
            "Horsepower": 150,
            "Miles_per_Gallon": 15,
            "Name": "dodge coronet custom",
            "Origin": "USA",
            "Weight_in_lbs": 3777,
            "Year": "1973-01-01"
           },
           {
            "Acceleration": 11.5,
            "Cylinders": 8,
            "Displacement": 429,
            "Horsepower": 198,
            "Miles_per_Gallon": 12,
            "Name": "mercury marquis brougham",
            "Origin": "USA",
            "Weight_in_lbs": 4952,
            "Year": "1973-01-01"
           },
           {
            "Acceleration": 12,
            "Cylinders": 8,
            "Displacement": 400,
            "Horsepower": 150,
            "Miles_per_Gallon": 13,
            "Name": "chevrolet caprice classic",
            "Origin": "USA",
            "Weight_in_lbs": 4464,
            "Year": "1973-01-01"
           },
           {
            "Acceleration": 13,
            "Cylinders": 8,
            "Displacement": 351,
            "Horsepower": 158,
            "Miles_per_Gallon": 13,
            "Name": "ford ltd",
            "Origin": "USA",
            "Weight_in_lbs": 4363,
            "Year": "1973-01-01"
           },
           {
            "Acceleration": 14.5,
            "Cylinders": 8,
            "Displacement": 318,
            "Horsepower": 150,
            "Miles_per_Gallon": 14,
            "Name": "plymouth fury gran sedan",
            "Origin": "USA",
            "Weight_in_lbs": 4237,
            "Year": "1973-01-01"
           },
           {
            "Acceleration": 11,
            "Cylinders": 8,
            "Displacement": 440,
            "Horsepower": 215,
            "Miles_per_Gallon": 13,
            "Name": "chrysler new yorker brougham",
            "Origin": "USA",
            "Weight_in_lbs": 4735,
            "Year": "1973-01-01"
           },
           {
            "Acceleration": 11,
            "Cylinders": 8,
            "Displacement": 455,
            "Horsepower": 225,
            "Miles_per_Gallon": 12,
            "Name": "buick electra 225 custom",
            "Origin": "USA",
            "Weight_in_lbs": 4951,
            "Year": "1973-01-01"
           },
           {
            "Acceleration": 11,
            "Cylinders": 8,
            "Displacement": 360,
            "Horsepower": 175,
            "Miles_per_Gallon": 13,
            "Name": "amc ambassador brougham",
            "Origin": "USA",
            "Weight_in_lbs": 3821,
            "Year": "1973-01-01"
           },
           {
            "Acceleration": 16.5,
            "Cylinders": 6,
            "Displacement": 225,
            "Horsepower": 105,
            "Miles_per_Gallon": 18,
            "Name": "plymouth valiant",
            "Origin": "USA",
            "Weight_in_lbs": 3121,
            "Year": "1973-01-01"
           },
           {
            "Acceleration": 18,
            "Cylinders": 6,
            "Displacement": 250,
            "Horsepower": 100,
            "Miles_per_Gallon": 16,
            "Name": "chevrolet nova custom",
            "Origin": "USA",
            "Weight_in_lbs": 3278,
            "Year": "1973-01-01"
           },
           {
            "Acceleration": 16,
            "Cylinders": 6,
            "Displacement": 232,
            "Horsepower": 100,
            "Miles_per_Gallon": 18,
            "Name": "amc hornet",
            "Origin": "USA",
            "Weight_in_lbs": 2945,
            "Year": "1973-01-01"
           },
           {
            "Acceleration": 16.5,
            "Cylinders": 6,
            "Displacement": 250,
            "Horsepower": 88,
            "Miles_per_Gallon": 18,
            "Name": "ford maverick",
            "Origin": "USA",
            "Weight_in_lbs": 3021,
            "Year": "1973-01-01"
           },
           {
            "Acceleration": 16,
            "Cylinders": 6,
            "Displacement": 198,
            "Horsepower": 95,
            "Miles_per_Gallon": 23,
            "Name": "plymouth duster",
            "Origin": "USA",
            "Weight_in_lbs": 2904,
            "Year": "1973-01-01"
           },
           {
            "Acceleration": 21,
            "Cylinders": 4,
            "Displacement": 97,
            "Horsepower": 46,
            "Miles_per_Gallon": 26,
            "Name": "volkswagen super beetle",
            "Origin": "Europe",
            "Weight_in_lbs": 1950,
            "Year": "1973-01-01"
           },
           {
            "Acceleration": 14,
            "Cylinders": 8,
            "Displacement": 400,
            "Horsepower": 150,
            "Miles_per_Gallon": 11,
            "Name": "chevrolet impala",
            "Origin": "USA",
            "Weight_in_lbs": 4997,
            "Year": "1973-01-01"
           },
           {
            "Acceleration": 12.5,
            "Cylinders": 8,
            "Displacement": 400,
            "Horsepower": 167,
            "Miles_per_Gallon": 12,
            "Name": "ford country",
            "Origin": "USA",
            "Weight_in_lbs": 4906,
            "Year": "1973-01-01"
           },
           {
            "Acceleration": 13,
            "Cylinders": 8,
            "Displacement": 360,
            "Horsepower": 170,
            "Miles_per_Gallon": 13,
            "Name": "plymouth custom suburb",
            "Origin": "USA",
            "Weight_in_lbs": 4654,
            "Year": "1973-01-01"
           },
           {
            "Acceleration": 12.5,
            "Cylinders": 8,
            "Displacement": 350,
            "Horsepower": 180,
            "Miles_per_Gallon": 12,
            "Name": "oldsmobile vista cruiser",
            "Origin": "USA",
            "Weight_in_lbs": 4499,
            "Year": "1973-01-01"
           },
           {
            "Acceleration": 15,
            "Cylinders": 6,
            "Displacement": 232,
            "Horsepower": 100,
            "Miles_per_Gallon": 18,
            "Name": "amc gremlin",
            "Origin": "USA",
            "Weight_in_lbs": 2789,
            "Year": "1973-01-01"
           },
           {
            "Acceleration": 19,
            "Cylinders": 4,
            "Displacement": 97,
            "Horsepower": 88,
            "Miles_per_Gallon": 20,
            "Name": "toyota carina",
            "Origin": "Japan",
            "Weight_in_lbs": 2279,
            "Year": "1973-01-01"
           },
           {
            "Acceleration": 19.5,
            "Cylinders": 4,
            "Displacement": 140,
            "Horsepower": 72,
            "Miles_per_Gallon": 21,
            "Name": "chevrolet vega",
            "Origin": "USA",
            "Weight_in_lbs": 2401,
            "Year": "1973-01-01"
           },
           {
            "Acceleration": 16.5,
            "Cylinders": 4,
            "Displacement": 108,
            "Horsepower": 94,
            "Miles_per_Gallon": 22,
            "Name": "datsun 610",
            "Origin": "Japan",
            "Weight_in_lbs": 2379,
            "Year": "1973-01-01"
           },
           {
            "Acceleration": 13.5,
            "Cylinders": 3,
            "Displacement": 70,
            "Horsepower": 90,
            "Miles_per_Gallon": 18,
            "Name": "maxda rx3",
            "Origin": "Japan",
            "Weight_in_lbs": 2124,
            "Year": "1973-01-01"
           },
           {
            "Acceleration": 18.5,
            "Cylinders": 4,
            "Displacement": 122,
            "Horsepower": 85,
            "Miles_per_Gallon": 19,
            "Name": "ford pinto",
            "Origin": "USA",
            "Weight_in_lbs": 2310,
            "Year": "1973-01-01"
           },
           {
            "Acceleration": 14,
            "Cylinders": 6,
            "Displacement": 155,
            "Horsepower": 107,
            "Miles_per_Gallon": 21,
            "Name": "mercury capri v6",
            "Origin": "USA",
            "Weight_in_lbs": 2472,
            "Year": "1973-01-01"
           },
           {
            "Acceleration": 15.5,
            "Cylinders": 4,
            "Displacement": 98,
            "Horsepower": 90,
            "Miles_per_Gallon": 26,
            "Name": "fiat 124 sport coupe",
            "Origin": "Europe",
            "Weight_in_lbs": 2265,
            "Year": "1973-01-01"
           },
           {
            "Acceleration": 13,
            "Cylinders": 8,
            "Displacement": 350,
            "Horsepower": 145,
            "Miles_per_Gallon": 15,
            "Name": "chevrolet monte carlo s",
            "Origin": "USA",
            "Weight_in_lbs": 4082,
            "Year": "1973-01-01"
           },
           {
            "Acceleration": 9.5,
            "Cylinders": 8,
            "Displacement": 400,
            "Horsepower": 230,
            "Miles_per_Gallon": 16,
            "Name": "pontiac grand prix",
            "Origin": "USA",
            "Weight_in_lbs": 4278,
            "Year": "1973-01-01"
           },
           {
            "Acceleration": 19.5,
            "Cylinders": 4,
            "Displacement": 68,
            "Horsepower": 49,
            "Miles_per_Gallon": 29,
            "Name": "fiat 128",
            "Origin": "Europe",
            "Weight_in_lbs": 1867,
            "Year": "1973-01-01"
           },
           {
            "Acceleration": 15.5,
            "Cylinders": 4,
            "Displacement": 116,
            "Horsepower": 75,
            "Miles_per_Gallon": 24,
            "Name": "opel manta",
            "Origin": "Europe",
            "Weight_in_lbs": 2158,
            "Year": "1973-01-01"
           },
           {
            "Acceleration": 14,
            "Cylinders": 4,
            "Displacement": 114,
            "Horsepower": 91,
            "Miles_per_Gallon": 20,
            "Name": "audi 100ls",
            "Origin": "Europe",
            "Weight_in_lbs": 2582,
            "Year": "1973-01-01"
           },
           {
            "Acceleration": 15.5,
            "Cylinders": 4,
            "Displacement": 121,
            "Horsepower": 112,
            "Miles_per_Gallon": 19,
            "Name": "volvo 144ea",
            "Origin": "Europe",
            "Weight_in_lbs": 2868,
            "Year": "1973-01-01"
           },
           {
            "Acceleration": 11,
            "Cylinders": 8,
            "Displacement": 318,
            "Horsepower": 150,
            "Miles_per_Gallon": 15,
            "Name": "dodge dart custom",
            "Origin": "USA",
            "Weight_in_lbs": 3399,
            "Year": "1973-01-01"
           },
           {
            "Acceleration": 14,
            "Cylinders": 4,
            "Displacement": 121,
            "Horsepower": 110,
            "Miles_per_Gallon": 24,
            "Name": "saab 99le",
            "Origin": "Europe",
            "Weight_in_lbs": 2660,
            "Year": "1973-01-01"
           },
           {
            "Acceleration": 13.5,
            "Cylinders": 6,
            "Displacement": 156,
            "Horsepower": 122,
            "Miles_per_Gallon": 20,
            "Name": "toyota mark ii",
            "Origin": "Japan",
            "Weight_in_lbs": 2807,
            "Year": "1973-01-01"
           },
           {
            "Acceleration": 11,
            "Cylinders": 8,
            "Displacement": 350,
            "Horsepower": 180,
            "Miles_per_Gallon": 11,
            "Name": "oldsmobile omega",
            "Origin": "USA",
            "Weight_in_lbs": 3664,
            "Year": "1973-01-01"
           },
           {
            "Acceleration": 16.5,
            "Cylinders": 6,
            "Displacement": 198,
            "Horsepower": 95,
            "Miles_per_Gallon": 20,
            "Name": "plymouth duster",
            "Origin": "USA",
            "Weight_in_lbs": 3102,
            "Year": "1974-01-01"
           },
           {
            "Acceleration": 17,
            "Cylinders": 6,
            "Displacement": 200,
            "Horsepower": null,
            "Miles_per_Gallon": 21,
            "Name": "ford maverick",
            "Origin": "USA",
            "Weight_in_lbs": 2875,
            "Year": "1974-01-01"
           },
           {
            "Acceleration": 16,
            "Cylinders": 6,
            "Displacement": 232,
            "Horsepower": 100,
            "Miles_per_Gallon": 19,
            "Name": "amc hornet",
            "Origin": "USA",
            "Weight_in_lbs": 2901,
            "Year": "1974-01-01"
           },
           {
            "Acceleration": 17,
            "Cylinders": 6,
            "Displacement": 250,
            "Horsepower": 100,
            "Miles_per_Gallon": 15,
            "Name": "chevrolet nova",
            "Origin": "USA",
            "Weight_in_lbs": 3336,
            "Year": "1974-01-01"
           },
           {
            "Acceleration": 19,
            "Cylinders": 4,
            "Displacement": 79,
            "Horsepower": 67,
            "Miles_per_Gallon": 31,
            "Name": "datsun b210",
            "Origin": "Japan",
            "Weight_in_lbs": 1950,
            "Year": "1974-01-01"
           },
           {
            "Acceleration": 16.5,
            "Cylinders": 4,
            "Displacement": 122,
            "Horsepower": 80,
            "Miles_per_Gallon": 26,
            "Name": "ford pinto",
            "Origin": "USA",
            "Weight_in_lbs": 2451,
            "Year": "1974-01-01"
           },
           {
            "Acceleration": 21,
            "Cylinders": 4,
            "Displacement": 71,
            "Horsepower": 65,
            "Miles_per_Gallon": 32,
            "Name": "toyota corolla 1200",
            "Origin": "Japan",
            "Weight_in_lbs": 1836,
            "Year": "1974-01-01"
           },
           {
            "Acceleration": 17,
            "Cylinders": 4,
            "Displacement": 140,
            "Horsepower": 75,
            "Miles_per_Gallon": 25,
            "Name": "chevrolet vega",
            "Origin": "USA",
            "Weight_in_lbs": 2542,
            "Year": "1974-01-01"
           },
           {
            "Acceleration": 17,
            "Cylinders": 6,
            "Displacement": 250,
            "Horsepower": 100,
            "Miles_per_Gallon": 16,
            "Name": "chevrolet chevelle malibu classic",
            "Origin": "USA",
            "Weight_in_lbs": 3781,
            "Year": "1974-01-01"
           },
           {
            "Acceleration": 18,
            "Cylinders": 6,
            "Displacement": 258,
            "Horsepower": 110,
            "Miles_per_Gallon": 16,
            "Name": "amc matador",
            "Origin": "USA",
            "Weight_in_lbs": 3632,
            "Year": "1974-01-01"
           },
           {
            "Acceleration": 16.5,
            "Cylinders": 6,
            "Displacement": 225,
            "Horsepower": 105,
            "Miles_per_Gallon": 18,
            "Name": "plymouth satellite sebring",
            "Origin": "USA",
            "Weight_in_lbs": 3613,
            "Year": "1974-01-01"
           },
           {
            "Acceleration": 14,
            "Cylinders": 8,
            "Displacement": 302,
            "Horsepower": 140,
            "Miles_per_Gallon": 16,
            "Name": "ford gran torino",
            "Origin": "USA",
            "Weight_in_lbs": 4141,
            "Year": "1974-01-01"
           },
           {
            "Acceleration": 14.5,
            "Cylinders": 8,
            "Displacement": 350,
            "Horsepower": 150,
            "Miles_per_Gallon": 13,
            "Name": "buick century luxus (sw)",
            "Origin": "USA",
            "Weight_in_lbs": 4699,
            "Year": "1974-01-01"
           },
           {
            "Acceleration": 13.5,
            "Cylinders": 8,
            "Displacement": 318,
            "Horsepower": 150,
            "Miles_per_Gallon": 14,
            "Name": "dodge coronet custom (sw)",
            "Origin": "USA",
            "Weight_in_lbs": 4457,
            "Year": "1974-01-01"
           },
           {
            "Acceleration": 16,
            "Cylinders": 8,
            "Displacement": 302,
            "Horsepower": 140,
            "Miles_per_Gallon": 14,
            "Name": "ford gran torino (sw)",
            "Origin": "USA",
            "Weight_in_lbs": 4638,
            "Year": "1974-01-01"
           },
           {
            "Acceleration": 15.5,
            "Cylinders": 8,
            "Displacement": 304,
            "Horsepower": 150,
            "Miles_per_Gallon": 14,
            "Name": "amc matador (sw)",
            "Origin": "USA",
            "Weight_in_lbs": 4257,
            "Year": "1974-01-01"
           },
           {
            "Acceleration": 16.5,
            "Cylinders": 4,
            "Displacement": 98,
            "Horsepower": 83,
            "Miles_per_Gallon": 29,
            "Name": "audi fox",
            "Origin": "Europe",
            "Weight_in_lbs": 2219,
            "Year": "1974-01-01"
           },
           {
            "Acceleration": 15.5,
            "Cylinders": 4,
            "Displacement": 79,
            "Horsepower": 67,
            "Miles_per_Gallon": 26,
            "Name": "volkswagen dasher",
            "Origin": "Europe",
            "Weight_in_lbs": 1963,
            "Year": "1974-01-01"
           },
           {
            "Acceleration": 14.5,
            "Cylinders": 4,
            "Displacement": 97,
            "Horsepower": 78,
            "Miles_per_Gallon": 26,
            "Name": "opel manta",
            "Origin": "Europe",
            "Weight_in_lbs": 2300,
            "Year": "1974-01-01"
           },
           {
            "Acceleration": 16.5,
            "Cylinders": 4,
            "Displacement": 76,
            "Horsepower": 52,
            "Miles_per_Gallon": 31,
            "Name": "toyota corona",
            "Origin": "Japan",
            "Weight_in_lbs": 1649,
            "Year": "1974-01-01"
           },
           {
            "Acceleration": 19,
            "Cylinders": 4,
            "Displacement": 83,
            "Horsepower": 61,
            "Miles_per_Gallon": 32,
            "Name": "datsun 710",
            "Origin": "Japan",
            "Weight_in_lbs": 2003,
            "Year": "1974-01-01"
           },
           {
            "Acceleration": 14.5,
            "Cylinders": 4,
            "Displacement": 90,
            "Horsepower": 75,
            "Miles_per_Gallon": 28,
            "Name": "dodge colt",
            "Origin": "USA",
            "Weight_in_lbs": 2125,
            "Year": "1974-01-01"
           },
           {
            "Acceleration": 15.5,
            "Cylinders": 4,
            "Displacement": 90,
            "Horsepower": 75,
            "Miles_per_Gallon": 24,
            "Name": "fiat 128",
            "Origin": "Europe",
            "Weight_in_lbs": 2108,
            "Year": "1974-01-01"
           },
           {
            "Acceleration": 14,
            "Cylinders": 4,
            "Displacement": 116,
            "Horsepower": 75,
            "Miles_per_Gallon": 26,
            "Name": "fiat 124 tc",
            "Origin": "Europe",
            "Weight_in_lbs": 2246,
            "Year": "1974-01-01"
           },
           {
            "Acceleration": 15,
            "Cylinders": 4,
            "Displacement": 120,
            "Horsepower": 97,
            "Miles_per_Gallon": 24,
            "Name": "honda civic",
            "Origin": "Japan",
            "Weight_in_lbs": 2489,
            "Year": "1974-01-01"
           },
           {
            "Acceleration": 15.5,
            "Cylinders": 4,
            "Displacement": 108,
            "Horsepower": 93,
            "Miles_per_Gallon": 26,
            "Name": "subaru",
            "Origin": "Japan",
            "Weight_in_lbs": 2391,
            "Year": "1974-01-01"
           },
           {
            "Acceleration": 16,
            "Cylinders": 4,
            "Displacement": 79,
            "Horsepower": 67,
            "Miles_per_Gallon": 31,
            "Name": "fiat x1.9",
            "Origin": "Europe",
            "Weight_in_lbs": 2000,
            "Year": "1974-01-01"
           },
           {
            "Acceleration": 16,
            "Cylinders": 6,
            "Displacement": 225,
            "Horsepower": 95,
            "Miles_per_Gallon": 19,
            "Name": "plymouth valiant custom",
            "Origin": "USA",
            "Weight_in_lbs": 3264,
            "Year": "1975-01-01"
           },
           {
            "Acceleration": 16,
            "Cylinders": 6,
            "Displacement": 250,
            "Horsepower": 105,
            "Miles_per_Gallon": 18,
            "Name": "chevrolet nova",
            "Origin": "USA",
            "Weight_in_lbs": 3459,
            "Year": "1975-01-01"
           },
           {
            "Acceleration": 21,
            "Cylinders": 6,
            "Displacement": 250,
            "Horsepower": 72,
            "Miles_per_Gallon": 15,
            "Name": "mercury monarch",
            "Origin": "USA",
            "Weight_in_lbs": 3432,
            "Year": "1975-01-01"
           },
           {
            "Acceleration": 19.5,
            "Cylinders": 6,
            "Displacement": 250,
            "Horsepower": 72,
            "Miles_per_Gallon": 15,
            "Name": "ford maverick",
            "Origin": "USA",
            "Weight_in_lbs": 3158,
            "Year": "1975-01-01"
           },
           {
            "Acceleration": 11.5,
            "Cylinders": 8,
            "Displacement": 400,
            "Horsepower": 170,
            "Miles_per_Gallon": 16,
            "Name": "pontiac catalina",
            "Origin": "USA",
            "Weight_in_lbs": 4668,
            "Year": "1975-01-01"
           },
           {
            "Acceleration": 14,
            "Cylinders": 8,
            "Displacement": 350,
            "Horsepower": 145,
            "Miles_per_Gallon": 15,
            "Name": "chevrolet bel air",
            "Origin": "USA",
            "Weight_in_lbs": 4440,
            "Year": "1975-01-01"
           },
           {
            "Acceleration": 14.5,
            "Cylinders": 8,
            "Displacement": 318,
            "Horsepower": 150,
            "Miles_per_Gallon": 16,
            "Name": "plymouth grand fury",
            "Origin": "USA",
            "Weight_in_lbs": 4498,
            "Year": "1975-01-01"
           },
           {
            "Acceleration": 13.5,
            "Cylinders": 8,
            "Displacement": 351,
            "Horsepower": 148,
            "Miles_per_Gallon": 14,
            "Name": "ford ltd",
            "Origin": "USA",
            "Weight_in_lbs": 4657,
            "Year": "1975-01-01"
           },
           {
            "Acceleration": 21,
            "Cylinders": 6,
            "Displacement": 231,
            "Horsepower": 110,
            "Miles_per_Gallon": 17,
            "Name": "buick century",
            "Origin": "USA",
            "Weight_in_lbs": 3907,
            "Year": "1975-01-01"
           },
           {
            "Acceleration": 18.5,
            "Cylinders": 6,
            "Displacement": 250,
            "Horsepower": 105,
            "Miles_per_Gallon": 16,
            "Name": "chevroelt chevelle malibu",
            "Origin": "USA",
            "Weight_in_lbs": 3897,
            "Year": "1975-01-01"
           },
           {
            "Acceleration": 19,
            "Cylinders": 6,
            "Displacement": 258,
            "Horsepower": 110,
            "Miles_per_Gallon": 15,
            "Name": "amc matador",
            "Origin": "USA",
            "Weight_in_lbs": 3730,
            "Year": "1975-01-01"
           },
           {
            "Acceleration": 19,
            "Cylinders": 6,
            "Displacement": 225,
            "Horsepower": 95,
            "Miles_per_Gallon": 18,
            "Name": "plymouth fury",
            "Origin": "USA",
            "Weight_in_lbs": 3785,
            "Year": "1975-01-01"
           },
           {
            "Acceleration": 15,
            "Cylinders": 6,
            "Displacement": 231,
            "Horsepower": 110,
            "Miles_per_Gallon": 21,
            "Name": "buick skyhawk",
            "Origin": "USA",
            "Weight_in_lbs": 3039,
            "Year": "1975-01-01"
           },
           {
            "Acceleration": 13.5,
            "Cylinders": 8,
            "Displacement": 262,
            "Horsepower": 110,
            "Miles_per_Gallon": 20,
            "Name": "chevrolet monza 2+2",
            "Origin": "USA",
            "Weight_in_lbs": 3221,
            "Year": "1975-01-01"
           },
           {
            "Acceleration": 12,
            "Cylinders": 8,
            "Displacement": 302,
            "Horsepower": 129,
            "Miles_per_Gallon": 13,
            "Name": "ford mustang ii",
            "Origin": "USA",
            "Weight_in_lbs": 3169,
            "Year": "1975-01-01"
           },
           {
            "Acceleration": 16,
            "Cylinders": 4,
            "Displacement": 97,
            "Horsepower": 75,
            "Miles_per_Gallon": 29,
            "Name": "toyota corolla",
            "Origin": "Japan",
            "Weight_in_lbs": 2171,
            "Year": "1975-01-01"
           },
           {
            "Acceleration": 17,
            "Cylinders": 4,
            "Displacement": 140,
            "Horsepower": 83,
            "Miles_per_Gallon": 23,
            "Name": "ford pinto",
            "Origin": "USA",
            "Weight_in_lbs": 2639,
            "Year": "1975-01-01"
           },
           {
            "Acceleration": 16,
            "Cylinders": 6,
            "Displacement": 232,
            "Horsepower": 100,
            "Miles_per_Gallon": 20,
            "Name": "amc gremlin",
            "Origin": "USA",
            "Weight_in_lbs": 2914,
            "Year": "1975-01-01"
           },
           {
            "Acceleration": 18.5,
            "Cylinders": 4,
            "Displacement": 140,
            "Horsepower": 78,
            "Miles_per_Gallon": 23,
            "Name": "pontiac astro",
            "Origin": "USA",
            "Weight_in_lbs": 2592,
            "Year": "1975-01-01"
           },
           {
            "Acceleration": 13.5,
            "Cylinders": 4,
            "Displacement": 134,
            "Horsepower": 96,
            "Miles_per_Gallon": 24,
            "Name": "toyota corona",
            "Origin": "Japan",
            "Weight_in_lbs": 2702,
            "Year": "1975-01-01"
           },
           {
            "Acceleration": 16.5,
            "Cylinders": 4,
            "Displacement": 90,
            "Horsepower": 71,
            "Miles_per_Gallon": 25,
            "Name": "volkswagen dasher",
            "Origin": "Europe",
            "Weight_in_lbs": 2223,
            "Year": "1975-01-01"
           },
           {
            "Acceleration": 17,
            "Cylinders": 4,
            "Displacement": 119,
            "Horsepower": 97,
            "Miles_per_Gallon": 24,
            "Name": "datsun 710",
            "Origin": "Japan",
            "Weight_in_lbs": 2545,
            "Year": "1975-01-01"
           },
           {
            "Acceleration": 14.5,
            "Cylinders": 6,
            "Displacement": 171,
            "Horsepower": 97,
            "Miles_per_Gallon": 18,
            "Name": "ford pinto",
            "Origin": "USA",
            "Weight_in_lbs": 2984,
            "Year": "1975-01-01"
           },
           {
            "Acceleration": 14,
            "Cylinders": 4,
            "Displacement": 90,
            "Horsepower": 70,
            "Miles_per_Gallon": 29,
            "Name": "volkswagen rabbit",
            "Origin": "Europe",
            "Weight_in_lbs": 1937,
            "Year": "1975-01-01"
           },
           {
            "Acceleration": 17,
            "Cylinders": 6,
            "Displacement": 232,
            "Horsepower": 90,
            "Miles_per_Gallon": 19,
            "Name": "amc pacer",
            "Origin": "USA",
            "Weight_in_lbs": 3211,
            "Year": "1975-01-01"
           },
           {
            "Acceleration": 15,
            "Cylinders": 4,
            "Displacement": 115,
            "Horsepower": 95,
            "Miles_per_Gallon": 23,
            "Name": "audi 100ls",
            "Origin": "Europe",
            "Weight_in_lbs": 2694,
            "Year": "1975-01-01"
           },
           {
            "Acceleration": 17,
            "Cylinders": 4,
            "Displacement": 120,
            "Horsepower": 88,
            "Miles_per_Gallon": 23,
            "Name": "peugeot 504",
            "Origin": "Europe",
            "Weight_in_lbs": 2957,
            "Year": "1975-01-01"
           },
           {
            "Acceleration": 14.5,
            "Cylinders": 4,
            "Displacement": 121,
            "Horsepower": 98,
            "Miles_per_Gallon": 22,
            "Name": "volvo 244dl",
            "Origin": "Europe",
            "Weight_in_lbs": 2945,
            "Year": "1975-01-01"
           },
           {
            "Acceleration": 13.5,
            "Cylinders": 4,
            "Displacement": 121,
            "Horsepower": 115,
            "Miles_per_Gallon": 25,
            "Name": "saab 99le",
            "Origin": "Europe",
            "Weight_in_lbs": 2671,
            "Year": "1975-01-01"
           },
           {
            "Acceleration": 17.5,
            "Cylinders": 4,
            "Displacement": 91,
            "Horsepower": 53,
            "Miles_per_Gallon": 33,
            "Name": "honda civic cvcc",
            "Origin": "Japan",
            "Weight_in_lbs": 1795,
            "Year": "1975-01-01"
           },
           {
            "Acceleration": 15.5,
            "Cylinders": 4,
            "Displacement": 107,
            "Horsepower": 86,
            "Miles_per_Gallon": 28,
            "Name": "fiat 131",
            "Origin": "Europe",
            "Weight_in_lbs": 2464,
            "Year": "1976-01-01"
           },
           {
            "Acceleration": 16.9,
            "Cylinders": 4,
            "Displacement": 116,
            "Horsepower": 81,
            "Miles_per_Gallon": 25,
            "Name": "opel 1900",
            "Origin": "Europe",
            "Weight_in_lbs": 2220,
            "Year": "1976-01-01"
           },
           {
            "Acceleration": 14.9,
            "Cylinders": 4,
            "Displacement": 140,
            "Horsepower": 92,
            "Miles_per_Gallon": 25,
            "Name": "capri ii",
            "Origin": "USA",
            "Weight_in_lbs": 2572,
            "Year": "1976-01-01"
           },
           {
            "Acceleration": 17.7,
            "Cylinders": 4,
            "Displacement": 98,
            "Horsepower": 79,
            "Miles_per_Gallon": 26,
            "Name": "dodge colt",
            "Origin": "USA",
            "Weight_in_lbs": 2255,
            "Year": "1976-01-01"
           },
           {
            "Acceleration": 15.3,
            "Cylinders": 4,
            "Displacement": 101,
            "Horsepower": 83,
            "Miles_per_Gallon": 27,
            "Name": "renault 12tl",
            "Origin": "Europe",
            "Weight_in_lbs": 2202,
            "Year": "1976-01-01"
           },
           {
            "Acceleration": 13,
            "Cylinders": 8,
            "Displacement": 305,
            "Horsepower": 140,
            "Miles_per_Gallon": 17.5,
            "Name": "chevrolet chevelle malibu classic",
            "Origin": "USA",
            "Weight_in_lbs": 4215,
            "Year": "1976-01-01"
           },
           {
            "Acceleration": 13,
            "Cylinders": 8,
            "Displacement": 318,
            "Horsepower": 150,
            "Miles_per_Gallon": 16,
            "Name": "dodge coronet brougham",
            "Origin": "USA",
            "Weight_in_lbs": 4190,
            "Year": "1976-01-01"
           },
           {
            "Acceleration": 13.9,
            "Cylinders": 8,
            "Displacement": 304,
            "Horsepower": 120,
            "Miles_per_Gallon": 15.5,
            "Name": "amc matador",
            "Origin": "USA",
            "Weight_in_lbs": 3962,
            "Year": "1976-01-01"
           },
           {
            "Acceleration": 12.8,
            "Cylinders": 8,
            "Displacement": 351,
            "Horsepower": 152,
            "Miles_per_Gallon": 14.5,
            "Name": "ford gran torino",
            "Origin": "USA",
            "Weight_in_lbs": 4215,
            "Year": "1976-01-01"
           },
           {
            "Acceleration": 15.4,
            "Cylinders": 6,
            "Displacement": 225,
            "Horsepower": 100,
            "Miles_per_Gallon": 22,
            "Name": "plymouth valiant",
            "Origin": "USA",
            "Weight_in_lbs": 3233,
            "Year": "1976-01-01"
           },
           {
            "Acceleration": 14.5,
            "Cylinders": 6,
            "Displacement": 250,
            "Horsepower": 105,
            "Miles_per_Gallon": 22,
            "Name": "chevrolet nova",
            "Origin": "USA",
            "Weight_in_lbs": 3353,
            "Year": "1976-01-01"
           },
           {
            "Acceleration": 17.6,
            "Cylinders": 6,
            "Displacement": 200,
            "Horsepower": 81,
            "Miles_per_Gallon": 24,
            "Name": "ford maverick",
            "Origin": "USA",
            "Weight_in_lbs": 3012,
            "Year": "1976-01-01"
           },
           {
            "Acceleration": 17.6,
            "Cylinders": 6,
            "Displacement": 232,
            "Horsepower": 90,
            "Miles_per_Gallon": 22.5,
            "Name": "amc hornet",
            "Origin": "USA",
            "Weight_in_lbs": 3085,
            "Year": "1976-01-01"
           },
           {
            "Acceleration": 22.2,
            "Cylinders": 4,
            "Displacement": 85,
            "Horsepower": 52,
            "Miles_per_Gallon": 29,
            "Name": "chevrolet chevette",
            "Origin": "USA",
            "Weight_in_lbs": 2035,
            "Year": "1976-01-01"
           },
           {
            "Acceleration": 22.1,
            "Cylinders": 4,
            "Displacement": 98,
            "Horsepower": 60,
            "Miles_per_Gallon": 24.5,
            "Name": "chevrolet woody",
            "Origin": "USA",
            "Weight_in_lbs": 2164,
            "Year": "1976-01-01"
           },
           {
            "Acceleration": 14.2,
            "Cylinders": 4,
            "Displacement": 90,
            "Horsepower": 70,
            "Miles_per_Gallon": 29,
            "Name": "vw rabbit",
            "Origin": "Europe",
            "Weight_in_lbs": 1937,
            "Year": "1976-01-01"
           },
           {
            "Acceleration": 17.4,
            "Cylinders": 4,
            "Displacement": 91,
            "Horsepower": 53,
            "Miles_per_Gallon": 33,
            "Name": "honda civic",
            "Origin": "Japan",
            "Weight_in_lbs": 1795,
            "Year": "1976-01-01"
           },
           {
            "Acceleration": 17.7,
            "Cylinders": 6,
            "Displacement": 225,
            "Horsepower": 100,
            "Miles_per_Gallon": 20,
            "Name": "dodge aspen se",
            "Origin": "USA",
            "Weight_in_lbs": 3651,
            "Year": "1976-01-01"
           },
           {
            "Acceleration": 21,
            "Cylinders": 6,
            "Displacement": 250,
            "Horsepower": 78,
            "Miles_per_Gallon": 18,
            "Name": "ford granada ghia",
            "Origin": "USA",
            "Weight_in_lbs": 3574,
            "Year": "1976-01-01"
           },
           {
            "Acceleration": 16.2,
            "Cylinders": 6,
            "Displacement": 250,
            "Horsepower": 110,
            "Miles_per_Gallon": 18.5,
            "Name": "pontiac ventura sj",
            "Origin": "USA",
            "Weight_in_lbs": 3645,
            "Year": "1976-01-01"
           },
           {
            "Acceleration": 17.8,
            "Cylinders": 6,
            "Displacement": 258,
            "Horsepower": 95,
            "Miles_per_Gallon": 17.5,
            "Name": "amc pacer d/l",
            "Origin": "USA",
            "Weight_in_lbs": 3193,
            "Year": "1976-01-01"
           },
           {
            "Acceleration": 12.2,
            "Cylinders": 4,
            "Displacement": 97,
            "Horsepower": 71,
            "Miles_per_Gallon": 29.5,
            "Name": "volkswagen rabbit",
            "Origin": "Europe",
            "Weight_in_lbs": 1825,
            "Year": "1976-01-01"
           },
           {
            "Acceleration": 17,
            "Cylinders": 4,
            "Displacement": 85,
            "Horsepower": 70,
            "Miles_per_Gallon": 32,
            "Name": "datsun b-210",
            "Origin": "Japan",
            "Weight_in_lbs": 1990,
            "Year": "1976-01-01"
           },
           {
            "Acceleration": 16.4,
            "Cylinders": 4,
            "Displacement": 97,
            "Horsepower": 75,
            "Miles_per_Gallon": 28,
            "Name": "toyota corolla",
            "Origin": "Japan",
            "Weight_in_lbs": 2155,
            "Year": "1976-01-01"
           },
           {
            "Acceleration": 13.6,
            "Cylinders": 4,
            "Displacement": 140,
            "Horsepower": 72,
            "Miles_per_Gallon": 26.5,
            "Name": "ford pinto",
            "Origin": "USA",
            "Weight_in_lbs": 2565,
            "Year": "1976-01-01"
           },
           {
            "Acceleration": 15.7,
            "Cylinders": 4,
            "Displacement": 130,
            "Horsepower": 102,
            "Miles_per_Gallon": 20,
            "Name": "volvo 245",
            "Origin": "Europe",
            "Weight_in_lbs": 3150,
            "Year": "1976-01-01"
           },
           {
            "Acceleration": 13.2,
            "Cylinders": 8,
            "Displacement": 318,
            "Horsepower": 150,
            "Miles_per_Gallon": 13,
            "Name": "plymouth volare premier v8",
            "Origin": "USA",
            "Weight_in_lbs": 3940,
            "Year": "1976-01-01"
           },
           {
            "Acceleration": 21.9,
            "Cylinders": 4,
            "Displacement": 120,
            "Horsepower": 88,
            "Miles_per_Gallon": 19,
            "Name": "peugeot 504",
            "Origin": "Europe",
            "Weight_in_lbs": 3270,
            "Year": "1976-01-01"
           },
           {
            "Acceleration": 15.5,
            "Cylinders": 6,
            "Displacement": 156,
            "Horsepower": 108,
            "Miles_per_Gallon": 19,
            "Name": "toyota mark ii",
            "Origin": "Japan",
            "Weight_in_lbs": 2930,
            "Year": "1976-01-01"
           },
           {
            "Acceleration": 16.7,
            "Cylinders": 6,
            "Displacement": 168,
            "Horsepower": 120,
            "Miles_per_Gallon": 16.5,
            "Name": "mercedes-benz 280s",
            "Origin": "Europe",
            "Weight_in_lbs": 3820,
            "Year": "1976-01-01"
           },
           {
            "Acceleration": 12.1,
            "Cylinders": 8,
            "Displacement": 350,
            "Horsepower": 180,
            "Miles_per_Gallon": 16.5,
            "Name": "cadillac seville",
            "Origin": "USA",
            "Weight_in_lbs": 4380,
            "Year": "1976-01-01"
           },
           {
            "Acceleration": 12,
            "Cylinders": 8,
            "Displacement": 350,
            "Horsepower": 145,
            "Miles_per_Gallon": 13,
            "Name": "chevy c10",
            "Origin": "USA",
            "Weight_in_lbs": 4055,
            "Year": "1976-01-01"
           },
           {
            "Acceleration": 15,
            "Cylinders": 8,
            "Displacement": 302,
            "Horsepower": 130,
            "Miles_per_Gallon": 13,
            "Name": "ford f108",
            "Origin": "USA",
            "Weight_in_lbs": 3870,
            "Year": "1976-01-01"
           },
           {
            "Acceleration": 14,
            "Cylinders": 8,
            "Displacement": 318,
            "Horsepower": 150,
            "Miles_per_Gallon": 13,
            "Name": "dodge d100",
            "Origin": "USA",
            "Weight_in_lbs": 3755,
            "Year": "1976-01-01"
           },
           {
            "Acceleration": 18.5,
            "Cylinders": 4,
            "Displacement": 98,
            "Horsepower": 68,
            "Miles_per_Gallon": 31.5,
            "Name": "honda Accelerationord cvcc",
            "Origin": "Japan",
            "Weight_in_lbs": 2045,
            "Year": "1977-01-01"
           },
           {
            "Acceleration": 14.8,
            "Cylinders": 4,
            "Displacement": 111,
            "Horsepower": 80,
            "Miles_per_Gallon": 30,
            "Name": "buick opel isuzu deluxe",
            "Origin": "USA",
            "Weight_in_lbs": 2155,
            "Year": "1977-01-01"
           },
           {
            "Acceleration": 18.6,
            "Cylinders": 4,
            "Displacement": 79,
            "Horsepower": 58,
            "Miles_per_Gallon": 36,
            "Name": "renault 5 gtl",
            "Origin": "Europe",
            "Weight_in_lbs": 1825,
            "Year": "1977-01-01"
           },
           {
            "Acceleration": 15.5,
            "Cylinders": 4,
            "Displacement": 122,
            "Horsepower": 96,
            "Miles_per_Gallon": 25.5,
            "Name": "plymouth arrow gs",
            "Origin": "USA",
            "Weight_in_lbs": 2300,
            "Year": "1977-01-01"
           },
           {
            "Acceleration": 16.8,
            "Cylinders": 4,
            "Displacement": 85,
            "Horsepower": 70,
            "Miles_per_Gallon": 33.5,
            "Name": "datsun f-10 hatchback",
            "Origin": "Japan",
            "Weight_in_lbs": 1945,
            "Year": "1977-01-01"
           },
           {
            "Acceleration": 12.5,
            "Cylinders": 8,
            "Displacement": 305,
            "Horsepower": 145,
            "Miles_per_Gallon": 17.5,
            "Name": "chevrolet caprice classic",
            "Origin": "USA",
            "Weight_in_lbs": 3880,
            "Year": "1977-01-01"
           },
           {
            "Acceleration": 19,
            "Cylinders": 8,
            "Displacement": 260,
            "Horsepower": 110,
            "Miles_per_Gallon": 17,
            "Name": "oldsmobile cutlass supreme",
            "Origin": "USA",
            "Weight_in_lbs": 4060,
            "Year": "1977-01-01"
           },
           {
            "Acceleration": 13.7,
            "Cylinders": 8,
            "Displacement": 318,
            "Horsepower": 145,
            "Miles_per_Gallon": 15.5,
            "Name": "dodge monaco brougham",
            "Origin": "USA",
            "Weight_in_lbs": 4140,
            "Year": "1977-01-01"
           },
           {
            "Acceleration": 14.9,
            "Cylinders": 8,
            "Displacement": 302,
            "Horsepower": 130,
            "Miles_per_Gallon": 15,
            "Name": "mercury cougar brougham",
            "Origin": "USA",
            "Weight_in_lbs": 4295,
            "Year": "1977-01-01"
           },
           {
            "Acceleration": 16.4,
            "Cylinders": 6,
            "Displacement": 250,
            "Horsepower": 110,
            "Miles_per_Gallon": 17.5,
            "Name": "chevrolet concours",
            "Origin": "USA",
            "Weight_in_lbs": 3520,
            "Year": "1977-01-01"
           },
           {
            "Acceleration": 16.9,
            "Cylinders": 6,
            "Displacement": 231,
            "Horsepower": 105,
            "Miles_per_Gallon": 20.5,
            "Name": "buick skylark",
            "Origin": "USA",
            "Weight_in_lbs": 3425,
            "Year": "1977-01-01"
           },
           {
            "Acceleration": 17.7,
            "Cylinders": 6,
            "Displacement": 225,
            "Horsepower": 100,
            "Miles_per_Gallon": 19,
            "Name": "plymouth volare custom",
            "Origin": "USA",
            "Weight_in_lbs": 3630,
            "Year": "1977-01-01"
           },
           {
            "Acceleration": 19,
            "Cylinders": 6,
            "Displacement": 250,
            "Horsepower": 98,
            "Miles_per_Gallon": 18.5,
            "Name": "ford granada",
            "Origin": "USA",
            "Weight_in_lbs": 3525,
            "Year": "1977-01-01"
           },
           {
            "Acceleration": 11.1,
            "Cylinders": 8,
            "Displacement": 400,
            "Horsepower": 180,
            "Miles_per_Gallon": 16,
            "Name": "pontiac grand prix lj",
            "Origin": "USA",
            "Weight_in_lbs": 4220,
            "Year": "1977-01-01"
           },
           {
            "Acceleration": 11.4,
            "Cylinders": 8,
            "Displacement": 350,
            "Horsepower": 170,
            "Miles_per_Gallon": 15.5,
            "Name": "chevrolet monte carlo landau",
            "Origin": "USA",
            "Weight_in_lbs": 4165,
            "Year": "1977-01-01"
           },
           {
            "Acceleration": 12.2,
            "Cylinders": 8,
            "Displacement": 400,
            "Horsepower": 190,
            "Miles_per_Gallon": 15.5,
            "Name": "chrysler cordoba",
            "Origin": "USA",
            "Weight_in_lbs": 4325,
            "Year": "1977-01-01"
           },
           {
            "Acceleration": 14.5,
            "Cylinders": 8,
            "Displacement": 351,
            "Horsepower": 149,
            "Miles_per_Gallon": 16,
            "Name": "ford thunderbird",
            "Origin": "USA",
            "Weight_in_lbs": 4335,
            "Year": "1977-01-01"
           },
           {
            "Acceleration": 14.5,
            "Cylinders": 4,
            "Displacement": 97,
            "Horsepower": 78,
            "Miles_per_Gallon": 29,
            "Name": "volkswagen rabbit custom",
            "Origin": "Europe",
            "Weight_in_lbs": 1940,
            "Year": "1977-01-01"
           },
           {
            "Acceleration": 16,
            "Cylinders": 4,
            "Displacement": 151,
            "Horsepower": 88,
            "Miles_per_Gallon": 24.5,
            "Name": "pontiac sunbird coupe",
            "Origin": "USA",
            "Weight_in_lbs": 2740,
            "Year": "1977-01-01"
           },
           {
            "Acceleration": 18.2,
            "Cylinders": 4,
            "Displacement": 97,
            "Horsepower": 75,
            "Miles_per_Gallon": 26,
            "Name": "toyota corolla liftback",
            "Origin": "Japan",
            "Weight_in_lbs": 2265,
            "Year": "1977-01-01"
           },
           {
            "Acceleration": 15.8,
            "Cylinders": 4,
            "Displacement": 140,
            "Horsepower": 89,
            "Miles_per_Gallon": 25.5,
            "Name": "ford mustang ii 2+2",
            "Origin": "USA",
            "Weight_in_lbs": 2755,
            "Year": "1977-01-01"
           },
           {
            "Acceleration": 17,
            "Cylinders": 4,
            "Displacement": 98,
            "Horsepower": 63,
            "Miles_per_Gallon": 30.5,
            "Name": "chevrolet chevette",
            "Origin": "USA",
            "Weight_in_lbs": 2051,
            "Year": "1977-01-01"
           },
           {
            "Acceleration": 15.9,
            "Cylinders": 4,
            "Displacement": 98,
            "Horsepower": 83,
            "Miles_per_Gallon": 33.5,
            "Name": "dodge colt m/m",
            "Origin": "USA",
            "Weight_in_lbs": 2075,
            "Year": "1977-01-01"
           },
           {
            "Acceleration": 16.4,
            "Cylinders": 4,
            "Displacement": 97,
            "Horsepower": 67,
            "Miles_per_Gallon": 30,
            "Name": "subaru dl",
            "Origin": "Japan",
            "Weight_in_lbs": 1985,
            "Year": "1977-01-01"
           },
           {
            "Acceleration": 14.1,
            "Cylinders": 4,
            "Displacement": 97,
            "Horsepower": 78,
            "Miles_per_Gallon": 30.5,
            "Name": "volkswagen dasher",
            "Origin": "Europe",
            "Weight_in_lbs": 2190,
            "Year": "1977-01-01"
           },
           {
            "Acceleration": 14.5,
            "Cylinders": 6,
            "Displacement": 146,
            "Horsepower": 97,
            "Miles_per_Gallon": 22,
            "Name": "datsun 810",
            "Origin": "Japan",
            "Weight_in_lbs": 2815,
            "Year": "1977-01-01"
           },
           {
            "Acceleration": 12.8,
            "Cylinders": 4,
            "Displacement": 121,
            "Horsepower": 110,
            "Miles_per_Gallon": 21.5,
            "Name": "bmw 320i",
            "Origin": "Europe",
            "Weight_in_lbs": 2600,
            "Year": "1977-01-01"
           },
           {
            "Acceleration": 13.5,
            "Cylinders": 3,
            "Displacement": 80,
            "Horsepower": 110,
            "Miles_per_Gallon": 21.5,
            "Name": "mazda rx-4",
            "Origin": "Japan",
            "Weight_in_lbs": 2720,
            "Year": "1977-01-01"
           },
           {
            "Acceleration": 21.5,
            "Cylinders": 4,
            "Displacement": 90,
            "Horsepower": 48,
            "Miles_per_Gallon": 43.1,
            "Name": "volkswagen rabbit custom diesel",
            "Origin": "Europe",
            "Weight_in_lbs": 1985,
            "Year": "1978-01-01"
           },
           {
            "Acceleration": 14.4,
            "Cylinders": 4,
            "Displacement": 98,
            "Horsepower": 66,
            "Miles_per_Gallon": 36.1,
            "Name": "ford fiesta",
            "Origin": "USA",
            "Weight_in_lbs": 1800,
            "Year": "1978-01-01"
           },
           {
            "Acceleration": 19.4,
            "Cylinders": 4,
            "Displacement": 78,
            "Horsepower": 52,
            "Miles_per_Gallon": 32.8,
            "Name": "mazda glc deluxe",
            "Origin": "Japan",
            "Weight_in_lbs": 1985,
            "Year": "1978-01-01"
           },
           {
            "Acceleration": 18.6,
            "Cylinders": 4,
            "Displacement": 85,
            "Horsepower": 70,
            "Miles_per_Gallon": 39.4,
            "Name": "datsun b210 gx",
            "Origin": "Japan",
            "Weight_in_lbs": 2070,
            "Year": "1978-01-01"
           },
           {
            "Acceleration": 16.4,
            "Cylinders": 4,
            "Displacement": 91,
            "Horsepower": 60,
            "Miles_per_Gallon": 36.1,
            "Name": "honda civic cvcc",
            "Origin": "Japan",
            "Weight_in_lbs": 1800,
            "Year": "1978-01-01"
           },
           {
            "Acceleration": 15.5,
            "Cylinders": 8,
            "Displacement": 260,
            "Horsepower": 110,
            "Miles_per_Gallon": 19.9,
            "Name": "oldsmobile cutlass salon brougham",
            "Origin": "USA",
            "Weight_in_lbs": 3365,
            "Year": "1978-01-01"
           },
           {
            "Acceleration": 13.2,
            "Cylinders": 8,
            "Displacement": 318,
            "Horsepower": 140,
            "Miles_per_Gallon": 19.4,
            "Name": "dodge diplomat",
            "Origin": "USA",
            "Weight_in_lbs": 3735,
            "Year": "1978-01-01"
           },
           {
            "Acceleration": 12.8,
            "Cylinders": 8,
            "Displacement": 302,
            "Horsepower": 139,
            "Miles_per_Gallon": 20.2,
            "Name": "mercury monarch ghia",
            "Origin": "USA",
            "Weight_in_lbs": 3570,
            "Year": "1978-01-01"
           },
           {
            "Acceleration": 19.2,
            "Cylinders": 6,
            "Displacement": 231,
            "Horsepower": 105,
            "Miles_per_Gallon": 19.2,
            "Name": "pontiac phoenix lj",
            "Origin": "USA",
            "Weight_in_lbs": 3535,
            "Year": "1978-01-01"
           },
           {
            "Acceleration": 18.2,
            "Cylinders": 6,
            "Displacement": 200,
            "Horsepower": 95,
            "Miles_per_Gallon": 20.5,
            "Name": "chevrolet malibu",
            "Origin": "USA",
            "Weight_in_lbs": 3155,
            "Year": "1978-01-01"
           },
           {
            "Acceleration": 15.8,
            "Cylinders": 6,
            "Displacement": 200,
            "Horsepower": 85,
            "Miles_per_Gallon": 20.2,
            "Name": "ford fairmont (auto)",
            "Origin": "USA",
            "Weight_in_lbs": 2965,
            "Year": "1978-01-01"
           },
           {
            "Acceleration": 15.4,
            "Cylinders": 4,
            "Displacement": 140,
            "Horsepower": 88,
            "Miles_per_Gallon": 25.1,
            "Name": "ford fairmont (man)",
            "Origin": "USA",
            "Weight_in_lbs": 2720,
            "Year": "1978-01-01"
           },
           {
            "Acceleration": 17.2,
            "Cylinders": 6,
            "Displacement": 225,
            "Horsepower": 100,
            "Miles_per_Gallon": 20.5,
            "Name": "plymouth volare",
            "Origin": "USA",
            "Weight_in_lbs": 3430,
            "Year": "1978-01-01"
           },
           {
            "Acceleration": 17.2,
            "Cylinders": 6,
            "Displacement": 232,
            "Horsepower": 90,
            "Miles_per_Gallon": 19.4,
            "Name": "amc concord",
            "Origin": "USA",
            "Weight_in_lbs": 3210,
            "Year": "1978-01-01"
           },
           {
            "Acceleration": 15.8,
            "Cylinders": 6,
            "Displacement": 231,
            "Horsepower": 105,
            "Miles_per_Gallon": 20.6,
            "Name": "buick century special",
            "Origin": "USA",
            "Weight_in_lbs": 3380,
            "Year": "1978-01-01"
           },
           {
            "Acceleration": 16.7,
            "Cylinders": 6,
            "Displacement": 200,
            "Horsepower": 85,
            "Miles_per_Gallon": 20.8,
            "Name": "mercury zephyr",
            "Origin": "USA",
            "Weight_in_lbs": 3070,
            "Year": "1978-01-01"
           },
           {
            "Acceleration": 18.7,
            "Cylinders": 6,
            "Displacement": 225,
            "Horsepower": 110,
            "Miles_per_Gallon": 18.6,
            "Name": "dodge aspen",
            "Origin": "USA",
            "Weight_in_lbs": 3620,
            "Year": "1978-01-01"
           },
           {
            "Acceleration": 15.1,
            "Cylinders": 6,
            "Displacement": 258,
            "Horsepower": 120,
            "Miles_per_Gallon": 18.1,
            "Name": "amc concord d/l",
            "Origin": "USA",
            "Weight_in_lbs": 3410,
            "Year": "1978-01-01"
           },
           {
            "Acceleration": 13.2,
            "Cylinders": 8,
            "Displacement": 305,
            "Horsepower": 145,
            "Miles_per_Gallon": 19.2,
            "Name": "chevrolet monte carlo landau",
            "Origin": "USA",
            "Weight_in_lbs": 3425,
            "Year": "1978-01-01"
           },
           {
            "Acceleration": 13.4,
            "Cylinders": 6,
            "Displacement": 231,
            "Horsepower": 165,
            "Miles_per_Gallon": 17.7,
            "Name": "buick regal sport coupe (turbo)",
            "Origin": "USA",
            "Weight_in_lbs": 3445,
            "Year": "1978-01-01"
           },
           {
            "Acceleration": 11.2,
            "Cylinders": 8,
            "Displacement": 302,
            "Horsepower": 139,
            "Miles_per_Gallon": 18.1,
            "Name": "ford futura",
            "Origin": "USA",
            "Weight_in_lbs": 3205,
            "Year": "1978-01-01"
           },
           {
            "Acceleration": 13.7,
            "Cylinders": 8,
            "Displacement": 318,
            "Horsepower": 140,
            "Miles_per_Gallon": 17.5,
            "Name": "dodge magnum xe",
            "Origin": "USA",
            "Weight_in_lbs": 4080,
            "Year": "1978-01-01"
           },
           {
            "Acceleration": 16.5,
            "Cylinders": 4,
            "Displacement": 98,
            "Horsepower": 68,
            "Miles_per_Gallon": 30,
            "Name": "chevrolet chevette",
            "Origin": "USA",
            "Weight_in_lbs": 2155,
            "Year": "1978-01-01"
           },
           {
            "Acceleration": 14.2,
            "Cylinders": 4,
            "Displacement": 134,
            "Horsepower": 95,
            "Miles_per_Gallon": 27.5,
            "Name": "toyota corona",
            "Origin": "Japan",
            "Weight_in_lbs": 2560,
            "Year": "1978-01-01"
           },
           {
            "Acceleration": 14.7,
            "Cylinders": 4,
            "Displacement": 119,
            "Horsepower": 97,
            "Miles_per_Gallon": 27.2,
            "Name": "datsun 510",
            "Origin": "Japan",
            "Weight_in_lbs": 2300,
            "Year": "1978-01-01"
           },
           {
            "Acceleration": 14.5,
            "Cylinders": 4,
            "Displacement": 105,
            "Horsepower": 75,
            "Miles_per_Gallon": 30.9,
            "Name": "dodge omni",
            "Origin": "USA",
            "Weight_in_lbs": 2230,
            "Year": "1978-01-01"
           },
           {
            "Acceleration": 14.8,
            "Cylinders": 4,
            "Displacement": 134,
            "Horsepower": 95,
            "Miles_per_Gallon": 21.1,
            "Name": "toyota celica gt liftback",
            "Origin": "Japan",
            "Weight_in_lbs": 2515,
            "Year": "1978-01-01"
           },
           {
            "Acceleration": 16.7,
            "Cylinders": 4,
            "Displacement": 156,
            "Horsepower": 105,
            "Miles_per_Gallon": 23.2,
            "Name": "plymouth sapporo",
            "Origin": "USA",
            "Weight_in_lbs": 2745,
            "Year": "1978-01-01"
           },
           {
            "Acceleration": 17.6,
            "Cylinders": 4,
            "Displacement": 151,
            "Horsepower": 85,
            "Miles_per_Gallon": 23.8,
            "Name": "oldsmobile starfire sx",
            "Origin": "USA",
            "Weight_in_lbs": 2855,
            "Year": "1978-01-01"
           },
           {
            "Acceleration": 14.9,
            "Cylinders": 4,
            "Displacement": 119,
            "Horsepower": 97,
            "Miles_per_Gallon": 23.9,
            "Name": "datsun 200-sx",
            "Origin": "Japan",
            "Weight_in_lbs": 2405,
            "Year": "1978-01-01"
           },
           {
            "Acceleration": 15.9,
            "Cylinders": 5,
            "Displacement": 131,
            "Horsepower": 103,
            "Miles_per_Gallon": 20.3,
            "Name": "audi 5000",
            "Origin": "Europe",
            "Weight_in_lbs": 2830,
            "Year": "1978-01-01"
           },
           {
            "Acceleration": 13.6,
            "Cylinders": 6,
            "Displacement": 163,
            "Horsepower": 125,
            "Miles_per_Gallon": 17,
            "Name": "volvo 264gl",
            "Origin": "Europe",
            "Weight_in_lbs": 3140,
            "Year": "1978-01-01"
           },
           {
            "Acceleration": 15.7,
            "Cylinders": 4,
            "Displacement": 121,
            "Horsepower": 115,
            "Miles_per_Gallon": 21.6,
            "Name": "saab 99gle",
            "Origin": "Europe",
            "Weight_in_lbs": 2795,
            "Year": "1978-01-01"
           },
           {
            "Acceleration": 15.8,
            "Cylinders": 6,
            "Displacement": 163,
            "Horsepower": 133,
            "Miles_per_Gallon": 16.2,
            "Name": "peugeot 604sl",
            "Origin": "Europe",
            "Weight_in_lbs": 3410,
            "Year": "1978-01-01"
           },
           {
            "Acceleration": 14.9,
            "Cylinders": 4,
            "Displacement": 89,
            "Horsepower": 71,
            "Miles_per_Gallon": 31.5,
            "Name": "volkswagen scirocco",
            "Origin": "Europe",
            "Weight_in_lbs": 1990,
            "Year": "1978-01-01"
           },
           {
            "Acceleration": 16.6,
            "Cylinders": 4,
            "Displacement": 98,
            "Horsepower": 68,
            "Miles_per_Gallon": 29.5,
            "Name": "honda Accelerationord lx",
            "Origin": "Japan",
            "Weight_in_lbs": 2135,
            "Year": "1978-01-01"
           },
           {
            "Acceleration": 15.4,
            "Cylinders": 6,
            "Displacement": 231,
            "Horsepower": 115,
            "Miles_per_Gallon": 21.5,
            "Name": "pontiac lemans v6",
            "Origin": "USA",
            "Weight_in_lbs": 3245,
            "Year": "1979-01-01"
           },
           {
            "Acceleration": 18.2,
            "Cylinders": 6,
            "Displacement": 200,
            "Horsepower": 85,
            "Miles_per_Gallon": 19.8,
            "Name": "mercury zephyr 6",
            "Origin": "USA",
            "Weight_in_lbs": 2990,
            "Year": "1979-01-01"
           },
           {
            "Acceleration": 17.3,
            "Cylinders": 4,
            "Displacement": 140,
            "Horsepower": 88,
            "Miles_per_Gallon": 22.3,
            "Name": "ford fairmont 4",
            "Origin": "USA",
            "Weight_in_lbs": 2890,
            "Year": "1979-01-01"
           },
           {
            "Acceleration": 18.2,
            "Cylinders": 6,
            "Displacement": 232,
            "Horsepower": 90,
            "Miles_per_Gallon": 20.2,
            "Name": "amc concord dl 6",
            "Origin": "USA",
            "Weight_in_lbs": 3265,
            "Year": "1979-01-01"
           },
           {
            "Acceleration": 16.6,
            "Cylinders": 6,
            "Displacement": 225,
            "Horsepower": 110,
            "Miles_per_Gallon": 20.6,
            "Name": "dodge aspen 6",
            "Origin": "USA",
            "Weight_in_lbs": 3360,
            "Year": "1979-01-01"
           },
           {
            "Acceleration": 15.4,
            "Cylinders": 8,
            "Displacement": 305,
            "Horsepower": 130,
            "Miles_per_Gallon": 17,
            "Name": "chevrolet caprice classic",
            "Origin": "USA",
            "Weight_in_lbs": 3840,
            "Year": "1979-01-01"
           },
           {
            "Acceleration": 13.4,
            "Cylinders": 8,
            "Displacement": 302,
            "Horsepower": 129,
            "Miles_per_Gallon": 17.6,
            "Name": "ford ltd landau",
            "Origin": "USA",
            "Weight_in_lbs": 3725,
            "Year": "1979-01-01"
           },
           {
            "Acceleration": 13.2,
            "Cylinders": 8,
            "Displacement": 351,
            "Horsepower": 138,
            "Miles_per_Gallon": 16.5,
            "Name": "mercury grand marquis",
            "Origin": "USA",
            "Weight_in_lbs": 3955,
            "Year": "1979-01-01"
           },
           {
            "Acceleration": 15.2,
            "Cylinders": 8,
            "Displacement": 318,
            "Horsepower": 135,
            "Miles_per_Gallon": 18.2,
            "Name": "dodge st. regis",
            "Origin": "USA",
            "Weight_in_lbs": 3830,
            "Year": "1979-01-01"
           },
           {
            "Acceleration": 14.9,
            "Cylinders": 8,
            "Displacement": 350,
            "Horsepower": 155,
            "Miles_per_Gallon": 16.9,
            "Name": "buick estate wagon (sw)",
            "Origin": "USA",
            "Weight_in_lbs": 4360,
            "Year": "1979-01-01"
           },
           {
            "Acceleration": 14.3,
            "Cylinders": 8,
            "Displacement": 351,
            "Horsepower": 142,
            "Miles_per_Gallon": 15.5,
            "Name": "ford country squire (sw)",
            "Origin": "USA",
            "Weight_in_lbs": 4054,
            "Year": "1979-01-01"
           },
           {
            "Acceleration": 15,
            "Cylinders": 8,
            "Displacement": 267,
            "Horsepower": 125,
            "Miles_per_Gallon": 19.2,
            "Name": "chevrolet malibu classic (sw)",
            "Origin": "USA",
            "Weight_in_lbs": 3605,
            "Year": "1979-01-01"
           },
           {
            "Acceleration": 13,
            "Cylinders": 8,
            "Displacement": 360,
            "Horsepower": 150,
            "Miles_per_Gallon": 18.5,
            "Name": "chrysler lebaron town @ country (sw)",
            "Origin": "USA",
            "Weight_in_lbs": 3940,
            "Year": "1979-01-01"
           },
           {
            "Acceleration": 14,
            "Cylinders": 4,
            "Displacement": 89,
            "Horsepower": 71,
            "Miles_per_Gallon": 31.9,
            "Name": "vw rabbit custom",
            "Origin": "Europe",
            "Weight_in_lbs": 1925,
            "Year": "1979-01-01"
           },
           {
            "Acceleration": 15.2,
            "Cylinders": 4,
            "Displacement": 86,
            "Horsepower": 65,
            "Miles_per_Gallon": 34.1,
            "Name": "maxda glc deluxe",
            "Origin": "Japan",
            "Weight_in_lbs": 1975,
            "Year": "1979-01-01"
           },
           {
            "Acceleration": 14.4,
            "Cylinders": 4,
            "Displacement": 98,
            "Horsepower": 80,
            "Miles_per_Gallon": 35.7,
            "Name": "dodge colt hatchback custom",
            "Origin": "USA",
            "Weight_in_lbs": 1915,
            "Year": "1979-01-01"
           },
           {
            "Acceleration": 15,
            "Cylinders": 4,
            "Displacement": 121,
            "Horsepower": 80,
            "Miles_per_Gallon": 27.4,
            "Name": "amc spirit dl",
            "Origin": "USA",
            "Weight_in_lbs": 2670,
            "Year": "1979-01-01"
           },
           {
            "Acceleration": 20.1,
            "Cylinders": 5,
            "Displacement": 183,
            "Horsepower": 77,
            "Miles_per_Gallon": 25.4,
            "Name": "mercedes benz 300d",
            "Origin": "Europe",
            "Weight_in_lbs": 3530,
            "Year": "1979-01-01"
           },
           {
            "Acceleration": 17.4,
            "Cylinders": 8,
            "Displacement": 350,
            "Horsepower": 125,
            "Miles_per_Gallon": 23,
            "Name": "cadillac eldorado",
            "Origin": "USA",
            "Weight_in_lbs": 3900,
            "Year": "1979-01-01"
           },
           {
            "Acceleration": 24.8,
            "Cylinders": 4,
            "Displacement": 141,
            "Horsepower": 71,
            "Miles_per_Gallon": 27.2,
            "Name": "peugeot 504",
            "Origin": "Europe",
            "Weight_in_lbs": 3190,
            "Year": "1979-01-01"
           },
           {
            "Acceleration": 22.2,
            "Cylinders": 8,
            "Displacement": 260,
            "Horsepower": 90,
            "Miles_per_Gallon": 23.9,
            "Name": "oldsmobile cutlass salon brougham",
            "Origin": "USA",
            "Weight_in_lbs": 3420,
            "Year": "1979-01-01"
           },
           {
            "Acceleration": 13.2,
            "Cylinders": 4,
            "Displacement": 105,
            "Horsepower": 70,
            "Miles_per_Gallon": 34.2,
            "Name": "plymouth horizon",
            "Origin": "USA",
            "Weight_in_lbs": 2200,
            "Year": "1979-01-01"
           },
           {
            "Acceleration": 14.9,
            "Cylinders": 4,
            "Displacement": 105,
            "Horsepower": 70,
            "Miles_per_Gallon": 34.5,
            "Name": "plymouth horizon tc3",
            "Origin": "USA",
            "Weight_in_lbs": 2150,
            "Year": "1979-01-01"
           },
           {
            "Acceleration": 19.2,
            "Cylinders": 4,
            "Displacement": 85,
            "Horsepower": 65,
            "Miles_per_Gallon": 31.8,
            "Name": "datsun 210",
            "Origin": "Japan",
            "Weight_in_lbs": 2020,
            "Year": "1979-01-01"
           },
           {
            "Acceleration": 14.7,
            "Cylinders": 4,
            "Displacement": 91,
            "Horsepower": 69,
            "Miles_per_Gallon": 37.3,
            "Name": "fiat strada custom",
            "Origin": "Europe",
            "Weight_in_lbs": 2130,
            "Year": "1979-01-01"
           },
           {
            "Acceleration": 16,
            "Cylinders": 4,
            "Displacement": 151,
            "Horsepower": 90,
            "Miles_per_Gallon": 28.4,
            "Name": "buick skylark limited",
            "Origin": "USA",
            "Weight_in_lbs": 2670,
            "Year": "1979-01-01"
           },
           {
            "Acceleration": 11.3,
            "Cylinders": 6,
            "Displacement": 173,
            "Horsepower": 115,
            "Miles_per_Gallon": 28.8,
            "Name": "chevrolet citation",
            "Origin": "USA",
            "Weight_in_lbs": 2595,
            "Year": "1979-01-01"
           },
           {
            "Acceleration": 12.9,
            "Cylinders": 6,
            "Displacement": 173,
            "Horsepower": 115,
            "Miles_per_Gallon": 26.8,
            "Name": "oldsmobile omega brougham",
            "Origin": "USA",
            "Weight_in_lbs": 2700,
            "Year": "1979-01-01"
           },
           {
            "Acceleration": 13.2,
            "Cylinders": 4,
            "Displacement": 151,
            "Horsepower": 90,
            "Miles_per_Gallon": 33.5,
            "Name": "pontiac phoenix",
            "Origin": "USA",
            "Weight_in_lbs": 2556,
            "Year": "1979-01-01"
           },
           {
            "Acceleration": 14.7,
            "Cylinders": 4,
            "Displacement": 98,
            "Horsepower": 76,
            "Miles_per_Gallon": 41.5,
            "Name": "vw rabbit",
            "Origin": "Europe",
            "Weight_in_lbs": 2144,
            "Year": "1980-01-01"
           },
           {
            "Acceleration": 18.8,
            "Cylinders": 4,
            "Displacement": 89,
            "Horsepower": 60,
            "Miles_per_Gallon": 38.1,
            "Name": "toyota corolla tercel",
            "Origin": "Japan",
            "Weight_in_lbs": 1968,
            "Year": "1980-01-01"
           },
           {
            "Acceleration": 15.5,
            "Cylinders": 4,
            "Displacement": 98,
            "Horsepower": 70,
            "Miles_per_Gallon": 32.1,
            "Name": "chevrolet chevette",
            "Origin": "USA",
            "Weight_in_lbs": 2120,
            "Year": "1980-01-01"
           },
           {
            "Acceleration": 16.4,
            "Cylinders": 4,
            "Displacement": 86,
            "Horsepower": 65,
            "Miles_per_Gallon": 37.2,
            "Name": "datsun 310",
            "Origin": "Japan",
            "Weight_in_lbs": 2019,
            "Year": "1980-01-01"
           },
           {
            "Acceleration": 16.5,
            "Cylinders": 4,
            "Displacement": 151,
            "Horsepower": 90,
            "Miles_per_Gallon": 28,
            "Name": "chevrolet citation",
            "Origin": "USA",
            "Weight_in_lbs": 2678,
            "Year": "1980-01-01"
           },
           {
            "Acceleration": 18.1,
            "Cylinders": 4,
            "Displacement": 140,
            "Horsepower": 88,
            "Miles_per_Gallon": 26.4,
            "Name": "ford fairmont",
            "Origin": "USA",
            "Weight_in_lbs": 2870,
            "Year": "1980-01-01"
           },
           {
            "Acceleration": 20.1,
            "Cylinders": 4,
            "Displacement": 151,
            "Horsepower": 90,
            "Miles_per_Gallon": 24.3,
            "Name": "amc concord",
            "Origin": "USA",
            "Weight_in_lbs": 3003,
            "Year": "1980-01-01"
           },
           {
            "Acceleration": 18.7,
            "Cylinders": 6,
            "Displacement": 225,
            "Horsepower": 90,
            "Miles_per_Gallon": 19.1,
            "Name": "dodge aspen",
            "Origin": "USA",
            "Weight_in_lbs": 3381,
            "Year": "1980-01-01"
           },
           {
            "Acceleration": 15.8,
            "Cylinders": 4,
            "Displacement": 97,
            "Horsepower": 78,
            "Miles_per_Gallon": 34.3,
            "Name": "audi 4000",
            "Origin": "Europe",
            "Weight_in_lbs": 2188,
            "Year": "1980-01-01"
           },
           {
            "Acceleration": 15.5,
            "Cylinders": 4,
            "Displacement": 134,
            "Horsepower": 90,
            "Miles_per_Gallon": 29.8,
            "Name": "toyota corona liftback",
            "Origin": "Japan",
            "Weight_in_lbs": 2711,
            "Year": "1980-01-01"
           },
           {
            "Acceleration": 17.5,
            "Cylinders": 4,
            "Displacement": 120,
            "Horsepower": 75,
            "Miles_per_Gallon": 31.3,
            "Name": "mazda 626",
            "Origin": "Japan",
            "Weight_in_lbs": 2542,
            "Year": "1980-01-01"
           },
           {
            "Acceleration": 15,
            "Cylinders": 4,
            "Displacement": 119,
            "Horsepower": 92,
            "Miles_per_Gallon": 37,
            "Name": "datsun 510 hatchback",
            "Origin": "Japan",
            "Weight_in_lbs": 2434,
            "Year": "1980-01-01"
           },
           {
            "Acceleration": 15.2,
            "Cylinders": 4,
            "Displacement": 108,
            "Horsepower": 75,
            "Miles_per_Gallon": 32.2,
            "Name": "toyota corolla",
            "Origin": "Japan",
            "Weight_in_lbs": 2265,
            "Year": "1980-01-01"
           },
           {
            "Acceleration": 17.9,
            "Cylinders": 4,
            "Displacement": 86,
            "Horsepower": 65,
            "Miles_per_Gallon": 46.6,
            "Name": "mazda glc",
            "Origin": "Japan",
            "Weight_in_lbs": 2110,
            "Year": "1980-01-01"
           },
           {
            "Acceleration": 14.4,
            "Cylinders": 4,
            "Displacement": 156,
            "Horsepower": 105,
            "Miles_per_Gallon": 27.9,
            "Name": "dodge colt",
            "Origin": "USA",
            "Weight_in_lbs": 2800,
            "Year": "1980-01-01"
           },
           {
            "Acceleration": 19.2,
            "Cylinders": 4,
            "Displacement": 85,
            "Horsepower": 65,
            "Miles_per_Gallon": 40.8,
            "Name": "datsun 210",
            "Origin": "Japan",
            "Weight_in_lbs": 2110,
            "Year": "1980-01-01"
           },
           {
            "Acceleration": 21.7,
            "Cylinders": 4,
            "Displacement": 90,
            "Horsepower": 48,
            "Miles_per_Gallon": 44.3,
            "Name": "vw rabbit c (diesel)",
            "Origin": "Europe",
            "Weight_in_lbs": 2085,
            "Year": "1980-01-01"
           },
           {
            "Acceleration": 23.7,
            "Cylinders": 4,
            "Displacement": 90,
            "Horsepower": 48,
            "Miles_per_Gallon": 43.4,
            "Name": "vw dasher (diesel)",
            "Origin": "Europe",
            "Weight_in_lbs": 2335,
            "Year": "1980-01-01"
           },
           {
            "Acceleration": 19.9,
            "Cylinders": 5,
            "Displacement": 121,
            "Horsepower": 67,
            "Miles_per_Gallon": 36.4,
            "Name": "audi 5000s (diesel)",
            "Origin": "Europe",
            "Weight_in_lbs": 2950,
            "Year": "1980-01-01"
           },
           {
            "Acceleration": 21.8,
            "Cylinders": 4,
            "Displacement": 146,
            "Horsepower": 67,
            "Miles_per_Gallon": 30,
            "Name": "mercedes-benz 240d",
            "Origin": "Europe",
            "Weight_in_lbs": 3250,
            "Year": "1980-01-01"
           },
           {
            "Acceleration": 13.8,
            "Cylinders": 4,
            "Displacement": 91,
            "Horsepower": 67,
            "Miles_per_Gallon": 44.6,
            "Name": "honda civic 1500 gl",
            "Origin": "Japan",
            "Weight_in_lbs": 1850,
            "Year": "1980-01-01"
           },
           {
            "Acceleration": 17.3,
            "Cylinders": 4,
            "Displacement": 85,
            "Horsepower": null,
            "Miles_per_Gallon": 40.9,
            "Name": "renault lecar deluxe",
            "Origin": "Europe",
            "Weight_in_lbs": 1835,
            "Year": "1980-01-01"
           },
           {
            "Acceleration": 18,
            "Cylinders": 4,
            "Displacement": 97,
            "Horsepower": 67,
            "Miles_per_Gallon": 33.8,
            "Name": "subaru dl",
            "Origin": "Japan",
            "Weight_in_lbs": 2145,
            "Year": "1980-01-01"
           },
           {
            "Acceleration": 15.3,
            "Cylinders": 4,
            "Displacement": 89,
            "Horsepower": 62,
            "Miles_per_Gallon": 29.8,
            "Name": "vokswagen rabbit",
            "Origin": "Europe",
            "Weight_in_lbs": 1845,
            "Year": "1980-01-01"
           },
           {
            "Acceleration": 11.4,
            "Cylinders": 6,
            "Displacement": 168,
            "Horsepower": 132,
            "Miles_per_Gallon": 32.7,
            "Name": "datsun 280-zx",
            "Origin": "Japan",
            "Weight_in_lbs": 2910,
            "Year": "1980-01-01"
           },
           {
            "Acceleration": 12.5,
            "Cylinders": 3,
            "Displacement": 70,
            "Horsepower": 100,
            "Miles_per_Gallon": 23.7,
            "Name": "mazda rx-7 gs",
            "Origin": "Japan",
            "Weight_in_lbs": 2420,
            "Year": "1980-01-01"
           },
           {
            "Acceleration": 15.1,
            "Cylinders": 4,
            "Displacement": 122,
            "Horsepower": 88,
            "Miles_per_Gallon": 35,
            "Name": "triumph tr7 coupe",
            "Origin": "Europe",
            "Weight_in_lbs": 2500,
            "Year": "1980-01-01"
           },
           {
            "Acceleration": 14.3,
            "Cylinders": 4,
            "Displacement": 140,
            "Horsepower": null,
            "Miles_per_Gallon": 23.6,
            "Name": "ford mustang cobra",
            "Origin": "USA",
            "Weight_in_lbs": 2905,
            "Year": "1980-01-01"
           },
           {
            "Acceleration": 17,
            "Cylinders": 4,
            "Displacement": 107,
            "Horsepower": 72,
            "Miles_per_Gallon": 32.4,
            "Name": "honda Accelerationord",
            "Origin": "Japan",
            "Weight_in_lbs": 2290,
            "Year": "1980-01-01"
           },
           {
            "Acceleration": 15.7,
            "Cylinders": 4,
            "Displacement": 135,
            "Horsepower": 84,
            "Miles_per_Gallon": 27.2,
            "Name": "plymouth reliant",
            "Origin": "USA",
            "Weight_in_lbs": 2490,
            "Year": "1982-01-01"
           },
           {
            "Acceleration": 16.4,
            "Cylinders": 4,
            "Displacement": 151,
            "Horsepower": 84,
            "Miles_per_Gallon": 26.6,
            "Name": "buick skylark",
            "Origin": "USA",
            "Weight_in_lbs": 2635,
            "Year": "1982-01-01"
           },
           {
            "Acceleration": 14.4,
            "Cylinders": 4,
            "Displacement": 156,
            "Horsepower": 92,
            "Miles_per_Gallon": 25.8,
            "Name": "dodge aries wagon (sw)",
            "Origin": "USA",
            "Weight_in_lbs": 2620,
            "Year": "1982-01-01"
           },
           {
            "Acceleration": 12.6,
            "Cylinders": 6,
            "Displacement": 173,
            "Horsepower": 110,
            "Miles_per_Gallon": 23.5,
            "Name": "chevrolet citation",
            "Origin": "USA",
            "Weight_in_lbs": 2725,
            "Year": "1982-01-01"
           },
           {
            "Acceleration": 12.9,
            "Cylinders": 4,
            "Displacement": 135,
            "Horsepower": 84,
            "Miles_per_Gallon": 30,
            "Name": "plymouth reliant",
            "Origin": "USA",
            "Weight_in_lbs": 2385,
            "Year": "1982-01-01"
           },
           {
            "Acceleration": 16.9,
            "Cylinders": 4,
            "Displacement": 79,
            "Horsepower": 58,
            "Miles_per_Gallon": 39.1,
            "Name": "toyota starlet",
            "Origin": "Japan",
            "Weight_in_lbs": 1755,
            "Year": "1982-01-01"
           },
           {
            "Acceleration": 16.4,
            "Cylinders": 4,
            "Displacement": 86,
            "Horsepower": 64,
            "Miles_per_Gallon": 39,
            "Name": "plymouth champ",
            "Origin": "USA",
            "Weight_in_lbs": 1875,
            "Year": "1982-01-01"
           },
           {
            "Acceleration": 16.1,
            "Cylinders": 4,
            "Displacement": 81,
            "Horsepower": 60,
            "Miles_per_Gallon": 35.1,
            "Name": "honda civic 1300",
            "Origin": "Japan",
            "Weight_in_lbs": 1760,
            "Year": "1982-01-01"
           },
           {
            "Acceleration": 17.8,
            "Cylinders": 4,
            "Displacement": 97,
            "Horsepower": 67,
            "Miles_per_Gallon": 32.3,
            "Name": "subaru",
            "Origin": "Japan",
            "Weight_in_lbs": 2065,
            "Year": "1982-01-01"
           },
           {
            "Acceleration": 19.4,
            "Cylinders": 4,
            "Displacement": 85,
            "Horsepower": 65,
            "Miles_per_Gallon": 37,
            "Name": "datsun 210",
            "Origin": "Japan",
            "Weight_in_lbs": 1975,
            "Year": "1982-01-01"
           },
           {
            "Acceleration": 17.3,
            "Cylinders": 4,
            "Displacement": 89,
            "Horsepower": 62,
            "Miles_per_Gallon": 37.7,
            "Name": "toyota tercel",
            "Origin": "Japan",
            "Weight_in_lbs": 2050,
            "Year": "1982-01-01"
           },
           {
            "Acceleration": 16,
            "Cylinders": 4,
            "Displacement": 91,
            "Horsepower": 68,
            "Miles_per_Gallon": 34.1,
            "Name": "mazda glc 4",
            "Origin": "Japan",
            "Weight_in_lbs": 1985,
            "Year": "1982-01-01"
           },
           {
            "Acceleration": 14.9,
            "Cylinders": 4,
            "Displacement": 105,
            "Horsepower": 63,
            "Miles_per_Gallon": 34.7,
            "Name": "plymouth horizon 4",
            "Origin": "USA",
            "Weight_in_lbs": 2215,
            "Year": "1982-01-01"
           },
           {
            "Acceleration": 16.2,
            "Cylinders": 4,
            "Displacement": 98,
            "Horsepower": 65,
            "Miles_per_Gallon": 34.4,
            "Name": "ford escort 4w",
            "Origin": "USA",
            "Weight_in_lbs": 2045,
            "Year": "1982-01-01"
           },
           {
            "Acceleration": 20.7,
            "Cylinders": 4,
            "Displacement": 98,
            "Horsepower": 65,
            "Miles_per_Gallon": 29.9,
            "Name": "ford escort 2h",
            "Origin": "USA",
            "Weight_in_lbs": 2380,
            "Year": "1982-01-01"
           },
           {
            "Acceleration": 14.2,
            "Cylinders": 4,
            "Displacement": 105,
            "Horsepower": 74,
            "Miles_per_Gallon": 33,
            "Name": "volkswagen jetta",
            "Origin": "Europe",
            "Weight_in_lbs": 2190,
            "Year": "1982-01-01"
           },
           {
            "Acceleration": 15.8,
            "Cylinders": 4,
            "Displacement": 100,
            "Horsepower": null,
            "Miles_per_Gallon": 34.5,
            "Name": "renault 18i",
            "Origin": "Europe",
            "Weight_in_lbs": 2320,
            "Year": "1982-01-01"
           },
           {
            "Acceleration": 14.4,
            "Cylinders": 4,
            "Displacement": 107,
            "Horsepower": 75,
            "Miles_per_Gallon": 33.7,
            "Name": "honda prelude",
            "Origin": "Japan",
            "Weight_in_lbs": 2210,
            "Year": "1982-01-01"
           },
           {
            "Acceleration": 16.8,
            "Cylinders": 4,
            "Displacement": 108,
            "Horsepower": 75,
            "Miles_per_Gallon": 32.4,
            "Name": "toyota corolla",
            "Origin": "Japan",
            "Weight_in_lbs": 2350,
            "Year": "1982-01-01"
           },
           {
            "Acceleration": 14.8,
            "Cylinders": 4,
            "Displacement": 119,
            "Horsepower": 100,
            "Miles_per_Gallon": 32.9,
            "Name": "datsun 200sx",
            "Origin": "Japan",
            "Weight_in_lbs": 2615,
            "Year": "1982-01-01"
           },
           {
            "Acceleration": 18.3,
            "Cylinders": 4,
            "Displacement": 120,
            "Horsepower": 74,
            "Miles_per_Gallon": 31.6,
            "Name": "mazda 626",
            "Origin": "Japan",
            "Weight_in_lbs": 2635,
            "Year": "1982-01-01"
           },
           {
            "Acceleration": 20.4,
            "Cylinders": 4,
            "Displacement": 141,
            "Horsepower": 80,
            "Miles_per_Gallon": 28.1,
            "Name": "peugeot 505s turbo diesel",
            "Origin": "Europe",
            "Weight_in_lbs": 3230,
            "Year": "1982-01-01"
           },
           {
            "Acceleration": 15.4,
            "Cylinders": 4,
            "Displacement": 121,
            "Horsepower": 110,
            "Miles_per_Gallon": null,
            "Name": "saab 900s",
            "Origin": "Europe",
            "Weight_in_lbs": 2800,
            "Year": "1982-01-01"
           },
           {
            "Acceleration": 19.6,
            "Cylinders": 6,
            "Displacement": 145,
            "Horsepower": 76,
            "Miles_per_Gallon": 30.7,
            "Name": "volvo diesel",
            "Origin": "Europe",
            "Weight_in_lbs": 3160,
            "Year": "1982-01-01"
           },
           {
            "Acceleration": 12.6,
            "Cylinders": 6,
            "Displacement": 168,
            "Horsepower": 116,
            "Miles_per_Gallon": 25.4,
            "Name": "toyota cressida",
            "Origin": "Japan",
            "Weight_in_lbs": 2900,
            "Year": "1982-01-01"
           },
           {
            "Acceleration": 13.8,
            "Cylinders": 6,
            "Displacement": 146,
            "Horsepower": 120,
            "Miles_per_Gallon": 24.2,
            "Name": "datsun 810 maxima",
            "Origin": "Japan",
            "Weight_in_lbs": 2930,
            "Year": "1982-01-01"
           },
           {
            "Acceleration": 15.8,
            "Cylinders": 6,
            "Displacement": 231,
            "Horsepower": 110,
            "Miles_per_Gallon": 22.4,
            "Name": "buick century",
            "Origin": "USA",
            "Weight_in_lbs": 3415,
            "Year": "1982-01-01"
           },
           {
            "Acceleration": 19,
            "Cylinders": 8,
            "Displacement": 350,
            "Horsepower": 105,
            "Miles_per_Gallon": 26.6,
            "Name": "oldsmobile cutlass ls",
            "Origin": "USA",
            "Weight_in_lbs": 3725,
            "Year": "1982-01-01"
           },
           {
            "Acceleration": 17.1,
            "Cylinders": 6,
            "Displacement": 200,
            "Horsepower": 88,
            "Miles_per_Gallon": 20.2,
            "Name": "ford granada gl",
            "Origin": "USA",
            "Weight_in_lbs": 3060,
            "Year": "1982-01-01"
           },
           {
            "Acceleration": 16.6,
            "Cylinders": 6,
            "Displacement": 225,
            "Horsepower": 85,
            "Miles_per_Gallon": 17.6,
            "Name": "chrysler lebaron salon",
            "Origin": "USA",
            "Weight_in_lbs": 3465,
            "Year": "1982-01-01"
           },
           {
            "Acceleration": 19.6,
            "Cylinders": 4,
            "Displacement": 112,
            "Horsepower": 88,
            "Miles_per_Gallon": 28,
            "Name": "chevrolet cavalier",
            "Origin": "USA",
            "Weight_in_lbs": 2605,
            "Year": "1982-01-01"
           },
           {
            "Acceleration": 18.6,
            "Cylinders": 4,
            "Displacement": 112,
            "Horsepower": 88,
            "Miles_per_Gallon": 27,
            "Name": "chevrolet cavalier wagon",
            "Origin": "USA",
            "Weight_in_lbs": 2640,
            "Year": "1982-01-01"
           },
           {
            "Acceleration": 18,
            "Cylinders": 4,
            "Displacement": 112,
            "Horsepower": 88,
            "Miles_per_Gallon": 34,
            "Name": "chevrolet cavalier 2-door",
            "Origin": "USA",
            "Weight_in_lbs": 2395,
            "Year": "1982-01-01"
           },
           {
            "Acceleration": 16.2,
            "Cylinders": 4,
            "Displacement": 112,
            "Horsepower": 85,
            "Miles_per_Gallon": 31,
            "Name": "pontiac j2000 se hatchback",
            "Origin": "USA",
            "Weight_in_lbs": 2575,
            "Year": "1982-01-01"
           },
           {
            "Acceleration": 16,
            "Cylinders": 4,
            "Displacement": 135,
            "Horsepower": 84,
            "Miles_per_Gallon": 29,
            "Name": "dodge aries se",
            "Origin": "USA",
            "Weight_in_lbs": 2525,
            "Year": "1982-01-01"
           },
           {
            "Acceleration": 18,
            "Cylinders": 4,
            "Displacement": 151,
            "Horsepower": 90,
            "Miles_per_Gallon": 27,
            "Name": "pontiac phoenix",
            "Origin": "USA",
            "Weight_in_lbs": 2735,
            "Year": "1982-01-01"
           },
           {
            "Acceleration": 16.4,
            "Cylinders": 4,
            "Displacement": 140,
            "Horsepower": 92,
            "Miles_per_Gallon": 24,
            "Name": "ford fairmont futura",
            "Origin": "USA",
            "Weight_in_lbs": 2865,
            "Year": "1982-01-01"
           },
           {
            "Acceleration": 20.5,
            "Cylinders": 4,
            "Displacement": 151,
            "Horsepower": null,
            "Miles_per_Gallon": 23,
            "Name": "amc concord dl",
            "Origin": "USA",
            "Weight_in_lbs": 3035,
            "Year": "1982-01-01"
           },
           {
            "Acceleration": 15.3,
            "Cylinders": 4,
            "Displacement": 105,
            "Horsepower": 74,
            "Miles_per_Gallon": 36,
            "Name": "volkswagen rabbit l",
            "Origin": "Europe",
            "Weight_in_lbs": 1980,
            "Year": "1982-01-01"
           },
           {
            "Acceleration": 18.2,
            "Cylinders": 4,
            "Displacement": 91,
            "Horsepower": 68,
            "Miles_per_Gallon": 37,
            "Name": "mazda glc custom l",
            "Origin": "Japan",
            "Weight_in_lbs": 2025,
            "Year": "1982-01-01"
           },
           {
            "Acceleration": 17.6,
            "Cylinders": 4,
            "Displacement": 91,
            "Horsepower": 68,
            "Miles_per_Gallon": 31,
            "Name": "mazda glc custom",
            "Origin": "Japan",
            "Weight_in_lbs": 1970,
            "Year": "1982-01-01"
           },
           {
            "Acceleration": 14.7,
            "Cylinders": 4,
            "Displacement": 105,
            "Horsepower": 63,
            "Miles_per_Gallon": 38,
            "Name": "plymouth horizon miser",
            "Origin": "USA",
            "Weight_in_lbs": 2125,
            "Year": "1982-01-01"
           },
           {
            "Acceleration": 17.3,
            "Cylinders": 4,
            "Displacement": 98,
            "Horsepower": 70,
            "Miles_per_Gallon": 36,
            "Name": "mercury lynx l",
            "Origin": "USA",
            "Weight_in_lbs": 2125,
            "Year": "1982-01-01"
           },
           {
            "Acceleration": 14.5,
            "Cylinders": 4,
            "Displacement": 120,
            "Horsepower": 88,
            "Miles_per_Gallon": 36,
            "Name": "nissan stanza xe",
            "Origin": "Japan",
            "Weight_in_lbs": 2160,
            "Year": "1982-01-01"
           },
           {
            "Acceleration": 14.5,
            "Cylinders": 4,
            "Displacement": 107,
            "Horsepower": 75,
            "Miles_per_Gallon": 36,
            "Name": "honda Accelerationord",
            "Origin": "Japan",
            "Weight_in_lbs": 2205,
            "Year": "1982-01-01"
           },
           {
            "Acceleration": 16.9,
            "Cylinders": 4,
            "Displacement": 108,
            "Horsepower": 70,
            "Miles_per_Gallon": 34,
            "Name": "toyota corolla",
            "Origin": "Japan",
            "Weight_in_lbs": 2245,
            "Year": "1982-01-01"
           },
           {
            "Acceleration": 15,
            "Cylinders": 4,
            "Displacement": 91,
            "Horsepower": 67,
            "Miles_per_Gallon": 38,
            "Name": "honda civic",
            "Origin": "Japan",
            "Weight_in_lbs": 1965,
            "Year": "1982-01-01"
           },
           {
            "Acceleration": 15.7,
            "Cylinders": 4,
            "Displacement": 91,
            "Horsepower": 67,
            "Miles_per_Gallon": 32,
            "Name": "honda civic (auto)",
            "Origin": "Japan",
            "Weight_in_lbs": 1965,
            "Year": "1982-01-01"
           },
           {
            "Acceleration": 16.2,
            "Cylinders": 4,
            "Displacement": 91,
            "Horsepower": 67,
            "Miles_per_Gallon": 38,
            "Name": "datsun 310 gx",
            "Origin": "Japan",
            "Weight_in_lbs": 1995,
            "Year": "1982-01-01"
           },
           {
            "Acceleration": 16.4,
            "Cylinders": 6,
            "Displacement": 181,
            "Horsepower": 110,
            "Miles_per_Gallon": 25,
            "Name": "buick century limited",
            "Origin": "USA",
            "Weight_in_lbs": 2945,
            "Year": "1982-01-01"
           },
           {
            "Acceleration": 17,
            "Cylinders": 6,
            "Displacement": 262,
            "Horsepower": 85,
            "Miles_per_Gallon": 38,
            "Name": "oldsmobile cutlass ciera (diesel)",
            "Origin": "USA",
            "Weight_in_lbs": 3015,
            "Year": "1982-01-01"
           },
           {
            "Acceleration": 14.5,
            "Cylinders": 4,
            "Displacement": 156,
            "Horsepower": 92,
            "Miles_per_Gallon": 26,
            "Name": "chrysler lebaron medallion",
            "Origin": "USA",
            "Weight_in_lbs": 2585,
            "Year": "1982-01-01"
           },
           {
            "Acceleration": 14.7,
            "Cylinders": 6,
            "Displacement": 232,
            "Horsepower": 112,
            "Miles_per_Gallon": 22,
            "Name": "ford granada l",
            "Origin": "USA",
            "Weight_in_lbs": 2835,
            "Year": "1982-01-01"
           },
           {
            "Acceleration": 13.9,
            "Cylinders": 4,
            "Displacement": 144,
            "Horsepower": 96,
            "Miles_per_Gallon": 32,
            "Name": "toyota celica gt",
            "Origin": "Japan",
            "Weight_in_lbs": 2665,
            "Year": "1982-01-01"
           },
           {
            "Acceleration": 13,
            "Cylinders": 4,
            "Displacement": 135,
            "Horsepower": 84,
            "Miles_per_Gallon": 36,
            "Name": "dodge charger 2.2",
            "Origin": "USA",
            "Weight_in_lbs": 2370,
            "Year": "1982-01-01"
           },
           {
            "Acceleration": 17.3,
            "Cylinders": 4,
            "Displacement": 151,
            "Horsepower": 90,
            "Miles_per_Gallon": 27,
            "Name": "chevrolet camaro",
            "Origin": "USA",
            "Weight_in_lbs": 2950,
            "Year": "1982-01-01"
           },
           {
            "Acceleration": 15.6,
            "Cylinders": 4,
            "Displacement": 140,
            "Horsepower": 86,
            "Miles_per_Gallon": 27,
            "Name": "ford mustang gl",
            "Origin": "USA",
            "Weight_in_lbs": 2790,
            "Year": "1982-01-01"
           },
           {
            "Acceleration": 24.6,
            "Cylinders": 4,
            "Displacement": 97,
            "Horsepower": 52,
            "Miles_per_Gallon": 44,
            "Name": "vw pickup",
            "Origin": "Europe",
            "Weight_in_lbs": 2130,
            "Year": "1982-01-01"
           },
           {
            "Acceleration": 11.6,
            "Cylinders": 4,
            "Displacement": 135,
            "Horsepower": 84,
            "Miles_per_Gallon": 32,
            "Name": "dodge rampage",
            "Origin": "USA",
            "Weight_in_lbs": 2295,
            "Year": "1982-01-01"
           },
           {
            "Acceleration": 18.6,
            "Cylinders": 4,
            "Displacement": 120,
            "Horsepower": 79,
            "Miles_per_Gallon": 28,
            "Name": "ford ranger",
            "Origin": "USA",
            "Weight_in_lbs": 2625,
            "Year": "1982-01-01"
           },
           {
            "Acceleration": 19.4,
            "Cylinders": 4,
            "Displacement": 119,
            "Horsepower": 82,
            "Miles_per_Gallon": 31,
            "Name": "chevy s-10",
            "Origin": "USA",
            "Weight_in_lbs": 2720,
            "Year": "1982-01-01"
           }
          ]
         },
         "encoding": {
          "color": {
           "field": "None",
           "type": "nominal"
          },
          "x": {
           "axis": {
            "title": ""
           },
           "bin": {
            "extent": [
             1613,
             5140
            ],
            "maxbins": 20
           },
           "field": "Weight_in_lbs",
           "stack": null,
           "type": "quantitative"
          },
          "y": {
           "aggregate": "count",
           "axis": {
            "title": ""
           },
           "stack": null,
           "type": "quantitative"
          }
         },
         "height": 60,
         "mark": {
          "interpolate": "step",
          "opacity": 0.3,
          "type": "area"
         }
        },
        {
         "hconcat": [
          {
           "data": {
            "values": [
             {
              "Acceleration": 12,
              "Cylinders": 8,
              "Displacement": 307,
              "Horsepower": 130,
              "Miles_per_Gallon": 18,
              "Name": "chevrolet chevelle malibu",
              "Origin": "USA",
              "Weight_in_lbs": 3504,
              "Year": "1970-01-01"
             },
             {
              "Acceleration": 11.5,
              "Cylinders": 8,
              "Displacement": 350,
              "Horsepower": 165,
              "Miles_per_Gallon": 15,
              "Name": "buick skylark 320",
              "Origin": "USA",
              "Weight_in_lbs": 3693,
              "Year": "1970-01-01"
             },
             {
              "Acceleration": 11,
              "Cylinders": 8,
              "Displacement": 318,
              "Horsepower": 150,
              "Miles_per_Gallon": 18,
              "Name": "plymouth satellite",
              "Origin": "USA",
              "Weight_in_lbs": 3436,
              "Year": "1970-01-01"
             },
             {
              "Acceleration": 12,
              "Cylinders": 8,
              "Displacement": 304,
              "Horsepower": 150,
              "Miles_per_Gallon": 16,
              "Name": "amc rebel sst",
              "Origin": "USA",
              "Weight_in_lbs": 3433,
              "Year": "1970-01-01"
             },
             {
              "Acceleration": 10.5,
              "Cylinders": 8,
              "Displacement": 302,
              "Horsepower": 140,
              "Miles_per_Gallon": 17,
              "Name": "ford torino",
              "Origin": "USA",
              "Weight_in_lbs": 3449,
              "Year": "1970-01-01"
             },
             {
              "Acceleration": 10,
              "Cylinders": 8,
              "Displacement": 429,
              "Horsepower": 198,
              "Miles_per_Gallon": 15,
              "Name": "ford galaxie 500",
              "Origin": "USA",
              "Weight_in_lbs": 4341,
              "Year": "1970-01-01"
             },
             {
              "Acceleration": 9,
              "Cylinders": 8,
              "Displacement": 454,
              "Horsepower": 220,
              "Miles_per_Gallon": 14,
              "Name": "chevrolet impala",
              "Origin": "USA",
              "Weight_in_lbs": 4354,
              "Year": "1970-01-01"
             },
             {
              "Acceleration": 8.5,
              "Cylinders": 8,
              "Displacement": 440,
              "Horsepower": 215,
              "Miles_per_Gallon": 14,
              "Name": "plymouth fury iii",
              "Origin": "USA",
              "Weight_in_lbs": 4312,
              "Year": "1970-01-01"
             },
             {
              "Acceleration": 10,
              "Cylinders": 8,
              "Displacement": 455,
              "Horsepower": 225,
              "Miles_per_Gallon": 14,
              "Name": "pontiac catalina",
              "Origin": "USA",
              "Weight_in_lbs": 4425,
              "Year": "1970-01-01"
             },
             {
              "Acceleration": 8.5,
              "Cylinders": 8,
              "Displacement": 390,
              "Horsepower": 190,
              "Miles_per_Gallon": 15,
              "Name": "amc ambassador dpl",
              "Origin": "USA",
              "Weight_in_lbs": 3850,
              "Year": "1970-01-01"
             },
             {
              "Acceleration": 17.5,
              "Cylinders": 4,
              "Displacement": 133,
              "Horsepower": 115,
              "Miles_per_Gallon": null,
              "Name": "citroen ds-21 pallas",
              "Origin": "Europe",
              "Weight_in_lbs": 3090,
              "Year": "1970-01-01"
             },
             {
              "Acceleration": 11.5,
              "Cylinders": 8,
              "Displacement": 350,
              "Horsepower": 165,
              "Miles_per_Gallon": null,
              "Name": "chevrolet chevelle concours (sw)",
              "Origin": "USA",
              "Weight_in_lbs": 4142,
              "Year": "1970-01-01"
             },
             {
              "Acceleration": 11,
              "Cylinders": 8,
              "Displacement": 351,
              "Horsepower": 153,
              "Miles_per_Gallon": null,
              "Name": "ford torino (sw)",
              "Origin": "USA",
              "Weight_in_lbs": 4034,
              "Year": "1970-01-01"
             },
             {
              "Acceleration": 10.5,
              "Cylinders": 8,
              "Displacement": 383,
              "Horsepower": 175,
              "Miles_per_Gallon": null,
              "Name": "plymouth satellite (sw)",
              "Origin": "USA",
              "Weight_in_lbs": 4166,
              "Year": "1970-01-01"
             },
             {
              "Acceleration": 11,
              "Cylinders": 8,
              "Displacement": 360,
              "Horsepower": 175,
              "Miles_per_Gallon": null,
              "Name": "amc rebel sst (sw)",
              "Origin": "USA",
              "Weight_in_lbs": 3850,
              "Year": "1970-01-01"
             },
             {
              "Acceleration": 10,
              "Cylinders": 8,
              "Displacement": 383,
              "Horsepower": 170,
              "Miles_per_Gallon": 15,
              "Name": "dodge challenger se",
              "Origin": "USA",
              "Weight_in_lbs": 3563,
              "Year": "1970-01-01"
             },
             {
              "Acceleration": 8,
              "Cylinders": 8,
              "Displacement": 340,
              "Horsepower": 160,
              "Miles_per_Gallon": 14,
              "Name": "plymouth 'cuda 340",
              "Origin": "USA",
              "Weight_in_lbs": 3609,
              "Year": "1970-01-01"
             },
             {
              "Acceleration": 8,
              "Cylinders": 8,
              "Displacement": 302,
              "Horsepower": 140,
              "Miles_per_Gallon": null,
              "Name": "ford mustang boss 302",
              "Origin": "USA",
              "Weight_in_lbs": 3353,
              "Year": "1970-01-01"
             },
             {
              "Acceleration": 9.5,
              "Cylinders": 8,
              "Displacement": 400,
              "Horsepower": 150,
              "Miles_per_Gallon": 15,
              "Name": "chevrolet monte carlo",
              "Origin": "USA",
              "Weight_in_lbs": 3761,
              "Year": "1970-01-01"
             },
             {
              "Acceleration": 10,
              "Cylinders": 8,
              "Displacement": 455,
              "Horsepower": 225,
              "Miles_per_Gallon": 14,
              "Name": "buick estate wagon (sw)",
              "Origin": "USA",
              "Weight_in_lbs": 3086,
              "Year": "1970-01-01"
             },
             {
              "Acceleration": 15,
              "Cylinders": 4,
              "Displacement": 113,
              "Horsepower": 95,
              "Miles_per_Gallon": 24,
              "Name": "toyota corona mark ii",
              "Origin": "Japan",
              "Weight_in_lbs": 2372,
              "Year": "1970-01-01"
             },
             {
              "Acceleration": 15.5,
              "Cylinders": 6,
              "Displacement": 198,
              "Horsepower": 95,
              "Miles_per_Gallon": 22,
              "Name": "plymouth duster",
              "Origin": "USA",
              "Weight_in_lbs": 2833,
              "Year": "1970-01-01"
             },
             {
              "Acceleration": 15.5,
              "Cylinders": 6,
              "Displacement": 199,
              "Horsepower": 97,
              "Miles_per_Gallon": 18,
              "Name": "amc hornet",
              "Origin": "USA",
              "Weight_in_lbs": 2774,
              "Year": "1970-01-01"
             },
             {
              "Acceleration": 16,
              "Cylinders": 6,
              "Displacement": 200,
              "Horsepower": 85,
              "Miles_per_Gallon": 21,
              "Name": "ford maverick",
              "Origin": "USA",
              "Weight_in_lbs": 2587,
              "Year": "1970-01-01"
             },
             {
              "Acceleration": 14.5,
              "Cylinders": 4,
              "Displacement": 97,
              "Horsepower": 88,
              "Miles_per_Gallon": 27,
              "Name": "datsun pl510",
              "Origin": "Japan",
              "Weight_in_lbs": 2130,
              "Year": "1970-01-01"
             },
             {
              "Acceleration": 20.5,
              "Cylinders": 4,
              "Displacement": 97,
              "Horsepower": 46,
              "Miles_per_Gallon": 26,
              "Name": "volkswagen 1131 deluxe sedan",
              "Origin": "Europe",
              "Weight_in_lbs": 1835,
              "Year": "1970-01-01"
             },
             {
              "Acceleration": 17.5,
              "Cylinders": 4,
              "Displacement": 110,
              "Horsepower": 87,
              "Miles_per_Gallon": 25,
              "Name": "peugeot 504",
              "Origin": "Europe",
              "Weight_in_lbs": 2672,
              "Year": "1970-01-01"
             },
             {
              "Acceleration": 14.5,
              "Cylinders": 4,
              "Displacement": 107,
              "Horsepower": 90,
              "Miles_per_Gallon": 24,
              "Name": "audi 100 ls",
              "Origin": "Europe",
              "Weight_in_lbs": 2430,
              "Year": "1970-01-01"
             },
             {
              "Acceleration": 17.5,
              "Cylinders": 4,
              "Displacement": 104,
              "Horsepower": 95,
              "Miles_per_Gallon": 25,
              "Name": "saab 99e",
              "Origin": "Europe",
              "Weight_in_lbs": 2375,
              "Year": "1970-01-01"
             },
             {
              "Acceleration": 12.5,
              "Cylinders": 4,
              "Displacement": 121,
              "Horsepower": 113,
              "Miles_per_Gallon": 26,
              "Name": "bmw 2002",
              "Origin": "Europe",
              "Weight_in_lbs": 2234,
              "Year": "1970-01-01"
             },
             {
              "Acceleration": 15,
              "Cylinders": 6,
              "Displacement": 199,
              "Horsepower": 90,
              "Miles_per_Gallon": 21,
              "Name": "amc gremlin",
              "Origin": "USA",
              "Weight_in_lbs": 2648,
              "Year": "1970-01-01"
             },
             {
              "Acceleration": 14,
              "Cylinders": 8,
              "Displacement": 360,
              "Horsepower": 215,
              "Miles_per_Gallon": 10,
              "Name": "ford f250",
              "Origin": "USA",
              "Weight_in_lbs": 4615,
              "Year": "1970-01-01"
             },
             {
              "Acceleration": 15,
              "Cylinders": 8,
              "Displacement": 307,
              "Horsepower": 200,
              "Miles_per_Gallon": 10,
              "Name": "chevy c20",
              "Origin": "USA",
              "Weight_in_lbs": 4376,
              "Year": "1970-01-01"
             },
             {
              "Acceleration": 13.5,
              "Cylinders": 8,
              "Displacement": 318,
              "Horsepower": 210,
              "Miles_per_Gallon": 11,
              "Name": "dodge d200",
              "Origin": "USA",
              "Weight_in_lbs": 4382,
              "Year": "1970-01-01"
             },
             {
              "Acceleration": 18.5,
              "Cylinders": 8,
              "Displacement": 304,
              "Horsepower": 193,
              "Miles_per_Gallon": 9,
              "Name": "hi 1200d",
              "Origin": "USA",
              "Weight_in_lbs": 4732,
              "Year": "1970-01-01"
             },
             {
              "Acceleration": 14.5,
              "Cylinders": 4,
              "Displacement": 97,
              "Horsepower": 88,
              "Miles_per_Gallon": 27,
              "Name": "datsun pl510",
              "Origin": "Japan",
              "Weight_in_lbs": 2130,
              "Year": "1971-01-01"
             },
             {
              "Acceleration": 15.5,
              "Cylinders": 4,
              "Displacement": 140,
              "Horsepower": 90,
              "Miles_per_Gallon": 28,
              "Name": "chevrolet vega 2300",
              "Origin": "USA",
              "Weight_in_lbs": 2264,
              "Year": "1971-01-01"
             },
             {
              "Acceleration": 14,
              "Cylinders": 4,
              "Displacement": 113,
              "Horsepower": 95,
              "Miles_per_Gallon": 25,
              "Name": "toyota corona",
              "Origin": "Japan",
              "Weight_in_lbs": 2228,
              "Year": "1971-01-01"
             },
             {
              "Acceleration": 19,
              "Cylinders": 4,
              "Displacement": 98,
              "Horsepower": null,
              "Miles_per_Gallon": 25,
              "Name": "ford pinto",
              "Origin": "USA",
              "Weight_in_lbs": 2046,
              "Year": "1971-01-01"
             },
             {
              "Acceleration": 20,
              "Cylinders": 4,
              "Displacement": 97,
              "Horsepower": 48,
              "Miles_per_Gallon": null,
              "Name": "volkswagen super beetle 117",
              "Origin": "Europe",
              "Weight_in_lbs": 1978,
              "Year": "1971-01-01"
             },
             {
              "Acceleration": 13,
              "Cylinders": 6,
              "Displacement": 232,
              "Horsepower": 100,
              "Miles_per_Gallon": 19,
              "Name": "amc gremlin",
              "Origin": "USA",
              "Weight_in_lbs": 2634,
              "Year": "1971-01-01"
             },
             {
              "Acceleration": 15.5,
              "Cylinders": 6,
              "Displacement": 225,
              "Horsepower": 105,
              "Miles_per_Gallon": 16,
              "Name": "plymouth satellite custom",
              "Origin": "USA",
              "Weight_in_lbs": 3439,
              "Year": "1971-01-01"
             },
             {
              "Acceleration": 15.5,
              "Cylinders": 6,
              "Displacement": 250,
              "Horsepower": 100,
              "Miles_per_Gallon": 17,
              "Name": "chevrolet chevelle malibu",
              "Origin": "USA",
              "Weight_in_lbs": 3329,
              "Year": "1971-01-01"
             },
             {
              "Acceleration": 15.5,
              "Cylinders": 6,
              "Displacement": 250,
              "Horsepower": 88,
              "Miles_per_Gallon": 19,
              "Name": "ford torino 500",
              "Origin": "USA",
              "Weight_in_lbs": 3302,
              "Year": "1971-01-01"
             },
             {
              "Acceleration": 15.5,
              "Cylinders": 6,
              "Displacement": 232,
              "Horsepower": 100,
              "Miles_per_Gallon": 18,
              "Name": "amc matador",
              "Origin": "USA",
              "Weight_in_lbs": 3288,
              "Year": "1971-01-01"
             },
             {
              "Acceleration": 12,
              "Cylinders": 8,
              "Displacement": 350,
              "Horsepower": 165,
              "Miles_per_Gallon": 14,
              "Name": "chevrolet impala",
              "Origin": "USA",
              "Weight_in_lbs": 4209,
              "Year": "1971-01-01"
             },
             {
              "Acceleration": 11.5,
              "Cylinders": 8,
              "Displacement": 400,
              "Horsepower": 175,
              "Miles_per_Gallon": 14,
              "Name": "pontiac catalina brougham",
              "Origin": "USA",
              "Weight_in_lbs": 4464,
              "Year": "1971-01-01"
             },
             {
              "Acceleration": 13.5,
              "Cylinders": 8,
              "Displacement": 351,
              "Horsepower": 153,
              "Miles_per_Gallon": 14,
              "Name": "ford galaxie 500",
              "Origin": "USA",
              "Weight_in_lbs": 4154,
              "Year": "1971-01-01"
             },
             {
              "Acceleration": 13,
              "Cylinders": 8,
              "Displacement": 318,
              "Horsepower": 150,
              "Miles_per_Gallon": 14,
              "Name": "plymouth fury iii",
              "Origin": "USA",
              "Weight_in_lbs": 4096,
              "Year": "1971-01-01"
             },
             {
              "Acceleration": 11.5,
              "Cylinders": 8,
              "Displacement": 383,
              "Horsepower": 180,
              "Miles_per_Gallon": 12,
              "Name": "dodge monaco (sw)",
              "Origin": "USA",
              "Weight_in_lbs": 4955,
              "Year": "1971-01-01"
             },
             {
              "Acceleration": 12,
              "Cylinders": 8,
              "Displacement": 400,
              "Horsepower": 170,
              "Miles_per_Gallon": 13,
              "Name": "ford country squire (sw)",
              "Origin": "USA",
              "Weight_in_lbs": 4746,
              "Year": "1971-01-01"
             },
             {
              "Acceleration": 12,
              "Cylinders": 8,
              "Displacement": 400,
              "Horsepower": 175,
              "Miles_per_Gallon": 13,
              "Name": "pontiac safari (sw)",
              "Origin": "USA",
              "Weight_in_lbs": 5140,
              "Year": "1971-01-01"
             },
             {
              "Acceleration": 13.5,
              "Cylinders": 6,
              "Displacement": 258,
              "Horsepower": 110,
              "Miles_per_Gallon": 18,
              "Name": "amc hornet sportabout (sw)",
              "Origin": "USA",
              "Weight_in_lbs": 2962,
              "Year": "1971-01-01"
             },
             {
              "Acceleration": 19,
              "Cylinders": 4,
              "Displacement": 140,
              "Horsepower": 72,
              "Miles_per_Gallon": 22,
              "Name": "chevrolet vega (sw)",
              "Origin": "USA",
              "Weight_in_lbs": 2408,
              "Year": "1971-01-01"
             },
             {
              "Acceleration": 15,
              "Cylinders": 6,
              "Displacement": 250,
              "Horsepower": 100,
              "Miles_per_Gallon": 19,
              "Name": "pontiac firebird",
              "Origin": "USA",
              "Weight_in_lbs": 3282,
              "Year": "1971-01-01"
             },
             {
              "Acceleration": 14.5,
              "Cylinders": 6,
              "Displacement": 250,
              "Horsepower": 88,
              "Miles_per_Gallon": 18,
              "Name": "ford mustang",
              "Origin": "USA",
              "Weight_in_lbs": 3139,
              "Year": "1971-01-01"
             },
             {
              "Acceleration": 14,
              "Cylinders": 4,
              "Displacement": 122,
              "Horsepower": 86,
              "Miles_per_Gallon": 23,
              "Name": "mercury capri 2000",
              "Origin": "USA",
              "Weight_in_lbs": 2220,
              "Year": "1971-01-01"
             },
             {
              "Acceleration": 14,
              "Cylinders": 4,
              "Displacement": 116,
              "Horsepower": 90,
              "Miles_per_Gallon": 28,
              "Name": "opel 1900",
              "Origin": "Europe",
              "Weight_in_lbs": 2123,
              "Year": "1971-01-01"
             },
             {
              "Acceleration": 19.5,
              "Cylinders": 4,
              "Displacement": 79,
              "Horsepower": 70,
              "Miles_per_Gallon": 30,
              "Name": "peugeot 304",
              "Origin": "Europe",
              "Weight_in_lbs": 2074,
              "Year": "1971-01-01"
             },
             {
              "Acceleration": 14.5,
              "Cylinders": 4,
              "Displacement": 88,
              "Horsepower": 76,
              "Miles_per_Gallon": 30,
              "Name": "fiat 124b",
              "Origin": "Europe",
              "Weight_in_lbs": 2065,
              "Year": "1971-01-01"
             },
             {
              "Acceleration": 19,
              "Cylinders": 4,
              "Displacement": 71,
              "Horsepower": 65,
              "Miles_per_Gallon": 31,
              "Name": "toyota corolla 1200",
              "Origin": "Japan",
              "Weight_in_lbs": 1773,
              "Year": "1971-01-01"
             },
             {
              "Acceleration": 18,
              "Cylinders": 4,
              "Displacement": 72,
              "Horsepower": 69,
              "Miles_per_Gallon": 35,
              "Name": "datsun 1200",
              "Origin": "Japan",
              "Weight_in_lbs": 1613,
              "Year": "1971-01-01"
             },
             {
              "Acceleration": 19,
              "Cylinders": 4,
              "Displacement": 97,
              "Horsepower": 60,
              "Miles_per_Gallon": 27,
              "Name": "volkswagen model 111",
              "Origin": "Europe",
              "Weight_in_lbs": 1834,
              "Year": "1971-01-01"
             },
             {
              "Acceleration": 20.5,
              "Cylinders": 4,
              "Displacement": 91,
              "Horsepower": 70,
              "Miles_per_Gallon": 26,
              "Name": "plymouth cricket",
              "Origin": "USA",
              "Weight_in_lbs": 1955,
              "Year": "1971-01-01"
             },
             {
              "Acceleration": 15.5,
              "Cylinders": 4,
              "Displacement": 113,
              "Horsepower": 95,
              "Miles_per_Gallon": 24,
              "Name": "toyota corona hardtop",
              "Origin": "Japan",
              "Weight_in_lbs": 2278,
              "Year": "1972-01-01"
             },
             {
              "Acceleration": 17,
              "Cylinders": 4,
              "Displacement": 97.5,
              "Horsepower": 80,
              "Miles_per_Gallon": 25,
              "Name": "dodge colt hardtop",
              "Origin": "USA",
              "Weight_in_lbs": 2126,
              "Year": "1972-01-01"
             },
             {
              "Acceleration": 23.5,
              "Cylinders": 4,
              "Displacement": 97,
              "Horsepower": 54,
              "Miles_per_Gallon": 23,
              "Name": "volkswagen type 3",
              "Origin": "Europe",
              "Weight_in_lbs": 2254,
              "Year": "1972-01-01"
             },
             {
              "Acceleration": 19.5,
              "Cylinders": 4,
              "Displacement": 140,
              "Horsepower": 90,
              "Miles_per_Gallon": 20,
              "Name": "chevrolet vega",
              "Origin": "USA",
              "Weight_in_lbs": 2408,
              "Year": "1972-01-01"
             },
             {
              "Acceleration": 16.5,
              "Cylinders": 4,
              "Displacement": 122,
              "Horsepower": 86,
              "Miles_per_Gallon": 21,
              "Name": "ford pinto runabout",
              "Origin": "USA",
              "Weight_in_lbs": 2226,
              "Year": "1972-01-01"
             },
             {
              "Acceleration": 12,
              "Cylinders": 8,
              "Displacement": 350,
              "Horsepower": 165,
              "Miles_per_Gallon": 13,
              "Name": "chevrolet impala",
              "Origin": "USA",
              "Weight_in_lbs": 4274,
              "Year": "1972-01-01"
             },
             {
              "Acceleration": 12,
              "Cylinders": 8,
              "Displacement": 400,
              "Horsepower": 175,
              "Miles_per_Gallon": 14,
              "Name": "pontiac catalina",
              "Origin": "USA",
              "Weight_in_lbs": 4385,
              "Year": "1972-01-01"
             },
             {
              "Acceleration": 13.5,
              "Cylinders": 8,
              "Displacement": 318,
              "Horsepower": 150,
              "Miles_per_Gallon": 15,
              "Name": "plymouth fury iii",
              "Origin": "USA",
              "Weight_in_lbs": 4135,
              "Year": "1972-01-01"
             },
             {
              "Acceleration": 13,
              "Cylinders": 8,
              "Displacement": 351,
              "Horsepower": 153,
              "Miles_per_Gallon": 14,
              "Name": "ford galaxie 500",
              "Origin": "USA",
              "Weight_in_lbs": 4129,
              "Year": "1972-01-01"
             },
             {
              "Acceleration": 11.5,
              "Cylinders": 8,
              "Displacement": 304,
              "Horsepower": 150,
              "Miles_per_Gallon": 17,
              "Name": "amc ambassador sst",
              "Origin": "USA",
              "Weight_in_lbs": 3672,
              "Year": "1972-01-01"
             },
             {
              "Acceleration": 11,
              "Cylinders": 8,
              "Displacement": 429,
              "Horsepower": 208,
              "Miles_per_Gallon": 11,
              "Name": "mercury marquis",
              "Origin": "USA",
              "Weight_in_lbs": 4633,
              "Year": "1972-01-01"
             },
             {
              "Acceleration": 13.5,
              "Cylinders": 8,
              "Displacement": 350,
              "Horsepower": 155,
              "Miles_per_Gallon": 13,
              "Name": "buick lesabre custom",
              "Origin": "USA",
              "Weight_in_lbs": 4502,
              "Year": "1972-01-01"
             },
             {
              "Acceleration": 13.5,
              "Cylinders": 8,
              "Displacement": 350,
              "Horsepower": 160,
              "Miles_per_Gallon": 12,
              "Name": "oldsmobile delta 88 royale",
              "Origin": "USA",
              "Weight_in_lbs": 4456,
              "Year": "1972-01-01"
             },
             {
              "Acceleration": 12.5,
              "Cylinders": 8,
              "Displacement": 400,
              "Horsepower": 190,
              "Miles_per_Gallon": 13,
              "Name": "chrysler newport royal",
              "Origin": "USA",
              "Weight_in_lbs": 4422,
              "Year": "1972-01-01"
             },
             {
              "Acceleration": 13.5,
              "Cylinders": 3,
              "Displacement": 70,
              "Horsepower": 97,
              "Miles_per_Gallon": 19,
              "Name": "mazda rx2 coupe",
              "Origin": "Japan",
              "Weight_in_lbs": 2330,
              "Year": "1972-01-01"
             },
             {
              "Acceleration": 12.5,
              "Cylinders": 8,
              "Displacement": 304,
              "Horsepower": 150,
              "Miles_per_Gallon": 15,
              "Name": "amc matador (sw)",
              "Origin": "USA",
              "Weight_in_lbs": 3892,
              "Year": "1972-01-01"
             },
             {
              "Acceleration": 14,
              "Cylinders": 8,
              "Displacement": 307,
              "Horsepower": 130,
              "Miles_per_Gallon": 13,
              "Name": "chevrolet chevelle concours (sw)",
              "Origin": "USA",
              "Weight_in_lbs": 4098,
              "Year": "1972-01-01"
             },
             {
              "Acceleration": 16,
              "Cylinders": 8,
              "Displacement": 302,
              "Horsepower": 140,
              "Miles_per_Gallon": 13,
              "Name": "ford gran torino (sw)",
              "Origin": "USA",
              "Weight_in_lbs": 4294,
              "Year": "1972-01-01"
             },
             {
              "Acceleration": 14,
              "Cylinders": 8,
              "Displacement": 318,
              "Horsepower": 150,
              "Miles_per_Gallon": 14,
              "Name": "plymouth satellite custom (sw)",
              "Origin": "USA",
              "Weight_in_lbs": 4077,
              "Year": "1972-01-01"
             },
             {
              "Acceleration": 14.5,
              "Cylinders": 4,
              "Displacement": 121,
              "Horsepower": 112,
              "Miles_per_Gallon": 18,
              "Name": "volvo 145e (sw)",
              "Origin": "Europe",
              "Weight_in_lbs": 2933,
              "Year": "1972-01-01"
             },
             {
              "Acceleration": 18,
              "Cylinders": 4,
              "Displacement": 121,
              "Horsepower": 76,
              "Miles_per_Gallon": 22,
              "Name": "volkswagen 411 (sw)",
              "Origin": "Europe",
              "Weight_in_lbs": 2511,
              "Year": "1972-01-01"
             },
             {
              "Acceleration": 19.5,
              "Cylinders": 4,
              "Displacement": 120,
              "Horsepower": 87,
              "Miles_per_Gallon": 21,
              "Name": "peugeot 504 (sw)",
              "Origin": "Europe",
              "Weight_in_lbs": 2979,
              "Year": "1972-01-01"
             },
             {
              "Acceleration": 18,
              "Cylinders": 4,
              "Displacement": 96,
              "Horsepower": 69,
              "Miles_per_Gallon": 26,
              "Name": "renault 12 (sw)",
              "Origin": "Europe",
              "Weight_in_lbs": 2189,
              "Year": "1972-01-01"
             },
             {
              "Acceleration": 16,
              "Cylinders": 4,
              "Displacement": 122,
              "Horsepower": 86,
              "Miles_per_Gallon": 22,
              "Name": "ford pinto (sw)",
              "Origin": "USA",
              "Weight_in_lbs": 2395,
              "Year": "1972-01-01"
             },
             {
              "Acceleration": 17,
              "Cylinders": 4,
              "Displacement": 97,
              "Horsepower": 92,
              "Miles_per_Gallon": 28,
              "Name": "datsun 510 (sw)",
              "Origin": "Japan",
              "Weight_in_lbs": 2288,
              "Year": "1972-01-01"
             },
             {
              "Acceleration": 14.5,
              "Cylinders": 4,
              "Displacement": 120,
              "Horsepower": 97,
              "Miles_per_Gallon": 23,
              "Name": "toyouta corona mark ii (sw)",
              "Origin": "Japan",
              "Weight_in_lbs": 2506,
              "Year": "1972-01-01"
             },
             {
              "Acceleration": 15,
              "Cylinders": 4,
              "Displacement": 98,
              "Horsepower": 80,
              "Miles_per_Gallon": 28,
              "Name": "dodge colt (sw)",
              "Origin": "USA",
              "Weight_in_lbs": 2164,
              "Year": "1972-01-01"
             },
             {
              "Acceleration": 16.5,
              "Cylinders": 4,
              "Displacement": 97,
              "Horsepower": 88,
              "Miles_per_Gallon": 27,
              "Name": "toyota corolla 1600 (sw)",
              "Origin": "Japan",
              "Weight_in_lbs": 2100,
              "Year": "1972-01-01"
             },
             {
              "Acceleration": 13,
              "Cylinders": 8,
              "Displacement": 350,
              "Horsepower": 175,
              "Miles_per_Gallon": 13,
              "Name": "buick century 350",
              "Origin": "USA",
              "Weight_in_lbs": 4100,
              "Year": "1973-01-01"
             },
             {
              "Acceleration": 11.5,
              "Cylinders": 8,
              "Displacement": 304,
              "Horsepower": 150,
              "Miles_per_Gallon": 14,
              "Name": "amc matador",
              "Origin": "USA",
              "Weight_in_lbs": 3672,
              "Year": "1973-01-01"
             },
             {
              "Acceleration": 13,
              "Cylinders": 8,
              "Displacement": 350,
              "Horsepower": 145,
              "Miles_per_Gallon": 13,
              "Name": "chevrolet malibu",
              "Origin": "USA",
              "Weight_in_lbs": 3988,
              "Year": "1973-01-01"
             },
             {
              "Acceleration": 14.5,
              "Cylinders": 8,
              "Displacement": 302,
              "Horsepower": 137,
              "Miles_per_Gallon": 14,
              "Name": "ford gran torino",
              "Origin": "USA",
              "Weight_in_lbs": 4042,
              "Year": "1973-01-01"
             },
             {
              "Acceleration": 12.5,
              "Cylinders": 8,
              "Displacement": 318,
              "Horsepower": 150,
              "Miles_per_Gallon": 15,
              "Name": "dodge coronet custom",
              "Origin": "USA",
              "Weight_in_lbs": 3777,
              "Year": "1973-01-01"
             },
             {
              "Acceleration": 11.5,
              "Cylinders": 8,
              "Displacement": 429,
              "Horsepower": 198,
              "Miles_per_Gallon": 12,
              "Name": "mercury marquis brougham",
              "Origin": "USA",
              "Weight_in_lbs": 4952,
              "Year": "1973-01-01"
             },
             {
              "Acceleration": 12,
              "Cylinders": 8,
              "Displacement": 400,
              "Horsepower": 150,
              "Miles_per_Gallon": 13,
              "Name": "chevrolet caprice classic",
              "Origin": "USA",
              "Weight_in_lbs": 4464,
              "Year": "1973-01-01"
             },
             {
              "Acceleration": 13,
              "Cylinders": 8,
              "Displacement": 351,
              "Horsepower": 158,
              "Miles_per_Gallon": 13,
              "Name": "ford ltd",
              "Origin": "USA",
              "Weight_in_lbs": 4363,
              "Year": "1973-01-01"
             },
             {
              "Acceleration": 14.5,
              "Cylinders": 8,
              "Displacement": 318,
              "Horsepower": 150,
              "Miles_per_Gallon": 14,
              "Name": "plymouth fury gran sedan",
              "Origin": "USA",
              "Weight_in_lbs": 4237,
              "Year": "1973-01-01"
             },
             {
              "Acceleration": 11,
              "Cylinders": 8,
              "Displacement": 440,
              "Horsepower": 215,
              "Miles_per_Gallon": 13,
              "Name": "chrysler new yorker brougham",
              "Origin": "USA",
              "Weight_in_lbs": 4735,
              "Year": "1973-01-01"
             },
             {
              "Acceleration": 11,
              "Cylinders": 8,
              "Displacement": 455,
              "Horsepower": 225,
              "Miles_per_Gallon": 12,
              "Name": "buick electra 225 custom",
              "Origin": "USA",
              "Weight_in_lbs": 4951,
              "Year": "1973-01-01"
             },
             {
              "Acceleration": 11,
              "Cylinders": 8,
              "Displacement": 360,
              "Horsepower": 175,
              "Miles_per_Gallon": 13,
              "Name": "amc ambassador brougham",
              "Origin": "USA",
              "Weight_in_lbs": 3821,
              "Year": "1973-01-01"
             },
             {
              "Acceleration": 16.5,
              "Cylinders": 6,
              "Displacement": 225,
              "Horsepower": 105,
              "Miles_per_Gallon": 18,
              "Name": "plymouth valiant",
              "Origin": "USA",
              "Weight_in_lbs": 3121,
              "Year": "1973-01-01"
             },
             {
              "Acceleration": 18,
              "Cylinders": 6,
              "Displacement": 250,
              "Horsepower": 100,
              "Miles_per_Gallon": 16,
              "Name": "chevrolet nova custom",
              "Origin": "USA",
              "Weight_in_lbs": 3278,
              "Year": "1973-01-01"
             },
             {
              "Acceleration": 16,
              "Cylinders": 6,
              "Displacement": 232,
              "Horsepower": 100,
              "Miles_per_Gallon": 18,
              "Name": "amc hornet",
              "Origin": "USA",
              "Weight_in_lbs": 2945,
              "Year": "1973-01-01"
             },
             {
              "Acceleration": 16.5,
              "Cylinders": 6,
              "Displacement": 250,
              "Horsepower": 88,
              "Miles_per_Gallon": 18,
              "Name": "ford maverick",
              "Origin": "USA",
              "Weight_in_lbs": 3021,
              "Year": "1973-01-01"
             },
             {
              "Acceleration": 16,
              "Cylinders": 6,
              "Displacement": 198,
              "Horsepower": 95,
              "Miles_per_Gallon": 23,
              "Name": "plymouth duster",
              "Origin": "USA",
              "Weight_in_lbs": 2904,
              "Year": "1973-01-01"
             },
             {
              "Acceleration": 21,
              "Cylinders": 4,
              "Displacement": 97,
              "Horsepower": 46,
              "Miles_per_Gallon": 26,
              "Name": "volkswagen super beetle",
              "Origin": "Europe",
              "Weight_in_lbs": 1950,
              "Year": "1973-01-01"
             },
             {
              "Acceleration": 14,
              "Cylinders": 8,
              "Displacement": 400,
              "Horsepower": 150,
              "Miles_per_Gallon": 11,
              "Name": "chevrolet impala",
              "Origin": "USA",
              "Weight_in_lbs": 4997,
              "Year": "1973-01-01"
             },
             {
              "Acceleration": 12.5,
              "Cylinders": 8,
              "Displacement": 400,
              "Horsepower": 167,
              "Miles_per_Gallon": 12,
              "Name": "ford country",
              "Origin": "USA",
              "Weight_in_lbs": 4906,
              "Year": "1973-01-01"
             },
             {
              "Acceleration": 13,
              "Cylinders": 8,
              "Displacement": 360,
              "Horsepower": 170,
              "Miles_per_Gallon": 13,
              "Name": "plymouth custom suburb",
              "Origin": "USA",
              "Weight_in_lbs": 4654,
              "Year": "1973-01-01"
             },
             {
              "Acceleration": 12.5,
              "Cylinders": 8,
              "Displacement": 350,
              "Horsepower": 180,
              "Miles_per_Gallon": 12,
              "Name": "oldsmobile vista cruiser",
              "Origin": "USA",
              "Weight_in_lbs": 4499,
              "Year": "1973-01-01"
             },
             {
              "Acceleration": 15,
              "Cylinders": 6,
              "Displacement": 232,
              "Horsepower": 100,
              "Miles_per_Gallon": 18,
              "Name": "amc gremlin",
              "Origin": "USA",
              "Weight_in_lbs": 2789,
              "Year": "1973-01-01"
             },
             {
              "Acceleration": 19,
              "Cylinders": 4,
              "Displacement": 97,
              "Horsepower": 88,
              "Miles_per_Gallon": 20,
              "Name": "toyota carina",
              "Origin": "Japan",
              "Weight_in_lbs": 2279,
              "Year": "1973-01-01"
             },
             {
              "Acceleration": 19.5,
              "Cylinders": 4,
              "Displacement": 140,
              "Horsepower": 72,
              "Miles_per_Gallon": 21,
              "Name": "chevrolet vega",
              "Origin": "USA",
              "Weight_in_lbs": 2401,
              "Year": "1973-01-01"
             },
             {
              "Acceleration": 16.5,
              "Cylinders": 4,
              "Displacement": 108,
              "Horsepower": 94,
              "Miles_per_Gallon": 22,
              "Name": "datsun 610",
              "Origin": "Japan",
              "Weight_in_lbs": 2379,
              "Year": "1973-01-01"
             },
             {
              "Acceleration": 13.5,
              "Cylinders": 3,
              "Displacement": 70,
              "Horsepower": 90,
              "Miles_per_Gallon": 18,
              "Name": "maxda rx3",
              "Origin": "Japan",
              "Weight_in_lbs": 2124,
              "Year": "1973-01-01"
             },
             {
              "Acceleration": 18.5,
              "Cylinders": 4,
              "Displacement": 122,
              "Horsepower": 85,
              "Miles_per_Gallon": 19,
              "Name": "ford pinto",
              "Origin": "USA",
              "Weight_in_lbs": 2310,
              "Year": "1973-01-01"
             },
             {
              "Acceleration": 14,
              "Cylinders": 6,
              "Displacement": 155,
              "Horsepower": 107,
              "Miles_per_Gallon": 21,
              "Name": "mercury capri v6",
              "Origin": "USA",
              "Weight_in_lbs": 2472,
              "Year": "1973-01-01"
             },
             {
              "Acceleration": 15.5,
              "Cylinders": 4,
              "Displacement": 98,
              "Horsepower": 90,
              "Miles_per_Gallon": 26,
              "Name": "fiat 124 sport coupe",
              "Origin": "Europe",
              "Weight_in_lbs": 2265,
              "Year": "1973-01-01"
             },
             {
              "Acceleration": 13,
              "Cylinders": 8,
              "Displacement": 350,
              "Horsepower": 145,
              "Miles_per_Gallon": 15,
              "Name": "chevrolet monte carlo s",
              "Origin": "USA",
              "Weight_in_lbs": 4082,
              "Year": "1973-01-01"
             },
             {
              "Acceleration": 9.5,
              "Cylinders": 8,
              "Displacement": 400,
              "Horsepower": 230,
              "Miles_per_Gallon": 16,
              "Name": "pontiac grand prix",
              "Origin": "USA",
              "Weight_in_lbs": 4278,
              "Year": "1973-01-01"
             },
             {
              "Acceleration": 19.5,
              "Cylinders": 4,
              "Displacement": 68,
              "Horsepower": 49,
              "Miles_per_Gallon": 29,
              "Name": "fiat 128",
              "Origin": "Europe",
              "Weight_in_lbs": 1867,
              "Year": "1973-01-01"
             },
             {
              "Acceleration": 15.5,
              "Cylinders": 4,
              "Displacement": 116,
              "Horsepower": 75,
              "Miles_per_Gallon": 24,
              "Name": "opel manta",
              "Origin": "Europe",
              "Weight_in_lbs": 2158,
              "Year": "1973-01-01"
             },
             {
              "Acceleration": 14,
              "Cylinders": 4,
              "Displacement": 114,
              "Horsepower": 91,
              "Miles_per_Gallon": 20,
              "Name": "audi 100ls",
              "Origin": "Europe",
              "Weight_in_lbs": 2582,
              "Year": "1973-01-01"
             },
             {
              "Acceleration": 15.5,
              "Cylinders": 4,
              "Displacement": 121,
              "Horsepower": 112,
              "Miles_per_Gallon": 19,
              "Name": "volvo 144ea",
              "Origin": "Europe",
              "Weight_in_lbs": 2868,
              "Year": "1973-01-01"
             },
             {
              "Acceleration": 11,
              "Cylinders": 8,
              "Displacement": 318,
              "Horsepower": 150,
              "Miles_per_Gallon": 15,
              "Name": "dodge dart custom",
              "Origin": "USA",
              "Weight_in_lbs": 3399,
              "Year": "1973-01-01"
             },
             {
              "Acceleration": 14,
              "Cylinders": 4,
              "Displacement": 121,
              "Horsepower": 110,
              "Miles_per_Gallon": 24,
              "Name": "saab 99le",
              "Origin": "Europe",
              "Weight_in_lbs": 2660,
              "Year": "1973-01-01"
             },
             {
              "Acceleration": 13.5,
              "Cylinders": 6,
              "Displacement": 156,
              "Horsepower": 122,
              "Miles_per_Gallon": 20,
              "Name": "toyota mark ii",
              "Origin": "Japan",
              "Weight_in_lbs": 2807,
              "Year": "1973-01-01"
             },
             {
              "Acceleration": 11,
              "Cylinders": 8,
              "Displacement": 350,
              "Horsepower": 180,
              "Miles_per_Gallon": 11,
              "Name": "oldsmobile omega",
              "Origin": "USA",
              "Weight_in_lbs": 3664,
              "Year": "1973-01-01"
             },
             {
              "Acceleration": 16.5,
              "Cylinders": 6,
              "Displacement": 198,
              "Horsepower": 95,
              "Miles_per_Gallon": 20,
              "Name": "plymouth duster",
              "Origin": "USA",
              "Weight_in_lbs": 3102,
              "Year": "1974-01-01"
             },
             {
              "Acceleration": 17,
              "Cylinders": 6,
              "Displacement": 200,
              "Horsepower": null,
              "Miles_per_Gallon": 21,
              "Name": "ford maverick",
              "Origin": "USA",
              "Weight_in_lbs": 2875,
              "Year": "1974-01-01"
             },
             {
              "Acceleration": 16,
              "Cylinders": 6,
              "Displacement": 232,
              "Horsepower": 100,
              "Miles_per_Gallon": 19,
              "Name": "amc hornet",
              "Origin": "USA",
              "Weight_in_lbs": 2901,
              "Year": "1974-01-01"
             },
             {
              "Acceleration": 17,
              "Cylinders": 6,
              "Displacement": 250,
              "Horsepower": 100,
              "Miles_per_Gallon": 15,
              "Name": "chevrolet nova",
              "Origin": "USA",
              "Weight_in_lbs": 3336,
              "Year": "1974-01-01"
             },
             {
              "Acceleration": 19,
              "Cylinders": 4,
              "Displacement": 79,
              "Horsepower": 67,
              "Miles_per_Gallon": 31,
              "Name": "datsun b210",
              "Origin": "Japan",
              "Weight_in_lbs": 1950,
              "Year": "1974-01-01"
             },
             {
              "Acceleration": 16.5,
              "Cylinders": 4,
              "Displacement": 122,
              "Horsepower": 80,
              "Miles_per_Gallon": 26,
              "Name": "ford pinto",
              "Origin": "USA",
              "Weight_in_lbs": 2451,
              "Year": "1974-01-01"
             },
             {
              "Acceleration": 21,
              "Cylinders": 4,
              "Displacement": 71,
              "Horsepower": 65,
              "Miles_per_Gallon": 32,
              "Name": "toyota corolla 1200",
              "Origin": "Japan",
              "Weight_in_lbs": 1836,
              "Year": "1974-01-01"
             },
             {
              "Acceleration": 17,
              "Cylinders": 4,
              "Displacement": 140,
              "Horsepower": 75,
              "Miles_per_Gallon": 25,
              "Name": "chevrolet vega",
              "Origin": "USA",
              "Weight_in_lbs": 2542,
              "Year": "1974-01-01"
             },
             {
              "Acceleration": 17,
              "Cylinders": 6,
              "Displacement": 250,
              "Horsepower": 100,
              "Miles_per_Gallon": 16,
              "Name": "chevrolet chevelle malibu classic",
              "Origin": "USA",
              "Weight_in_lbs": 3781,
              "Year": "1974-01-01"
             },
             {
              "Acceleration": 18,
              "Cylinders": 6,
              "Displacement": 258,
              "Horsepower": 110,
              "Miles_per_Gallon": 16,
              "Name": "amc matador",
              "Origin": "USA",
              "Weight_in_lbs": 3632,
              "Year": "1974-01-01"
             },
             {
              "Acceleration": 16.5,
              "Cylinders": 6,
              "Displacement": 225,
              "Horsepower": 105,
              "Miles_per_Gallon": 18,
              "Name": "plymouth satellite sebring",
              "Origin": "USA",
              "Weight_in_lbs": 3613,
              "Year": "1974-01-01"
             },
             {
              "Acceleration": 14,
              "Cylinders": 8,
              "Displacement": 302,
              "Horsepower": 140,
              "Miles_per_Gallon": 16,
              "Name": "ford gran torino",
              "Origin": "USA",
              "Weight_in_lbs": 4141,
              "Year": "1974-01-01"
             },
             {
              "Acceleration": 14.5,
              "Cylinders": 8,
              "Displacement": 350,
              "Horsepower": 150,
              "Miles_per_Gallon": 13,
              "Name": "buick century luxus (sw)",
              "Origin": "USA",
              "Weight_in_lbs": 4699,
              "Year": "1974-01-01"
             },
             {
              "Acceleration": 13.5,
              "Cylinders": 8,
              "Displacement": 318,
              "Horsepower": 150,
              "Miles_per_Gallon": 14,
              "Name": "dodge coronet custom (sw)",
              "Origin": "USA",
              "Weight_in_lbs": 4457,
              "Year": "1974-01-01"
             },
             {
              "Acceleration": 16,
              "Cylinders": 8,
              "Displacement": 302,
              "Horsepower": 140,
              "Miles_per_Gallon": 14,
              "Name": "ford gran torino (sw)",
              "Origin": "USA",
              "Weight_in_lbs": 4638,
              "Year": "1974-01-01"
             },
             {
              "Acceleration": 15.5,
              "Cylinders": 8,
              "Displacement": 304,
              "Horsepower": 150,
              "Miles_per_Gallon": 14,
              "Name": "amc matador (sw)",
              "Origin": "USA",
              "Weight_in_lbs": 4257,
              "Year": "1974-01-01"
             },
             {
              "Acceleration": 16.5,
              "Cylinders": 4,
              "Displacement": 98,
              "Horsepower": 83,
              "Miles_per_Gallon": 29,
              "Name": "audi fox",
              "Origin": "Europe",
              "Weight_in_lbs": 2219,
              "Year": "1974-01-01"
             },
             {
              "Acceleration": 15.5,
              "Cylinders": 4,
              "Displacement": 79,
              "Horsepower": 67,
              "Miles_per_Gallon": 26,
              "Name": "volkswagen dasher",
              "Origin": "Europe",
              "Weight_in_lbs": 1963,
              "Year": "1974-01-01"
             },
             {
              "Acceleration": 14.5,
              "Cylinders": 4,
              "Displacement": 97,
              "Horsepower": 78,
              "Miles_per_Gallon": 26,
              "Name": "opel manta",
              "Origin": "Europe",
              "Weight_in_lbs": 2300,
              "Year": "1974-01-01"
             },
             {
              "Acceleration": 16.5,
              "Cylinders": 4,
              "Displacement": 76,
              "Horsepower": 52,
              "Miles_per_Gallon": 31,
              "Name": "toyota corona",
              "Origin": "Japan",
              "Weight_in_lbs": 1649,
              "Year": "1974-01-01"
             },
             {
              "Acceleration": 19,
              "Cylinders": 4,
              "Displacement": 83,
              "Horsepower": 61,
              "Miles_per_Gallon": 32,
              "Name": "datsun 710",
              "Origin": "Japan",
              "Weight_in_lbs": 2003,
              "Year": "1974-01-01"
             },
             {
              "Acceleration": 14.5,
              "Cylinders": 4,
              "Displacement": 90,
              "Horsepower": 75,
              "Miles_per_Gallon": 28,
              "Name": "dodge colt",
              "Origin": "USA",
              "Weight_in_lbs": 2125,
              "Year": "1974-01-01"
             },
             {
              "Acceleration": 15.5,
              "Cylinders": 4,
              "Displacement": 90,
              "Horsepower": 75,
              "Miles_per_Gallon": 24,
              "Name": "fiat 128",
              "Origin": "Europe",
              "Weight_in_lbs": 2108,
              "Year": "1974-01-01"
             },
             {
              "Acceleration": 14,
              "Cylinders": 4,
              "Displacement": 116,
              "Horsepower": 75,
              "Miles_per_Gallon": 26,
              "Name": "fiat 124 tc",
              "Origin": "Europe",
              "Weight_in_lbs": 2246,
              "Year": "1974-01-01"
             },
             {
              "Acceleration": 15,
              "Cylinders": 4,
              "Displacement": 120,
              "Horsepower": 97,
              "Miles_per_Gallon": 24,
              "Name": "honda civic",
              "Origin": "Japan",
              "Weight_in_lbs": 2489,
              "Year": "1974-01-01"
             },
             {
              "Acceleration": 15.5,
              "Cylinders": 4,
              "Displacement": 108,
              "Horsepower": 93,
              "Miles_per_Gallon": 26,
              "Name": "subaru",
              "Origin": "Japan",
              "Weight_in_lbs": 2391,
              "Year": "1974-01-01"
             },
             {
              "Acceleration": 16,
              "Cylinders": 4,
              "Displacement": 79,
              "Horsepower": 67,
              "Miles_per_Gallon": 31,
              "Name": "fiat x1.9",
              "Origin": "Europe",
              "Weight_in_lbs": 2000,
              "Year": "1974-01-01"
             },
             {
              "Acceleration": 16,
              "Cylinders": 6,
              "Displacement": 225,
              "Horsepower": 95,
              "Miles_per_Gallon": 19,
              "Name": "plymouth valiant custom",
              "Origin": "USA",
              "Weight_in_lbs": 3264,
              "Year": "1975-01-01"
             },
             {
              "Acceleration": 16,
              "Cylinders": 6,
              "Displacement": 250,
              "Horsepower": 105,
              "Miles_per_Gallon": 18,
              "Name": "chevrolet nova",
              "Origin": "USA",
              "Weight_in_lbs": 3459,
              "Year": "1975-01-01"
             },
             {
              "Acceleration": 21,
              "Cylinders": 6,
              "Displacement": 250,
              "Horsepower": 72,
              "Miles_per_Gallon": 15,
              "Name": "mercury monarch",
              "Origin": "USA",
              "Weight_in_lbs": 3432,
              "Year": "1975-01-01"
             },
             {
              "Acceleration": 19.5,
              "Cylinders": 6,
              "Displacement": 250,
              "Horsepower": 72,
              "Miles_per_Gallon": 15,
              "Name": "ford maverick",
              "Origin": "USA",
              "Weight_in_lbs": 3158,
              "Year": "1975-01-01"
             },
             {
              "Acceleration": 11.5,
              "Cylinders": 8,
              "Displacement": 400,
              "Horsepower": 170,
              "Miles_per_Gallon": 16,
              "Name": "pontiac catalina",
              "Origin": "USA",
              "Weight_in_lbs": 4668,
              "Year": "1975-01-01"
             },
             {
              "Acceleration": 14,
              "Cylinders": 8,
              "Displacement": 350,
              "Horsepower": 145,
              "Miles_per_Gallon": 15,
              "Name": "chevrolet bel air",
              "Origin": "USA",
              "Weight_in_lbs": 4440,
              "Year": "1975-01-01"
             },
             {
              "Acceleration": 14.5,
              "Cylinders": 8,
              "Displacement": 318,
              "Horsepower": 150,
              "Miles_per_Gallon": 16,
              "Name": "plymouth grand fury",
              "Origin": "USA",
              "Weight_in_lbs": 4498,
              "Year": "1975-01-01"
             },
             {
              "Acceleration": 13.5,
              "Cylinders": 8,
              "Displacement": 351,
              "Horsepower": 148,
              "Miles_per_Gallon": 14,
              "Name": "ford ltd",
              "Origin": "USA",
              "Weight_in_lbs": 4657,
              "Year": "1975-01-01"
             },
             {
              "Acceleration": 21,
              "Cylinders": 6,
              "Displacement": 231,
              "Horsepower": 110,
              "Miles_per_Gallon": 17,
              "Name": "buick century",
              "Origin": "USA",
              "Weight_in_lbs": 3907,
              "Year": "1975-01-01"
             },
             {
              "Acceleration": 18.5,
              "Cylinders": 6,
              "Displacement": 250,
              "Horsepower": 105,
              "Miles_per_Gallon": 16,
              "Name": "chevroelt chevelle malibu",
              "Origin": "USA",
              "Weight_in_lbs": 3897,
              "Year": "1975-01-01"
             },
             {
              "Acceleration": 19,
              "Cylinders": 6,
              "Displacement": 258,
              "Horsepower": 110,
              "Miles_per_Gallon": 15,
              "Name": "amc matador",
              "Origin": "USA",
              "Weight_in_lbs": 3730,
              "Year": "1975-01-01"
             },
             {
              "Acceleration": 19,
              "Cylinders": 6,
              "Displacement": 225,
              "Horsepower": 95,
              "Miles_per_Gallon": 18,
              "Name": "plymouth fury",
              "Origin": "USA",
              "Weight_in_lbs": 3785,
              "Year": "1975-01-01"
             },
             {
              "Acceleration": 15,
              "Cylinders": 6,
              "Displacement": 231,
              "Horsepower": 110,
              "Miles_per_Gallon": 21,
              "Name": "buick skyhawk",
              "Origin": "USA",
              "Weight_in_lbs": 3039,
              "Year": "1975-01-01"
             },
             {
              "Acceleration": 13.5,
              "Cylinders": 8,
              "Displacement": 262,
              "Horsepower": 110,
              "Miles_per_Gallon": 20,
              "Name": "chevrolet monza 2+2",
              "Origin": "USA",
              "Weight_in_lbs": 3221,
              "Year": "1975-01-01"
             },
             {
              "Acceleration": 12,
              "Cylinders": 8,
              "Displacement": 302,
              "Horsepower": 129,
              "Miles_per_Gallon": 13,
              "Name": "ford mustang ii",
              "Origin": "USA",
              "Weight_in_lbs": 3169,
              "Year": "1975-01-01"
             },
             {
              "Acceleration": 16,
              "Cylinders": 4,
              "Displacement": 97,
              "Horsepower": 75,
              "Miles_per_Gallon": 29,
              "Name": "toyota corolla",
              "Origin": "Japan",
              "Weight_in_lbs": 2171,
              "Year": "1975-01-01"
             },
             {
              "Acceleration": 17,
              "Cylinders": 4,
              "Displacement": 140,
              "Horsepower": 83,
              "Miles_per_Gallon": 23,
              "Name": "ford pinto",
              "Origin": "USA",
              "Weight_in_lbs": 2639,
              "Year": "1975-01-01"
             },
             {
              "Acceleration": 16,
              "Cylinders": 6,
              "Displacement": 232,
              "Horsepower": 100,
              "Miles_per_Gallon": 20,
              "Name": "amc gremlin",
              "Origin": "USA",
              "Weight_in_lbs": 2914,
              "Year": "1975-01-01"
             },
             {
              "Acceleration": 18.5,
              "Cylinders": 4,
              "Displacement": 140,
              "Horsepower": 78,
              "Miles_per_Gallon": 23,
              "Name": "pontiac astro",
              "Origin": "USA",
              "Weight_in_lbs": 2592,
              "Year": "1975-01-01"
             },
             {
              "Acceleration": 13.5,
              "Cylinders": 4,
              "Displacement": 134,
              "Horsepower": 96,
              "Miles_per_Gallon": 24,
              "Name": "toyota corona",
              "Origin": "Japan",
              "Weight_in_lbs": 2702,
              "Year": "1975-01-01"
             },
             {
              "Acceleration": 16.5,
              "Cylinders": 4,
              "Displacement": 90,
              "Horsepower": 71,
              "Miles_per_Gallon": 25,
              "Name": "volkswagen dasher",
              "Origin": "Europe",
              "Weight_in_lbs": 2223,
              "Year": "1975-01-01"
             },
             {
              "Acceleration": 17,
              "Cylinders": 4,
              "Displacement": 119,
              "Horsepower": 97,
              "Miles_per_Gallon": 24,
              "Name": "datsun 710",
              "Origin": "Japan",
              "Weight_in_lbs": 2545,
              "Year": "1975-01-01"
             },
             {
              "Acceleration": 14.5,
              "Cylinders": 6,
              "Displacement": 171,
              "Horsepower": 97,
              "Miles_per_Gallon": 18,
              "Name": "ford pinto",
              "Origin": "USA",
              "Weight_in_lbs": 2984,
              "Year": "1975-01-01"
             },
             {
              "Acceleration": 14,
              "Cylinders": 4,
              "Displacement": 90,
              "Horsepower": 70,
              "Miles_per_Gallon": 29,
              "Name": "volkswagen rabbit",
              "Origin": "Europe",
              "Weight_in_lbs": 1937,
              "Year": "1975-01-01"
             },
             {
              "Acceleration": 17,
              "Cylinders": 6,
              "Displacement": 232,
              "Horsepower": 90,
              "Miles_per_Gallon": 19,
              "Name": "amc pacer",
              "Origin": "USA",
              "Weight_in_lbs": 3211,
              "Year": "1975-01-01"
             },
             {
              "Acceleration": 15,
              "Cylinders": 4,
              "Displacement": 115,
              "Horsepower": 95,
              "Miles_per_Gallon": 23,
              "Name": "audi 100ls",
              "Origin": "Europe",
              "Weight_in_lbs": 2694,
              "Year": "1975-01-01"
             },
             {
              "Acceleration": 17,
              "Cylinders": 4,
              "Displacement": 120,
              "Horsepower": 88,
              "Miles_per_Gallon": 23,
              "Name": "peugeot 504",
              "Origin": "Europe",
              "Weight_in_lbs": 2957,
              "Year": "1975-01-01"
             },
             {
              "Acceleration": 14.5,
              "Cylinders": 4,
              "Displacement": 121,
              "Horsepower": 98,
              "Miles_per_Gallon": 22,
              "Name": "volvo 244dl",
              "Origin": "Europe",
              "Weight_in_lbs": 2945,
              "Year": "1975-01-01"
             },
             {
              "Acceleration": 13.5,
              "Cylinders": 4,
              "Displacement": 121,
              "Horsepower": 115,
              "Miles_per_Gallon": 25,
              "Name": "saab 99le",
              "Origin": "Europe",
              "Weight_in_lbs": 2671,
              "Year": "1975-01-01"
             },
             {
              "Acceleration": 17.5,
              "Cylinders": 4,
              "Displacement": 91,
              "Horsepower": 53,
              "Miles_per_Gallon": 33,
              "Name": "honda civic cvcc",
              "Origin": "Japan",
              "Weight_in_lbs": 1795,
              "Year": "1975-01-01"
             },
             {
              "Acceleration": 15.5,
              "Cylinders": 4,
              "Displacement": 107,
              "Horsepower": 86,
              "Miles_per_Gallon": 28,
              "Name": "fiat 131",
              "Origin": "Europe",
              "Weight_in_lbs": 2464,
              "Year": "1976-01-01"
             },
             {
              "Acceleration": 16.9,
              "Cylinders": 4,
              "Displacement": 116,
              "Horsepower": 81,
              "Miles_per_Gallon": 25,
              "Name": "opel 1900",
              "Origin": "Europe",
              "Weight_in_lbs": 2220,
              "Year": "1976-01-01"
             },
             {
              "Acceleration": 14.9,
              "Cylinders": 4,
              "Displacement": 140,
              "Horsepower": 92,
              "Miles_per_Gallon": 25,
              "Name": "capri ii",
              "Origin": "USA",
              "Weight_in_lbs": 2572,
              "Year": "1976-01-01"
             },
             {
              "Acceleration": 17.7,
              "Cylinders": 4,
              "Displacement": 98,
              "Horsepower": 79,
              "Miles_per_Gallon": 26,
              "Name": "dodge colt",
              "Origin": "USA",
              "Weight_in_lbs": 2255,
              "Year": "1976-01-01"
             },
             {
              "Acceleration": 15.3,
              "Cylinders": 4,
              "Displacement": 101,
              "Horsepower": 83,
              "Miles_per_Gallon": 27,
              "Name": "renault 12tl",
              "Origin": "Europe",
              "Weight_in_lbs": 2202,
              "Year": "1976-01-01"
             },
             {
              "Acceleration": 13,
              "Cylinders": 8,
              "Displacement": 305,
              "Horsepower": 140,
              "Miles_per_Gallon": 17.5,
              "Name": "chevrolet chevelle malibu classic",
              "Origin": "USA",
              "Weight_in_lbs": 4215,
              "Year": "1976-01-01"
             },
             {
              "Acceleration": 13,
              "Cylinders": 8,
              "Displacement": 318,
              "Horsepower": 150,
              "Miles_per_Gallon": 16,
              "Name": "dodge coronet brougham",
              "Origin": "USA",
              "Weight_in_lbs": 4190,
              "Year": "1976-01-01"
             },
             {
              "Acceleration": 13.9,
              "Cylinders": 8,
              "Displacement": 304,
              "Horsepower": 120,
              "Miles_per_Gallon": 15.5,
              "Name": "amc matador",
              "Origin": "USA",
              "Weight_in_lbs": 3962,
              "Year": "1976-01-01"
             },
             {
              "Acceleration": 12.8,
              "Cylinders": 8,
              "Displacement": 351,
              "Horsepower": 152,
              "Miles_per_Gallon": 14.5,
              "Name": "ford gran torino",
              "Origin": "USA",
              "Weight_in_lbs": 4215,
              "Year": "1976-01-01"
             },
             {
              "Acceleration": 15.4,
              "Cylinders": 6,
              "Displacement": 225,
              "Horsepower": 100,
              "Miles_per_Gallon": 22,
              "Name": "plymouth valiant",
              "Origin": "USA",
              "Weight_in_lbs": 3233,
              "Year": "1976-01-01"
             },
             {
              "Acceleration": 14.5,
              "Cylinders": 6,
              "Displacement": 250,
              "Horsepower": 105,
              "Miles_per_Gallon": 22,
              "Name": "chevrolet nova",
              "Origin": "USA",
              "Weight_in_lbs": 3353,
              "Year": "1976-01-01"
             },
             {
              "Acceleration": 17.6,
              "Cylinders": 6,
              "Displacement": 200,
              "Horsepower": 81,
              "Miles_per_Gallon": 24,
              "Name": "ford maverick",
              "Origin": "USA",
              "Weight_in_lbs": 3012,
              "Year": "1976-01-01"
             },
             {
              "Acceleration": 17.6,
              "Cylinders": 6,
              "Displacement": 232,
              "Horsepower": 90,
              "Miles_per_Gallon": 22.5,
              "Name": "amc hornet",
              "Origin": "USA",
              "Weight_in_lbs": 3085,
              "Year": "1976-01-01"
             },
             {
              "Acceleration": 22.2,
              "Cylinders": 4,
              "Displacement": 85,
              "Horsepower": 52,
              "Miles_per_Gallon": 29,
              "Name": "chevrolet chevette",
              "Origin": "USA",
              "Weight_in_lbs": 2035,
              "Year": "1976-01-01"
             },
             {
              "Acceleration": 22.1,
              "Cylinders": 4,
              "Displacement": 98,
              "Horsepower": 60,
              "Miles_per_Gallon": 24.5,
              "Name": "chevrolet woody",
              "Origin": "USA",
              "Weight_in_lbs": 2164,
              "Year": "1976-01-01"
             },
             {
              "Acceleration": 14.2,
              "Cylinders": 4,
              "Displacement": 90,
              "Horsepower": 70,
              "Miles_per_Gallon": 29,
              "Name": "vw rabbit",
              "Origin": "Europe",
              "Weight_in_lbs": 1937,
              "Year": "1976-01-01"
             },
             {
              "Acceleration": 17.4,
              "Cylinders": 4,
              "Displacement": 91,
              "Horsepower": 53,
              "Miles_per_Gallon": 33,
              "Name": "honda civic",
              "Origin": "Japan",
              "Weight_in_lbs": 1795,
              "Year": "1976-01-01"
             },
             {
              "Acceleration": 17.7,
              "Cylinders": 6,
              "Displacement": 225,
              "Horsepower": 100,
              "Miles_per_Gallon": 20,
              "Name": "dodge aspen se",
              "Origin": "USA",
              "Weight_in_lbs": 3651,
              "Year": "1976-01-01"
             },
             {
              "Acceleration": 21,
              "Cylinders": 6,
              "Displacement": 250,
              "Horsepower": 78,
              "Miles_per_Gallon": 18,
              "Name": "ford granada ghia",
              "Origin": "USA",
              "Weight_in_lbs": 3574,
              "Year": "1976-01-01"
             },
             {
              "Acceleration": 16.2,
              "Cylinders": 6,
              "Displacement": 250,
              "Horsepower": 110,
              "Miles_per_Gallon": 18.5,
              "Name": "pontiac ventura sj",
              "Origin": "USA",
              "Weight_in_lbs": 3645,
              "Year": "1976-01-01"
             },
             {
              "Acceleration": 17.8,
              "Cylinders": 6,
              "Displacement": 258,
              "Horsepower": 95,
              "Miles_per_Gallon": 17.5,
              "Name": "amc pacer d/l",
              "Origin": "USA",
              "Weight_in_lbs": 3193,
              "Year": "1976-01-01"
             },
             {
              "Acceleration": 12.2,
              "Cylinders": 4,
              "Displacement": 97,
              "Horsepower": 71,
              "Miles_per_Gallon": 29.5,
              "Name": "volkswagen rabbit",
              "Origin": "Europe",
              "Weight_in_lbs": 1825,
              "Year": "1976-01-01"
             },
             {
              "Acceleration": 17,
              "Cylinders": 4,
              "Displacement": 85,
              "Horsepower": 70,
              "Miles_per_Gallon": 32,
              "Name": "datsun b-210",
              "Origin": "Japan",
              "Weight_in_lbs": 1990,
              "Year": "1976-01-01"
             },
             {
              "Acceleration": 16.4,
              "Cylinders": 4,
              "Displacement": 97,
              "Horsepower": 75,
              "Miles_per_Gallon": 28,
              "Name": "toyota corolla",
              "Origin": "Japan",
              "Weight_in_lbs": 2155,
              "Year": "1976-01-01"
             },
             {
              "Acceleration": 13.6,
              "Cylinders": 4,
              "Displacement": 140,
              "Horsepower": 72,
              "Miles_per_Gallon": 26.5,
              "Name": "ford pinto",
              "Origin": "USA",
              "Weight_in_lbs": 2565,
              "Year": "1976-01-01"
             },
             {
              "Acceleration": 15.7,
              "Cylinders": 4,
              "Displacement": 130,
              "Horsepower": 102,
              "Miles_per_Gallon": 20,
              "Name": "volvo 245",
              "Origin": "Europe",
              "Weight_in_lbs": 3150,
              "Year": "1976-01-01"
             },
             {
              "Acceleration": 13.2,
              "Cylinders": 8,
              "Displacement": 318,
              "Horsepower": 150,
              "Miles_per_Gallon": 13,
              "Name": "plymouth volare premier v8",
              "Origin": "USA",
              "Weight_in_lbs": 3940,
              "Year": "1976-01-01"
             },
             {
              "Acceleration": 21.9,
              "Cylinders": 4,
              "Displacement": 120,
              "Horsepower": 88,
              "Miles_per_Gallon": 19,
              "Name": "peugeot 504",
              "Origin": "Europe",
              "Weight_in_lbs": 3270,
              "Year": "1976-01-01"
             },
             {
              "Acceleration": 15.5,
              "Cylinders": 6,
              "Displacement": 156,
              "Horsepower": 108,
              "Miles_per_Gallon": 19,
              "Name": "toyota mark ii",
              "Origin": "Japan",
              "Weight_in_lbs": 2930,
              "Year": "1976-01-01"
             },
             {
              "Acceleration": 16.7,
              "Cylinders": 6,
              "Displacement": 168,
              "Horsepower": 120,
              "Miles_per_Gallon": 16.5,
              "Name": "mercedes-benz 280s",
              "Origin": "Europe",
              "Weight_in_lbs": 3820,
              "Year": "1976-01-01"
             },
             {
              "Acceleration": 12.1,
              "Cylinders": 8,
              "Displacement": 350,
              "Horsepower": 180,
              "Miles_per_Gallon": 16.5,
              "Name": "cadillac seville",
              "Origin": "USA",
              "Weight_in_lbs": 4380,
              "Year": "1976-01-01"
             },
             {
              "Acceleration": 12,
              "Cylinders": 8,
              "Displacement": 350,
              "Horsepower": 145,
              "Miles_per_Gallon": 13,
              "Name": "chevy c10",
              "Origin": "USA",
              "Weight_in_lbs": 4055,
              "Year": "1976-01-01"
             },
             {
              "Acceleration": 15,
              "Cylinders": 8,
              "Displacement": 302,
              "Horsepower": 130,
              "Miles_per_Gallon": 13,
              "Name": "ford f108",
              "Origin": "USA",
              "Weight_in_lbs": 3870,
              "Year": "1976-01-01"
             },
             {
              "Acceleration": 14,
              "Cylinders": 8,
              "Displacement": 318,
              "Horsepower": 150,
              "Miles_per_Gallon": 13,
              "Name": "dodge d100",
              "Origin": "USA",
              "Weight_in_lbs": 3755,
              "Year": "1976-01-01"
             },
             {
              "Acceleration": 18.5,
              "Cylinders": 4,
              "Displacement": 98,
              "Horsepower": 68,
              "Miles_per_Gallon": 31.5,
              "Name": "honda Accelerationord cvcc",
              "Origin": "Japan",
              "Weight_in_lbs": 2045,
              "Year": "1977-01-01"
             },
             {
              "Acceleration": 14.8,
              "Cylinders": 4,
              "Displacement": 111,
              "Horsepower": 80,
              "Miles_per_Gallon": 30,
              "Name": "buick opel isuzu deluxe",
              "Origin": "USA",
              "Weight_in_lbs": 2155,
              "Year": "1977-01-01"
             },
             {
              "Acceleration": 18.6,
              "Cylinders": 4,
              "Displacement": 79,
              "Horsepower": 58,
              "Miles_per_Gallon": 36,
              "Name": "renault 5 gtl",
              "Origin": "Europe",
              "Weight_in_lbs": 1825,
              "Year": "1977-01-01"
             },
             {
              "Acceleration": 15.5,
              "Cylinders": 4,
              "Displacement": 122,
              "Horsepower": 96,
              "Miles_per_Gallon": 25.5,
              "Name": "plymouth arrow gs",
              "Origin": "USA",
              "Weight_in_lbs": 2300,
              "Year": "1977-01-01"
             },
             {
              "Acceleration": 16.8,
              "Cylinders": 4,
              "Displacement": 85,
              "Horsepower": 70,
              "Miles_per_Gallon": 33.5,
              "Name": "datsun f-10 hatchback",
              "Origin": "Japan",
              "Weight_in_lbs": 1945,
              "Year": "1977-01-01"
             },
             {
              "Acceleration": 12.5,
              "Cylinders": 8,
              "Displacement": 305,
              "Horsepower": 145,
              "Miles_per_Gallon": 17.5,
              "Name": "chevrolet caprice classic",
              "Origin": "USA",
              "Weight_in_lbs": 3880,
              "Year": "1977-01-01"
             },
             {
              "Acceleration": 19,
              "Cylinders": 8,
              "Displacement": 260,
              "Horsepower": 110,
              "Miles_per_Gallon": 17,
              "Name": "oldsmobile cutlass supreme",
              "Origin": "USA",
              "Weight_in_lbs": 4060,
              "Year": "1977-01-01"
             },
             {
              "Acceleration": 13.7,
              "Cylinders": 8,
              "Displacement": 318,
              "Horsepower": 145,
              "Miles_per_Gallon": 15.5,
              "Name": "dodge monaco brougham",
              "Origin": "USA",
              "Weight_in_lbs": 4140,
              "Year": "1977-01-01"
             },
             {
              "Acceleration": 14.9,
              "Cylinders": 8,
              "Displacement": 302,
              "Horsepower": 130,
              "Miles_per_Gallon": 15,
              "Name": "mercury cougar brougham",
              "Origin": "USA",
              "Weight_in_lbs": 4295,
              "Year": "1977-01-01"
             },
             {
              "Acceleration": 16.4,
              "Cylinders": 6,
              "Displacement": 250,
              "Horsepower": 110,
              "Miles_per_Gallon": 17.5,
              "Name": "chevrolet concours",
              "Origin": "USA",
              "Weight_in_lbs": 3520,
              "Year": "1977-01-01"
             },
             {
              "Acceleration": 16.9,
              "Cylinders": 6,
              "Displacement": 231,
              "Horsepower": 105,
              "Miles_per_Gallon": 20.5,
              "Name": "buick skylark",
              "Origin": "USA",
              "Weight_in_lbs": 3425,
              "Year": "1977-01-01"
             },
             {
              "Acceleration": 17.7,
              "Cylinders": 6,
              "Displacement": 225,
              "Horsepower": 100,
              "Miles_per_Gallon": 19,
              "Name": "plymouth volare custom",
              "Origin": "USA",
              "Weight_in_lbs": 3630,
              "Year": "1977-01-01"
             },
             {
              "Acceleration": 19,
              "Cylinders": 6,
              "Displacement": 250,
              "Horsepower": 98,
              "Miles_per_Gallon": 18.5,
              "Name": "ford granada",
              "Origin": "USA",
              "Weight_in_lbs": 3525,
              "Year": "1977-01-01"
             },
             {
              "Acceleration": 11.1,
              "Cylinders": 8,
              "Displacement": 400,
              "Horsepower": 180,
              "Miles_per_Gallon": 16,
              "Name": "pontiac grand prix lj",
              "Origin": "USA",
              "Weight_in_lbs": 4220,
              "Year": "1977-01-01"
             },
             {
              "Acceleration": 11.4,
              "Cylinders": 8,
              "Displacement": 350,
              "Horsepower": 170,
              "Miles_per_Gallon": 15.5,
              "Name": "chevrolet monte carlo landau",
              "Origin": "USA",
              "Weight_in_lbs": 4165,
              "Year": "1977-01-01"
             },
             {
              "Acceleration": 12.2,
              "Cylinders": 8,
              "Displacement": 400,
              "Horsepower": 190,
              "Miles_per_Gallon": 15.5,
              "Name": "chrysler cordoba",
              "Origin": "USA",
              "Weight_in_lbs": 4325,
              "Year": "1977-01-01"
             },
             {
              "Acceleration": 14.5,
              "Cylinders": 8,
              "Displacement": 351,
              "Horsepower": 149,
              "Miles_per_Gallon": 16,
              "Name": "ford thunderbird",
              "Origin": "USA",
              "Weight_in_lbs": 4335,
              "Year": "1977-01-01"
             },
             {
              "Acceleration": 14.5,
              "Cylinders": 4,
              "Displacement": 97,
              "Horsepower": 78,
              "Miles_per_Gallon": 29,
              "Name": "volkswagen rabbit custom",
              "Origin": "Europe",
              "Weight_in_lbs": 1940,
              "Year": "1977-01-01"
             },
             {
              "Acceleration": 16,
              "Cylinders": 4,
              "Displacement": 151,
              "Horsepower": 88,
              "Miles_per_Gallon": 24.5,
              "Name": "pontiac sunbird coupe",
              "Origin": "USA",
              "Weight_in_lbs": 2740,
              "Year": "1977-01-01"
             },
             {
              "Acceleration": 18.2,
              "Cylinders": 4,
              "Displacement": 97,
              "Horsepower": 75,
              "Miles_per_Gallon": 26,
              "Name": "toyota corolla liftback",
              "Origin": "Japan",
              "Weight_in_lbs": 2265,
              "Year": "1977-01-01"
             },
             {
              "Acceleration": 15.8,
              "Cylinders": 4,
              "Displacement": 140,
              "Horsepower": 89,
              "Miles_per_Gallon": 25.5,
              "Name": "ford mustang ii 2+2",
              "Origin": "USA",
              "Weight_in_lbs": 2755,
              "Year": "1977-01-01"
             },
             {
              "Acceleration": 17,
              "Cylinders": 4,
              "Displacement": 98,
              "Horsepower": 63,
              "Miles_per_Gallon": 30.5,
              "Name": "chevrolet chevette",
              "Origin": "USA",
              "Weight_in_lbs": 2051,
              "Year": "1977-01-01"
             },
             {
              "Acceleration": 15.9,
              "Cylinders": 4,
              "Displacement": 98,
              "Horsepower": 83,
              "Miles_per_Gallon": 33.5,
              "Name": "dodge colt m/m",
              "Origin": "USA",
              "Weight_in_lbs": 2075,
              "Year": "1977-01-01"
             },
             {
              "Acceleration": 16.4,
              "Cylinders": 4,
              "Displacement": 97,
              "Horsepower": 67,
              "Miles_per_Gallon": 30,
              "Name": "subaru dl",
              "Origin": "Japan",
              "Weight_in_lbs": 1985,
              "Year": "1977-01-01"
             },
             {
              "Acceleration": 14.1,
              "Cylinders": 4,
              "Displacement": 97,
              "Horsepower": 78,
              "Miles_per_Gallon": 30.5,
              "Name": "volkswagen dasher",
              "Origin": "Europe",
              "Weight_in_lbs": 2190,
              "Year": "1977-01-01"
             },
             {
              "Acceleration": 14.5,
              "Cylinders": 6,
              "Displacement": 146,
              "Horsepower": 97,
              "Miles_per_Gallon": 22,
              "Name": "datsun 810",
              "Origin": "Japan",
              "Weight_in_lbs": 2815,
              "Year": "1977-01-01"
             },
             {
              "Acceleration": 12.8,
              "Cylinders": 4,
              "Displacement": 121,
              "Horsepower": 110,
              "Miles_per_Gallon": 21.5,
              "Name": "bmw 320i",
              "Origin": "Europe",
              "Weight_in_lbs": 2600,
              "Year": "1977-01-01"
             },
             {
              "Acceleration": 13.5,
              "Cylinders": 3,
              "Displacement": 80,
              "Horsepower": 110,
              "Miles_per_Gallon": 21.5,
              "Name": "mazda rx-4",
              "Origin": "Japan",
              "Weight_in_lbs": 2720,
              "Year": "1977-01-01"
             },
             {
              "Acceleration": 21.5,
              "Cylinders": 4,
              "Displacement": 90,
              "Horsepower": 48,
              "Miles_per_Gallon": 43.1,
              "Name": "volkswagen rabbit custom diesel",
              "Origin": "Europe",
              "Weight_in_lbs": 1985,
              "Year": "1978-01-01"
             },
             {
              "Acceleration": 14.4,
              "Cylinders": 4,
              "Displacement": 98,
              "Horsepower": 66,
              "Miles_per_Gallon": 36.1,
              "Name": "ford fiesta",
              "Origin": "USA",
              "Weight_in_lbs": 1800,
              "Year": "1978-01-01"
             },
             {
              "Acceleration": 19.4,
              "Cylinders": 4,
              "Displacement": 78,
              "Horsepower": 52,
              "Miles_per_Gallon": 32.8,
              "Name": "mazda glc deluxe",
              "Origin": "Japan",
              "Weight_in_lbs": 1985,
              "Year": "1978-01-01"
             },
             {
              "Acceleration": 18.6,
              "Cylinders": 4,
              "Displacement": 85,
              "Horsepower": 70,
              "Miles_per_Gallon": 39.4,
              "Name": "datsun b210 gx",
              "Origin": "Japan",
              "Weight_in_lbs": 2070,
              "Year": "1978-01-01"
             },
             {
              "Acceleration": 16.4,
              "Cylinders": 4,
              "Displacement": 91,
              "Horsepower": 60,
              "Miles_per_Gallon": 36.1,
              "Name": "honda civic cvcc",
              "Origin": "Japan",
              "Weight_in_lbs": 1800,
              "Year": "1978-01-01"
             },
             {
              "Acceleration": 15.5,
              "Cylinders": 8,
              "Displacement": 260,
              "Horsepower": 110,
              "Miles_per_Gallon": 19.9,
              "Name": "oldsmobile cutlass salon brougham",
              "Origin": "USA",
              "Weight_in_lbs": 3365,
              "Year": "1978-01-01"
             },
             {
              "Acceleration": 13.2,
              "Cylinders": 8,
              "Displacement": 318,
              "Horsepower": 140,
              "Miles_per_Gallon": 19.4,
              "Name": "dodge diplomat",
              "Origin": "USA",
              "Weight_in_lbs": 3735,
              "Year": "1978-01-01"
             },
             {
              "Acceleration": 12.8,
              "Cylinders": 8,
              "Displacement": 302,
              "Horsepower": 139,
              "Miles_per_Gallon": 20.2,
              "Name": "mercury monarch ghia",
              "Origin": "USA",
              "Weight_in_lbs": 3570,
              "Year": "1978-01-01"
             },
             {
              "Acceleration": 19.2,
              "Cylinders": 6,
              "Displacement": 231,
              "Horsepower": 105,
              "Miles_per_Gallon": 19.2,
              "Name": "pontiac phoenix lj",
              "Origin": "USA",
              "Weight_in_lbs": 3535,
              "Year": "1978-01-01"
             },
             {
              "Acceleration": 18.2,
              "Cylinders": 6,
              "Displacement": 200,
              "Horsepower": 95,
              "Miles_per_Gallon": 20.5,
              "Name": "chevrolet malibu",
              "Origin": "USA",
              "Weight_in_lbs": 3155,
              "Year": "1978-01-01"
             },
             {
              "Acceleration": 15.8,
              "Cylinders": 6,
              "Displacement": 200,
              "Horsepower": 85,
              "Miles_per_Gallon": 20.2,
              "Name": "ford fairmont (auto)",
              "Origin": "USA",
              "Weight_in_lbs": 2965,
              "Year": "1978-01-01"
             },
             {
              "Acceleration": 15.4,
              "Cylinders": 4,
              "Displacement": 140,
              "Horsepower": 88,
              "Miles_per_Gallon": 25.1,
              "Name": "ford fairmont (man)",
              "Origin": "USA",
              "Weight_in_lbs": 2720,
              "Year": "1978-01-01"
             },
             {
              "Acceleration": 17.2,
              "Cylinders": 6,
              "Displacement": 225,
              "Horsepower": 100,
              "Miles_per_Gallon": 20.5,
              "Name": "plymouth volare",
              "Origin": "USA",
              "Weight_in_lbs": 3430,
              "Year": "1978-01-01"
             },
             {
              "Acceleration": 17.2,
              "Cylinders": 6,
              "Displacement": 232,
              "Horsepower": 90,
              "Miles_per_Gallon": 19.4,
              "Name": "amc concord",
              "Origin": "USA",
              "Weight_in_lbs": 3210,
              "Year": "1978-01-01"
             },
             {
              "Acceleration": 15.8,
              "Cylinders": 6,
              "Displacement": 231,
              "Horsepower": 105,
              "Miles_per_Gallon": 20.6,
              "Name": "buick century special",
              "Origin": "USA",
              "Weight_in_lbs": 3380,
              "Year": "1978-01-01"
             },
             {
              "Acceleration": 16.7,
              "Cylinders": 6,
              "Displacement": 200,
              "Horsepower": 85,
              "Miles_per_Gallon": 20.8,
              "Name": "mercury zephyr",
              "Origin": "USA",
              "Weight_in_lbs": 3070,
              "Year": "1978-01-01"
             },
             {
              "Acceleration": 18.7,
              "Cylinders": 6,
              "Displacement": 225,
              "Horsepower": 110,
              "Miles_per_Gallon": 18.6,
              "Name": "dodge aspen",
              "Origin": "USA",
              "Weight_in_lbs": 3620,
              "Year": "1978-01-01"
             },
             {
              "Acceleration": 15.1,
              "Cylinders": 6,
              "Displacement": 258,
              "Horsepower": 120,
              "Miles_per_Gallon": 18.1,
              "Name": "amc concord d/l",
              "Origin": "USA",
              "Weight_in_lbs": 3410,
              "Year": "1978-01-01"
             },
             {
              "Acceleration": 13.2,
              "Cylinders": 8,
              "Displacement": 305,
              "Horsepower": 145,
              "Miles_per_Gallon": 19.2,
              "Name": "chevrolet monte carlo landau",
              "Origin": "USA",
              "Weight_in_lbs": 3425,
              "Year": "1978-01-01"
             },
             {
              "Acceleration": 13.4,
              "Cylinders": 6,
              "Displacement": 231,
              "Horsepower": 165,
              "Miles_per_Gallon": 17.7,
              "Name": "buick regal sport coupe (turbo)",
              "Origin": "USA",
              "Weight_in_lbs": 3445,
              "Year": "1978-01-01"
             },
             {
              "Acceleration": 11.2,
              "Cylinders": 8,
              "Displacement": 302,
              "Horsepower": 139,
              "Miles_per_Gallon": 18.1,
              "Name": "ford futura",
              "Origin": "USA",
              "Weight_in_lbs": 3205,
              "Year": "1978-01-01"
             },
             {
              "Acceleration": 13.7,
              "Cylinders": 8,
              "Displacement": 318,
              "Horsepower": 140,
              "Miles_per_Gallon": 17.5,
              "Name": "dodge magnum xe",
              "Origin": "USA",
              "Weight_in_lbs": 4080,
              "Year": "1978-01-01"
             },
             {
              "Acceleration": 16.5,
              "Cylinders": 4,
              "Displacement": 98,
              "Horsepower": 68,
              "Miles_per_Gallon": 30,
              "Name": "chevrolet chevette",
              "Origin": "USA",
              "Weight_in_lbs": 2155,
              "Year": "1978-01-01"
             },
             {
              "Acceleration": 14.2,
              "Cylinders": 4,
              "Displacement": 134,
              "Horsepower": 95,
              "Miles_per_Gallon": 27.5,
              "Name": "toyota corona",
              "Origin": "Japan",
              "Weight_in_lbs": 2560,
              "Year": "1978-01-01"
             },
             {
              "Acceleration": 14.7,
              "Cylinders": 4,
              "Displacement": 119,
              "Horsepower": 97,
              "Miles_per_Gallon": 27.2,
              "Name": "datsun 510",
              "Origin": "Japan",
              "Weight_in_lbs": 2300,
              "Year": "1978-01-01"
             },
             {
              "Acceleration": 14.5,
              "Cylinders": 4,
              "Displacement": 105,
              "Horsepower": 75,
              "Miles_per_Gallon": 30.9,
              "Name": "dodge omni",
              "Origin": "USA",
              "Weight_in_lbs": 2230,
              "Year": "1978-01-01"
             },
             {
              "Acceleration": 14.8,
              "Cylinders": 4,
              "Displacement": 134,
              "Horsepower": 95,
              "Miles_per_Gallon": 21.1,
              "Name": "toyota celica gt liftback",
              "Origin": "Japan",
              "Weight_in_lbs": 2515,
              "Year": "1978-01-01"
             },
             {
              "Acceleration": 16.7,
              "Cylinders": 4,
              "Displacement": 156,
              "Horsepower": 105,
              "Miles_per_Gallon": 23.2,
              "Name": "plymouth sapporo",
              "Origin": "USA",
              "Weight_in_lbs": 2745,
              "Year": "1978-01-01"
             },
             {
              "Acceleration": 17.6,
              "Cylinders": 4,
              "Displacement": 151,
              "Horsepower": 85,
              "Miles_per_Gallon": 23.8,
              "Name": "oldsmobile starfire sx",
              "Origin": "USA",
              "Weight_in_lbs": 2855,
              "Year": "1978-01-01"
             },
             {
              "Acceleration": 14.9,
              "Cylinders": 4,
              "Displacement": 119,
              "Horsepower": 97,
              "Miles_per_Gallon": 23.9,
              "Name": "datsun 200-sx",
              "Origin": "Japan",
              "Weight_in_lbs": 2405,
              "Year": "1978-01-01"
             },
             {
              "Acceleration": 15.9,
              "Cylinders": 5,
              "Displacement": 131,
              "Horsepower": 103,
              "Miles_per_Gallon": 20.3,
              "Name": "audi 5000",
              "Origin": "Europe",
              "Weight_in_lbs": 2830,
              "Year": "1978-01-01"
             },
             {
              "Acceleration": 13.6,
              "Cylinders": 6,
              "Displacement": 163,
              "Horsepower": 125,
              "Miles_per_Gallon": 17,
              "Name": "volvo 264gl",
              "Origin": "Europe",
              "Weight_in_lbs": 3140,
              "Year": "1978-01-01"
             },
             {
              "Acceleration": 15.7,
              "Cylinders": 4,
              "Displacement": 121,
              "Horsepower": 115,
              "Miles_per_Gallon": 21.6,
              "Name": "saab 99gle",
              "Origin": "Europe",
              "Weight_in_lbs": 2795,
              "Year": "1978-01-01"
             },
             {
              "Acceleration": 15.8,
              "Cylinders": 6,
              "Displacement": 163,
              "Horsepower": 133,
              "Miles_per_Gallon": 16.2,
              "Name": "peugeot 604sl",
              "Origin": "Europe",
              "Weight_in_lbs": 3410,
              "Year": "1978-01-01"
             },
             {
              "Acceleration": 14.9,
              "Cylinders": 4,
              "Displacement": 89,
              "Horsepower": 71,
              "Miles_per_Gallon": 31.5,
              "Name": "volkswagen scirocco",
              "Origin": "Europe",
              "Weight_in_lbs": 1990,
              "Year": "1978-01-01"
             },
             {
              "Acceleration": 16.6,
              "Cylinders": 4,
              "Displacement": 98,
              "Horsepower": 68,
              "Miles_per_Gallon": 29.5,
              "Name": "honda Accelerationord lx",
              "Origin": "Japan",
              "Weight_in_lbs": 2135,
              "Year": "1978-01-01"
             },
             {
              "Acceleration": 15.4,
              "Cylinders": 6,
              "Displacement": 231,
              "Horsepower": 115,
              "Miles_per_Gallon": 21.5,
              "Name": "pontiac lemans v6",
              "Origin": "USA",
              "Weight_in_lbs": 3245,
              "Year": "1979-01-01"
             },
             {
              "Acceleration": 18.2,
              "Cylinders": 6,
              "Displacement": 200,
              "Horsepower": 85,
              "Miles_per_Gallon": 19.8,
              "Name": "mercury zephyr 6",
              "Origin": "USA",
              "Weight_in_lbs": 2990,
              "Year": "1979-01-01"
             },
             {
              "Acceleration": 17.3,
              "Cylinders": 4,
              "Displacement": 140,
              "Horsepower": 88,
              "Miles_per_Gallon": 22.3,
              "Name": "ford fairmont 4",
              "Origin": "USA",
              "Weight_in_lbs": 2890,
              "Year": "1979-01-01"
             },
             {
              "Acceleration": 18.2,
              "Cylinders": 6,
              "Displacement": 232,
              "Horsepower": 90,
              "Miles_per_Gallon": 20.2,
              "Name": "amc concord dl 6",
              "Origin": "USA",
              "Weight_in_lbs": 3265,
              "Year": "1979-01-01"
             },
             {
              "Acceleration": 16.6,
              "Cylinders": 6,
              "Displacement": 225,
              "Horsepower": 110,
              "Miles_per_Gallon": 20.6,
              "Name": "dodge aspen 6",
              "Origin": "USA",
              "Weight_in_lbs": 3360,
              "Year": "1979-01-01"
             },
             {
              "Acceleration": 15.4,
              "Cylinders": 8,
              "Displacement": 305,
              "Horsepower": 130,
              "Miles_per_Gallon": 17,
              "Name": "chevrolet caprice classic",
              "Origin": "USA",
              "Weight_in_lbs": 3840,
              "Year": "1979-01-01"
             },
             {
              "Acceleration": 13.4,
              "Cylinders": 8,
              "Displacement": 302,
              "Horsepower": 129,
              "Miles_per_Gallon": 17.6,
              "Name": "ford ltd landau",
              "Origin": "USA",
              "Weight_in_lbs": 3725,
              "Year": "1979-01-01"
             },
             {
              "Acceleration": 13.2,
              "Cylinders": 8,
              "Displacement": 351,
              "Horsepower": 138,
              "Miles_per_Gallon": 16.5,
              "Name": "mercury grand marquis",
              "Origin": "USA",
              "Weight_in_lbs": 3955,
              "Year": "1979-01-01"
             },
             {
              "Acceleration": 15.2,
              "Cylinders": 8,
              "Displacement": 318,
              "Horsepower": 135,
              "Miles_per_Gallon": 18.2,
              "Name": "dodge st. regis",
              "Origin": "USA",
              "Weight_in_lbs": 3830,
              "Year": "1979-01-01"
             },
             {
              "Acceleration": 14.9,
              "Cylinders": 8,
              "Displacement": 350,
              "Horsepower": 155,
              "Miles_per_Gallon": 16.9,
              "Name": "buick estate wagon (sw)",
              "Origin": "USA",
              "Weight_in_lbs": 4360,
              "Year": "1979-01-01"
             },
             {
              "Acceleration": 14.3,
              "Cylinders": 8,
              "Displacement": 351,
              "Horsepower": 142,
              "Miles_per_Gallon": 15.5,
              "Name": "ford country squire (sw)",
              "Origin": "USA",
              "Weight_in_lbs": 4054,
              "Year": "1979-01-01"
             },
             {
              "Acceleration": 15,
              "Cylinders": 8,
              "Displacement": 267,
              "Horsepower": 125,
              "Miles_per_Gallon": 19.2,
              "Name": "chevrolet malibu classic (sw)",
              "Origin": "USA",
              "Weight_in_lbs": 3605,
              "Year": "1979-01-01"
             },
             {
              "Acceleration": 13,
              "Cylinders": 8,
              "Displacement": 360,
              "Horsepower": 150,
              "Miles_per_Gallon": 18.5,
              "Name": "chrysler lebaron town @ country (sw)",
              "Origin": "USA",
              "Weight_in_lbs": 3940,
              "Year": "1979-01-01"
             },
             {
              "Acceleration": 14,
              "Cylinders": 4,
              "Displacement": 89,
              "Horsepower": 71,
              "Miles_per_Gallon": 31.9,
              "Name": "vw rabbit custom",
              "Origin": "Europe",
              "Weight_in_lbs": 1925,
              "Year": "1979-01-01"
             },
             {
              "Acceleration": 15.2,
              "Cylinders": 4,
              "Displacement": 86,
              "Horsepower": 65,
              "Miles_per_Gallon": 34.1,
              "Name": "maxda glc deluxe",
              "Origin": "Japan",
              "Weight_in_lbs": 1975,
              "Year": "1979-01-01"
             },
             {
              "Acceleration": 14.4,
              "Cylinders": 4,
              "Displacement": 98,
              "Horsepower": 80,
              "Miles_per_Gallon": 35.7,
              "Name": "dodge colt hatchback custom",
              "Origin": "USA",
              "Weight_in_lbs": 1915,
              "Year": "1979-01-01"
             },
             {
              "Acceleration": 15,
              "Cylinders": 4,
              "Displacement": 121,
              "Horsepower": 80,
              "Miles_per_Gallon": 27.4,
              "Name": "amc spirit dl",
              "Origin": "USA",
              "Weight_in_lbs": 2670,
              "Year": "1979-01-01"
             },
             {
              "Acceleration": 20.1,
              "Cylinders": 5,
              "Displacement": 183,
              "Horsepower": 77,
              "Miles_per_Gallon": 25.4,
              "Name": "mercedes benz 300d",
              "Origin": "Europe",
              "Weight_in_lbs": 3530,
              "Year": "1979-01-01"
             },
             {
              "Acceleration": 17.4,
              "Cylinders": 8,
              "Displacement": 350,
              "Horsepower": 125,
              "Miles_per_Gallon": 23,
              "Name": "cadillac eldorado",
              "Origin": "USA",
              "Weight_in_lbs": 3900,
              "Year": "1979-01-01"
             },
             {
              "Acceleration": 24.8,
              "Cylinders": 4,
              "Displacement": 141,
              "Horsepower": 71,
              "Miles_per_Gallon": 27.2,
              "Name": "peugeot 504",
              "Origin": "Europe",
              "Weight_in_lbs": 3190,
              "Year": "1979-01-01"
             },
             {
              "Acceleration": 22.2,
              "Cylinders": 8,
              "Displacement": 260,
              "Horsepower": 90,
              "Miles_per_Gallon": 23.9,
              "Name": "oldsmobile cutlass salon brougham",
              "Origin": "USA",
              "Weight_in_lbs": 3420,
              "Year": "1979-01-01"
             },
             {
              "Acceleration": 13.2,
              "Cylinders": 4,
              "Displacement": 105,
              "Horsepower": 70,
              "Miles_per_Gallon": 34.2,
              "Name": "plymouth horizon",
              "Origin": "USA",
              "Weight_in_lbs": 2200,
              "Year": "1979-01-01"
             },
             {
              "Acceleration": 14.9,
              "Cylinders": 4,
              "Displacement": 105,
              "Horsepower": 70,
              "Miles_per_Gallon": 34.5,
              "Name": "plymouth horizon tc3",
              "Origin": "USA",
              "Weight_in_lbs": 2150,
              "Year": "1979-01-01"
             },
             {
              "Acceleration": 19.2,
              "Cylinders": 4,
              "Displacement": 85,
              "Horsepower": 65,
              "Miles_per_Gallon": 31.8,
              "Name": "datsun 210",
              "Origin": "Japan",
              "Weight_in_lbs": 2020,
              "Year": "1979-01-01"
             },
             {
              "Acceleration": 14.7,
              "Cylinders": 4,
              "Displacement": 91,
              "Horsepower": 69,
              "Miles_per_Gallon": 37.3,
              "Name": "fiat strada custom",
              "Origin": "Europe",
              "Weight_in_lbs": 2130,
              "Year": "1979-01-01"
             },
             {
              "Acceleration": 16,
              "Cylinders": 4,
              "Displacement": 151,
              "Horsepower": 90,
              "Miles_per_Gallon": 28.4,
              "Name": "buick skylark limited",
              "Origin": "USA",
              "Weight_in_lbs": 2670,
              "Year": "1979-01-01"
             },
             {
              "Acceleration": 11.3,
              "Cylinders": 6,
              "Displacement": 173,
              "Horsepower": 115,
              "Miles_per_Gallon": 28.8,
              "Name": "chevrolet citation",
              "Origin": "USA",
              "Weight_in_lbs": 2595,
              "Year": "1979-01-01"
             },
             {
              "Acceleration": 12.9,
              "Cylinders": 6,
              "Displacement": 173,
              "Horsepower": 115,
              "Miles_per_Gallon": 26.8,
              "Name": "oldsmobile omega brougham",
              "Origin": "USA",
              "Weight_in_lbs": 2700,
              "Year": "1979-01-01"
             },
             {
              "Acceleration": 13.2,
              "Cylinders": 4,
              "Displacement": 151,
              "Horsepower": 90,
              "Miles_per_Gallon": 33.5,
              "Name": "pontiac phoenix",
              "Origin": "USA",
              "Weight_in_lbs": 2556,
              "Year": "1979-01-01"
             },
             {
              "Acceleration": 14.7,
              "Cylinders": 4,
              "Displacement": 98,
              "Horsepower": 76,
              "Miles_per_Gallon": 41.5,
              "Name": "vw rabbit",
              "Origin": "Europe",
              "Weight_in_lbs": 2144,
              "Year": "1980-01-01"
             },
             {
              "Acceleration": 18.8,
              "Cylinders": 4,
              "Displacement": 89,
              "Horsepower": 60,
              "Miles_per_Gallon": 38.1,
              "Name": "toyota corolla tercel",
              "Origin": "Japan",
              "Weight_in_lbs": 1968,
              "Year": "1980-01-01"
             },
             {
              "Acceleration": 15.5,
              "Cylinders": 4,
              "Displacement": 98,
              "Horsepower": 70,
              "Miles_per_Gallon": 32.1,
              "Name": "chevrolet chevette",
              "Origin": "USA",
              "Weight_in_lbs": 2120,
              "Year": "1980-01-01"
             },
             {
              "Acceleration": 16.4,
              "Cylinders": 4,
              "Displacement": 86,
              "Horsepower": 65,
              "Miles_per_Gallon": 37.2,
              "Name": "datsun 310",
              "Origin": "Japan",
              "Weight_in_lbs": 2019,
              "Year": "1980-01-01"
             },
             {
              "Acceleration": 16.5,
              "Cylinders": 4,
              "Displacement": 151,
              "Horsepower": 90,
              "Miles_per_Gallon": 28,
              "Name": "chevrolet citation",
              "Origin": "USA",
              "Weight_in_lbs": 2678,
              "Year": "1980-01-01"
             },
             {
              "Acceleration": 18.1,
              "Cylinders": 4,
              "Displacement": 140,
              "Horsepower": 88,
              "Miles_per_Gallon": 26.4,
              "Name": "ford fairmont",
              "Origin": "USA",
              "Weight_in_lbs": 2870,
              "Year": "1980-01-01"
             },
             {
              "Acceleration": 20.1,
              "Cylinders": 4,
              "Displacement": 151,
              "Horsepower": 90,
              "Miles_per_Gallon": 24.3,
              "Name": "amc concord",
              "Origin": "USA",
              "Weight_in_lbs": 3003,
              "Year": "1980-01-01"
             },
             {
              "Acceleration": 18.7,
              "Cylinders": 6,
              "Displacement": 225,
              "Horsepower": 90,
              "Miles_per_Gallon": 19.1,
              "Name": "dodge aspen",
              "Origin": "USA",
              "Weight_in_lbs": 3381,
              "Year": "1980-01-01"
             },
             {
              "Acceleration": 15.8,
              "Cylinders": 4,
              "Displacement": 97,
              "Horsepower": 78,
              "Miles_per_Gallon": 34.3,
              "Name": "audi 4000",
              "Origin": "Europe",
              "Weight_in_lbs": 2188,
              "Year": "1980-01-01"
             },
             {
              "Acceleration": 15.5,
              "Cylinders": 4,
              "Displacement": 134,
              "Horsepower": 90,
              "Miles_per_Gallon": 29.8,
              "Name": "toyota corona liftback",
              "Origin": "Japan",
              "Weight_in_lbs": 2711,
              "Year": "1980-01-01"
             },
             {
              "Acceleration": 17.5,
              "Cylinders": 4,
              "Displacement": 120,
              "Horsepower": 75,
              "Miles_per_Gallon": 31.3,
              "Name": "mazda 626",
              "Origin": "Japan",
              "Weight_in_lbs": 2542,
              "Year": "1980-01-01"
             },
             {
              "Acceleration": 15,
              "Cylinders": 4,
              "Displacement": 119,
              "Horsepower": 92,
              "Miles_per_Gallon": 37,
              "Name": "datsun 510 hatchback",
              "Origin": "Japan",
              "Weight_in_lbs": 2434,
              "Year": "1980-01-01"
             },
             {
              "Acceleration": 15.2,
              "Cylinders": 4,
              "Displacement": 108,
              "Horsepower": 75,
              "Miles_per_Gallon": 32.2,
              "Name": "toyota corolla",
              "Origin": "Japan",
              "Weight_in_lbs": 2265,
              "Year": "1980-01-01"
             },
             {
              "Acceleration": 17.9,
              "Cylinders": 4,
              "Displacement": 86,
              "Horsepower": 65,
              "Miles_per_Gallon": 46.6,
              "Name": "mazda glc",
              "Origin": "Japan",
              "Weight_in_lbs": 2110,
              "Year": "1980-01-01"
             },
             {
              "Acceleration": 14.4,
              "Cylinders": 4,
              "Displacement": 156,
              "Horsepower": 105,
              "Miles_per_Gallon": 27.9,
              "Name": "dodge colt",
              "Origin": "USA",
              "Weight_in_lbs": 2800,
              "Year": "1980-01-01"
             },
             {
              "Acceleration": 19.2,
              "Cylinders": 4,
              "Displacement": 85,
              "Horsepower": 65,
              "Miles_per_Gallon": 40.8,
              "Name": "datsun 210",
              "Origin": "Japan",
              "Weight_in_lbs": 2110,
              "Year": "1980-01-01"
             },
             {
              "Acceleration": 21.7,
              "Cylinders": 4,
              "Displacement": 90,
              "Horsepower": 48,
              "Miles_per_Gallon": 44.3,
              "Name": "vw rabbit c (diesel)",
              "Origin": "Europe",
              "Weight_in_lbs": 2085,
              "Year": "1980-01-01"
             },
             {
              "Acceleration": 23.7,
              "Cylinders": 4,
              "Displacement": 90,
              "Horsepower": 48,
              "Miles_per_Gallon": 43.4,
              "Name": "vw dasher (diesel)",
              "Origin": "Europe",
              "Weight_in_lbs": 2335,
              "Year": "1980-01-01"
             },
             {
              "Acceleration": 19.9,
              "Cylinders": 5,
              "Displacement": 121,
              "Horsepower": 67,
              "Miles_per_Gallon": 36.4,
              "Name": "audi 5000s (diesel)",
              "Origin": "Europe",
              "Weight_in_lbs": 2950,
              "Year": "1980-01-01"
             },
             {
              "Acceleration": 21.8,
              "Cylinders": 4,
              "Displacement": 146,
              "Horsepower": 67,
              "Miles_per_Gallon": 30,
              "Name": "mercedes-benz 240d",
              "Origin": "Europe",
              "Weight_in_lbs": 3250,
              "Year": "1980-01-01"
             },
             {
              "Acceleration": 13.8,
              "Cylinders": 4,
              "Displacement": 91,
              "Horsepower": 67,
              "Miles_per_Gallon": 44.6,
              "Name": "honda civic 1500 gl",
              "Origin": "Japan",
              "Weight_in_lbs": 1850,
              "Year": "1980-01-01"
             },
             {
              "Acceleration": 17.3,
              "Cylinders": 4,
              "Displacement": 85,
              "Horsepower": null,
              "Miles_per_Gallon": 40.9,
              "Name": "renault lecar deluxe",
              "Origin": "Europe",
              "Weight_in_lbs": 1835,
              "Year": "1980-01-01"
             },
             {
              "Acceleration": 18,
              "Cylinders": 4,
              "Displacement": 97,
              "Horsepower": 67,
              "Miles_per_Gallon": 33.8,
              "Name": "subaru dl",
              "Origin": "Japan",
              "Weight_in_lbs": 2145,
              "Year": "1980-01-01"
             },
             {
              "Acceleration": 15.3,
              "Cylinders": 4,
              "Displacement": 89,
              "Horsepower": 62,
              "Miles_per_Gallon": 29.8,
              "Name": "vokswagen rabbit",
              "Origin": "Europe",
              "Weight_in_lbs": 1845,
              "Year": "1980-01-01"
             },
             {
              "Acceleration": 11.4,
              "Cylinders": 6,
              "Displacement": 168,
              "Horsepower": 132,
              "Miles_per_Gallon": 32.7,
              "Name": "datsun 280-zx",
              "Origin": "Japan",
              "Weight_in_lbs": 2910,
              "Year": "1980-01-01"
             },
             {
              "Acceleration": 12.5,
              "Cylinders": 3,
              "Displacement": 70,
              "Horsepower": 100,
              "Miles_per_Gallon": 23.7,
              "Name": "mazda rx-7 gs",
              "Origin": "Japan",
              "Weight_in_lbs": 2420,
              "Year": "1980-01-01"
             },
             {
              "Acceleration": 15.1,
              "Cylinders": 4,
              "Displacement": 122,
              "Horsepower": 88,
              "Miles_per_Gallon": 35,
              "Name": "triumph tr7 coupe",
              "Origin": "Europe",
              "Weight_in_lbs": 2500,
              "Year": "1980-01-01"
             },
             {
              "Acceleration": 14.3,
              "Cylinders": 4,
              "Displacement": 140,
              "Horsepower": null,
              "Miles_per_Gallon": 23.6,
              "Name": "ford mustang cobra",
              "Origin": "USA",
              "Weight_in_lbs": 2905,
              "Year": "1980-01-01"
             },
             {
              "Acceleration": 17,
              "Cylinders": 4,
              "Displacement": 107,
              "Horsepower": 72,
              "Miles_per_Gallon": 32.4,
              "Name": "honda Accelerationord",
              "Origin": "Japan",
              "Weight_in_lbs": 2290,
              "Year": "1980-01-01"
             },
             {
              "Acceleration": 15.7,
              "Cylinders": 4,
              "Displacement": 135,
              "Horsepower": 84,
              "Miles_per_Gallon": 27.2,
              "Name": "plymouth reliant",
              "Origin": "USA",
              "Weight_in_lbs": 2490,
              "Year": "1982-01-01"
             },
             {
              "Acceleration": 16.4,
              "Cylinders": 4,
              "Displacement": 151,
              "Horsepower": 84,
              "Miles_per_Gallon": 26.6,
              "Name": "buick skylark",
              "Origin": "USA",
              "Weight_in_lbs": 2635,
              "Year": "1982-01-01"
             },
             {
              "Acceleration": 14.4,
              "Cylinders": 4,
              "Displacement": 156,
              "Horsepower": 92,
              "Miles_per_Gallon": 25.8,
              "Name": "dodge aries wagon (sw)",
              "Origin": "USA",
              "Weight_in_lbs": 2620,
              "Year": "1982-01-01"
             },
             {
              "Acceleration": 12.6,
              "Cylinders": 6,
              "Displacement": 173,
              "Horsepower": 110,
              "Miles_per_Gallon": 23.5,
              "Name": "chevrolet citation",
              "Origin": "USA",
              "Weight_in_lbs": 2725,
              "Year": "1982-01-01"
             },
             {
              "Acceleration": 12.9,
              "Cylinders": 4,
              "Displacement": 135,
              "Horsepower": 84,
              "Miles_per_Gallon": 30,
              "Name": "plymouth reliant",
              "Origin": "USA",
              "Weight_in_lbs": 2385,
              "Year": "1982-01-01"
             },
             {
              "Acceleration": 16.9,
              "Cylinders": 4,
              "Displacement": 79,
              "Horsepower": 58,
              "Miles_per_Gallon": 39.1,
              "Name": "toyota starlet",
              "Origin": "Japan",
              "Weight_in_lbs": 1755,
              "Year": "1982-01-01"
             },
             {
              "Acceleration": 16.4,
              "Cylinders": 4,
              "Displacement": 86,
              "Horsepower": 64,
              "Miles_per_Gallon": 39,
              "Name": "plymouth champ",
              "Origin": "USA",
              "Weight_in_lbs": 1875,
              "Year": "1982-01-01"
             },
             {
              "Acceleration": 16.1,
              "Cylinders": 4,
              "Displacement": 81,
              "Horsepower": 60,
              "Miles_per_Gallon": 35.1,
              "Name": "honda civic 1300",
              "Origin": "Japan",
              "Weight_in_lbs": 1760,
              "Year": "1982-01-01"
             },
             {
              "Acceleration": 17.8,
              "Cylinders": 4,
              "Displacement": 97,
              "Horsepower": 67,
              "Miles_per_Gallon": 32.3,
              "Name": "subaru",
              "Origin": "Japan",
              "Weight_in_lbs": 2065,
              "Year": "1982-01-01"
             },
             {
              "Acceleration": 19.4,
              "Cylinders": 4,
              "Displacement": 85,
              "Horsepower": 65,
              "Miles_per_Gallon": 37,
              "Name": "datsun 210",
              "Origin": "Japan",
              "Weight_in_lbs": 1975,
              "Year": "1982-01-01"
             },
             {
              "Acceleration": 17.3,
              "Cylinders": 4,
              "Displacement": 89,
              "Horsepower": 62,
              "Miles_per_Gallon": 37.7,
              "Name": "toyota tercel",
              "Origin": "Japan",
              "Weight_in_lbs": 2050,
              "Year": "1982-01-01"
             },
             {
              "Acceleration": 16,
              "Cylinders": 4,
              "Displacement": 91,
              "Horsepower": 68,
              "Miles_per_Gallon": 34.1,
              "Name": "mazda glc 4",
              "Origin": "Japan",
              "Weight_in_lbs": 1985,
              "Year": "1982-01-01"
             },
             {
              "Acceleration": 14.9,
              "Cylinders": 4,
              "Displacement": 105,
              "Horsepower": 63,
              "Miles_per_Gallon": 34.7,
              "Name": "plymouth horizon 4",
              "Origin": "USA",
              "Weight_in_lbs": 2215,
              "Year": "1982-01-01"
             },
             {
              "Acceleration": 16.2,
              "Cylinders": 4,
              "Displacement": 98,
              "Horsepower": 65,
              "Miles_per_Gallon": 34.4,
              "Name": "ford escort 4w",
              "Origin": "USA",
              "Weight_in_lbs": 2045,
              "Year": "1982-01-01"
             },
             {
              "Acceleration": 20.7,
              "Cylinders": 4,
              "Displacement": 98,
              "Horsepower": 65,
              "Miles_per_Gallon": 29.9,
              "Name": "ford escort 2h",
              "Origin": "USA",
              "Weight_in_lbs": 2380,
              "Year": "1982-01-01"
             },
             {
              "Acceleration": 14.2,
              "Cylinders": 4,
              "Displacement": 105,
              "Horsepower": 74,
              "Miles_per_Gallon": 33,
              "Name": "volkswagen jetta",
              "Origin": "Europe",
              "Weight_in_lbs": 2190,
              "Year": "1982-01-01"
             },
             {
              "Acceleration": 15.8,
              "Cylinders": 4,
              "Displacement": 100,
              "Horsepower": null,
              "Miles_per_Gallon": 34.5,
              "Name": "renault 18i",
              "Origin": "Europe",
              "Weight_in_lbs": 2320,
              "Year": "1982-01-01"
             },
             {
              "Acceleration": 14.4,
              "Cylinders": 4,
              "Displacement": 107,
              "Horsepower": 75,
              "Miles_per_Gallon": 33.7,
              "Name": "honda prelude",
              "Origin": "Japan",
              "Weight_in_lbs": 2210,
              "Year": "1982-01-01"
             },
             {
              "Acceleration": 16.8,
              "Cylinders": 4,
              "Displacement": 108,
              "Horsepower": 75,
              "Miles_per_Gallon": 32.4,
              "Name": "toyota corolla",
              "Origin": "Japan",
              "Weight_in_lbs": 2350,
              "Year": "1982-01-01"
             },
             {
              "Acceleration": 14.8,
              "Cylinders": 4,
              "Displacement": 119,
              "Horsepower": 100,
              "Miles_per_Gallon": 32.9,
              "Name": "datsun 200sx",
              "Origin": "Japan",
              "Weight_in_lbs": 2615,
              "Year": "1982-01-01"
             },
             {
              "Acceleration": 18.3,
              "Cylinders": 4,
              "Displacement": 120,
              "Horsepower": 74,
              "Miles_per_Gallon": 31.6,
              "Name": "mazda 626",
              "Origin": "Japan",
              "Weight_in_lbs": 2635,
              "Year": "1982-01-01"
             },
             {
              "Acceleration": 20.4,
              "Cylinders": 4,
              "Displacement": 141,
              "Horsepower": 80,
              "Miles_per_Gallon": 28.1,
              "Name": "peugeot 505s turbo diesel",
              "Origin": "Europe",
              "Weight_in_lbs": 3230,
              "Year": "1982-01-01"
             },
             {
              "Acceleration": 15.4,
              "Cylinders": 4,
              "Displacement": 121,
              "Horsepower": 110,
              "Miles_per_Gallon": null,
              "Name": "saab 900s",
              "Origin": "Europe",
              "Weight_in_lbs": 2800,
              "Year": "1982-01-01"
             },
             {
              "Acceleration": 19.6,
              "Cylinders": 6,
              "Displacement": 145,
              "Horsepower": 76,
              "Miles_per_Gallon": 30.7,
              "Name": "volvo diesel",
              "Origin": "Europe",
              "Weight_in_lbs": 3160,
              "Year": "1982-01-01"
             },
             {
              "Acceleration": 12.6,
              "Cylinders": 6,
              "Displacement": 168,
              "Horsepower": 116,
              "Miles_per_Gallon": 25.4,
              "Name": "toyota cressida",
              "Origin": "Japan",
              "Weight_in_lbs": 2900,
              "Year": "1982-01-01"
             },
             {
              "Acceleration": 13.8,
              "Cylinders": 6,
              "Displacement": 146,
              "Horsepower": 120,
              "Miles_per_Gallon": 24.2,
              "Name": "datsun 810 maxima",
              "Origin": "Japan",
              "Weight_in_lbs": 2930,
              "Year": "1982-01-01"
             },
             {
              "Acceleration": 15.8,
              "Cylinders": 6,
              "Displacement": 231,
              "Horsepower": 110,
              "Miles_per_Gallon": 22.4,
              "Name": "buick century",
              "Origin": "USA",
              "Weight_in_lbs": 3415,
              "Year": "1982-01-01"
             },
             {
              "Acceleration": 19,
              "Cylinders": 8,
              "Displacement": 350,
              "Horsepower": 105,
              "Miles_per_Gallon": 26.6,
              "Name": "oldsmobile cutlass ls",
              "Origin": "USA",
              "Weight_in_lbs": 3725,
              "Year": "1982-01-01"
             },
             {
              "Acceleration": 17.1,
              "Cylinders": 6,
              "Displacement": 200,
              "Horsepower": 88,
              "Miles_per_Gallon": 20.2,
              "Name": "ford granada gl",
              "Origin": "USA",
              "Weight_in_lbs": 3060,
              "Year": "1982-01-01"
             },
             {
              "Acceleration": 16.6,
              "Cylinders": 6,
              "Displacement": 225,
              "Horsepower": 85,
              "Miles_per_Gallon": 17.6,
              "Name": "chrysler lebaron salon",
              "Origin": "USA",
              "Weight_in_lbs": 3465,
              "Year": "1982-01-01"
             },
             {
              "Acceleration": 19.6,
              "Cylinders": 4,
              "Displacement": 112,
              "Horsepower": 88,
              "Miles_per_Gallon": 28,
              "Name": "chevrolet cavalier",
              "Origin": "USA",
              "Weight_in_lbs": 2605,
              "Year": "1982-01-01"
             },
             {
              "Acceleration": 18.6,
              "Cylinders": 4,
              "Displacement": 112,
              "Horsepower": 88,
              "Miles_per_Gallon": 27,
              "Name": "chevrolet cavalier wagon",
              "Origin": "USA",
              "Weight_in_lbs": 2640,
              "Year": "1982-01-01"
             },
             {
              "Acceleration": 18,
              "Cylinders": 4,
              "Displacement": 112,
              "Horsepower": 88,
              "Miles_per_Gallon": 34,
              "Name": "chevrolet cavalier 2-door",
              "Origin": "USA",
              "Weight_in_lbs": 2395,
              "Year": "1982-01-01"
             },
             {
              "Acceleration": 16.2,
              "Cylinders": 4,
              "Displacement": 112,
              "Horsepower": 85,
              "Miles_per_Gallon": 31,
              "Name": "pontiac j2000 se hatchback",
              "Origin": "USA",
              "Weight_in_lbs": 2575,
              "Year": "1982-01-01"
             },
             {
              "Acceleration": 16,
              "Cylinders": 4,
              "Displacement": 135,
              "Horsepower": 84,
              "Miles_per_Gallon": 29,
              "Name": "dodge aries se",
              "Origin": "USA",
              "Weight_in_lbs": 2525,
              "Year": "1982-01-01"
             },
             {
              "Acceleration": 18,
              "Cylinders": 4,
              "Displacement": 151,
              "Horsepower": 90,
              "Miles_per_Gallon": 27,
              "Name": "pontiac phoenix",
              "Origin": "USA",
              "Weight_in_lbs": 2735,
              "Year": "1982-01-01"
             },
             {
              "Acceleration": 16.4,
              "Cylinders": 4,
              "Displacement": 140,
              "Horsepower": 92,
              "Miles_per_Gallon": 24,
              "Name": "ford fairmont futura",
              "Origin": "USA",
              "Weight_in_lbs": 2865,
              "Year": "1982-01-01"
             },
             {
              "Acceleration": 20.5,
              "Cylinders": 4,
              "Displacement": 151,
              "Horsepower": null,
              "Miles_per_Gallon": 23,
              "Name": "amc concord dl",
              "Origin": "USA",
              "Weight_in_lbs": 3035,
              "Year": "1982-01-01"
             },
             {
              "Acceleration": 15.3,
              "Cylinders": 4,
              "Displacement": 105,
              "Horsepower": 74,
              "Miles_per_Gallon": 36,
              "Name": "volkswagen rabbit l",
              "Origin": "Europe",
              "Weight_in_lbs": 1980,
              "Year": "1982-01-01"
             },
             {
              "Acceleration": 18.2,
              "Cylinders": 4,
              "Displacement": 91,
              "Horsepower": 68,
              "Miles_per_Gallon": 37,
              "Name": "mazda glc custom l",
              "Origin": "Japan",
              "Weight_in_lbs": 2025,
              "Year": "1982-01-01"
             },
             {
              "Acceleration": 17.6,
              "Cylinders": 4,
              "Displacement": 91,
              "Horsepower": 68,
              "Miles_per_Gallon": 31,
              "Name": "mazda glc custom",
              "Origin": "Japan",
              "Weight_in_lbs": 1970,
              "Year": "1982-01-01"
             },
             {
              "Acceleration": 14.7,
              "Cylinders": 4,
              "Displacement": 105,
              "Horsepower": 63,
              "Miles_per_Gallon": 38,
              "Name": "plymouth horizon miser",
              "Origin": "USA",
              "Weight_in_lbs": 2125,
              "Year": "1982-01-01"
             },
             {
              "Acceleration": 17.3,
              "Cylinders": 4,
              "Displacement": 98,
              "Horsepower": 70,
              "Miles_per_Gallon": 36,
              "Name": "mercury lynx l",
              "Origin": "USA",
              "Weight_in_lbs": 2125,
              "Year": "1982-01-01"
             },
             {
              "Acceleration": 14.5,
              "Cylinders": 4,
              "Displacement": 120,
              "Horsepower": 88,
              "Miles_per_Gallon": 36,
              "Name": "nissan stanza xe",
              "Origin": "Japan",
              "Weight_in_lbs": 2160,
              "Year": "1982-01-01"
             },
             {
              "Acceleration": 14.5,
              "Cylinders": 4,
              "Displacement": 107,
              "Horsepower": 75,
              "Miles_per_Gallon": 36,
              "Name": "honda Accelerationord",
              "Origin": "Japan",
              "Weight_in_lbs": 2205,
              "Year": "1982-01-01"
             },
             {
              "Acceleration": 16.9,
              "Cylinders": 4,
              "Displacement": 108,
              "Horsepower": 70,
              "Miles_per_Gallon": 34,
              "Name": "toyota corolla",
              "Origin": "Japan",
              "Weight_in_lbs": 2245,
              "Year": "1982-01-01"
             },
             {
              "Acceleration": 15,
              "Cylinders": 4,
              "Displacement": 91,
              "Horsepower": 67,
              "Miles_per_Gallon": 38,
              "Name": "honda civic",
              "Origin": "Japan",
              "Weight_in_lbs": 1965,
              "Year": "1982-01-01"
             },
             {
              "Acceleration": 15.7,
              "Cylinders": 4,
              "Displacement": 91,
              "Horsepower": 67,
              "Miles_per_Gallon": 32,
              "Name": "honda civic (auto)",
              "Origin": "Japan",
              "Weight_in_lbs": 1965,
              "Year": "1982-01-01"
             },
             {
              "Acceleration": 16.2,
              "Cylinders": 4,
              "Displacement": 91,
              "Horsepower": 67,
              "Miles_per_Gallon": 38,
              "Name": "datsun 310 gx",
              "Origin": "Japan",
              "Weight_in_lbs": 1995,
              "Year": "1982-01-01"
             },
             {
              "Acceleration": 16.4,
              "Cylinders": 6,
              "Displacement": 181,
              "Horsepower": 110,
              "Miles_per_Gallon": 25,
              "Name": "buick century limited",
              "Origin": "USA",
              "Weight_in_lbs": 2945,
              "Year": "1982-01-01"
             },
             {
              "Acceleration": 17,
              "Cylinders": 6,
              "Displacement": 262,
              "Horsepower": 85,
              "Miles_per_Gallon": 38,
              "Name": "oldsmobile cutlass ciera (diesel)",
              "Origin": "USA",
              "Weight_in_lbs": 3015,
              "Year": "1982-01-01"
             },
             {
              "Acceleration": 14.5,
              "Cylinders": 4,
              "Displacement": 156,
              "Horsepower": 92,
              "Miles_per_Gallon": 26,
              "Name": "chrysler lebaron medallion",
              "Origin": "USA",
              "Weight_in_lbs": 2585,
              "Year": "1982-01-01"
             },
             {
              "Acceleration": 14.7,
              "Cylinders": 6,
              "Displacement": 232,
              "Horsepower": 112,
              "Miles_per_Gallon": 22,
              "Name": "ford granada l",
              "Origin": "USA",
              "Weight_in_lbs": 2835,
              "Year": "1982-01-01"
             },
             {
              "Acceleration": 13.9,
              "Cylinders": 4,
              "Displacement": 144,
              "Horsepower": 96,
              "Miles_per_Gallon": 32,
              "Name": "toyota celica gt",
              "Origin": "Japan",
              "Weight_in_lbs": 2665,
              "Year": "1982-01-01"
             },
             {
              "Acceleration": 13,
              "Cylinders": 4,
              "Displacement": 135,
              "Horsepower": 84,
              "Miles_per_Gallon": 36,
              "Name": "dodge charger 2.2",
              "Origin": "USA",
              "Weight_in_lbs": 2370,
              "Year": "1982-01-01"
             },
             {
              "Acceleration": 17.3,
              "Cylinders": 4,
              "Displacement": 151,
              "Horsepower": 90,
              "Miles_per_Gallon": 27,
              "Name": "chevrolet camaro",
              "Origin": "USA",
              "Weight_in_lbs": 2950,
              "Year": "1982-01-01"
             },
             {
              "Acceleration": 15.6,
              "Cylinders": 4,
              "Displacement": 140,
              "Horsepower": 86,
              "Miles_per_Gallon": 27,
              "Name": "ford mustang gl",
              "Origin": "USA",
              "Weight_in_lbs": 2790,
              "Year": "1982-01-01"
             },
             {
              "Acceleration": 24.6,
              "Cylinders": 4,
              "Displacement": 97,
              "Horsepower": 52,
              "Miles_per_Gallon": 44,
              "Name": "vw pickup",
              "Origin": "Europe",
              "Weight_in_lbs": 2130,
              "Year": "1982-01-01"
             },
             {
              "Acceleration": 11.6,
              "Cylinders": 4,
              "Displacement": 135,
              "Horsepower": 84,
              "Miles_per_Gallon": 32,
              "Name": "dodge rampage",
              "Origin": "USA",
              "Weight_in_lbs": 2295,
              "Year": "1982-01-01"
             },
             {
              "Acceleration": 18.6,
              "Cylinders": 4,
              "Displacement": 120,
              "Horsepower": 79,
              "Miles_per_Gallon": 28,
              "Name": "ford ranger",
              "Origin": "USA",
              "Weight_in_lbs": 2625,
              "Year": "1982-01-01"
             },
             {
              "Acceleration": 19.4,
              "Cylinders": 4,
              "Displacement": 119,
              "Horsepower": 82,
              "Miles_per_Gallon": 31,
              "Name": "chevy s-10",
              "Origin": "USA",
              "Weight_in_lbs": 2720,
              "Year": "1982-01-01"
             }
            ]
           },
           "encoding": {
            "x": {
             "field": "Weight_in_lbs",
             "scale": {
              "domain": [
               1613,
               5140
              ]
             },
             "type": "quantitative"
            },
            "y": {
             "field": "Miles_per_Gallon",
             "scale": {
              "domain": [
               9,
               46.6
              ]
             },
             "type": "quantitative"
            }
           },
           "mark": "circle"
          },
          {
           "data": {
            "values": [
             {
              "Acceleration": 12,
              "Cylinders": 8,
              "Displacement": 307,
              "Horsepower": 130,
              "Miles_per_Gallon": 18,
              "Name": "chevrolet chevelle malibu",
              "Origin": "USA",
              "Weight_in_lbs": 3504,
              "Year": "1970-01-01"
             },
             {
              "Acceleration": 11.5,
              "Cylinders": 8,
              "Displacement": 350,
              "Horsepower": 165,
              "Miles_per_Gallon": 15,
              "Name": "buick skylark 320",
              "Origin": "USA",
              "Weight_in_lbs": 3693,
              "Year": "1970-01-01"
             },
             {
              "Acceleration": 11,
              "Cylinders": 8,
              "Displacement": 318,
              "Horsepower": 150,
              "Miles_per_Gallon": 18,
              "Name": "plymouth satellite",
              "Origin": "USA",
              "Weight_in_lbs": 3436,
              "Year": "1970-01-01"
             },
             {
              "Acceleration": 12,
              "Cylinders": 8,
              "Displacement": 304,
              "Horsepower": 150,
              "Miles_per_Gallon": 16,
              "Name": "amc rebel sst",
              "Origin": "USA",
              "Weight_in_lbs": 3433,
              "Year": "1970-01-01"
             },
             {
              "Acceleration": 10.5,
              "Cylinders": 8,
              "Displacement": 302,
              "Horsepower": 140,
              "Miles_per_Gallon": 17,
              "Name": "ford torino",
              "Origin": "USA",
              "Weight_in_lbs": 3449,
              "Year": "1970-01-01"
             },
             {
              "Acceleration": 10,
              "Cylinders": 8,
              "Displacement": 429,
              "Horsepower": 198,
              "Miles_per_Gallon": 15,
              "Name": "ford galaxie 500",
              "Origin": "USA",
              "Weight_in_lbs": 4341,
              "Year": "1970-01-01"
             },
             {
              "Acceleration": 9,
              "Cylinders": 8,
              "Displacement": 454,
              "Horsepower": 220,
              "Miles_per_Gallon": 14,
              "Name": "chevrolet impala",
              "Origin": "USA",
              "Weight_in_lbs": 4354,
              "Year": "1970-01-01"
             },
             {
              "Acceleration": 8.5,
              "Cylinders": 8,
              "Displacement": 440,
              "Horsepower": 215,
              "Miles_per_Gallon": 14,
              "Name": "plymouth fury iii",
              "Origin": "USA",
              "Weight_in_lbs": 4312,
              "Year": "1970-01-01"
             },
             {
              "Acceleration": 10,
              "Cylinders": 8,
              "Displacement": 455,
              "Horsepower": 225,
              "Miles_per_Gallon": 14,
              "Name": "pontiac catalina",
              "Origin": "USA",
              "Weight_in_lbs": 4425,
              "Year": "1970-01-01"
             },
             {
              "Acceleration": 8.5,
              "Cylinders": 8,
              "Displacement": 390,
              "Horsepower": 190,
              "Miles_per_Gallon": 15,
              "Name": "amc ambassador dpl",
              "Origin": "USA",
              "Weight_in_lbs": 3850,
              "Year": "1970-01-01"
             },
             {
              "Acceleration": 17.5,
              "Cylinders": 4,
              "Displacement": 133,
              "Horsepower": 115,
              "Miles_per_Gallon": null,
              "Name": "citroen ds-21 pallas",
              "Origin": "Europe",
              "Weight_in_lbs": 3090,
              "Year": "1970-01-01"
             },
             {
              "Acceleration": 11.5,
              "Cylinders": 8,
              "Displacement": 350,
              "Horsepower": 165,
              "Miles_per_Gallon": null,
              "Name": "chevrolet chevelle concours (sw)",
              "Origin": "USA",
              "Weight_in_lbs": 4142,
              "Year": "1970-01-01"
             },
             {
              "Acceleration": 11,
              "Cylinders": 8,
              "Displacement": 351,
              "Horsepower": 153,
              "Miles_per_Gallon": null,
              "Name": "ford torino (sw)",
              "Origin": "USA",
              "Weight_in_lbs": 4034,
              "Year": "1970-01-01"
             },
             {
              "Acceleration": 10.5,
              "Cylinders": 8,
              "Displacement": 383,
              "Horsepower": 175,
              "Miles_per_Gallon": null,
              "Name": "plymouth satellite (sw)",
              "Origin": "USA",
              "Weight_in_lbs": 4166,
              "Year": "1970-01-01"
             },
             {
              "Acceleration": 11,
              "Cylinders": 8,
              "Displacement": 360,
              "Horsepower": 175,
              "Miles_per_Gallon": null,
              "Name": "amc rebel sst (sw)",
              "Origin": "USA",
              "Weight_in_lbs": 3850,
              "Year": "1970-01-01"
             },
             {
              "Acceleration": 10,
              "Cylinders": 8,
              "Displacement": 383,
              "Horsepower": 170,
              "Miles_per_Gallon": 15,
              "Name": "dodge challenger se",
              "Origin": "USA",
              "Weight_in_lbs": 3563,
              "Year": "1970-01-01"
             },
             {
              "Acceleration": 8,
              "Cylinders": 8,
              "Displacement": 340,
              "Horsepower": 160,
              "Miles_per_Gallon": 14,
              "Name": "plymouth 'cuda 340",
              "Origin": "USA",
              "Weight_in_lbs": 3609,
              "Year": "1970-01-01"
             },
             {
              "Acceleration": 8,
              "Cylinders": 8,
              "Displacement": 302,
              "Horsepower": 140,
              "Miles_per_Gallon": null,
              "Name": "ford mustang boss 302",
              "Origin": "USA",
              "Weight_in_lbs": 3353,
              "Year": "1970-01-01"
             },
             {
              "Acceleration": 9.5,
              "Cylinders": 8,
              "Displacement": 400,
              "Horsepower": 150,
              "Miles_per_Gallon": 15,
              "Name": "chevrolet monte carlo",
              "Origin": "USA",
              "Weight_in_lbs": 3761,
              "Year": "1970-01-01"
             },
             {
              "Acceleration": 10,
              "Cylinders": 8,
              "Displacement": 455,
              "Horsepower": 225,
              "Miles_per_Gallon": 14,
              "Name": "buick estate wagon (sw)",
              "Origin": "USA",
              "Weight_in_lbs": 3086,
              "Year": "1970-01-01"
             },
             {
              "Acceleration": 15,
              "Cylinders": 4,
              "Displacement": 113,
              "Horsepower": 95,
              "Miles_per_Gallon": 24,
              "Name": "toyota corona mark ii",
              "Origin": "Japan",
              "Weight_in_lbs": 2372,
              "Year": "1970-01-01"
             },
             {
              "Acceleration": 15.5,
              "Cylinders": 6,
              "Displacement": 198,
              "Horsepower": 95,
              "Miles_per_Gallon": 22,
              "Name": "plymouth duster",
              "Origin": "USA",
              "Weight_in_lbs": 2833,
              "Year": "1970-01-01"
             },
             {
              "Acceleration": 15.5,
              "Cylinders": 6,
              "Displacement": 199,
              "Horsepower": 97,
              "Miles_per_Gallon": 18,
              "Name": "amc hornet",
              "Origin": "USA",
              "Weight_in_lbs": 2774,
              "Year": "1970-01-01"
             },
             {
              "Acceleration": 16,
              "Cylinders": 6,
              "Displacement": 200,
              "Horsepower": 85,
              "Miles_per_Gallon": 21,
              "Name": "ford maverick",
              "Origin": "USA",
              "Weight_in_lbs": 2587,
              "Year": "1970-01-01"
             },
             {
              "Acceleration": 14.5,
              "Cylinders": 4,
              "Displacement": 97,
              "Horsepower": 88,
              "Miles_per_Gallon": 27,
              "Name": "datsun pl510",
              "Origin": "Japan",
              "Weight_in_lbs": 2130,
              "Year": "1970-01-01"
             },
             {
              "Acceleration": 20.5,
              "Cylinders": 4,
              "Displacement": 97,
              "Horsepower": 46,
              "Miles_per_Gallon": 26,
              "Name": "volkswagen 1131 deluxe sedan",
              "Origin": "Europe",
              "Weight_in_lbs": 1835,
              "Year": "1970-01-01"
             },
             {
              "Acceleration": 17.5,
              "Cylinders": 4,
              "Displacement": 110,
              "Horsepower": 87,
              "Miles_per_Gallon": 25,
              "Name": "peugeot 504",
              "Origin": "Europe",
              "Weight_in_lbs": 2672,
              "Year": "1970-01-01"
             },
             {
              "Acceleration": 14.5,
              "Cylinders": 4,
              "Displacement": 107,
              "Horsepower": 90,
              "Miles_per_Gallon": 24,
              "Name": "audi 100 ls",
              "Origin": "Europe",
              "Weight_in_lbs": 2430,
              "Year": "1970-01-01"
             },
             {
              "Acceleration": 17.5,
              "Cylinders": 4,
              "Displacement": 104,
              "Horsepower": 95,
              "Miles_per_Gallon": 25,
              "Name": "saab 99e",
              "Origin": "Europe",
              "Weight_in_lbs": 2375,
              "Year": "1970-01-01"
             },
             {
              "Acceleration": 12.5,
              "Cylinders": 4,
              "Displacement": 121,
              "Horsepower": 113,
              "Miles_per_Gallon": 26,
              "Name": "bmw 2002",
              "Origin": "Europe",
              "Weight_in_lbs": 2234,
              "Year": "1970-01-01"
             },
             {
              "Acceleration": 15,
              "Cylinders": 6,
              "Displacement": 199,
              "Horsepower": 90,
              "Miles_per_Gallon": 21,
              "Name": "amc gremlin",
              "Origin": "USA",
              "Weight_in_lbs": 2648,
              "Year": "1970-01-01"
             },
             {
              "Acceleration": 14,
              "Cylinders": 8,
              "Displacement": 360,
              "Horsepower": 215,
              "Miles_per_Gallon": 10,
              "Name": "ford f250",
              "Origin": "USA",
              "Weight_in_lbs": 4615,
              "Year": "1970-01-01"
             },
             {
              "Acceleration": 15,
              "Cylinders": 8,
              "Displacement": 307,
              "Horsepower": 200,
              "Miles_per_Gallon": 10,
              "Name": "chevy c20",
              "Origin": "USA",
              "Weight_in_lbs": 4376,
              "Year": "1970-01-01"
             },
             {
              "Acceleration": 13.5,
              "Cylinders": 8,
              "Displacement": 318,
              "Horsepower": 210,
              "Miles_per_Gallon": 11,
              "Name": "dodge d200",
              "Origin": "USA",
              "Weight_in_lbs": 4382,
              "Year": "1970-01-01"
             },
             {
              "Acceleration": 18.5,
              "Cylinders": 8,
              "Displacement": 304,
              "Horsepower": 193,
              "Miles_per_Gallon": 9,
              "Name": "hi 1200d",
              "Origin": "USA",
              "Weight_in_lbs": 4732,
              "Year": "1970-01-01"
             },
             {
              "Acceleration": 14.5,
              "Cylinders": 4,
              "Displacement": 97,
              "Horsepower": 88,
              "Miles_per_Gallon": 27,
              "Name": "datsun pl510",
              "Origin": "Japan",
              "Weight_in_lbs": 2130,
              "Year": "1971-01-01"
             },
             {
              "Acceleration": 15.5,
              "Cylinders": 4,
              "Displacement": 140,
              "Horsepower": 90,
              "Miles_per_Gallon": 28,
              "Name": "chevrolet vega 2300",
              "Origin": "USA",
              "Weight_in_lbs": 2264,
              "Year": "1971-01-01"
             },
             {
              "Acceleration": 14,
              "Cylinders": 4,
              "Displacement": 113,
              "Horsepower": 95,
              "Miles_per_Gallon": 25,
              "Name": "toyota corona",
              "Origin": "Japan",
              "Weight_in_lbs": 2228,
              "Year": "1971-01-01"
             },
             {
              "Acceleration": 19,
              "Cylinders": 4,
              "Displacement": 98,
              "Horsepower": null,
              "Miles_per_Gallon": 25,
              "Name": "ford pinto",
              "Origin": "USA",
              "Weight_in_lbs": 2046,
              "Year": "1971-01-01"
             },
             {
              "Acceleration": 20,
              "Cylinders": 4,
              "Displacement": 97,
              "Horsepower": 48,
              "Miles_per_Gallon": null,
              "Name": "volkswagen super beetle 117",
              "Origin": "Europe",
              "Weight_in_lbs": 1978,
              "Year": "1971-01-01"
             },
             {
              "Acceleration": 13,
              "Cylinders": 6,
              "Displacement": 232,
              "Horsepower": 100,
              "Miles_per_Gallon": 19,
              "Name": "amc gremlin",
              "Origin": "USA",
              "Weight_in_lbs": 2634,
              "Year": "1971-01-01"
             },
             {
              "Acceleration": 15.5,
              "Cylinders": 6,
              "Displacement": 225,
              "Horsepower": 105,
              "Miles_per_Gallon": 16,
              "Name": "plymouth satellite custom",
              "Origin": "USA",
              "Weight_in_lbs": 3439,
              "Year": "1971-01-01"
             },
             {
              "Acceleration": 15.5,
              "Cylinders": 6,
              "Displacement": 250,
              "Horsepower": 100,
              "Miles_per_Gallon": 17,
              "Name": "chevrolet chevelle malibu",
              "Origin": "USA",
              "Weight_in_lbs": 3329,
              "Year": "1971-01-01"
             },
             {
              "Acceleration": 15.5,
              "Cylinders": 6,
              "Displacement": 250,
              "Horsepower": 88,
              "Miles_per_Gallon": 19,
              "Name": "ford torino 500",
              "Origin": "USA",
              "Weight_in_lbs": 3302,
              "Year": "1971-01-01"
             },
             {
              "Acceleration": 15.5,
              "Cylinders": 6,
              "Displacement": 232,
              "Horsepower": 100,
              "Miles_per_Gallon": 18,
              "Name": "amc matador",
              "Origin": "USA",
              "Weight_in_lbs": 3288,
              "Year": "1971-01-01"
             },
             {
              "Acceleration": 12,
              "Cylinders": 8,
              "Displacement": 350,
              "Horsepower": 165,
              "Miles_per_Gallon": 14,
              "Name": "chevrolet impala",
              "Origin": "USA",
              "Weight_in_lbs": 4209,
              "Year": "1971-01-01"
             },
             {
              "Acceleration": 11.5,
              "Cylinders": 8,
              "Displacement": 400,
              "Horsepower": 175,
              "Miles_per_Gallon": 14,
              "Name": "pontiac catalina brougham",
              "Origin": "USA",
              "Weight_in_lbs": 4464,
              "Year": "1971-01-01"
             },
             {
              "Acceleration": 13.5,
              "Cylinders": 8,
              "Displacement": 351,
              "Horsepower": 153,
              "Miles_per_Gallon": 14,
              "Name": "ford galaxie 500",
              "Origin": "USA",
              "Weight_in_lbs": 4154,
              "Year": "1971-01-01"
             },
             {
              "Acceleration": 13,
              "Cylinders": 8,
              "Displacement": 318,
              "Horsepower": 150,
              "Miles_per_Gallon": 14,
              "Name": "plymouth fury iii",
              "Origin": "USA",
              "Weight_in_lbs": 4096,
              "Year": "1971-01-01"
             },
             {
              "Acceleration": 11.5,
              "Cylinders": 8,
              "Displacement": 383,
              "Horsepower": 180,
              "Miles_per_Gallon": 12,
              "Name": "dodge monaco (sw)",
              "Origin": "USA",
              "Weight_in_lbs": 4955,
              "Year": "1971-01-01"
             },
             {
              "Acceleration": 12,
              "Cylinders": 8,
              "Displacement": 400,
              "Horsepower": 170,
              "Miles_per_Gallon": 13,
              "Name": "ford country squire (sw)",
              "Origin": "USA",
              "Weight_in_lbs": 4746,
              "Year": "1971-01-01"
             },
             {
              "Acceleration": 12,
              "Cylinders": 8,
              "Displacement": 400,
              "Horsepower": 175,
              "Miles_per_Gallon": 13,
              "Name": "pontiac safari (sw)",
              "Origin": "USA",
              "Weight_in_lbs": 5140,
              "Year": "1971-01-01"
             },
             {
              "Acceleration": 13.5,
              "Cylinders": 6,
              "Displacement": 258,
              "Horsepower": 110,
              "Miles_per_Gallon": 18,
              "Name": "amc hornet sportabout (sw)",
              "Origin": "USA",
              "Weight_in_lbs": 2962,
              "Year": "1971-01-01"
             },
             {
              "Acceleration": 19,
              "Cylinders": 4,
              "Displacement": 140,
              "Horsepower": 72,
              "Miles_per_Gallon": 22,
              "Name": "chevrolet vega (sw)",
              "Origin": "USA",
              "Weight_in_lbs": 2408,
              "Year": "1971-01-01"
             },
             {
              "Acceleration": 15,
              "Cylinders": 6,
              "Displacement": 250,
              "Horsepower": 100,
              "Miles_per_Gallon": 19,
              "Name": "pontiac firebird",
              "Origin": "USA",
              "Weight_in_lbs": 3282,
              "Year": "1971-01-01"
             },
             {
              "Acceleration": 14.5,
              "Cylinders": 6,
              "Displacement": 250,
              "Horsepower": 88,
              "Miles_per_Gallon": 18,
              "Name": "ford mustang",
              "Origin": "USA",
              "Weight_in_lbs": 3139,
              "Year": "1971-01-01"
             },
             {
              "Acceleration": 14,
              "Cylinders": 4,
              "Displacement": 122,
              "Horsepower": 86,
              "Miles_per_Gallon": 23,
              "Name": "mercury capri 2000",
              "Origin": "USA",
              "Weight_in_lbs": 2220,
              "Year": "1971-01-01"
             },
             {
              "Acceleration": 14,
              "Cylinders": 4,
              "Displacement": 116,
              "Horsepower": 90,
              "Miles_per_Gallon": 28,
              "Name": "opel 1900",
              "Origin": "Europe",
              "Weight_in_lbs": 2123,
              "Year": "1971-01-01"
             },
             {
              "Acceleration": 19.5,
              "Cylinders": 4,
              "Displacement": 79,
              "Horsepower": 70,
              "Miles_per_Gallon": 30,
              "Name": "peugeot 304",
              "Origin": "Europe",
              "Weight_in_lbs": 2074,
              "Year": "1971-01-01"
             },
             {
              "Acceleration": 14.5,
              "Cylinders": 4,
              "Displacement": 88,
              "Horsepower": 76,
              "Miles_per_Gallon": 30,
              "Name": "fiat 124b",
              "Origin": "Europe",
              "Weight_in_lbs": 2065,
              "Year": "1971-01-01"
             },
             {
              "Acceleration": 19,
              "Cylinders": 4,
              "Displacement": 71,
              "Horsepower": 65,
              "Miles_per_Gallon": 31,
              "Name": "toyota corolla 1200",
              "Origin": "Japan",
              "Weight_in_lbs": 1773,
              "Year": "1971-01-01"
             },
             {
              "Acceleration": 18,
              "Cylinders": 4,
              "Displacement": 72,
              "Horsepower": 69,
              "Miles_per_Gallon": 35,
              "Name": "datsun 1200",
              "Origin": "Japan",
              "Weight_in_lbs": 1613,
              "Year": "1971-01-01"
             },
             {
              "Acceleration": 19,
              "Cylinders": 4,
              "Displacement": 97,
              "Horsepower": 60,
              "Miles_per_Gallon": 27,
              "Name": "volkswagen model 111",
              "Origin": "Europe",
              "Weight_in_lbs": 1834,
              "Year": "1971-01-01"
             },
             {
              "Acceleration": 20.5,
              "Cylinders": 4,
              "Displacement": 91,
              "Horsepower": 70,
              "Miles_per_Gallon": 26,
              "Name": "plymouth cricket",
              "Origin": "USA",
              "Weight_in_lbs": 1955,
              "Year": "1971-01-01"
             },
             {
              "Acceleration": 15.5,
              "Cylinders": 4,
              "Displacement": 113,
              "Horsepower": 95,
              "Miles_per_Gallon": 24,
              "Name": "toyota corona hardtop",
              "Origin": "Japan",
              "Weight_in_lbs": 2278,
              "Year": "1972-01-01"
             },
             {
              "Acceleration": 17,
              "Cylinders": 4,
              "Displacement": 97.5,
              "Horsepower": 80,
              "Miles_per_Gallon": 25,
              "Name": "dodge colt hardtop",
              "Origin": "USA",
              "Weight_in_lbs": 2126,
              "Year": "1972-01-01"
             },
             {
              "Acceleration": 23.5,
              "Cylinders": 4,
              "Displacement": 97,
              "Horsepower": 54,
              "Miles_per_Gallon": 23,
              "Name": "volkswagen type 3",
              "Origin": "Europe",
              "Weight_in_lbs": 2254,
              "Year": "1972-01-01"
             },
             {
              "Acceleration": 19.5,
              "Cylinders": 4,
              "Displacement": 140,
              "Horsepower": 90,
              "Miles_per_Gallon": 20,
              "Name": "chevrolet vega",
              "Origin": "USA",
              "Weight_in_lbs": 2408,
              "Year": "1972-01-01"
             },
             {
              "Acceleration": 16.5,
              "Cylinders": 4,
              "Displacement": 122,
              "Horsepower": 86,
              "Miles_per_Gallon": 21,
              "Name": "ford pinto runabout",
              "Origin": "USA",
              "Weight_in_lbs": 2226,
              "Year": "1972-01-01"
             },
             {
              "Acceleration": 12,
              "Cylinders": 8,
              "Displacement": 350,
              "Horsepower": 165,
              "Miles_per_Gallon": 13,
              "Name": "chevrolet impala",
              "Origin": "USA",
              "Weight_in_lbs": 4274,
              "Year": "1972-01-01"
             },
             {
              "Acceleration": 12,
              "Cylinders": 8,
              "Displacement": 400,
              "Horsepower": 175,
              "Miles_per_Gallon": 14,
              "Name": "pontiac catalina",
              "Origin": "USA",
              "Weight_in_lbs": 4385,
              "Year": "1972-01-01"
             },
             {
              "Acceleration": 13.5,
              "Cylinders": 8,
              "Displacement": 318,
              "Horsepower": 150,
              "Miles_per_Gallon": 15,
              "Name": "plymouth fury iii",
              "Origin": "USA",
              "Weight_in_lbs": 4135,
              "Year": "1972-01-01"
             },
             {
              "Acceleration": 13,
              "Cylinders": 8,
              "Displacement": 351,
              "Horsepower": 153,
              "Miles_per_Gallon": 14,
              "Name": "ford galaxie 500",
              "Origin": "USA",
              "Weight_in_lbs": 4129,
              "Year": "1972-01-01"
             },
             {
              "Acceleration": 11.5,
              "Cylinders": 8,
              "Displacement": 304,
              "Horsepower": 150,
              "Miles_per_Gallon": 17,
              "Name": "amc ambassador sst",
              "Origin": "USA",
              "Weight_in_lbs": 3672,
              "Year": "1972-01-01"
             },
             {
              "Acceleration": 11,
              "Cylinders": 8,
              "Displacement": 429,
              "Horsepower": 208,
              "Miles_per_Gallon": 11,
              "Name": "mercury marquis",
              "Origin": "USA",
              "Weight_in_lbs": 4633,
              "Year": "1972-01-01"
             },
             {
              "Acceleration": 13.5,
              "Cylinders": 8,
              "Displacement": 350,
              "Horsepower": 155,
              "Miles_per_Gallon": 13,
              "Name": "buick lesabre custom",
              "Origin": "USA",
              "Weight_in_lbs": 4502,
              "Year": "1972-01-01"
             },
             {
              "Acceleration": 13.5,
              "Cylinders": 8,
              "Displacement": 350,
              "Horsepower": 160,
              "Miles_per_Gallon": 12,
              "Name": "oldsmobile delta 88 royale",
              "Origin": "USA",
              "Weight_in_lbs": 4456,
              "Year": "1972-01-01"
             },
             {
              "Acceleration": 12.5,
              "Cylinders": 8,
              "Displacement": 400,
              "Horsepower": 190,
              "Miles_per_Gallon": 13,
              "Name": "chrysler newport royal",
              "Origin": "USA",
              "Weight_in_lbs": 4422,
              "Year": "1972-01-01"
             },
             {
              "Acceleration": 13.5,
              "Cylinders": 3,
              "Displacement": 70,
              "Horsepower": 97,
              "Miles_per_Gallon": 19,
              "Name": "mazda rx2 coupe",
              "Origin": "Japan",
              "Weight_in_lbs": 2330,
              "Year": "1972-01-01"
             },
             {
              "Acceleration": 12.5,
              "Cylinders": 8,
              "Displacement": 304,
              "Horsepower": 150,
              "Miles_per_Gallon": 15,
              "Name": "amc matador (sw)",
              "Origin": "USA",
              "Weight_in_lbs": 3892,
              "Year": "1972-01-01"
             },
             {
              "Acceleration": 14,
              "Cylinders": 8,
              "Displacement": 307,
              "Horsepower": 130,
              "Miles_per_Gallon": 13,
              "Name": "chevrolet chevelle concours (sw)",
              "Origin": "USA",
              "Weight_in_lbs": 4098,
              "Year": "1972-01-01"
             },
             {
              "Acceleration": 16,
              "Cylinders": 8,
              "Displacement": 302,
              "Horsepower": 140,
              "Miles_per_Gallon": 13,
              "Name": "ford gran torino (sw)",
              "Origin": "USA",
              "Weight_in_lbs": 4294,
              "Year": "1972-01-01"
             },
             {
              "Acceleration": 14,
              "Cylinders": 8,
              "Displacement": 318,
              "Horsepower": 150,
              "Miles_per_Gallon": 14,
              "Name": "plymouth satellite custom (sw)",
              "Origin": "USA",
              "Weight_in_lbs": 4077,
              "Year": "1972-01-01"
             },
             {
              "Acceleration": 14.5,
              "Cylinders": 4,
              "Displacement": 121,
              "Horsepower": 112,
              "Miles_per_Gallon": 18,
              "Name": "volvo 145e (sw)",
              "Origin": "Europe",
              "Weight_in_lbs": 2933,
              "Year": "1972-01-01"
             },
             {
              "Acceleration": 18,
              "Cylinders": 4,
              "Displacement": 121,
              "Horsepower": 76,
              "Miles_per_Gallon": 22,
              "Name": "volkswagen 411 (sw)",
              "Origin": "Europe",
              "Weight_in_lbs": 2511,
              "Year": "1972-01-01"
             },
             {
              "Acceleration": 19.5,
              "Cylinders": 4,
              "Displacement": 120,
              "Horsepower": 87,
              "Miles_per_Gallon": 21,
              "Name": "peugeot 504 (sw)",
              "Origin": "Europe",
              "Weight_in_lbs": 2979,
              "Year": "1972-01-01"
             },
             {
              "Acceleration": 18,
              "Cylinders": 4,
              "Displacement": 96,
              "Horsepower": 69,
              "Miles_per_Gallon": 26,
              "Name": "renault 12 (sw)",
              "Origin": "Europe",
              "Weight_in_lbs": 2189,
              "Year": "1972-01-01"
             },
             {
              "Acceleration": 16,
              "Cylinders": 4,
              "Displacement": 122,
              "Horsepower": 86,
              "Miles_per_Gallon": 22,
              "Name": "ford pinto (sw)",
              "Origin": "USA",
              "Weight_in_lbs": 2395,
              "Year": "1972-01-01"
             },
             {
              "Acceleration": 17,
              "Cylinders": 4,
              "Displacement": 97,
              "Horsepower": 92,
              "Miles_per_Gallon": 28,
              "Name": "datsun 510 (sw)",
              "Origin": "Japan",
              "Weight_in_lbs": 2288,
              "Year": "1972-01-01"
             },
             {
              "Acceleration": 14.5,
              "Cylinders": 4,
              "Displacement": 120,
              "Horsepower": 97,
              "Miles_per_Gallon": 23,
              "Name": "toyouta corona mark ii (sw)",
              "Origin": "Japan",
              "Weight_in_lbs": 2506,
              "Year": "1972-01-01"
             },
             {
              "Acceleration": 15,
              "Cylinders": 4,
              "Displacement": 98,
              "Horsepower": 80,
              "Miles_per_Gallon": 28,
              "Name": "dodge colt (sw)",
              "Origin": "USA",
              "Weight_in_lbs": 2164,
              "Year": "1972-01-01"
             },
             {
              "Acceleration": 16.5,
              "Cylinders": 4,
              "Displacement": 97,
              "Horsepower": 88,
              "Miles_per_Gallon": 27,
              "Name": "toyota corolla 1600 (sw)",
              "Origin": "Japan",
              "Weight_in_lbs": 2100,
              "Year": "1972-01-01"
             },
             {
              "Acceleration": 13,
              "Cylinders": 8,
              "Displacement": 350,
              "Horsepower": 175,
              "Miles_per_Gallon": 13,
              "Name": "buick century 350",
              "Origin": "USA",
              "Weight_in_lbs": 4100,
              "Year": "1973-01-01"
             },
             {
              "Acceleration": 11.5,
              "Cylinders": 8,
              "Displacement": 304,
              "Horsepower": 150,
              "Miles_per_Gallon": 14,
              "Name": "amc matador",
              "Origin": "USA",
              "Weight_in_lbs": 3672,
              "Year": "1973-01-01"
             },
             {
              "Acceleration": 13,
              "Cylinders": 8,
              "Displacement": 350,
              "Horsepower": 145,
              "Miles_per_Gallon": 13,
              "Name": "chevrolet malibu",
              "Origin": "USA",
              "Weight_in_lbs": 3988,
              "Year": "1973-01-01"
             },
             {
              "Acceleration": 14.5,
              "Cylinders": 8,
              "Displacement": 302,
              "Horsepower": 137,
              "Miles_per_Gallon": 14,
              "Name": "ford gran torino",
              "Origin": "USA",
              "Weight_in_lbs": 4042,
              "Year": "1973-01-01"
             },
             {
              "Acceleration": 12.5,
              "Cylinders": 8,
              "Displacement": 318,
              "Horsepower": 150,
              "Miles_per_Gallon": 15,
              "Name": "dodge coronet custom",
              "Origin": "USA",
              "Weight_in_lbs": 3777,
              "Year": "1973-01-01"
             },
             {
              "Acceleration": 11.5,
              "Cylinders": 8,
              "Displacement": 429,
              "Horsepower": 198,
              "Miles_per_Gallon": 12,
              "Name": "mercury marquis brougham",
              "Origin": "USA",
              "Weight_in_lbs": 4952,
              "Year": "1973-01-01"
             },
             {
              "Acceleration": 12,
              "Cylinders": 8,
              "Displacement": 400,
              "Horsepower": 150,
              "Miles_per_Gallon": 13,
              "Name": "chevrolet caprice classic",
              "Origin": "USA",
              "Weight_in_lbs": 4464,
              "Year": "1973-01-01"
             },
             {
              "Acceleration": 13,
              "Cylinders": 8,
              "Displacement": 351,
              "Horsepower": 158,
              "Miles_per_Gallon": 13,
              "Name": "ford ltd",
              "Origin": "USA",
              "Weight_in_lbs": 4363,
              "Year": "1973-01-01"
             },
             {
              "Acceleration": 14.5,
              "Cylinders": 8,
              "Displacement": 318,
              "Horsepower": 150,
              "Miles_per_Gallon": 14,
              "Name": "plymouth fury gran sedan",
              "Origin": "USA",
              "Weight_in_lbs": 4237,
              "Year": "1973-01-01"
             },
             {
              "Acceleration": 11,
              "Cylinders": 8,
              "Displacement": 440,
              "Horsepower": 215,
              "Miles_per_Gallon": 13,
              "Name": "chrysler new yorker brougham",
              "Origin": "USA",
              "Weight_in_lbs": 4735,
              "Year": "1973-01-01"
             },
             {
              "Acceleration": 11,
              "Cylinders": 8,
              "Displacement": 455,
              "Horsepower": 225,
              "Miles_per_Gallon": 12,
              "Name": "buick electra 225 custom",
              "Origin": "USA",
              "Weight_in_lbs": 4951,
              "Year": "1973-01-01"
             },
             {
              "Acceleration": 11,
              "Cylinders": 8,
              "Displacement": 360,
              "Horsepower": 175,
              "Miles_per_Gallon": 13,
              "Name": "amc ambassador brougham",
              "Origin": "USA",
              "Weight_in_lbs": 3821,
              "Year": "1973-01-01"
             },
             {
              "Acceleration": 16.5,
              "Cylinders": 6,
              "Displacement": 225,
              "Horsepower": 105,
              "Miles_per_Gallon": 18,
              "Name": "plymouth valiant",
              "Origin": "USA",
              "Weight_in_lbs": 3121,
              "Year": "1973-01-01"
             },
             {
              "Acceleration": 18,
              "Cylinders": 6,
              "Displacement": 250,
              "Horsepower": 100,
              "Miles_per_Gallon": 16,
              "Name": "chevrolet nova custom",
              "Origin": "USA",
              "Weight_in_lbs": 3278,
              "Year": "1973-01-01"
             },
             {
              "Acceleration": 16,
              "Cylinders": 6,
              "Displacement": 232,
              "Horsepower": 100,
              "Miles_per_Gallon": 18,
              "Name": "amc hornet",
              "Origin": "USA",
              "Weight_in_lbs": 2945,
              "Year": "1973-01-01"
             },
             {
              "Acceleration": 16.5,
              "Cylinders": 6,
              "Displacement": 250,
              "Horsepower": 88,
              "Miles_per_Gallon": 18,
              "Name": "ford maverick",
              "Origin": "USA",
              "Weight_in_lbs": 3021,
              "Year": "1973-01-01"
             },
             {
              "Acceleration": 16,
              "Cylinders": 6,
              "Displacement": 198,
              "Horsepower": 95,
              "Miles_per_Gallon": 23,
              "Name": "plymouth duster",
              "Origin": "USA",
              "Weight_in_lbs": 2904,
              "Year": "1973-01-01"
             },
             {
              "Acceleration": 21,
              "Cylinders": 4,
              "Displacement": 97,
              "Horsepower": 46,
              "Miles_per_Gallon": 26,
              "Name": "volkswagen super beetle",
              "Origin": "Europe",
              "Weight_in_lbs": 1950,
              "Year": "1973-01-01"
             },
             {
              "Acceleration": 14,
              "Cylinders": 8,
              "Displacement": 400,
              "Horsepower": 150,
              "Miles_per_Gallon": 11,
              "Name": "chevrolet impala",
              "Origin": "USA",
              "Weight_in_lbs": 4997,
              "Year": "1973-01-01"
             },
             {
              "Acceleration": 12.5,
              "Cylinders": 8,
              "Displacement": 400,
              "Horsepower": 167,
              "Miles_per_Gallon": 12,
              "Name": "ford country",
              "Origin": "USA",
              "Weight_in_lbs": 4906,
              "Year": "1973-01-01"
             },
             {
              "Acceleration": 13,
              "Cylinders": 8,
              "Displacement": 360,
              "Horsepower": 170,
              "Miles_per_Gallon": 13,
              "Name": "plymouth custom suburb",
              "Origin": "USA",
              "Weight_in_lbs": 4654,
              "Year": "1973-01-01"
             },
             {
              "Acceleration": 12.5,
              "Cylinders": 8,
              "Displacement": 350,
              "Horsepower": 180,
              "Miles_per_Gallon": 12,
              "Name": "oldsmobile vista cruiser",
              "Origin": "USA",
              "Weight_in_lbs": 4499,
              "Year": "1973-01-01"
             },
             {
              "Acceleration": 15,
              "Cylinders": 6,
              "Displacement": 232,
              "Horsepower": 100,
              "Miles_per_Gallon": 18,
              "Name": "amc gremlin",
              "Origin": "USA",
              "Weight_in_lbs": 2789,
              "Year": "1973-01-01"
             },
             {
              "Acceleration": 19,
              "Cylinders": 4,
              "Displacement": 97,
              "Horsepower": 88,
              "Miles_per_Gallon": 20,
              "Name": "toyota carina",
              "Origin": "Japan",
              "Weight_in_lbs": 2279,
              "Year": "1973-01-01"
             },
             {
              "Acceleration": 19.5,
              "Cylinders": 4,
              "Displacement": 140,
              "Horsepower": 72,
              "Miles_per_Gallon": 21,
              "Name": "chevrolet vega",
              "Origin": "USA",
              "Weight_in_lbs": 2401,
              "Year": "1973-01-01"
             },
             {
              "Acceleration": 16.5,
              "Cylinders": 4,
              "Displacement": 108,
              "Horsepower": 94,
              "Miles_per_Gallon": 22,
              "Name": "datsun 610",
              "Origin": "Japan",
              "Weight_in_lbs": 2379,
              "Year": "1973-01-01"
             },
             {
              "Acceleration": 13.5,
              "Cylinders": 3,
              "Displacement": 70,
              "Horsepower": 90,
              "Miles_per_Gallon": 18,
              "Name": "maxda rx3",
              "Origin": "Japan",
              "Weight_in_lbs": 2124,
              "Year": "1973-01-01"
             },
             {
              "Acceleration": 18.5,
              "Cylinders": 4,
              "Displacement": 122,
              "Horsepower": 85,
              "Miles_per_Gallon": 19,
              "Name": "ford pinto",
              "Origin": "USA",
              "Weight_in_lbs": 2310,
              "Year": "1973-01-01"
             },
             {
              "Acceleration": 14,
              "Cylinders": 6,
              "Displacement": 155,
              "Horsepower": 107,
              "Miles_per_Gallon": 21,
              "Name": "mercury capri v6",
              "Origin": "USA",
              "Weight_in_lbs": 2472,
              "Year": "1973-01-01"
             },
             {
              "Acceleration": 15.5,
              "Cylinders": 4,
              "Displacement": 98,
              "Horsepower": 90,
              "Miles_per_Gallon": 26,
              "Name": "fiat 124 sport coupe",
              "Origin": "Europe",
              "Weight_in_lbs": 2265,
              "Year": "1973-01-01"
             },
             {
              "Acceleration": 13,
              "Cylinders": 8,
              "Displacement": 350,
              "Horsepower": 145,
              "Miles_per_Gallon": 15,
              "Name": "chevrolet monte carlo s",
              "Origin": "USA",
              "Weight_in_lbs": 4082,
              "Year": "1973-01-01"
             },
             {
              "Acceleration": 9.5,
              "Cylinders": 8,
              "Displacement": 400,
              "Horsepower": 230,
              "Miles_per_Gallon": 16,
              "Name": "pontiac grand prix",
              "Origin": "USA",
              "Weight_in_lbs": 4278,
              "Year": "1973-01-01"
             },
             {
              "Acceleration": 19.5,
              "Cylinders": 4,
              "Displacement": 68,
              "Horsepower": 49,
              "Miles_per_Gallon": 29,
              "Name": "fiat 128",
              "Origin": "Europe",
              "Weight_in_lbs": 1867,
              "Year": "1973-01-01"
             },
             {
              "Acceleration": 15.5,
              "Cylinders": 4,
              "Displacement": 116,
              "Horsepower": 75,
              "Miles_per_Gallon": 24,
              "Name": "opel manta",
              "Origin": "Europe",
              "Weight_in_lbs": 2158,
              "Year": "1973-01-01"
             },
             {
              "Acceleration": 14,
              "Cylinders": 4,
              "Displacement": 114,
              "Horsepower": 91,
              "Miles_per_Gallon": 20,
              "Name": "audi 100ls",
              "Origin": "Europe",
              "Weight_in_lbs": 2582,
              "Year": "1973-01-01"
             },
             {
              "Acceleration": 15.5,
              "Cylinders": 4,
              "Displacement": 121,
              "Horsepower": 112,
              "Miles_per_Gallon": 19,
              "Name": "volvo 144ea",
              "Origin": "Europe",
              "Weight_in_lbs": 2868,
              "Year": "1973-01-01"
             },
             {
              "Acceleration": 11,
              "Cylinders": 8,
              "Displacement": 318,
              "Horsepower": 150,
              "Miles_per_Gallon": 15,
              "Name": "dodge dart custom",
              "Origin": "USA",
              "Weight_in_lbs": 3399,
              "Year": "1973-01-01"
             },
             {
              "Acceleration": 14,
              "Cylinders": 4,
              "Displacement": 121,
              "Horsepower": 110,
              "Miles_per_Gallon": 24,
              "Name": "saab 99le",
              "Origin": "Europe",
              "Weight_in_lbs": 2660,
              "Year": "1973-01-01"
             },
             {
              "Acceleration": 13.5,
              "Cylinders": 6,
              "Displacement": 156,
              "Horsepower": 122,
              "Miles_per_Gallon": 20,
              "Name": "toyota mark ii",
              "Origin": "Japan",
              "Weight_in_lbs": 2807,
              "Year": "1973-01-01"
             },
             {
              "Acceleration": 11,
              "Cylinders": 8,
              "Displacement": 350,
              "Horsepower": 180,
              "Miles_per_Gallon": 11,
              "Name": "oldsmobile omega",
              "Origin": "USA",
              "Weight_in_lbs": 3664,
              "Year": "1973-01-01"
             },
             {
              "Acceleration": 16.5,
              "Cylinders": 6,
              "Displacement": 198,
              "Horsepower": 95,
              "Miles_per_Gallon": 20,
              "Name": "plymouth duster",
              "Origin": "USA",
              "Weight_in_lbs": 3102,
              "Year": "1974-01-01"
             },
             {
              "Acceleration": 17,
              "Cylinders": 6,
              "Displacement": 200,
              "Horsepower": null,
              "Miles_per_Gallon": 21,
              "Name": "ford maverick",
              "Origin": "USA",
              "Weight_in_lbs": 2875,
              "Year": "1974-01-01"
             },
             {
              "Acceleration": 16,
              "Cylinders": 6,
              "Displacement": 232,
              "Horsepower": 100,
              "Miles_per_Gallon": 19,
              "Name": "amc hornet",
              "Origin": "USA",
              "Weight_in_lbs": 2901,
              "Year": "1974-01-01"
             },
             {
              "Acceleration": 17,
              "Cylinders": 6,
              "Displacement": 250,
              "Horsepower": 100,
              "Miles_per_Gallon": 15,
              "Name": "chevrolet nova",
              "Origin": "USA",
              "Weight_in_lbs": 3336,
              "Year": "1974-01-01"
             },
             {
              "Acceleration": 19,
              "Cylinders": 4,
              "Displacement": 79,
              "Horsepower": 67,
              "Miles_per_Gallon": 31,
              "Name": "datsun b210",
              "Origin": "Japan",
              "Weight_in_lbs": 1950,
              "Year": "1974-01-01"
             },
             {
              "Acceleration": 16.5,
              "Cylinders": 4,
              "Displacement": 122,
              "Horsepower": 80,
              "Miles_per_Gallon": 26,
              "Name": "ford pinto",
              "Origin": "USA",
              "Weight_in_lbs": 2451,
              "Year": "1974-01-01"
             },
             {
              "Acceleration": 21,
              "Cylinders": 4,
              "Displacement": 71,
              "Horsepower": 65,
              "Miles_per_Gallon": 32,
              "Name": "toyota corolla 1200",
              "Origin": "Japan",
              "Weight_in_lbs": 1836,
              "Year": "1974-01-01"
             },
             {
              "Acceleration": 17,
              "Cylinders": 4,
              "Displacement": 140,
              "Horsepower": 75,
              "Miles_per_Gallon": 25,
              "Name": "chevrolet vega",
              "Origin": "USA",
              "Weight_in_lbs": 2542,
              "Year": "1974-01-01"
             },
             {
              "Acceleration": 17,
              "Cylinders": 6,
              "Displacement": 250,
              "Horsepower": 100,
              "Miles_per_Gallon": 16,
              "Name": "chevrolet chevelle malibu classic",
              "Origin": "USA",
              "Weight_in_lbs": 3781,
              "Year": "1974-01-01"
             },
             {
              "Acceleration": 18,
              "Cylinders": 6,
              "Displacement": 258,
              "Horsepower": 110,
              "Miles_per_Gallon": 16,
              "Name": "amc matador",
              "Origin": "USA",
              "Weight_in_lbs": 3632,
              "Year": "1974-01-01"
             },
             {
              "Acceleration": 16.5,
              "Cylinders": 6,
              "Displacement": 225,
              "Horsepower": 105,
              "Miles_per_Gallon": 18,
              "Name": "plymouth satellite sebring",
              "Origin": "USA",
              "Weight_in_lbs": 3613,
              "Year": "1974-01-01"
             },
             {
              "Acceleration": 14,
              "Cylinders": 8,
              "Displacement": 302,
              "Horsepower": 140,
              "Miles_per_Gallon": 16,
              "Name": "ford gran torino",
              "Origin": "USA",
              "Weight_in_lbs": 4141,
              "Year": "1974-01-01"
             },
             {
              "Acceleration": 14.5,
              "Cylinders": 8,
              "Displacement": 350,
              "Horsepower": 150,
              "Miles_per_Gallon": 13,
              "Name": "buick century luxus (sw)",
              "Origin": "USA",
              "Weight_in_lbs": 4699,
              "Year": "1974-01-01"
             },
             {
              "Acceleration": 13.5,
              "Cylinders": 8,
              "Displacement": 318,
              "Horsepower": 150,
              "Miles_per_Gallon": 14,
              "Name": "dodge coronet custom (sw)",
              "Origin": "USA",
              "Weight_in_lbs": 4457,
              "Year": "1974-01-01"
             },
             {
              "Acceleration": 16,
              "Cylinders": 8,
              "Displacement": 302,
              "Horsepower": 140,
              "Miles_per_Gallon": 14,
              "Name": "ford gran torino (sw)",
              "Origin": "USA",
              "Weight_in_lbs": 4638,
              "Year": "1974-01-01"
             },
             {
              "Acceleration": 15.5,
              "Cylinders": 8,
              "Displacement": 304,
              "Horsepower": 150,
              "Miles_per_Gallon": 14,
              "Name": "amc matador (sw)",
              "Origin": "USA",
              "Weight_in_lbs": 4257,
              "Year": "1974-01-01"
             },
             {
              "Acceleration": 16.5,
              "Cylinders": 4,
              "Displacement": 98,
              "Horsepower": 83,
              "Miles_per_Gallon": 29,
              "Name": "audi fox",
              "Origin": "Europe",
              "Weight_in_lbs": 2219,
              "Year": "1974-01-01"
             },
             {
              "Acceleration": 15.5,
              "Cylinders": 4,
              "Displacement": 79,
              "Horsepower": 67,
              "Miles_per_Gallon": 26,
              "Name": "volkswagen dasher",
              "Origin": "Europe",
              "Weight_in_lbs": 1963,
              "Year": "1974-01-01"
             },
             {
              "Acceleration": 14.5,
              "Cylinders": 4,
              "Displacement": 97,
              "Horsepower": 78,
              "Miles_per_Gallon": 26,
              "Name": "opel manta",
              "Origin": "Europe",
              "Weight_in_lbs": 2300,
              "Year": "1974-01-01"
             },
             {
              "Acceleration": 16.5,
              "Cylinders": 4,
              "Displacement": 76,
              "Horsepower": 52,
              "Miles_per_Gallon": 31,
              "Name": "toyota corona",
              "Origin": "Japan",
              "Weight_in_lbs": 1649,
              "Year": "1974-01-01"
             },
             {
              "Acceleration": 19,
              "Cylinders": 4,
              "Displacement": 83,
              "Horsepower": 61,
              "Miles_per_Gallon": 32,
              "Name": "datsun 710",
              "Origin": "Japan",
              "Weight_in_lbs": 2003,
              "Year": "1974-01-01"
             },
             {
              "Acceleration": 14.5,
              "Cylinders": 4,
              "Displacement": 90,
              "Horsepower": 75,
              "Miles_per_Gallon": 28,
              "Name": "dodge colt",
              "Origin": "USA",
              "Weight_in_lbs": 2125,
              "Year": "1974-01-01"
             },
             {
              "Acceleration": 15.5,
              "Cylinders": 4,
              "Displacement": 90,
              "Horsepower": 75,
              "Miles_per_Gallon": 24,
              "Name": "fiat 128",
              "Origin": "Europe",
              "Weight_in_lbs": 2108,
              "Year": "1974-01-01"
             },
             {
              "Acceleration": 14,
              "Cylinders": 4,
              "Displacement": 116,
              "Horsepower": 75,
              "Miles_per_Gallon": 26,
              "Name": "fiat 124 tc",
              "Origin": "Europe",
              "Weight_in_lbs": 2246,
              "Year": "1974-01-01"
             },
             {
              "Acceleration": 15,
              "Cylinders": 4,
              "Displacement": 120,
              "Horsepower": 97,
              "Miles_per_Gallon": 24,
              "Name": "honda civic",
              "Origin": "Japan",
              "Weight_in_lbs": 2489,
              "Year": "1974-01-01"
             },
             {
              "Acceleration": 15.5,
              "Cylinders": 4,
              "Displacement": 108,
              "Horsepower": 93,
              "Miles_per_Gallon": 26,
              "Name": "subaru",
              "Origin": "Japan",
              "Weight_in_lbs": 2391,
              "Year": "1974-01-01"
             },
             {
              "Acceleration": 16,
              "Cylinders": 4,
              "Displacement": 79,
              "Horsepower": 67,
              "Miles_per_Gallon": 31,
              "Name": "fiat x1.9",
              "Origin": "Europe",
              "Weight_in_lbs": 2000,
              "Year": "1974-01-01"
             },
             {
              "Acceleration": 16,
              "Cylinders": 6,
              "Displacement": 225,
              "Horsepower": 95,
              "Miles_per_Gallon": 19,
              "Name": "plymouth valiant custom",
              "Origin": "USA",
              "Weight_in_lbs": 3264,
              "Year": "1975-01-01"
             },
             {
              "Acceleration": 16,
              "Cylinders": 6,
              "Displacement": 250,
              "Horsepower": 105,
              "Miles_per_Gallon": 18,
              "Name": "chevrolet nova",
              "Origin": "USA",
              "Weight_in_lbs": 3459,
              "Year": "1975-01-01"
             },
             {
              "Acceleration": 21,
              "Cylinders": 6,
              "Displacement": 250,
              "Horsepower": 72,
              "Miles_per_Gallon": 15,
              "Name": "mercury monarch",
              "Origin": "USA",
              "Weight_in_lbs": 3432,
              "Year": "1975-01-01"
             },
             {
              "Acceleration": 19.5,
              "Cylinders": 6,
              "Displacement": 250,
              "Horsepower": 72,
              "Miles_per_Gallon": 15,
              "Name": "ford maverick",
              "Origin": "USA",
              "Weight_in_lbs": 3158,
              "Year": "1975-01-01"
             },
             {
              "Acceleration": 11.5,
              "Cylinders": 8,
              "Displacement": 400,
              "Horsepower": 170,
              "Miles_per_Gallon": 16,
              "Name": "pontiac catalina",
              "Origin": "USA",
              "Weight_in_lbs": 4668,
              "Year": "1975-01-01"
             },
             {
              "Acceleration": 14,
              "Cylinders": 8,
              "Displacement": 350,
              "Horsepower": 145,
              "Miles_per_Gallon": 15,
              "Name": "chevrolet bel air",
              "Origin": "USA",
              "Weight_in_lbs": 4440,
              "Year": "1975-01-01"
             },
             {
              "Acceleration": 14.5,
              "Cylinders": 8,
              "Displacement": 318,
              "Horsepower": 150,
              "Miles_per_Gallon": 16,
              "Name": "plymouth grand fury",
              "Origin": "USA",
              "Weight_in_lbs": 4498,
              "Year": "1975-01-01"
             },
             {
              "Acceleration": 13.5,
              "Cylinders": 8,
              "Displacement": 351,
              "Horsepower": 148,
              "Miles_per_Gallon": 14,
              "Name": "ford ltd",
              "Origin": "USA",
              "Weight_in_lbs": 4657,
              "Year": "1975-01-01"
             },
             {
              "Acceleration": 21,
              "Cylinders": 6,
              "Displacement": 231,
              "Horsepower": 110,
              "Miles_per_Gallon": 17,
              "Name": "buick century",
              "Origin": "USA",
              "Weight_in_lbs": 3907,
              "Year": "1975-01-01"
             },
             {
              "Acceleration": 18.5,
              "Cylinders": 6,
              "Displacement": 250,
              "Horsepower": 105,
              "Miles_per_Gallon": 16,
              "Name": "chevroelt chevelle malibu",
              "Origin": "USA",
              "Weight_in_lbs": 3897,
              "Year": "1975-01-01"
             },
             {
              "Acceleration": 19,
              "Cylinders": 6,
              "Displacement": 258,
              "Horsepower": 110,
              "Miles_per_Gallon": 15,
              "Name": "amc matador",
              "Origin": "USA",
              "Weight_in_lbs": 3730,
              "Year": "1975-01-01"
             },
             {
              "Acceleration": 19,
              "Cylinders": 6,
              "Displacement": 225,
              "Horsepower": 95,
              "Miles_per_Gallon": 18,
              "Name": "plymouth fury",
              "Origin": "USA",
              "Weight_in_lbs": 3785,
              "Year": "1975-01-01"
             },
             {
              "Acceleration": 15,
              "Cylinders": 6,
              "Displacement": 231,
              "Horsepower": 110,
              "Miles_per_Gallon": 21,
              "Name": "buick skyhawk",
              "Origin": "USA",
              "Weight_in_lbs": 3039,
              "Year": "1975-01-01"
             },
             {
              "Acceleration": 13.5,
              "Cylinders": 8,
              "Displacement": 262,
              "Horsepower": 110,
              "Miles_per_Gallon": 20,
              "Name": "chevrolet monza 2+2",
              "Origin": "USA",
              "Weight_in_lbs": 3221,
              "Year": "1975-01-01"
             },
             {
              "Acceleration": 12,
              "Cylinders": 8,
              "Displacement": 302,
              "Horsepower": 129,
              "Miles_per_Gallon": 13,
              "Name": "ford mustang ii",
              "Origin": "USA",
              "Weight_in_lbs": 3169,
              "Year": "1975-01-01"
             },
             {
              "Acceleration": 16,
              "Cylinders": 4,
              "Displacement": 97,
              "Horsepower": 75,
              "Miles_per_Gallon": 29,
              "Name": "toyota corolla",
              "Origin": "Japan",
              "Weight_in_lbs": 2171,
              "Year": "1975-01-01"
             },
             {
              "Acceleration": 17,
              "Cylinders": 4,
              "Displacement": 140,
              "Horsepower": 83,
              "Miles_per_Gallon": 23,
              "Name": "ford pinto",
              "Origin": "USA",
              "Weight_in_lbs": 2639,
              "Year": "1975-01-01"
             },
             {
              "Acceleration": 16,
              "Cylinders": 6,
              "Displacement": 232,
              "Horsepower": 100,
              "Miles_per_Gallon": 20,
              "Name": "amc gremlin",
              "Origin": "USA",
              "Weight_in_lbs": 2914,
              "Year": "1975-01-01"
             },
             {
              "Acceleration": 18.5,
              "Cylinders": 4,
              "Displacement": 140,
              "Horsepower": 78,
              "Miles_per_Gallon": 23,
              "Name": "pontiac astro",
              "Origin": "USA",
              "Weight_in_lbs": 2592,
              "Year": "1975-01-01"
             },
             {
              "Acceleration": 13.5,
              "Cylinders": 4,
              "Displacement": 134,
              "Horsepower": 96,
              "Miles_per_Gallon": 24,
              "Name": "toyota corona",
              "Origin": "Japan",
              "Weight_in_lbs": 2702,
              "Year": "1975-01-01"
             },
             {
              "Acceleration": 16.5,
              "Cylinders": 4,
              "Displacement": 90,
              "Horsepower": 71,
              "Miles_per_Gallon": 25,
              "Name": "volkswagen dasher",
              "Origin": "Europe",
              "Weight_in_lbs": 2223,
              "Year": "1975-01-01"
             },
             {
              "Acceleration": 17,
              "Cylinders": 4,
              "Displacement": 119,
              "Horsepower": 97,
              "Miles_per_Gallon": 24,
              "Name": "datsun 710",
              "Origin": "Japan",
              "Weight_in_lbs": 2545,
              "Year": "1975-01-01"
             },
             {
              "Acceleration": 14.5,
              "Cylinders": 6,
              "Displacement": 171,
              "Horsepower": 97,
              "Miles_per_Gallon": 18,
              "Name": "ford pinto",
              "Origin": "USA",
              "Weight_in_lbs": 2984,
              "Year": "1975-01-01"
             },
             {
              "Acceleration": 14,
              "Cylinders": 4,
              "Displacement": 90,
              "Horsepower": 70,
              "Miles_per_Gallon": 29,
              "Name": "volkswagen rabbit",
              "Origin": "Europe",
              "Weight_in_lbs": 1937,
              "Year": "1975-01-01"
             },
             {
              "Acceleration": 17,
              "Cylinders": 6,
              "Displacement": 232,
              "Horsepower": 90,
              "Miles_per_Gallon": 19,
              "Name": "amc pacer",
              "Origin": "USA",
              "Weight_in_lbs": 3211,
              "Year": "1975-01-01"
             },
             {
              "Acceleration": 15,
              "Cylinders": 4,
              "Displacement": 115,
              "Horsepower": 95,
              "Miles_per_Gallon": 23,
              "Name": "audi 100ls",
              "Origin": "Europe",
              "Weight_in_lbs": 2694,
              "Year": "1975-01-01"
             },
             {
              "Acceleration": 17,
              "Cylinders": 4,
              "Displacement": 120,
              "Horsepower": 88,
              "Miles_per_Gallon": 23,
              "Name": "peugeot 504",
              "Origin": "Europe",
              "Weight_in_lbs": 2957,
              "Year": "1975-01-01"
             },
             {
              "Acceleration": 14.5,
              "Cylinders": 4,
              "Displacement": 121,
              "Horsepower": 98,
              "Miles_per_Gallon": 22,
              "Name": "volvo 244dl",
              "Origin": "Europe",
              "Weight_in_lbs": 2945,
              "Year": "1975-01-01"
             },
             {
              "Acceleration": 13.5,
              "Cylinders": 4,
              "Displacement": 121,
              "Horsepower": 115,
              "Miles_per_Gallon": 25,
              "Name": "saab 99le",
              "Origin": "Europe",
              "Weight_in_lbs": 2671,
              "Year": "1975-01-01"
             },
             {
              "Acceleration": 17.5,
              "Cylinders": 4,
              "Displacement": 91,
              "Horsepower": 53,
              "Miles_per_Gallon": 33,
              "Name": "honda civic cvcc",
              "Origin": "Japan",
              "Weight_in_lbs": 1795,
              "Year": "1975-01-01"
             },
             {
              "Acceleration": 15.5,
              "Cylinders": 4,
              "Displacement": 107,
              "Horsepower": 86,
              "Miles_per_Gallon": 28,
              "Name": "fiat 131",
              "Origin": "Europe",
              "Weight_in_lbs": 2464,
              "Year": "1976-01-01"
             },
             {
              "Acceleration": 16.9,
              "Cylinders": 4,
              "Displacement": 116,
              "Horsepower": 81,
              "Miles_per_Gallon": 25,
              "Name": "opel 1900",
              "Origin": "Europe",
              "Weight_in_lbs": 2220,
              "Year": "1976-01-01"
             },
             {
              "Acceleration": 14.9,
              "Cylinders": 4,
              "Displacement": 140,
              "Horsepower": 92,
              "Miles_per_Gallon": 25,
              "Name": "capri ii",
              "Origin": "USA",
              "Weight_in_lbs": 2572,
              "Year": "1976-01-01"
             },
             {
              "Acceleration": 17.7,
              "Cylinders": 4,
              "Displacement": 98,
              "Horsepower": 79,
              "Miles_per_Gallon": 26,
              "Name": "dodge colt",
              "Origin": "USA",
              "Weight_in_lbs": 2255,
              "Year": "1976-01-01"
             },
             {
              "Acceleration": 15.3,
              "Cylinders": 4,
              "Displacement": 101,
              "Horsepower": 83,
              "Miles_per_Gallon": 27,
              "Name": "renault 12tl",
              "Origin": "Europe",
              "Weight_in_lbs": 2202,
              "Year": "1976-01-01"
             },
             {
              "Acceleration": 13,
              "Cylinders": 8,
              "Displacement": 305,
              "Horsepower": 140,
              "Miles_per_Gallon": 17.5,
              "Name": "chevrolet chevelle malibu classic",
              "Origin": "USA",
              "Weight_in_lbs": 4215,
              "Year": "1976-01-01"
             },
             {
              "Acceleration": 13,
              "Cylinders": 8,
              "Displacement": 318,
              "Horsepower": 150,
              "Miles_per_Gallon": 16,
              "Name": "dodge coronet brougham",
              "Origin": "USA",
              "Weight_in_lbs": 4190,
              "Year": "1976-01-01"
             },
             {
              "Acceleration": 13.9,
              "Cylinders": 8,
              "Displacement": 304,
              "Horsepower": 120,
              "Miles_per_Gallon": 15.5,
              "Name": "amc matador",
              "Origin": "USA",
              "Weight_in_lbs": 3962,
              "Year": "1976-01-01"
             },
             {
              "Acceleration": 12.8,
              "Cylinders": 8,
              "Displacement": 351,
              "Horsepower": 152,
              "Miles_per_Gallon": 14.5,
              "Name": "ford gran torino",
              "Origin": "USA",
              "Weight_in_lbs": 4215,
              "Year": "1976-01-01"
             },
             {
              "Acceleration": 15.4,
              "Cylinders": 6,
              "Displacement": 225,
              "Horsepower": 100,
              "Miles_per_Gallon": 22,
              "Name": "plymouth valiant",
              "Origin": "USA",
              "Weight_in_lbs": 3233,
              "Year": "1976-01-01"
             },
             {
              "Acceleration": 14.5,
              "Cylinders": 6,
              "Displacement": 250,
              "Horsepower": 105,
              "Miles_per_Gallon": 22,
              "Name": "chevrolet nova",
              "Origin": "USA",
              "Weight_in_lbs": 3353,
              "Year": "1976-01-01"
             },
             {
              "Acceleration": 17.6,
              "Cylinders": 6,
              "Displacement": 200,
              "Horsepower": 81,
              "Miles_per_Gallon": 24,
              "Name": "ford maverick",
              "Origin": "USA",
              "Weight_in_lbs": 3012,
              "Year": "1976-01-01"
             },
             {
              "Acceleration": 17.6,
              "Cylinders": 6,
              "Displacement": 232,
              "Horsepower": 90,
              "Miles_per_Gallon": 22.5,
              "Name": "amc hornet",
              "Origin": "USA",
              "Weight_in_lbs": 3085,
              "Year": "1976-01-01"
             },
             {
              "Acceleration": 22.2,
              "Cylinders": 4,
              "Displacement": 85,
              "Horsepower": 52,
              "Miles_per_Gallon": 29,
              "Name": "chevrolet chevette",
              "Origin": "USA",
              "Weight_in_lbs": 2035,
              "Year": "1976-01-01"
             },
             {
              "Acceleration": 22.1,
              "Cylinders": 4,
              "Displacement": 98,
              "Horsepower": 60,
              "Miles_per_Gallon": 24.5,
              "Name": "chevrolet woody",
              "Origin": "USA",
              "Weight_in_lbs": 2164,
              "Year": "1976-01-01"
             },
             {
              "Acceleration": 14.2,
              "Cylinders": 4,
              "Displacement": 90,
              "Horsepower": 70,
              "Miles_per_Gallon": 29,
              "Name": "vw rabbit",
              "Origin": "Europe",
              "Weight_in_lbs": 1937,
              "Year": "1976-01-01"
             },
             {
              "Acceleration": 17.4,
              "Cylinders": 4,
              "Displacement": 91,
              "Horsepower": 53,
              "Miles_per_Gallon": 33,
              "Name": "honda civic",
              "Origin": "Japan",
              "Weight_in_lbs": 1795,
              "Year": "1976-01-01"
             },
             {
              "Acceleration": 17.7,
              "Cylinders": 6,
              "Displacement": 225,
              "Horsepower": 100,
              "Miles_per_Gallon": 20,
              "Name": "dodge aspen se",
              "Origin": "USA",
              "Weight_in_lbs": 3651,
              "Year": "1976-01-01"
             },
             {
              "Acceleration": 21,
              "Cylinders": 6,
              "Displacement": 250,
              "Horsepower": 78,
              "Miles_per_Gallon": 18,
              "Name": "ford granada ghia",
              "Origin": "USA",
              "Weight_in_lbs": 3574,
              "Year": "1976-01-01"
             },
             {
              "Acceleration": 16.2,
              "Cylinders": 6,
              "Displacement": 250,
              "Horsepower": 110,
              "Miles_per_Gallon": 18.5,
              "Name": "pontiac ventura sj",
              "Origin": "USA",
              "Weight_in_lbs": 3645,
              "Year": "1976-01-01"
             },
             {
              "Acceleration": 17.8,
              "Cylinders": 6,
              "Displacement": 258,
              "Horsepower": 95,
              "Miles_per_Gallon": 17.5,
              "Name": "amc pacer d/l",
              "Origin": "USA",
              "Weight_in_lbs": 3193,
              "Year": "1976-01-01"
             },
             {
              "Acceleration": 12.2,
              "Cylinders": 4,
              "Displacement": 97,
              "Horsepower": 71,
              "Miles_per_Gallon": 29.5,
              "Name": "volkswagen rabbit",
              "Origin": "Europe",
              "Weight_in_lbs": 1825,
              "Year": "1976-01-01"
             },
             {
              "Acceleration": 17,
              "Cylinders": 4,
              "Displacement": 85,
              "Horsepower": 70,
              "Miles_per_Gallon": 32,
              "Name": "datsun b-210",
              "Origin": "Japan",
              "Weight_in_lbs": 1990,
              "Year": "1976-01-01"
             },
             {
              "Acceleration": 16.4,
              "Cylinders": 4,
              "Displacement": 97,
              "Horsepower": 75,
              "Miles_per_Gallon": 28,
              "Name": "toyota corolla",
              "Origin": "Japan",
              "Weight_in_lbs": 2155,
              "Year": "1976-01-01"
             },
             {
              "Acceleration": 13.6,
              "Cylinders": 4,
              "Displacement": 140,
              "Horsepower": 72,
              "Miles_per_Gallon": 26.5,
              "Name": "ford pinto",
              "Origin": "USA",
              "Weight_in_lbs": 2565,
              "Year": "1976-01-01"
             },
             {
              "Acceleration": 15.7,
              "Cylinders": 4,
              "Displacement": 130,
              "Horsepower": 102,
              "Miles_per_Gallon": 20,
              "Name": "volvo 245",
              "Origin": "Europe",
              "Weight_in_lbs": 3150,
              "Year": "1976-01-01"
             },
             {
              "Acceleration": 13.2,
              "Cylinders": 8,
              "Displacement": 318,
              "Horsepower": 150,
              "Miles_per_Gallon": 13,
              "Name": "plymouth volare premier v8",
              "Origin": "USA",
              "Weight_in_lbs": 3940,
              "Year": "1976-01-01"
             },
             {
              "Acceleration": 21.9,
              "Cylinders": 4,
              "Displacement": 120,
              "Horsepower": 88,
              "Miles_per_Gallon": 19,
              "Name": "peugeot 504",
              "Origin": "Europe",
              "Weight_in_lbs": 3270,
              "Year": "1976-01-01"
             },
             {
              "Acceleration": 15.5,
              "Cylinders": 6,
              "Displacement": 156,
              "Horsepower": 108,
              "Miles_per_Gallon": 19,
              "Name": "toyota mark ii",
              "Origin": "Japan",
              "Weight_in_lbs": 2930,
              "Year": "1976-01-01"
             },
             {
              "Acceleration": 16.7,
              "Cylinders": 6,
              "Displacement": 168,
              "Horsepower": 120,
              "Miles_per_Gallon": 16.5,
              "Name": "mercedes-benz 280s",
              "Origin": "Europe",
              "Weight_in_lbs": 3820,
              "Year": "1976-01-01"
             },
             {
              "Acceleration": 12.1,
              "Cylinders": 8,
              "Displacement": 350,
              "Horsepower": 180,
              "Miles_per_Gallon": 16.5,
              "Name": "cadillac seville",
              "Origin": "USA",
              "Weight_in_lbs": 4380,
              "Year": "1976-01-01"
             },
             {
              "Acceleration": 12,
              "Cylinders": 8,
              "Displacement": 350,
              "Horsepower": 145,
              "Miles_per_Gallon": 13,
              "Name": "chevy c10",
              "Origin": "USA",
              "Weight_in_lbs": 4055,
              "Year": "1976-01-01"
             },
             {
              "Acceleration": 15,
              "Cylinders": 8,
              "Displacement": 302,
              "Horsepower": 130,
              "Miles_per_Gallon": 13,
              "Name": "ford f108",
              "Origin": "USA",
              "Weight_in_lbs": 3870,
              "Year": "1976-01-01"
             },
             {
              "Acceleration": 14,
              "Cylinders": 8,
              "Displacement": 318,
              "Horsepower": 150,
              "Miles_per_Gallon": 13,
              "Name": "dodge d100",
              "Origin": "USA",
              "Weight_in_lbs": 3755,
              "Year": "1976-01-01"
             },
             {
              "Acceleration": 18.5,
              "Cylinders": 4,
              "Displacement": 98,
              "Horsepower": 68,
              "Miles_per_Gallon": 31.5,
              "Name": "honda Accelerationord cvcc",
              "Origin": "Japan",
              "Weight_in_lbs": 2045,
              "Year": "1977-01-01"
             },
             {
              "Acceleration": 14.8,
              "Cylinders": 4,
              "Displacement": 111,
              "Horsepower": 80,
              "Miles_per_Gallon": 30,
              "Name": "buick opel isuzu deluxe",
              "Origin": "USA",
              "Weight_in_lbs": 2155,
              "Year": "1977-01-01"
             },
             {
              "Acceleration": 18.6,
              "Cylinders": 4,
              "Displacement": 79,
              "Horsepower": 58,
              "Miles_per_Gallon": 36,
              "Name": "renault 5 gtl",
              "Origin": "Europe",
              "Weight_in_lbs": 1825,
              "Year": "1977-01-01"
             },
             {
              "Acceleration": 15.5,
              "Cylinders": 4,
              "Displacement": 122,
              "Horsepower": 96,
              "Miles_per_Gallon": 25.5,
              "Name": "plymouth arrow gs",
              "Origin": "USA",
              "Weight_in_lbs": 2300,
              "Year": "1977-01-01"
             },
             {
              "Acceleration": 16.8,
              "Cylinders": 4,
              "Displacement": 85,
              "Horsepower": 70,
              "Miles_per_Gallon": 33.5,
              "Name": "datsun f-10 hatchback",
              "Origin": "Japan",
              "Weight_in_lbs": 1945,
              "Year": "1977-01-01"
             },
             {
              "Acceleration": 12.5,
              "Cylinders": 8,
              "Displacement": 305,
              "Horsepower": 145,
              "Miles_per_Gallon": 17.5,
              "Name": "chevrolet caprice classic",
              "Origin": "USA",
              "Weight_in_lbs": 3880,
              "Year": "1977-01-01"
             },
             {
              "Acceleration": 19,
              "Cylinders": 8,
              "Displacement": 260,
              "Horsepower": 110,
              "Miles_per_Gallon": 17,
              "Name": "oldsmobile cutlass supreme",
              "Origin": "USA",
              "Weight_in_lbs": 4060,
              "Year": "1977-01-01"
             },
             {
              "Acceleration": 13.7,
              "Cylinders": 8,
              "Displacement": 318,
              "Horsepower": 145,
              "Miles_per_Gallon": 15.5,
              "Name": "dodge monaco brougham",
              "Origin": "USA",
              "Weight_in_lbs": 4140,
              "Year": "1977-01-01"
             },
             {
              "Acceleration": 14.9,
              "Cylinders": 8,
              "Displacement": 302,
              "Horsepower": 130,
              "Miles_per_Gallon": 15,
              "Name": "mercury cougar brougham",
              "Origin": "USA",
              "Weight_in_lbs": 4295,
              "Year": "1977-01-01"
             },
             {
              "Acceleration": 16.4,
              "Cylinders": 6,
              "Displacement": 250,
              "Horsepower": 110,
              "Miles_per_Gallon": 17.5,
              "Name": "chevrolet concours",
              "Origin": "USA",
              "Weight_in_lbs": 3520,
              "Year": "1977-01-01"
             },
             {
              "Acceleration": 16.9,
              "Cylinders": 6,
              "Displacement": 231,
              "Horsepower": 105,
              "Miles_per_Gallon": 20.5,
              "Name": "buick skylark",
              "Origin": "USA",
              "Weight_in_lbs": 3425,
              "Year": "1977-01-01"
             },
             {
              "Acceleration": 17.7,
              "Cylinders": 6,
              "Displacement": 225,
              "Horsepower": 100,
              "Miles_per_Gallon": 19,
              "Name": "plymouth volare custom",
              "Origin": "USA",
              "Weight_in_lbs": 3630,
              "Year": "1977-01-01"
             },
             {
              "Acceleration": 19,
              "Cylinders": 6,
              "Displacement": 250,
              "Horsepower": 98,
              "Miles_per_Gallon": 18.5,
              "Name": "ford granada",
              "Origin": "USA",
              "Weight_in_lbs": 3525,
              "Year": "1977-01-01"
             },
             {
              "Acceleration": 11.1,
              "Cylinders": 8,
              "Displacement": 400,
              "Horsepower": 180,
              "Miles_per_Gallon": 16,
              "Name": "pontiac grand prix lj",
              "Origin": "USA",
              "Weight_in_lbs": 4220,
              "Year": "1977-01-01"
             },
             {
              "Acceleration": 11.4,
              "Cylinders": 8,
              "Displacement": 350,
              "Horsepower": 170,
              "Miles_per_Gallon": 15.5,
              "Name": "chevrolet monte carlo landau",
              "Origin": "USA",
              "Weight_in_lbs": 4165,
              "Year": "1977-01-01"
             },
             {
              "Acceleration": 12.2,
              "Cylinders": 8,
              "Displacement": 400,
              "Horsepower": 190,
              "Miles_per_Gallon": 15.5,
              "Name": "chrysler cordoba",
              "Origin": "USA",
              "Weight_in_lbs": 4325,
              "Year": "1977-01-01"
             },
             {
              "Acceleration": 14.5,
              "Cylinders": 8,
              "Displacement": 351,
              "Horsepower": 149,
              "Miles_per_Gallon": 16,
              "Name": "ford thunderbird",
              "Origin": "USA",
              "Weight_in_lbs": 4335,
              "Year": "1977-01-01"
             },
             {
              "Acceleration": 14.5,
              "Cylinders": 4,
              "Displacement": 97,
              "Horsepower": 78,
              "Miles_per_Gallon": 29,
              "Name": "volkswagen rabbit custom",
              "Origin": "Europe",
              "Weight_in_lbs": 1940,
              "Year": "1977-01-01"
             },
             {
              "Acceleration": 16,
              "Cylinders": 4,
              "Displacement": 151,
              "Horsepower": 88,
              "Miles_per_Gallon": 24.5,
              "Name": "pontiac sunbird coupe",
              "Origin": "USA",
              "Weight_in_lbs": 2740,
              "Year": "1977-01-01"
             },
             {
              "Acceleration": 18.2,
              "Cylinders": 4,
              "Displacement": 97,
              "Horsepower": 75,
              "Miles_per_Gallon": 26,
              "Name": "toyota corolla liftback",
              "Origin": "Japan",
              "Weight_in_lbs": 2265,
              "Year": "1977-01-01"
             },
             {
              "Acceleration": 15.8,
              "Cylinders": 4,
              "Displacement": 140,
              "Horsepower": 89,
              "Miles_per_Gallon": 25.5,
              "Name": "ford mustang ii 2+2",
              "Origin": "USA",
              "Weight_in_lbs": 2755,
              "Year": "1977-01-01"
             },
             {
              "Acceleration": 17,
              "Cylinders": 4,
              "Displacement": 98,
              "Horsepower": 63,
              "Miles_per_Gallon": 30.5,
              "Name": "chevrolet chevette",
              "Origin": "USA",
              "Weight_in_lbs": 2051,
              "Year": "1977-01-01"
             },
             {
              "Acceleration": 15.9,
              "Cylinders": 4,
              "Displacement": 98,
              "Horsepower": 83,
              "Miles_per_Gallon": 33.5,
              "Name": "dodge colt m/m",
              "Origin": "USA",
              "Weight_in_lbs": 2075,
              "Year": "1977-01-01"
             },
             {
              "Acceleration": 16.4,
              "Cylinders": 4,
              "Displacement": 97,
              "Horsepower": 67,
              "Miles_per_Gallon": 30,
              "Name": "subaru dl",
              "Origin": "Japan",
              "Weight_in_lbs": 1985,
              "Year": "1977-01-01"
             },
             {
              "Acceleration": 14.1,
              "Cylinders": 4,
              "Displacement": 97,
              "Horsepower": 78,
              "Miles_per_Gallon": 30.5,
              "Name": "volkswagen dasher",
              "Origin": "Europe",
              "Weight_in_lbs": 2190,
              "Year": "1977-01-01"
             },
             {
              "Acceleration": 14.5,
              "Cylinders": 6,
              "Displacement": 146,
              "Horsepower": 97,
              "Miles_per_Gallon": 22,
              "Name": "datsun 810",
              "Origin": "Japan",
              "Weight_in_lbs": 2815,
              "Year": "1977-01-01"
             },
             {
              "Acceleration": 12.8,
              "Cylinders": 4,
              "Displacement": 121,
              "Horsepower": 110,
              "Miles_per_Gallon": 21.5,
              "Name": "bmw 320i",
              "Origin": "Europe",
              "Weight_in_lbs": 2600,
              "Year": "1977-01-01"
             },
             {
              "Acceleration": 13.5,
              "Cylinders": 3,
              "Displacement": 80,
              "Horsepower": 110,
              "Miles_per_Gallon": 21.5,
              "Name": "mazda rx-4",
              "Origin": "Japan",
              "Weight_in_lbs": 2720,
              "Year": "1977-01-01"
             },
             {
              "Acceleration": 21.5,
              "Cylinders": 4,
              "Displacement": 90,
              "Horsepower": 48,
              "Miles_per_Gallon": 43.1,
              "Name": "volkswagen rabbit custom diesel",
              "Origin": "Europe",
              "Weight_in_lbs": 1985,
              "Year": "1978-01-01"
             },
             {
              "Acceleration": 14.4,
              "Cylinders": 4,
              "Displacement": 98,
              "Horsepower": 66,
              "Miles_per_Gallon": 36.1,
              "Name": "ford fiesta",
              "Origin": "USA",
              "Weight_in_lbs": 1800,
              "Year": "1978-01-01"
             },
             {
              "Acceleration": 19.4,
              "Cylinders": 4,
              "Displacement": 78,
              "Horsepower": 52,
              "Miles_per_Gallon": 32.8,
              "Name": "mazda glc deluxe",
              "Origin": "Japan",
              "Weight_in_lbs": 1985,
              "Year": "1978-01-01"
             },
             {
              "Acceleration": 18.6,
              "Cylinders": 4,
              "Displacement": 85,
              "Horsepower": 70,
              "Miles_per_Gallon": 39.4,
              "Name": "datsun b210 gx",
              "Origin": "Japan",
              "Weight_in_lbs": 2070,
              "Year": "1978-01-01"
             },
             {
              "Acceleration": 16.4,
              "Cylinders": 4,
              "Displacement": 91,
              "Horsepower": 60,
              "Miles_per_Gallon": 36.1,
              "Name": "honda civic cvcc",
              "Origin": "Japan",
              "Weight_in_lbs": 1800,
              "Year": "1978-01-01"
             },
             {
              "Acceleration": 15.5,
              "Cylinders": 8,
              "Displacement": 260,
              "Horsepower": 110,
              "Miles_per_Gallon": 19.9,
              "Name": "oldsmobile cutlass salon brougham",
              "Origin": "USA",
              "Weight_in_lbs": 3365,
              "Year": "1978-01-01"
             },
             {
              "Acceleration": 13.2,
              "Cylinders": 8,
              "Displacement": 318,
              "Horsepower": 140,
              "Miles_per_Gallon": 19.4,
              "Name": "dodge diplomat",
              "Origin": "USA",
              "Weight_in_lbs": 3735,
              "Year": "1978-01-01"
             },
             {
              "Acceleration": 12.8,
              "Cylinders": 8,
              "Displacement": 302,
              "Horsepower": 139,
              "Miles_per_Gallon": 20.2,
              "Name": "mercury monarch ghia",
              "Origin": "USA",
              "Weight_in_lbs": 3570,
              "Year": "1978-01-01"
             },
             {
              "Acceleration": 19.2,
              "Cylinders": 6,
              "Displacement": 231,
              "Horsepower": 105,
              "Miles_per_Gallon": 19.2,
              "Name": "pontiac phoenix lj",
              "Origin": "USA",
              "Weight_in_lbs": 3535,
              "Year": "1978-01-01"
             },
             {
              "Acceleration": 18.2,
              "Cylinders": 6,
              "Displacement": 200,
              "Horsepower": 95,
              "Miles_per_Gallon": 20.5,
              "Name": "chevrolet malibu",
              "Origin": "USA",
              "Weight_in_lbs": 3155,
              "Year": "1978-01-01"
             },
             {
              "Acceleration": 15.8,
              "Cylinders": 6,
              "Displacement": 200,
              "Horsepower": 85,
              "Miles_per_Gallon": 20.2,
              "Name": "ford fairmont (auto)",
              "Origin": "USA",
              "Weight_in_lbs": 2965,
              "Year": "1978-01-01"
             },
             {
              "Acceleration": 15.4,
              "Cylinders": 4,
              "Displacement": 140,
              "Horsepower": 88,
              "Miles_per_Gallon": 25.1,
              "Name": "ford fairmont (man)",
              "Origin": "USA",
              "Weight_in_lbs": 2720,
              "Year": "1978-01-01"
             },
             {
              "Acceleration": 17.2,
              "Cylinders": 6,
              "Displacement": 225,
              "Horsepower": 100,
              "Miles_per_Gallon": 20.5,
              "Name": "plymouth volare",
              "Origin": "USA",
              "Weight_in_lbs": 3430,
              "Year": "1978-01-01"
             },
             {
              "Acceleration": 17.2,
              "Cylinders": 6,
              "Displacement": 232,
              "Horsepower": 90,
              "Miles_per_Gallon": 19.4,
              "Name": "amc concord",
              "Origin": "USA",
              "Weight_in_lbs": 3210,
              "Year": "1978-01-01"
             },
             {
              "Acceleration": 15.8,
              "Cylinders": 6,
              "Displacement": 231,
              "Horsepower": 105,
              "Miles_per_Gallon": 20.6,
              "Name": "buick century special",
              "Origin": "USA",
              "Weight_in_lbs": 3380,
              "Year": "1978-01-01"
             },
             {
              "Acceleration": 16.7,
              "Cylinders": 6,
              "Displacement": 200,
              "Horsepower": 85,
              "Miles_per_Gallon": 20.8,
              "Name": "mercury zephyr",
              "Origin": "USA",
              "Weight_in_lbs": 3070,
              "Year": "1978-01-01"
             },
             {
              "Acceleration": 18.7,
              "Cylinders": 6,
              "Displacement": 225,
              "Horsepower": 110,
              "Miles_per_Gallon": 18.6,
              "Name": "dodge aspen",
              "Origin": "USA",
              "Weight_in_lbs": 3620,
              "Year": "1978-01-01"
             },
             {
              "Acceleration": 15.1,
              "Cylinders": 6,
              "Displacement": 258,
              "Horsepower": 120,
              "Miles_per_Gallon": 18.1,
              "Name": "amc concord d/l",
              "Origin": "USA",
              "Weight_in_lbs": 3410,
              "Year": "1978-01-01"
             },
             {
              "Acceleration": 13.2,
              "Cylinders": 8,
              "Displacement": 305,
              "Horsepower": 145,
              "Miles_per_Gallon": 19.2,
              "Name": "chevrolet monte carlo landau",
              "Origin": "USA",
              "Weight_in_lbs": 3425,
              "Year": "1978-01-01"
             },
             {
              "Acceleration": 13.4,
              "Cylinders": 6,
              "Displacement": 231,
              "Horsepower": 165,
              "Miles_per_Gallon": 17.7,
              "Name": "buick regal sport coupe (turbo)",
              "Origin": "USA",
              "Weight_in_lbs": 3445,
              "Year": "1978-01-01"
             },
             {
              "Acceleration": 11.2,
              "Cylinders": 8,
              "Displacement": 302,
              "Horsepower": 139,
              "Miles_per_Gallon": 18.1,
              "Name": "ford futura",
              "Origin": "USA",
              "Weight_in_lbs": 3205,
              "Year": "1978-01-01"
             },
             {
              "Acceleration": 13.7,
              "Cylinders": 8,
              "Displacement": 318,
              "Horsepower": 140,
              "Miles_per_Gallon": 17.5,
              "Name": "dodge magnum xe",
              "Origin": "USA",
              "Weight_in_lbs": 4080,
              "Year": "1978-01-01"
             },
             {
              "Acceleration": 16.5,
              "Cylinders": 4,
              "Displacement": 98,
              "Horsepower": 68,
              "Miles_per_Gallon": 30,
              "Name": "chevrolet chevette",
              "Origin": "USA",
              "Weight_in_lbs": 2155,
              "Year": "1978-01-01"
             },
             {
              "Acceleration": 14.2,
              "Cylinders": 4,
              "Displacement": 134,
              "Horsepower": 95,
              "Miles_per_Gallon": 27.5,
              "Name": "toyota corona",
              "Origin": "Japan",
              "Weight_in_lbs": 2560,
              "Year": "1978-01-01"
             },
             {
              "Acceleration": 14.7,
              "Cylinders": 4,
              "Displacement": 119,
              "Horsepower": 97,
              "Miles_per_Gallon": 27.2,
              "Name": "datsun 510",
              "Origin": "Japan",
              "Weight_in_lbs": 2300,
              "Year": "1978-01-01"
             },
             {
              "Acceleration": 14.5,
              "Cylinders": 4,
              "Displacement": 105,
              "Horsepower": 75,
              "Miles_per_Gallon": 30.9,
              "Name": "dodge omni",
              "Origin": "USA",
              "Weight_in_lbs": 2230,
              "Year": "1978-01-01"
             },
             {
              "Acceleration": 14.8,
              "Cylinders": 4,
              "Displacement": 134,
              "Horsepower": 95,
              "Miles_per_Gallon": 21.1,
              "Name": "toyota celica gt liftback",
              "Origin": "Japan",
              "Weight_in_lbs": 2515,
              "Year": "1978-01-01"
             },
             {
              "Acceleration": 16.7,
              "Cylinders": 4,
              "Displacement": 156,
              "Horsepower": 105,
              "Miles_per_Gallon": 23.2,
              "Name": "plymouth sapporo",
              "Origin": "USA",
              "Weight_in_lbs": 2745,
              "Year": "1978-01-01"
             },
             {
              "Acceleration": 17.6,
              "Cylinders": 4,
              "Displacement": 151,
              "Horsepower": 85,
              "Miles_per_Gallon": 23.8,
              "Name": "oldsmobile starfire sx",
              "Origin": "USA",
              "Weight_in_lbs": 2855,
              "Year": "1978-01-01"
             },
             {
              "Acceleration": 14.9,
              "Cylinders": 4,
              "Displacement": 119,
              "Horsepower": 97,
              "Miles_per_Gallon": 23.9,
              "Name": "datsun 200-sx",
              "Origin": "Japan",
              "Weight_in_lbs": 2405,
              "Year": "1978-01-01"
             },
             {
              "Acceleration": 15.9,
              "Cylinders": 5,
              "Displacement": 131,
              "Horsepower": 103,
              "Miles_per_Gallon": 20.3,
              "Name": "audi 5000",
              "Origin": "Europe",
              "Weight_in_lbs": 2830,
              "Year": "1978-01-01"
             },
             {
              "Acceleration": 13.6,
              "Cylinders": 6,
              "Displacement": 163,
              "Horsepower": 125,
              "Miles_per_Gallon": 17,
              "Name": "volvo 264gl",
              "Origin": "Europe",
              "Weight_in_lbs": 3140,
              "Year": "1978-01-01"
             },
             {
              "Acceleration": 15.7,
              "Cylinders": 4,
              "Displacement": 121,
              "Horsepower": 115,
              "Miles_per_Gallon": 21.6,
              "Name": "saab 99gle",
              "Origin": "Europe",
              "Weight_in_lbs": 2795,
              "Year": "1978-01-01"
             },
             {
              "Acceleration": 15.8,
              "Cylinders": 6,
              "Displacement": 163,
              "Horsepower": 133,
              "Miles_per_Gallon": 16.2,
              "Name": "peugeot 604sl",
              "Origin": "Europe",
              "Weight_in_lbs": 3410,
              "Year": "1978-01-01"
             },
             {
              "Acceleration": 14.9,
              "Cylinders": 4,
              "Displacement": 89,
              "Horsepower": 71,
              "Miles_per_Gallon": 31.5,
              "Name": "volkswagen scirocco",
              "Origin": "Europe",
              "Weight_in_lbs": 1990,
              "Year": "1978-01-01"
             },
             {
              "Acceleration": 16.6,
              "Cylinders": 4,
              "Displacement": 98,
              "Horsepower": 68,
              "Miles_per_Gallon": 29.5,
              "Name": "honda Accelerationord lx",
              "Origin": "Japan",
              "Weight_in_lbs": 2135,
              "Year": "1978-01-01"
             },
             {
              "Acceleration": 15.4,
              "Cylinders": 6,
              "Displacement": 231,
              "Horsepower": 115,
              "Miles_per_Gallon": 21.5,
              "Name": "pontiac lemans v6",
              "Origin": "USA",
              "Weight_in_lbs": 3245,
              "Year": "1979-01-01"
             },
             {
              "Acceleration": 18.2,
              "Cylinders": 6,
              "Displacement": 200,
              "Horsepower": 85,
              "Miles_per_Gallon": 19.8,
              "Name": "mercury zephyr 6",
              "Origin": "USA",
              "Weight_in_lbs": 2990,
              "Year": "1979-01-01"
             },
             {
              "Acceleration": 17.3,
              "Cylinders": 4,
              "Displacement": 140,
              "Horsepower": 88,
              "Miles_per_Gallon": 22.3,
              "Name": "ford fairmont 4",
              "Origin": "USA",
              "Weight_in_lbs": 2890,
              "Year": "1979-01-01"
             },
             {
              "Acceleration": 18.2,
              "Cylinders": 6,
              "Displacement": 232,
              "Horsepower": 90,
              "Miles_per_Gallon": 20.2,
              "Name": "amc concord dl 6",
              "Origin": "USA",
              "Weight_in_lbs": 3265,
              "Year": "1979-01-01"
             },
             {
              "Acceleration": 16.6,
              "Cylinders": 6,
              "Displacement": 225,
              "Horsepower": 110,
              "Miles_per_Gallon": 20.6,
              "Name": "dodge aspen 6",
              "Origin": "USA",
              "Weight_in_lbs": 3360,
              "Year": "1979-01-01"
             },
             {
              "Acceleration": 15.4,
              "Cylinders": 8,
              "Displacement": 305,
              "Horsepower": 130,
              "Miles_per_Gallon": 17,
              "Name": "chevrolet caprice classic",
              "Origin": "USA",
              "Weight_in_lbs": 3840,
              "Year": "1979-01-01"
             },
             {
              "Acceleration": 13.4,
              "Cylinders": 8,
              "Displacement": 302,
              "Horsepower": 129,
              "Miles_per_Gallon": 17.6,
              "Name": "ford ltd landau",
              "Origin": "USA",
              "Weight_in_lbs": 3725,
              "Year": "1979-01-01"
             },
             {
              "Acceleration": 13.2,
              "Cylinders": 8,
              "Displacement": 351,
              "Horsepower": 138,
              "Miles_per_Gallon": 16.5,
              "Name": "mercury grand marquis",
              "Origin": "USA",
              "Weight_in_lbs": 3955,
              "Year": "1979-01-01"
             },
             {
              "Acceleration": 15.2,
              "Cylinders": 8,
              "Displacement": 318,
              "Horsepower": 135,
              "Miles_per_Gallon": 18.2,
              "Name": "dodge st. regis",
              "Origin": "USA",
              "Weight_in_lbs": 3830,
              "Year": "1979-01-01"
             },
             {
              "Acceleration": 14.9,
              "Cylinders": 8,
              "Displacement": 350,
              "Horsepower": 155,
              "Miles_per_Gallon": 16.9,
              "Name": "buick estate wagon (sw)",
              "Origin": "USA",
              "Weight_in_lbs": 4360,
              "Year": "1979-01-01"
             },
             {
              "Acceleration": 14.3,
              "Cylinders": 8,
              "Displacement": 351,
              "Horsepower": 142,
              "Miles_per_Gallon": 15.5,
              "Name": "ford country squire (sw)",
              "Origin": "USA",
              "Weight_in_lbs": 4054,
              "Year": "1979-01-01"
             },
             {
              "Acceleration": 15,
              "Cylinders": 8,
              "Displacement": 267,
              "Horsepower": 125,
              "Miles_per_Gallon": 19.2,
              "Name": "chevrolet malibu classic (sw)",
              "Origin": "USA",
              "Weight_in_lbs": 3605,
              "Year": "1979-01-01"
             },
             {
              "Acceleration": 13,
              "Cylinders": 8,
              "Displacement": 360,
              "Horsepower": 150,
              "Miles_per_Gallon": 18.5,
              "Name": "chrysler lebaron town @ country (sw)",
              "Origin": "USA",
              "Weight_in_lbs": 3940,
              "Year": "1979-01-01"
             },
             {
              "Acceleration": 14,
              "Cylinders": 4,
              "Displacement": 89,
              "Horsepower": 71,
              "Miles_per_Gallon": 31.9,
              "Name": "vw rabbit custom",
              "Origin": "Europe",
              "Weight_in_lbs": 1925,
              "Year": "1979-01-01"
             },
             {
              "Acceleration": 15.2,
              "Cylinders": 4,
              "Displacement": 86,
              "Horsepower": 65,
              "Miles_per_Gallon": 34.1,
              "Name": "maxda glc deluxe",
              "Origin": "Japan",
              "Weight_in_lbs": 1975,
              "Year": "1979-01-01"
             },
             {
              "Acceleration": 14.4,
              "Cylinders": 4,
              "Displacement": 98,
              "Horsepower": 80,
              "Miles_per_Gallon": 35.7,
              "Name": "dodge colt hatchback custom",
              "Origin": "USA",
              "Weight_in_lbs": 1915,
              "Year": "1979-01-01"
             },
             {
              "Acceleration": 15,
              "Cylinders": 4,
              "Displacement": 121,
              "Horsepower": 80,
              "Miles_per_Gallon": 27.4,
              "Name": "amc spirit dl",
              "Origin": "USA",
              "Weight_in_lbs": 2670,
              "Year": "1979-01-01"
             },
             {
              "Acceleration": 20.1,
              "Cylinders": 5,
              "Displacement": 183,
              "Horsepower": 77,
              "Miles_per_Gallon": 25.4,
              "Name": "mercedes benz 300d",
              "Origin": "Europe",
              "Weight_in_lbs": 3530,
              "Year": "1979-01-01"
             },
             {
              "Acceleration": 17.4,
              "Cylinders": 8,
              "Displacement": 350,
              "Horsepower": 125,
              "Miles_per_Gallon": 23,
              "Name": "cadillac eldorado",
              "Origin": "USA",
              "Weight_in_lbs": 3900,
              "Year": "1979-01-01"
             },
             {
              "Acceleration": 24.8,
              "Cylinders": 4,
              "Displacement": 141,
              "Horsepower": 71,
              "Miles_per_Gallon": 27.2,
              "Name": "peugeot 504",
              "Origin": "Europe",
              "Weight_in_lbs": 3190,
              "Year": "1979-01-01"
             },
             {
              "Acceleration": 22.2,
              "Cylinders": 8,
              "Displacement": 260,
              "Horsepower": 90,
              "Miles_per_Gallon": 23.9,
              "Name": "oldsmobile cutlass salon brougham",
              "Origin": "USA",
              "Weight_in_lbs": 3420,
              "Year": "1979-01-01"
             },
             {
              "Acceleration": 13.2,
              "Cylinders": 4,
              "Displacement": 105,
              "Horsepower": 70,
              "Miles_per_Gallon": 34.2,
              "Name": "plymouth horizon",
              "Origin": "USA",
              "Weight_in_lbs": 2200,
              "Year": "1979-01-01"
             },
             {
              "Acceleration": 14.9,
              "Cylinders": 4,
              "Displacement": 105,
              "Horsepower": 70,
              "Miles_per_Gallon": 34.5,
              "Name": "plymouth horizon tc3",
              "Origin": "USA",
              "Weight_in_lbs": 2150,
              "Year": "1979-01-01"
             },
             {
              "Acceleration": 19.2,
              "Cylinders": 4,
              "Displacement": 85,
              "Horsepower": 65,
              "Miles_per_Gallon": 31.8,
              "Name": "datsun 210",
              "Origin": "Japan",
              "Weight_in_lbs": 2020,
              "Year": "1979-01-01"
             },
             {
              "Acceleration": 14.7,
              "Cylinders": 4,
              "Displacement": 91,
              "Horsepower": 69,
              "Miles_per_Gallon": 37.3,
              "Name": "fiat strada custom",
              "Origin": "Europe",
              "Weight_in_lbs": 2130,
              "Year": "1979-01-01"
             },
             {
              "Acceleration": 16,
              "Cylinders": 4,
              "Displacement": 151,
              "Horsepower": 90,
              "Miles_per_Gallon": 28.4,
              "Name": "buick skylark limited",
              "Origin": "USA",
              "Weight_in_lbs": 2670,
              "Year": "1979-01-01"
             },
             {
              "Acceleration": 11.3,
              "Cylinders": 6,
              "Displacement": 173,
              "Horsepower": 115,
              "Miles_per_Gallon": 28.8,
              "Name": "chevrolet citation",
              "Origin": "USA",
              "Weight_in_lbs": 2595,
              "Year": "1979-01-01"
             },
             {
              "Acceleration": 12.9,
              "Cylinders": 6,
              "Displacement": 173,
              "Horsepower": 115,
              "Miles_per_Gallon": 26.8,
              "Name": "oldsmobile omega brougham",
              "Origin": "USA",
              "Weight_in_lbs": 2700,
              "Year": "1979-01-01"
             },
             {
              "Acceleration": 13.2,
              "Cylinders": 4,
              "Displacement": 151,
              "Horsepower": 90,
              "Miles_per_Gallon": 33.5,
              "Name": "pontiac phoenix",
              "Origin": "USA",
              "Weight_in_lbs": 2556,
              "Year": "1979-01-01"
             },
             {
              "Acceleration": 14.7,
              "Cylinders": 4,
              "Displacement": 98,
              "Horsepower": 76,
              "Miles_per_Gallon": 41.5,
              "Name": "vw rabbit",
              "Origin": "Europe",
              "Weight_in_lbs": 2144,
              "Year": "1980-01-01"
             },
             {
              "Acceleration": 18.8,
              "Cylinders": 4,
              "Displacement": 89,
              "Horsepower": 60,
              "Miles_per_Gallon": 38.1,
              "Name": "toyota corolla tercel",
              "Origin": "Japan",
              "Weight_in_lbs": 1968,
              "Year": "1980-01-01"
             },
             {
              "Acceleration": 15.5,
              "Cylinders": 4,
              "Displacement": 98,
              "Horsepower": 70,
              "Miles_per_Gallon": 32.1,
              "Name": "chevrolet chevette",
              "Origin": "USA",
              "Weight_in_lbs": 2120,
              "Year": "1980-01-01"
             },
             {
              "Acceleration": 16.4,
              "Cylinders": 4,
              "Displacement": 86,
              "Horsepower": 65,
              "Miles_per_Gallon": 37.2,
              "Name": "datsun 310",
              "Origin": "Japan",
              "Weight_in_lbs": 2019,
              "Year": "1980-01-01"
             },
             {
              "Acceleration": 16.5,
              "Cylinders": 4,
              "Displacement": 151,
              "Horsepower": 90,
              "Miles_per_Gallon": 28,
              "Name": "chevrolet citation",
              "Origin": "USA",
              "Weight_in_lbs": 2678,
              "Year": "1980-01-01"
             },
             {
              "Acceleration": 18.1,
              "Cylinders": 4,
              "Displacement": 140,
              "Horsepower": 88,
              "Miles_per_Gallon": 26.4,
              "Name": "ford fairmont",
              "Origin": "USA",
              "Weight_in_lbs": 2870,
              "Year": "1980-01-01"
             },
             {
              "Acceleration": 20.1,
              "Cylinders": 4,
              "Displacement": 151,
              "Horsepower": 90,
              "Miles_per_Gallon": 24.3,
              "Name": "amc concord",
              "Origin": "USA",
              "Weight_in_lbs": 3003,
              "Year": "1980-01-01"
             },
             {
              "Acceleration": 18.7,
              "Cylinders": 6,
              "Displacement": 225,
              "Horsepower": 90,
              "Miles_per_Gallon": 19.1,
              "Name": "dodge aspen",
              "Origin": "USA",
              "Weight_in_lbs": 3381,
              "Year": "1980-01-01"
             },
             {
              "Acceleration": 15.8,
              "Cylinders": 4,
              "Displacement": 97,
              "Horsepower": 78,
              "Miles_per_Gallon": 34.3,
              "Name": "audi 4000",
              "Origin": "Europe",
              "Weight_in_lbs": 2188,
              "Year": "1980-01-01"
             },
             {
              "Acceleration": 15.5,
              "Cylinders": 4,
              "Displacement": 134,
              "Horsepower": 90,
              "Miles_per_Gallon": 29.8,
              "Name": "toyota corona liftback",
              "Origin": "Japan",
              "Weight_in_lbs": 2711,
              "Year": "1980-01-01"
             },
             {
              "Acceleration": 17.5,
              "Cylinders": 4,
              "Displacement": 120,
              "Horsepower": 75,
              "Miles_per_Gallon": 31.3,
              "Name": "mazda 626",
              "Origin": "Japan",
              "Weight_in_lbs": 2542,
              "Year": "1980-01-01"
             },
             {
              "Acceleration": 15,
              "Cylinders": 4,
              "Displacement": 119,
              "Horsepower": 92,
              "Miles_per_Gallon": 37,
              "Name": "datsun 510 hatchback",
              "Origin": "Japan",
              "Weight_in_lbs": 2434,
              "Year": "1980-01-01"
             },
             {
              "Acceleration": 15.2,
              "Cylinders": 4,
              "Displacement": 108,
              "Horsepower": 75,
              "Miles_per_Gallon": 32.2,
              "Name": "toyota corolla",
              "Origin": "Japan",
              "Weight_in_lbs": 2265,
              "Year": "1980-01-01"
             },
             {
              "Acceleration": 17.9,
              "Cylinders": 4,
              "Displacement": 86,
              "Horsepower": 65,
              "Miles_per_Gallon": 46.6,
              "Name": "mazda glc",
              "Origin": "Japan",
              "Weight_in_lbs": 2110,
              "Year": "1980-01-01"
             },
             {
              "Acceleration": 14.4,
              "Cylinders": 4,
              "Displacement": 156,
              "Horsepower": 105,
              "Miles_per_Gallon": 27.9,
              "Name": "dodge colt",
              "Origin": "USA",
              "Weight_in_lbs": 2800,
              "Year": "1980-01-01"
             },
             {
              "Acceleration": 19.2,
              "Cylinders": 4,
              "Displacement": 85,
              "Horsepower": 65,
              "Miles_per_Gallon": 40.8,
              "Name": "datsun 210",
              "Origin": "Japan",
              "Weight_in_lbs": 2110,
              "Year": "1980-01-01"
             },
             {
              "Acceleration": 21.7,
              "Cylinders": 4,
              "Displacement": 90,
              "Horsepower": 48,
              "Miles_per_Gallon": 44.3,
              "Name": "vw rabbit c (diesel)",
              "Origin": "Europe",
              "Weight_in_lbs": 2085,
              "Year": "1980-01-01"
             },
             {
              "Acceleration": 23.7,
              "Cylinders": 4,
              "Displacement": 90,
              "Horsepower": 48,
              "Miles_per_Gallon": 43.4,
              "Name": "vw dasher (diesel)",
              "Origin": "Europe",
              "Weight_in_lbs": 2335,
              "Year": "1980-01-01"
             },
             {
              "Acceleration": 19.9,
              "Cylinders": 5,
              "Displacement": 121,
              "Horsepower": 67,
              "Miles_per_Gallon": 36.4,
              "Name": "audi 5000s (diesel)",
              "Origin": "Europe",
              "Weight_in_lbs": 2950,
              "Year": "1980-01-01"
             },
             {
              "Acceleration": 21.8,
              "Cylinders": 4,
              "Displacement": 146,
              "Horsepower": 67,
              "Miles_per_Gallon": 30,
              "Name": "mercedes-benz 240d",
              "Origin": "Europe",
              "Weight_in_lbs": 3250,
              "Year": "1980-01-01"
             },
             {
              "Acceleration": 13.8,
              "Cylinders": 4,
              "Displacement": 91,
              "Horsepower": 67,
              "Miles_per_Gallon": 44.6,
              "Name": "honda civic 1500 gl",
              "Origin": "Japan",
              "Weight_in_lbs": 1850,
              "Year": "1980-01-01"
             },
             {
              "Acceleration": 17.3,
              "Cylinders": 4,
              "Displacement": 85,
              "Horsepower": null,
              "Miles_per_Gallon": 40.9,
              "Name": "renault lecar deluxe",
              "Origin": "Europe",
              "Weight_in_lbs": 1835,
              "Year": "1980-01-01"
             },
             {
              "Acceleration": 18,
              "Cylinders": 4,
              "Displacement": 97,
              "Horsepower": 67,
              "Miles_per_Gallon": 33.8,
              "Name": "subaru dl",
              "Origin": "Japan",
              "Weight_in_lbs": 2145,
              "Year": "1980-01-01"
             },
             {
              "Acceleration": 15.3,
              "Cylinders": 4,
              "Displacement": 89,
              "Horsepower": 62,
              "Miles_per_Gallon": 29.8,
              "Name": "vokswagen rabbit",
              "Origin": "Europe",
              "Weight_in_lbs": 1845,
              "Year": "1980-01-01"
             },
             {
              "Acceleration": 11.4,
              "Cylinders": 6,
              "Displacement": 168,
              "Horsepower": 132,
              "Miles_per_Gallon": 32.7,
              "Name": "datsun 280-zx",
              "Origin": "Japan",
              "Weight_in_lbs": 2910,
              "Year": "1980-01-01"
             },
             {
              "Acceleration": 12.5,
              "Cylinders": 3,
              "Displacement": 70,
              "Horsepower": 100,
              "Miles_per_Gallon": 23.7,
              "Name": "mazda rx-7 gs",
              "Origin": "Japan",
              "Weight_in_lbs": 2420,
              "Year": "1980-01-01"
             },
             {
              "Acceleration": 15.1,
              "Cylinders": 4,
              "Displacement": 122,
              "Horsepower": 88,
              "Miles_per_Gallon": 35,
              "Name": "triumph tr7 coupe",
              "Origin": "Europe",
              "Weight_in_lbs": 2500,
              "Year": "1980-01-01"
             },
             {
              "Acceleration": 14.3,
              "Cylinders": 4,
              "Displacement": 140,
              "Horsepower": null,
              "Miles_per_Gallon": 23.6,
              "Name": "ford mustang cobra",
              "Origin": "USA",
              "Weight_in_lbs": 2905,
              "Year": "1980-01-01"
             },
             {
              "Acceleration": 17,
              "Cylinders": 4,
              "Displacement": 107,
              "Horsepower": 72,
              "Miles_per_Gallon": 32.4,
              "Name": "honda Accelerationord",
              "Origin": "Japan",
              "Weight_in_lbs": 2290,
              "Year": "1980-01-01"
             },
             {
              "Acceleration": 15.7,
              "Cylinders": 4,
              "Displacement": 135,
              "Horsepower": 84,
              "Miles_per_Gallon": 27.2,
              "Name": "plymouth reliant",
              "Origin": "USA",
              "Weight_in_lbs": 2490,
              "Year": "1982-01-01"
             },
             {
              "Acceleration": 16.4,
              "Cylinders": 4,
              "Displacement": 151,
              "Horsepower": 84,
              "Miles_per_Gallon": 26.6,
              "Name": "buick skylark",
              "Origin": "USA",
              "Weight_in_lbs": 2635,
              "Year": "1982-01-01"
             },
             {
              "Acceleration": 14.4,
              "Cylinders": 4,
              "Displacement": 156,
              "Horsepower": 92,
              "Miles_per_Gallon": 25.8,
              "Name": "dodge aries wagon (sw)",
              "Origin": "USA",
              "Weight_in_lbs": 2620,
              "Year": "1982-01-01"
             },
             {
              "Acceleration": 12.6,
              "Cylinders": 6,
              "Displacement": 173,
              "Horsepower": 110,
              "Miles_per_Gallon": 23.5,
              "Name": "chevrolet citation",
              "Origin": "USA",
              "Weight_in_lbs": 2725,
              "Year": "1982-01-01"
             },
             {
              "Acceleration": 12.9,
              "Cylinders": 4,
              "Displacement": 135,
              "Horsepower": 84,
              "Miles_per_Gallon": 30,
              "Name": "plymouth reliant",
              "Origin": "USA",
              "Weight_in_lbs": 2385,
              "Year": "1982-01-01"
             },
             {
              "Acceleration": 16.9,
              "Cylinders": 4,
              "Displacement": 79,
              "Horsepower": 58,
              "Miles_per_Gallon": 39.1,
              "Name": "toyota starlet",
              "Origin": "Japan",
              "Weight_in_lbs": 1755,
              "Year": "1982-01-01"
             },
             {
              "Acceleration": 16.4,
              "Cylinders": 4,
              "Displacement": 86,
              "Horsepower": 64,
              "Miles_per_Gallon": 39,
              "Name": "plymouth champ",
              "Origin": "USA",
              "Weight_in_lbs": 1875,
              "Year": "1982-01-01"
             },
             {
              "Acceleration": 16.1,
              "Cylinders": 4,
              "Displacement": 81,
              "Horsepower": 60,
              "Miles_per_Gallon": 35.1,
              "Name": "honda civic 1300",
              "Origin": "Japan",
              "Weight_in_lbs": 1760,
              "Year": "1982-01-01"
             },
             {
              "Acceleration": 17.8,
              "Cylinders": 4,
              "Displacement": 97,
              "Horsepower": 67,
              "Miles_per_Gallon": 32.3,
              "Name": "subaru",
              "Origin": "Japan",
              "Weight_in_lbs": 2065,
              "Year": "1982-01-01"
             },
             {
              "Acceleration": 19.4,
              "Cylinders": 4,
              "Displacement": 85,
              "Horsepower": 65,
              "Miles_per_Gallon": 37,
              "Name": "datsun 210",
              "Origin": "Japan",
              "Weight_in_lbs": 1975,
              "Year": "1982-01-01"
             },
             {
              "Acceleration": 17.3,
              "Cylinders": 4,
              "Displacement": 89,
              "Horsepower": 62,
              "Miles_per_Gallon": 37.7,
              "Name": "toyota tercel",
              "Origin": "Japan",
              "Weight_in_lbs": 2050,
              "Year": "1982-01-01"
             },
             {
              "Acceleration": 16,
              "Cylinders": 4,
              "Displacement": 91,
              "Horsepower": 68,
              "Miles_per_Gallon": 34.1,
              "Name": "mazda glc 4",
              "Origin": "Japan",
              "Weight_in_lbs": 1985,
              "Year": "1982-01-01"
             },
             {
              "Acceleration": 14.9,
              "Cylinders": 4,
              "Displacement": 105,
              "Horsepower": 63,
              "Miles_per_Gallon": 34.7,
              "Name": "plymouth horizon 4",
              "Origin": "USA",
              "Weight_in_lbs": 2215,
              "Year": "1982-01-01"
             },
             {
              "Acceleration": 16.2,
              "Cylinders": 4,
              "Displacement": 98,
              "Horsepower": 65,
              "Miles_per_Gallon": 34.4,
              "Name": "ford escort 4w",
              "Origin": "USA",
              "Weight_in_lbs": 2045,
              "Year": "1982-01-01"
             },
             {
              "Acceleration": 20.7,
              "Cylinders": 4,
              "Displacement": 98,
              "Horsepower": 65,
              "Miles_per_Gallon": 29.9,
              "Name": "ford escort 2h",
              "Origin": "USA",
              "Weight_in_lbs": 2380,
              "Year": "1982-01-01"
             },
             {
              "Acceleration": 14.2,
              "Cylinders": 4,
              "Displacement": 105,
              "Horsepower": 74,
              "Miles_per_Gallon": 33,
              "Name": "volkswagen jetta",
              "Origin": "Europe",
              "Weight_in_lbs": 2190,
              "Year": "1982-01-01"
             },
             {
              "Acceleration": 15.8,
              "Cylinders": 4,
              "Displacement": 100,
              "Horsepower": null,
              "Miles_per_Gallon": 34.5,
              "Name": "renault 18i",
              "Origin": "Europe",
              "Weight_in_lbs": 2320,
              "Year": "1982-01-01"
             },
             {
              "Acceleration": 14.4,
              "Cylinders": 4,
              "Displacement": 107,
              "Horsepower": 75,
              "Miles_per_Gallon": 33.7,
              "Name": "honda prelude",
              "Origin": "Japan",
              "Weight_in_lbs": 2210,
              "Year": "1982-01-01"
             },
             {
              "Acceleration": 16.8,
              "Cylinders": 4,
              "Displacement": 108,
              "Horsepower": 75,
              "Miles_per_Gallon": 32.4,
              "Name": "toyota corolla",
              "Origin": "Japan",
              "Weight_in_lbs": 2350,
              "Year": "1982-01-01"
             },
             {
              "Acceleration": 14.8,
              "Cylinders": 4,
              "Displacement": 119,
              "Horsepower": 100,
              "Miles_per_Gallon": 32.9,
              "Name": "datsun 200sx",
              "Origin": "Japan",
              "Weight_in_lbs": 2615,
              "Year": "1982-01-01"
             },
             {
              "Acceleration": 18.3,
              "Cylinders": 4,
              "Displacement": 120,
              "Horsepower": 74,
              "Miles_per_Gallon": 31.6,
              "Name": "mazda 626",
              "Origin": "Japan",
              "Weight_in_lbs": 2635,
              "Year": "1982-01-01"
             },
             {
              "Acceleration": 20.4,
              "Cylinders": 4,
              "Displacement": 141,
              "Horsepower": 80,
              "Miles_per_Gallon": 28.1,
              "Name": "peugeot 505s turbo diesel",
              "Origin": "Europe",
              "Weight_in_lbs": 3230,
              "Year": "1982-01-01"
             },
             {
              "Acceleration": 15.4,
              "Cylinders": 4,
              "Displacement": 121,
              "Horsepower": 110,
              "Miles_per_Gallon": null,
              "Name": "saab 900s",
              "Origin": "Europe",
              "Weight_in_lbs": 2800,
              "Year": "1982-01-01"
             },
             {
              "Acceleration": 19.6,
              "Cylinders": 6,
              "Displacement": 145,
              "Horsepower": 76,
              "Miles_per_Gallon": 30.7,
              "Name": "volvo diesel",
              "Origin": "Europe",
              "Weight_in_lbs": 3160,
              "Year": "1982-01-01"
             },
             {
              "Acceleration": 12.6,
              "Cylinders": 6,
              "Displacement": 168,
              "Horsepower": 116,
              "Miles_per_Gallon": 25.4,
              "Name": "toyota cressida",
              "Origin": "Japan",
              "Weight_in_lbs": 2900,
              "Year": "1982-01-01"
             },
             {
              "Acceleration": 13.8,
              "Cylinders": 6,
              "Displacement": 146,
              "Horsepower": 120,
              "Miles_per_Gallon": 24.2,
              "Name": "datsun 810 maxima",
              "Origin": "Japan",
              "Weight_in_lbs": 2930,
              "Year": "1982-01-01"
             },
             {
              "Acceleration": 15.8,
              "Cylinders": 6,
              "Displacement": 231,
              "Horsepower": 110,
              "Miles_per_Gallon": 22.4,
              "Name": "buick century",
              "Origin": "USA",
              "Weight_in_lbs": 3415,
              "Year": "1982-01-01"
             },
             {
              "Acceleration": 19,
              "Cylinders": 8,
              "Displacement": 350,
              "Horsepower": 105,
              "Miles_per_Gallon": 26.6,
              "Name": "oldsmobile cutlass ls",
              "Origin": "USA",
              "Weight_in_lbs": 3725,
              "Year": "1982-01-01"
             },
             {
              "Acceleration": 17.1,
              "Cylinders": 6,
              "Displacement": 200,
              "Horsepower": 88,
              "Miles_per_Gallon": 20.2,
              "Name": "ford granada gl",
              "Origin": "USA",
              "Weight_in_lbs": 3060,
              "Year": "1982-01-01"
             },
             {
              "Acceleration": 16.6,
              "Cylinders": 6,
              "Displacement": 225,
              "Horsepower": 85,
              "Miles_per_Gallon": 17.6,
              "Name": "chrysler lebaron salon",
              "Origin": "USA",
              "Weight_in_lbs": 3465,
              "Year": "1982-01-01"
             },
             {
              "Acceleration": 19.6,
              "Cylinders": 4,
              "Displacement": 112,
              "Horsepower": 88,
              "Miles_per_Gallon": 28,
              "Name": "chevrolet cavalier",
              "Origin": "USA",
              "Weight_in_lbs": 2605,
              "Year": "1982-01-01"
             },
             {
              "Acceleration": 18.6,
              "Cylinders": 4,
              "Displacement": 112,
              "Horsepower": 88,
              "Miles_per_Gallon": 27,
              "Name": "chevrolet cavalier wagon",
              "Origin": "USA",
              "Weight_in_lbs": 2640,
              "Year": "1982-01-01"
             },
             {
              "Acceleration": 18,
              "Cylinders": 4,
              "Displacement": 112,
              "Horsepower": 88,
              "Miles_per_Gallon": 34,
              "Name": "chevrolet cavalier 2-door",
              "Origin": "USA",
              "Weight_in_lbs": 2395,
              "Year": "1982-01-01"
             },
             {
              "Acceleration": 16.2,
              "Cylinders": 4,
              "Displacement": 112,
              "Horsepower": 85,
              "Miles_per_Gallon": 31,
              "Name": "pontiac j2000 se hatchback",
              "Origin": "USA",
              "Weight_in_lbs": 2575,
              "Year": "1982-01-01"
             },
             {
              "Acceleration": 16,
              "Cylinders": 4,
              "Displacement": 135,
              "Horsepower": 84,
              "Miles_per_Gallon": 29,
              "Name": "dodge aries se",
              "Origin": "USA",
              "Weight_in_lbs": 2525,
              "Year": "1982-01-01"
             },
             {
              "Acceleration": 18,
              "Cylinders": 4,
              "Displacement": 151,
              "Horsepower": 90,
              "Miles_per_Gallon": 27,
              "Name": "pontiac phoenix",
              "Origin": "USA",
              "Weight_in_lbs": 2735,
              "Year": "1982-01-01"
             },
             {
              "Acceleration": 16.4,
              "Cylinders": 4,
              "Displacement": 140,
              "Horsepower": 92,
              "Miles_per_Gallon": 24,
              "Name": "ford fairmont futura",
              "Origin": "USA",
              "Weight_in_lbs": 2865,
              "Year": "1982-01-01"
             },
             {
              "Acceleration": 20.5,
              "Cylinders": 4,
              "Displacement": 151,
              "Horsepower": null,
              "Miles_per_Gallon": 23,
              "Name": "amc concord dl",
              "Origin": "USA",
              "Weight_in_lbs": 3035,
              "Year": "1982-01-01"
             },
             {
              "Acceleration": 15.3,
              "Cylinders": 4,
              "Displacement": 105,
              "Horsepower": 74,
              "Miles_per_Gallon": 36,
              "Name": "volkswagen rabbit l",
              "Origin": "Europe",
              "Weight_in_lbs": 1980,
              "Year": "1982-01-01"
             },
             {
              "Acceleration": 18.2,
              "Cylinders": 4,
              "Displacement": 91,
              "Horsepower": 68,
              "Miles_per_Gallon": 37,
              "Name": "mazda glc custom l",
              "Origin": "Japan",
              "Weight_in_lbs": 2025,
              "Year": "1982-01-01"
             },
             {
              "Acceleration": 17.6,
              "Cylinders": 4,
              "Displacement": 91,
              "Horsepower": 68,
              "Miles_per_Gallon": 31,
              "Name": "mazda glc custom",
              "Origin": "Japan",
              "Weight_in_lbs": 1970,
              "Year": "1982-01-01"
             },
             {
              "Acceleration": 14.7,
              "Cylinders": 4,
              "Displacement": 105,
              "Horsepower": 63,
              "Miles_per_Gallon": 38,
              "Name": "plymouth horizon miser",
              "Origin": "USA",
              "Weight_in_lbs": 2125,
              "Year": "1982-01-01"
             },
             {
              "Acceleration": 17.3,
              "Cylinders": 4,
              "Displacement": 98,
              "Horsepower": 70,
              "Miles_per_Gallon": 36,
              "Name": "mercury lynx l",
              "Origin": "USA",
              "Weight_in_lbs": 2125,
              "Year": "1982-01-01"
             },
             {
              "Acceleration": 14.5,
              "Cylinders": 4,
              "Displacement": 120,
              "Horsepower": 88,
              "Miles_per_Gallon": 36,
              "Name": "nissan stanza xe",
              "Origin": "Japan",
              "Weight_in_lbs": 2160,
              "Year": "1982-01-01"
             },
             {
              "Acceleration": 14.5,
              "Cylinders": 4,
              "Displacement": 107,
              "Horsepower": 75,
              "Miles_per_Gallon": 36,
              "Name": "honda Accelerationord",
              "Origin": "Japan",
              "Weight_in_lbs": 2205,
              "Year": "1982-01-01"
             },
             {
              "Acceleration": 16.9,
              "Cylinders": 4,
              "Displacement": 108,
              "Horsepower": 70,
              "Miles_per_Gallon": 34,
              "Name": "toyota corolla",
              "Origin": "Japan",
              "Weight_in_lbs": 2245,
              "Year": "1982-01-01"
             },
             {
              "Acceleration": 15,
              "Cylinders": 4,
              "Displacement": 91,
              "Horsepower": 67,
              "Miles_per_Gallon": 38,
              "Name": "honda civic",
              "Origin": "Japan",
              "Weight_in_lbs": 1965,
              "Year": "1982-01-01"
             },
             {
              "Acceleration": 15.7,
              "Cylinders": 4,
              "Displacement": 91,
              "Horsepower": 67,
              "Miles_per_Gallon": 32,
              "Name": "honda civic (auto)",
              "Origin": "Japan",
              "Weight_in_lbs": 1965,
              "Year": "1982-01-01"
             },
             {
              "Acceleration": 16.2,
              "Cylinders": 4,
              "Displacement": 91,
              "Horsepower": 67,
              "Miles_per_Gallon": 38,
              "Name": "datsun 310 gx",
              "Origin": "Japan",
              "Weight_in_lbs": 1995,
              "Year": "1982-01-01"
             },
             {
              "Acceleration": 16.4,
              "Cylinders": 6,
              "Displacement": 181,
              "Horsepower": 110,
              "Miles_per_Gallon": 25,
              "Name": "buick century limited",
              "Origin": "USA",
              "Weight_in_lbs": 2945,
              "Year": "1982-01-01"
             },
             {
              "Acceleration": 17,
              "Cylinders": 6,
              "Displacement": 262,
              "Horsepower": 85,
              "Miles_per_Gallon": 38,
              "Name": "oldsmobile cutlass ciera (diesel)",
              "Origin": "USA",
              "Weight_in_lbs": 3015,
              "Year": "1982-01-01"
             },
             {
              "Acceleration": 14.5,
              "Cylinders": 4,
              "Displacement": 156,
              "Horsepower": 92,
              "Miles_per_Gallon": 26,
              "Name": "chrysler lebaron medallion",
              "Origin": "USA",
              "Weight_in_lbs": 2585,
              "Year": "1982-01-01"
             },
             {
              "Acceleration": 14.7,
              "Cylinders": 6,
              "Displacement": 232,
              "Horsepower": 112,
              "Miles_per_Gallon": 22,
              "Name": "ford granada l",
              "Origin": "USA",
              "Weight_in_lbs": 2835,
              "Year": "1982-01-01"
             },
             {
              "Acceleration": 13.9,
              "Cylinders": 4,
              "Displacement": 144,
              "Horsepower": 96,
              "Miles_per_Gallon": 32,
              "Name": "toyota celica gt",
              "Origin": "Japan",
              "Weight_in_lbs": 2665,
              "Year": "1982-01-01"
             },
             {
              "Acceleration": 13,
              "Cylinders": 4,
              "Displacement": 135,
              "Horsepower": 84,
              "Miles_per_Gallon": 36,
              "Name": "dodge charger 2.2",
              "Origin": "USA",
              "Weight_in_lbs": 2370,
              "Year": "1982-01-01"
             },
             {
              "Acceleration": 17.3,
              "Cylinders": 4,
              "Displacement": 151,
              "Horsepower": 90,
              "Miles_per_Gallon": 27,
              "Name": "chevrolet camaro",
              "Origin": "USA",
              "Weight_in_lbs": 2950,
              "Year": "1982-01-01"
             },
             {
              "Acceleration": 15.6,
              "Cylinders": 4,
              "Displacement": 140,
              "Horsepower": 86,
              "Miles_per_Gallon": 27,
              "Name": "ford mustang gl",
              "Origin": "USA",
              "Weight_in_lbs": 2790,
              "Year": "1982-01-01"
             },
             {
              "Acceleration": 24.6,
              "Cylinders": 4,
              "Displacement": 97,
              "Horsepower": 52,
              "Miles_per_Gallon": 44,
              "Name": "vw pickup",
              "Origin": "Europe",
              "Weight_in_lbs": 2130,
              "Year": "1982-01-01"
             },
             {
              "Acceleration": 11.6,
              "Cylinders": 4,
              "Displacement": 135,
              "Horsepower": 84,
              "Miles_per_Gallon": 32,
              "Name": "dodge rampage",
              "Origin": "USA",
              "Weight_in_lbs": 2295,
              "Year": "1982-01-01"
             },
             {
              "Acceleration": 18.6,
              "Cylinders": 4,
              "Displacement": 120,
              "Horsepower": 79,
              "Miles_per_Gallon": 28,
              "Name": "ford ranger",
              "Origin": "USA",
              "Weight_in_lbs": 2625,
              "Year": "1982-01-01"
             },
             {
              "Acceleration": 19.4,
              "Cylinders": 4,
              "Displacement": 119,
              "Horsepower": 82,
              "Miles_per_Gallon": 31,
              "Name": "chevy s-10",
              "Origin": "USA",
              "Weight_in_lbs": 2720,
              "Year": "1982-01-01"
             }
            ]
           },
           "encoding": {
            "color": {
             "field": "None",
             "type": "nominal"
            },
            "x": {
             "aggregate": "count",
             "axis": {
              "title": ""
             },
             "stack": null,
             "type": "quantitative"
            },
            "y": {
             "axis": {
              "title": ""
             },
             "bin": {
              "extent": [
               9,
               46.6
              ],
              "maxbins": 20
             },
             "field": "Miles_per_Gallon",
             "stack": null,
             "type": "quantitative"
            }
           },
           "mark": {
            "interpolate": "step",
            "opacity": 0.3,
            "type": "area"
           },
           "width": 60
          }
         ]
        }
       ]
      },
      "image/png": "[encoded data removed]",
      "text/plain": [
       "<VegaLite 2 object>\n",
       "\n",
       "If you see this message, it means the renderer has not been properly enabled\n",
       "for the frontend that you are using. For more information, see\n",
       "https://altair-viz.github.io/user_guide/troubleshooting.html\n"
      ]
     },
     "execution_count": 6,
     "metadata": {},
     "output_type": "execute_result"
    }
   ],
   "source": [
    "star.jointplot('Weight_in_lbs', 'Miles_per_Gallon', cars)"
   ]
  },
  {
   "cell_type": "markdown",
   "metadata": {},
   "source": [
    "## Heat map"
   ]
  },
  {
   "cell_type": "code",
   "execution_count": 7,
   "metadata": {},
   "outputs": [
    {
     "data": {
      "text/html": [
       "<div>\n",
       "<style scoped>\n",
       "    .dataframe tbody tr th:only-of-type {\n",
       "        vertical-align: middle;\n",
       "    }\n",
       "\n",
       "    .dataframe tbody tr th {\n",
       "        vertical-align: top;\n",
       "    }\n",
       "\n",
       "    .dataframe thead th {\n",
       "        text-align: right;\n",
       "    }\n",
       "</style>\n",
       "<table border=\"1\" class=\"dataframe\">\n",
       "  <thead>\n",
       "    <tr style=\"text-align: right;\">\n",
       "      <th></th>\n",
       "      <th>Acceleration</th>\n",
       "      <th>Cylinders</th>\n",
       "      <th>Displacement</th>\n",
       "      <th>Horsepower</th>\n",
       "      <th>Miles_per_Gallon</th>\n",
       "      <th>Name</th>\n",
       "      <th>Origin</th>\n",
       "      <th>Weight_in_lbs</th>\n",
       "      <th>Year</th>\n",
       "    </tr>\n",
       "  </thead>\n",
       "  <tbody>\n",
       "    <tr>\n",
       "      <th>0</th>\n",
       "      <td>12.0</td>\n",
       "      <td>8</td>\n",
       "      <td>307.0</td>\n",
       "      <td>130.0</td>\n",
       "      <td>18.0</td>\n",
       "      <td>chevrolet chevelle malibu</td>\n",
       "      <td>USA</td>\n",
       "      <td>3504</td>\n",
       "      <td>1970-01-01</td>\n",
       "    </tr>\n",
       "    <tr>\n",
       "      <th>1</th>\n",
       "      <td>11.5</td>\n",
       "      <td>8</td>\n",
       "      <td>350.0</td>\n",
       "      <td>165.0</td>\n",
       "      <td>15.0</td>\n",
       "      <td>buick skylark 320</td>\n",
       "      <td>USA</td>\n",
       "      <td>3693</td>\n",
       "      <td>1970-01-01</td>\n",
       "    </tr>\n",
       "    <tr>\n",
       "      <th>2</th>\n",
       "      <td>11.0</td>\n",
       "      <td>8</td>\n",
       "      <td>318.0</td>\n",
       "      <td>150.0</td>\n",
       "      <td>18.0</td>\n",
       "      <td>plymouth satellite</td>\n",
       "      <td>USA</td>\n",
       "      <td>3436</td>\n",
       "      <td>1970-01-01</td>\n",
       "    </tr>\n",
       "  </tbody>\n",
       "</table>\n",
       "</div>"
      ],
      "text/plain": [
       "   Acceleration  Cylinders  Displacement  Horsepower  Miles_per_Gallon  \\\n",
       "0          12.0          8         307.0       130.0              18.0   \n",
       "1          11.5          8         350.0       165.0              15.0   \n",
       "2          11.0          8         318.0       150.0              18.0   \n",
       "\n",
       "                        Name Origin  Weight_in_lbs       Year  \n",
       "0  chevrolet chevelle malibu    USA           3504 1970-01-01  \n",
       "1          buick skylark 320    USA           3693 1970-01-01  \n",
       "2         plymouth satellite    USA           3436 1970-01-01  "
      ]
     },
     "execution_count": 7,
     "metadata": {},
     "output_type": "execute_result"
    }
   ],
   "source": [
    "cars[:3]"
   ]
  },
  {
   "cell_type": "code",
   "execution_count": 8,
   "metadata": {},
   "outputs": [],
   "source": [
    "matrix = cars.pivot_table(columns='Cylinders',\n",
    "                          index='Origin',\n",
    "                          aggfunc='size').fillna(0).astype(int)"
   ]
  },
  {
   "cell_type": "code",
   "execution_count": 9,
   "metadata": {},
   "outputs": [
    {
     "data": {
      "text/html": [
       "<div>\n",
       "<style scoped>\n",
       "    .dataframe tbody tr th:only-of-type {\n",
       "        vertical-align: middle;\n",
       "    }\n",
       "\n",
       "    .dataframe tbody tr th {\n",
       "        vertical-align: top;\n",
       "    }\n",
       "\n",
       "    .dataframe thead th {\n",
       "        text-align: right;\n",
       "    }\n",
       "</style>\n",
       "<table border=\"1\" class=\"dataframe\">\n",
       "  <thead>\n",
       "    <tr style=\"text-align: right;\">\n",
       "      <th>Cylinders</th>\n",
       "      <th>3</th>\n",
       "      <th>4</th>\n",
       "      <th>5</th>\n",
       "      <th>6</th>\n",
       "      <th>8</th>\n",
       "    </tr>\n",
       "    <tr>\n",
       "      <th>Origin</th>\n",
       "      <th></th>\n",
       "      <th></th>\n",
       "      <th></th>\n",
       "      <th></th>\n",
       "      <th></th>\n",
       "    </tr>\n",
       "  </thead>\n",
       "  <tbody>\n",
       "    <tr>\n",
       "      <th>Europe</th>\n",
       "      <td>0</td>\n",
       "      <td>66</td>\n",
       "      <td>3</td>\n",
       "      <td>4</td>\n",
       "      <td>0</td>\n",
       "    </tr>\n",
       "    <tr>\n",
       "      <th>Japan</th>\n",
       "      <td>4</td>\n",
       "      <td>69</td>\n",
       "      <td>0</td>\n",
       "      <td>6</td>\n",
       "      <td>0</td>\n",
       "    </tr>\n",
       "    <tr>\n",
       "      <th>USA</th>\n",
       "      <td>0</td>\n",
       "      <td>72</td>\n",
       "      <td>0</td>\n",
       "      <td>74</td>\n",
       "      <td>108</td>\n",
       "    </tr>\n",
       "  </tbody>\n",
       "</table>\n",
       "</div>"
      ],
      "text/plain": [
       "Cylinders  3   4  5   6    8\n",
       "Origin                      \n",
       "Europe     0  66  3   4    0\n",
       "Japan      4  69  0   6    0\n",
       "USA        0  72  0  74  108"
      ]
     },
     "execution_count": 9,
     "metadata": {},
     "output_type": "execute_result"
    }
   ],
   "source": [
    "matrix"
   ]
  },
  {
   "cell_type": "code",
   "execution_count": 10,
   "metadata": {},
   "outputs": [
    {
     "data": {
      "text/plain": [
       "<matplotlib.axes._subplots.AxesSubplot at 0x1118c8c50>"
      ]
     },
     "execution_count": 10,
     "metadata": {},
     "output_type": "execute_result"
    },
    {
     "data": {
      "image/png": "[encoded data removed]",
      "text/plain": [
       "<Figure size 432x288 with 2 Axes>"
      ]
     },
     "metadata": {},
     "output_type": "display_data"
    }
   ],
   "source": [
    "sns.heatmap(matrix, annot=True)"
   ]
  },
  {
   "cell_type": "code",
   "execution_count": 16,
   "metadata": {},
   "outputs": [
    {
     "data": {
      "application/vnd.vegalite.v2+json": {
       "$schema": "https://vega.github.io/schema/vega-lite/v2.4.1.json",
       "config": {
        "view": {
         "height": 300,
         "width": 400
        }
       },
       "layer": [
        {
         "data": {
          "values": [
           {
            "Cylinders": 3,
            "Origin": "Europe",
            "Value": 0
           },
           {
            "Cylinders": 4,
            "Origin": "Europe",
            "Value": 66
           },
           {
            "Cylinders": 5,
            "Origin": "Europe",
            "Value": 3
           },
           {
            "Cylinders": 6,
            "Origin": "Europe",
            "Value": 4
           },
           {
            "Cylinders": 8,
            "Origin": "Europe",
            "Value": 0
           },
           {
            "Cylinders": 3,
            "Origin": "Japan",
            "Value": 4
           },
           {
            "Cylinders": 4,
            "Origin": "Japan",
            "Value": 69
           },
           {
            "Cylinders": 5,
            "Origin": "Japan",
            "Value": 0
           },
           {
            "Cylinders": 6,
            "Origin": "Japan",
            "Value": 6
           },
           {
            "Cylinders": 8,
            "Origin": "Japan",
            "Value": 0
           },
           {
            "Cylinders": 3,
            "Origin": "USA",
            "Value": 0
           },
           {
            "Cylinders": 4,
            "Origin": "USA",
            "Value": 72
           },
           {
            "Cylinders": 5,
            "Origin": "USA",
            "Value": 0
           },
           {
            "Cylinders": 6,
            "Origin": "USA",
            "Value": 74
           },
           {
            "Cylinders": 8,
            "Origin": "USA",
            "Value": 108
           }
          ]
         },
         "encoding": {
          "color": {
           "field": "Value",
           "type": "quantitative"
          },
          "x": {
           "field": "Cylinders",
           "scale": {
            "paddingInner": 0
           },
           "type": "ordinal"
          },
          "y": {
           "field": "Origin",
           "scale": {
            "paddingInner": 0
           },
           "type": "ordinal"
          }
         },
         "mark": "rect"
        },
        {
         "data": {
          "values": [
           {
            "Cylinders": 3,
            "Origin": "Europe",
            "Value": 0
           },
           {
            "Cylinders": 4,
            "Origin": "Europe",
            "Value": 66
           },
           {
            "Cylinders": 5,
            "Origin": "Europe",
            "Value": 3
           },
           {
            "Cylinders": 6,
            "Origin": "Europe",
            "Value": 4
           },
           {
            "Cylinders": 8,
            "Origin": "Europe",
            "Value": 0
           },
           {
            "Cylinders": 3,
            "Origin": "Japan",
            "Value": 4
           },
           {
            "Cylinders": 4,
            "Origin": "Japan",
            "Value": 69
           },
           {
            "Cylinders": 5,
            "Origin": "Japan",
            "Value": 0
           },
           {
            "Cylinders": 6,
            "Origin": "Japan",
            "Value": 6
           },
           {
            "Cylinders": 8,
            "Origin": "Japan",
            "Value": 0
           },
           {
            "Cylinders": 3,
            "Origin": "USA",
            "Value": 0
           },
           {
            "Cylinders": 4,
            "Origin": "USA",
            "Value": 72
           },
           {
            "Cylinders": 5,
            "Origin": "USA",
            "Value": 0
           },
           {
            "Cylinders": 6,
            "Origin": "USA",
            "Value": 74
           },
           {
            "Cylinders": 8,
            "Origin": "USA",
            "Value": 108
           }
          ]
         },
         "encoding": {
          "color": {
           "condition": {
            "test": "(datum['Value'] > 70)",
            "value": "black"
           },
           "value": "white"
          },
          "text": {
           "field": "Value",
           "format": ".2",
           "type": "quantitative"
          },
          "x": {
           "field": "Cylinders",
           "type": "ordinal"
          },
          "y": {
           "field": "Origin",
           "type": "ordinal"
          }
         },
         "mark": {
          "baseline": "middle",
          "type": "text"
         }
        }
       ]
      },
      "image/png": "[encoded data removed]",
      "text/plain": [
       "<VegaLite 2 object>\n",
       "\n",
       "If you see this message, it means the renderer has not been properly enabled\n",
       "for the frontend that you are using. For more information, see\n",
       "https://altair-viz.github.io/user_guide/troubleshooting.html\n"
      ]
     },
     "execution_count": 16,
     "metadata": {},
     "output_type": "execute_result"
    }
   ],
   "source": [
    "star.heatmap(matrix, annot=True, fmt='.2')"
   ]
  },
  {
   "cell_type": "code",
   "execution_count": 18,
   "metadata": {},
   "outputs": [],
   "source": [
    "mpg = cars.pivot_table(values='Miles_per_Gallon',\n",
    "                       index='Year',\n",
    "                       columns='Cylinders')"
   ]
  },
  {
   "cell_type": "code",
   "execution_count": 23,
   "metadata": {},
   "outputs": [
    {
     "data": {
      "text/html": [
       "<div>\n",
       "<style scoped>\n",
       "    .dataframe tbody tr th:only-of-type {\n",
       "        vertical-align: middle;\n",
       "    }\n",
       "\n",
       "    .dataframe tbody tr th {\n",
       "        vertical-align: top;\n",
       "    }\n",
       "\n",
       "    .dataframe thead th {\n",
       "        text-align: right;\n",
       "    }\n",
       "</style>\n",
       "<table border=\"1\" class=\"dataframe\">\n",
       "  <thead>\n",
       "    <tr style=\"text-align: right;\">\n",
       "      <th>Cylinders</th>\n",
       "      <th>3</th>\n",
       "      <th>4</th>\n",
       "      <th>5</th>\n",
       "      <th>6</th>\n",
       "      <th>8</th>\n",
       "    </tr>\n",
       "    <tr>\n",
       "      <th>Year</th>\n",
       "      <th></th>\n",
       "      <th></th>\n",
       "      <th></th>\n",
       "      <th></th>\n",
       "      <th></th>\n",
       "    </tr>\n",
       "  </thead>\n",
       "  <tbody>\n",
       "    <tr>\n",
       "      <th>1970-01-01</th>\n",
       "      <td>NaN</td>\n",
       "      <td>25.285714</td>\n",
       "      <td>NaN</td>\n",
       "      <td>20.500000</td>\n",
       "      <td>14.111111</td>\n",
       "    </tr>\n",
       "    <tr>\n",
       "      <th>1971-01-01</th>\n",
       "      <td>NaN</td>\n",
       "      <td>27.461538</td>\n",
       "      <td>NaN</td>\n",
       "      <td>18.000000</td>\n",
       "      <td>13.428571</td>\n",
       "    </tr>\n",
       "    <tr>\n",
       "      <th>1972-01-01</th>\n",
       "      <td>19.0</td>\n",
       "      <td>23.428571</td>\n",
       "      <td>NaN</td>\n",
       "      <td>NaN</td>\n",
       "      <td>13.615385</td>\n",
       "    </tr>\n",
       "    <tr>\n",
       "      <th>1973-01-01</th>\n",
       "      <td>18.0</td>\n",
       "      <td>22.727273</td>\n",
       "      <td>NaN</td>\n",
       "      <td>19.000000</td>\n",
       "      <td>13.200000</td>\n",
       "    </tr>\n",
       "    <tr>\n",
       "      <th>1974-01-01</th>\n",
       "      <td>NaN</td>\n",
       "      <td>27.800000</td>\n",
       "      <td>NaN</td>\n",
       "      <td>17.857143</td>\n",
       "      <td>14.200000</td>\n",
       "    </tr>\n",
       "    <tr>\n",
       "      <th>1975-01-01</th>\n",
       "      <td>NaN</td>\n",
       "      <td>25.250000</td>\n",
       "      <td>NaN</td>\n",
       "      <td>17.583333</td>\n",
       "      <td>15.666667</td>\n",
       "    </tr>\n",
       "    <tr>\n",
       "      <th>1976-01-01</th>\n",
       "      <td>NaN</td>\n",
       "      <td>26.766667</td>\n",
       "      <td>NaN</td>\n",
       "      <td>20.000000</td>\n",
       "      <td>14.666667</td>\n",
       "    </tr>\n",
       "    <tr>\n",
       "      <th>1977-01-01</th>\n",
       "      <td>21.5</td>\n",
       "      <td>29.107143</td>\n",
       "      <td>NaN</td>\n",
       "      <td>19.500000</td>\n",
       "      <td>16.000000</td>\n",
       "    </tr>\n",
       "    <tr>\n",
       "      <th>1978-01-01</th>\n",
       "      <td>NaN</td>\n",
       "      <td>29.576471</td>\n",
       "      <td>20.3</td>\n",
       "      <td>19.066667</td>\n",
       "      <td>19.050000</td>\n",
       "    </tr>\n",
       "    <tr>\n",
       "      <th>1979-01-01</th>\n",
       "      <td>NaN</td>\n",
       "      <td>31.525000</td>\n",
       "      <td>25.4</td>\n",
       "      <td>22.950000</td>\n",
       "      <td>18.630000</td>\n",
       "    </tr>\n",
       "    <tr>\n",
       "      <th>1980-01-01</th>\n",
       "      <td>23.7</td>\n",
       "      <td>34.612000</td>\n",
       "      <td>36.4</td>\n",
       "      <td>25.900000</td>\n",
       "      <td>NaN</td>\n",
       "    </tr>\n",
       "    <tr>\n",
       "      <th>1982-01-01</th>\n",
       "      <td>NaN</td>\n",
       "      <td>32.389796</td>\n",
       "      <td>NaN</td>\n",
       "      <td>24.900000</td>\n",
       "      <td>26.600000</td>\n",
       "    </tr>\n",
       "  </tbody>\n",
       "</table>\n",
       "</div>"
      ],
      "text/plain": [
       "Cylinders      3          4     5          6          8\n",
       "Year                                                   \n",
       "1970-01-01   NaN  25.285714   NaN  20.500000  14.111111\n",
       "1971-01-01   NaN  27.461538   NaN  18.000000  13.428571\n",
       "1972-01-01  19.0  23.428571   NaN        NaN  13.615385\n",
       "1973-01-01  18.0  22.727273   NaN  19.000000  13.200000\n",
       "1974-01-01   NaN  27.800000   NaN  17.857143  14.200000\n",
       "1975-01-01   NaN  25.250000   NaN  17.583333  15.666667\n",
       "1976-01-01   NaN  26.766667   NaN  20.000000  14.666667\n",
       "1977-01-01  21.5  29.107143   NaN  19.500000  16.000000\n",
       "1978-01-01   NaN  29.576471  20.3  19.066667  19.050000\n",
       "1979-01-01   NaN  31.525000  25.4  22.950000  18.630000\n",
       "1980-01-01  23.7  34.612000  36.4  25.900000        NaN\n",
       "1982-01-01   NaN  32.389796   NaN  24.900000  26.600000"
      ]
     },
     "execution_count": 23,
     "metadata": {},
     "output_type": "execute_result"
    }
   ],
   "source": [
    "mpg"
   ]
  },
  {
   "cell_type": "code",
   "execution_count": 19,
   "metadata": {},
   "outputs": [
    {
     "data": {
      "text/plain": [
       "<matplotlib.axes._subplots.AxesSubplot at 0x108c88828>"
      ]
     },
     "execution_count": 19,
     "metadata": {},
     "output_type": "execute_result"
    },
    {
     "data": {
      "image/png": "[encoded data removed]",
      "text/plain": [
       "<Figure size 432x288 with 2 Axes>"
      ]
     },
     "metadata": {},
     "output_type": "display_data"
    }
   ],
   "source": [
    "sns.heatmap(mpg)"
   ]
  },
  {
   "cell_type": "code",
   "execution_count": 20,
   "metadata": {},
   "outputs": [
    {
     "data": {
      "application/vnd.vegalite.v2+json": {
       "$schema": "https://vega.github.io/schema/vega-lite/v2.4.1.json",
       "config": {
        "view": {
         "height": 300,
         "width": 400
        }
       },
       "data": {
        "values": [
         {
          "Cylinders": 4,
          "Value": 25.285714285714285,
          "Year": "1970-01-01"
         },
         {
          "Cylinders": 6,
          "Value": 20.5,
          "Year": "1970-01-01"
         },
         {
          "Cylinders": 8,
          "Value": 14.11111111111111,
          "Year": "1970-01-01"
         },
         {
          "Cylinders": 4,
          "Value": 27.46153846153846,
          "Year": "1971-01-01"
         },
         {
          "Cylinders": 6,
          "Value": 18,
          "Year": "1971-01-01"
         },
         {
          "Cylinders": 8,
          "Value": 13.428571428571429,
          "Year": "1971-01-01"
         },
         {
          "Cylinders": 3,
          "Value": 19,
          "Year": "1972-01-01"
         },
         {
          "Cylinders": 4,
          "Value": 23.428571428571427,
          "Year": "1972-01-01"
         },
         {
          "Cylinders": 8,
          "Value": 13.615384615384615,
          "Year": "1972-01-01"
         },
         {
          "Cylinders": 3,
          "Value": 18,
          "Year": "1973-01-01"
         },
         {
          "Cylinders": 4,
          "Value": 22.727272727272727,
          "Year": "1973-01-01"
         },
         {
          "Cylinders": 6,
          "Value": 19,
          "Year": "1973-01-01"
         },
         {
          "Cylinders": 8,
          "Value": 13.2,
          "Year": "1973-01-01"
         },
         {
          "Cylinders": 4,
          "Value": 27.8,
          "Year": "1974-01-01"
         },
         {
          "Cylinders": 6,
          "Value": 17.857142857142858,
          "Year": "1974-01-01"
         },
         {
          "Cylinders": 8,
          "Value": 14.2,
          "Year": "1974-01-01"
         },
         {
          "Cylinders": 4,
          "Value": 25.25,
          "Year": "1975-01-01"
         },
         {
          "Cylinders": 6,
          "Value": 17.583333333333332,
          "Year": "1975-01-01"
         },
         {
          "Cylinders": 8,
          "Value": 15.666666666666666,
          "Year": "1975-01-01"
         },
         {
          "Cylinders": 4,
          "Value": 26.766666666666666,
          "Year": "1976-01-01"
         },
         {
          "Cylinders": 6,
          "Value": 20,
          "Year": "1976-01-01"
         },
         {
          "Cylinders": 8,
          "Value": 14.666666666666666,
          "Year": "1976-01-01"
         },
         {
          "Cylinders": 3,
          "Value": 21.5,
          "Year": "1977-01-01"
         },
         {
          "Cylinders": 4,
          "Value": 29.107142857142858,
          "Year": "1977-01-01"
         },
         {
          "Cylinders": 6,
          "Value": 19.5,
          "Year": "1977-01-01"
         },
         {
          "Cylinders": 8,
          "Value": 16,
          "Year": "1977-01-01"
         },
         {
          "Cylinders": 4,
          "Value": 29.576470588235296,
          "Year": "1978-01-01"
         },
         {
          "Cylinders": 5,
          "Value": 20.3,
          "Year": "1978-01-01"
         },
         {
          "Cylinders": 6,
          "Value": 19.066666666666666,
          "Year": "1978-01-01"
         },
         {
          "Cylinders": 8,
          "Value": 19.05,
          "Year": "1978-01-01"
         },
         {
          "Cylinders": 4,
          "Value": 31.525000000000002,
          "Year": "1979-01-01"
         },
         {
          "Cylinders": 5,
          "Value": 25.4,
          "Year": "1979-01-01"
         },
         {
          "Cylinders": 6,
          "Value": 22.95,
          "Year": "1979-01-01"
         },
         {
          "Cylinders": 8,
          "Value": 18.63,
          "Year": "1979-01-01"
         },
         {
          "Cylinders": 3,
          "Value": 23.7,
          "Year": "1980-01-01"
         },
         {
          "Cylinders": 4,
          "Value": 34.611999999999995,
          "Year": "1980-01-01"
         },
         {
          "Cylinders": 5,
          "Value": 36.4,
          "Year": "1980-01-01"
         },
         {
          "Cylinders": 6,
          "Value": 25.900000000000002,
          "Year": "1980-01-01"
         },
         {
          "Cylinders": 4,
          "Value": 32.38979591836735,
          "Year": "1982-01-01"
         },
         {
          "Cylinders": 6,
          "Value": 24.9,
          "Year": "1982-01-01"
         },
         {
          "Cylinders": 8,
          "Value": 26.6,
          "Year": "1982-01-01"
         }
        ]
       },
       "encoding": {
        "color": {
         "field": "Value",
         "type": "quantitative"
        },
        "x": {
         "field": "Cylinders",
         "scale": {
          "paddingInner": 0
         },
         "type": "ordinal"
        },
        "y": {
         "field": "Year",
         "scale": {
          "paddingInner": 0
         },
         "type": "ordinal"
        }
       },
       "mark": "rect"
      },
      "image/png": "[encoded data removed]",
      "text/plain": [
       "<VegaLite 2 object>\n",
       "\n",
       "If you see this message, it means the renderer has not been properly enabled\n",
       "for the frontend that you are using. For more information, see\n",
       "https://altair-viz.github.io/user_guide/troubleshooting.html\n"
      ]
     },
     "execution_count": 20,
     "metadata": {},
     "output_type": "execute_result"
    }
   ],
   "source": [
    "star.heatmap(mpg)"
   ]
  },
  {
   "cell_type": "code",
   "execution_count": 21,
   "metadata": {},
   "outputs": [
    {
     "data": {
      "text/plain": [
       "<matplotlib.axes._subplots.AxesSubplot at 0x1a1c77d978>"
      ]
     },
     "execution_count": 21,
     "metadata": {},
     "output_type": "execute_result"
    },
    {
     "data": {
      "image/png": "[encoded data removed]",
      "text/plain": [
       "<Figure size 432x288 with 2 Axes>"
      ]
     },
     "metadata": {},
     "output_type": "display_data"
    }
   ],
   "source": [
    "sns.heatmap(mpg, annot=True)"
   ]
  },
  {
   "cell_type": "code",
   "execution_count": 27,
   "metadata": {},
   "outputs": [
    {
     "data": {
      "application/vnd.vegalite.v2+json": {
       "$schema": "https://vega.github.io/schema/vega-lite/v2.4.1.json",
       "config": {
        "view": {
         "height": 300,
         "width": 400
        }
       },
       "layer": [
        {
         "data": {
          "values": [
           {
            "Cylinders": 4,
            "Value": 25.285714285714285,
            "Year": "1970-01-01"
           },
           {
            "Cylinders": 6,
            "Value": 20.5,
            "Year": "1970-01-01"
           },
           {
            "Cylinders": 8,
            "Value": 14.11111111111111,
            "Year": "1970-01-01"
           },
           {
            "Cylinders": 4,
            "Value": 27.46153846153846,
            "Year": "1971-01-01"
           },
           {
            "Cylinders": 6,
            "Value": 18,
            "Year": "1971-01-01"
           },
           {
            "Cylinders": 8,
            "Value": 13.428571428571429,
            "Year": "1971-01-01"
           },
           {
            "Cylinders": 3,
            "Value": 19,
            "Year": "1972-01-01"
           },
           {
            "Cylinders": 4,
            "Value": 23.428571428571427,
            "Year": "1972-01-01"
           },
           {
            "Cylinders": 8,
            "Value": 13.615384615384615,
            "Year": "1972-01-01"
           },
           {
            "Cylinders": 3,
            "Value": 18,
            "Year": "1973-01-01"
           },
           {
            "Cylinders": 4,
            "Value": 22.727272727272727,
            "Year": "1973-01-01"
           },
           {
            "Cylinders": 6,
            "Value": 19,
            "Year": "1973-01-01"
           },
           {
            "Cylinders": 8,
            "Value": 13.2,
            "Year": "1973-01-01"
           },
           {
            "Cylinders": 4,
            "Value": 27.8,
            "Year": "1974-01-01"
           },
           {
            "Cylinders": 6,
            "Value": 17.857142857142858,
            "Year": "1974-01-01"
           },
           {
            "Cylinders": 8,
            "Value": 14.2,
            "Year": "1974-01-01"
           },
           {
            "Cylinders": 4,
            "Value": 25.25,
            "Year": "1975-01-01"
           },
           {
            "Cylinders": 6,
            "Value": 17.583333333333332,
            "Year": "1975-01-01"
           },
           {
            "Cylinders": 8,
            "Value": 15.666666666666666,
            "Year": "1975-01-01"
           },
           {
            "Cylinders": 4,
            "Value": 26.766666666666666,
            "Year": "1976-01-01"
           },
           {
            "Cylinders": 6,
            "Value": 20,
            "Year": "1976-01-01"
           },
           {
            "Cylinders": 8,
            "Value": 14.666666666666666,
            "Year": "1976-01-01"
           },
           {
            "Cylinders": 3,
            "Value": 21.5,
            "Year": "1977-01-01"
           },
           {
            "Cylinders": 4,
            "Value": 29.107142857142858,
            "Year": "1977-01-01"
           },
           {
            "Cylinders": 6,
            "Value": 19.5,
            "Year": "1977-01-01"
           },
           {
            "Cylinders": 8,
            "Value": 16,
            "Year": "1977-01-01"
           },
           {
            "Cylinders": 4,
            "Value": 29.576470588235296,
            "Year": "1978-01-01"
           },
           {
            "Cylinders": 5,
            "Value": 20.3,
            "Year": "1978-01-01"
           },
           {
            "Cylinders": 6,
            "Value": 19.066666666666666,
            "Year": "1978-01-01"
           },
           {
            "Cylinders": 8,
            "Value": 19.05,
            "Year": "1978-01-01"
           },
           {
            "Cylinders": 4,
            "Value": 31.525000000000002,
            "Year": "1979-01-01"
           },
           {
            "Cylinders": 5,
            "Value": 25.4,
            "Year": "1979-01-01"
           },
           {
            "Cylinders": 6,
            "Value": 22.95,
            "Year": "1979-01-01"
           },
           {
            "Cylinders": 8,
            "Value": 18.63,
            "Year": "1979-01-01"
           },
           {
            "Cylinders": 3,
            "Value": 23.7,
            "Year": "1980-01-01"
           },
           {
            "Cylinders": 4,
            "Value": 34.611999999999995,
            "Year": "1980-01-01"
           },
           {
            "Cylinders": 5,
            "Value": 36.4,
            "Year": "1980-01-01"
           },
           {
            "Cylinders": 6,
            "Value": 25.900000000000002,
            "Year": "1980-01-01"
           },
           {
            "Cylinders": 4,
            "Value": 32.38979591836735,
            "Year": "1982-01-01"
           },
           {
            "Cylinders": 6,
            "Value": 24.9,
            "Year": "1982-01-01"
           },
           {
            "Cylinders": 8,
            "Value": 26.6,
            "Year": "1982-01-01"
           }
          ]
         },
         "encoding": {
          "color": {
           "field": "Value",
           "type": "quantitative"
          },
          "x": {
           "field": "Cylinders",
           "scale": {
            "paddingInner": 0
           },
           "type": "ordinal"
          },
          "y": {
           "field": "Year",
           "scale": {
            "paddingInner": 0
           },
           "type": "ordinal"
          }
         },
         "mark": "rect"
        },
        {
         "data": {
          "values": [
           {
            "Cylinders": 4,
            "Value": 25.285714285714285,
            "Year": "1970-01-01"
           },
           {
            "Cylinders": 6,
            "Value": 20.5,
            "Year": "1970-01-01"
           },
           {
            "Cylinders": 8,
            "Value": 14.11111111111111,
            "Year": "1970-01-01"
           },
           {
            "Cylinders": 4,
            "Value": 27.46153846153846,
            "Year": "1971-01-01"
           },
           {
            "Cylinders": 6,
            "Value": 18,
            "Year": "1971-01-01"
           },
           {
            "Cylinders": 8,
            "Value": 13.428571428571429,
            "Year": "1971-01-01"
           },
           {
            "Cylinders": 3,
            "Value": 19,
            "Year": "1972-01-01"
           },
           {
            "Cylinders": 4,
            "Value": 23.428571428571427,
            "Year": "1972-01-01"
           },
           {
            "Cylinders": 8,
            "Value": 13.615384615384615,
            "Year": "1972-01-01"
           },
           {
            "Cylinders": 3,
            "Value": 18,
            "Year": "1973-01-01"
           },
           {
            "Cylinders": 4,
            "Value": 22.727272727272727,
            "Year": "1973-01-01"
           },
           {
            "Cylinders": 6,
            "Value": 19,
            "Year": "1973-01-01"
           },
           {
            "Cylinders": 8,
            "Value": 13.2,
            "Year": "1973-01-01"
           },
           {
            "Cylinders": 4,
            "Value": 27.8,
            "Year": "1974-01-01"
           },
           {
            "Cylinders": 6,
            "Value": 17.857142857142858,
            "Year": "1974-01-01"
           },
           {
            "Cylinders": 8,
            "Value": 14.2,
            "Year": "1974-01-01"
           },
           {
            "Cylinders": 4,
            "Value": 25.25,
            "Year": "1975-01-01"
           },
           {
            "Cylinders": 6,
            "Value": 17.583333333333332,
            "Year": "1975-01-01"
           },
           {
            "Cylinders": 8,
            "Value": 15.666666666666666,
            "Year": "1975-01-01"
           },
           {
            "Cylinders": 4,
            "Value": 26.766666666666666,
            "Year": "1976-01-01"
           },
           {
            "Cylinders": 6,
            "Value": 20,
            "Year": "1976-01-01"
           },
           {
            "Cylinders": 8,
            "Value": 14.666666666666666,
            "Year": "1976-01-01"
           },
           {
            "Cylinders": 3,
            "Value": 21.5,
            "Year": "1977-01-01"
           },
           {
            "Cylinders": 4,
            "Value": 29.107142857142858,
            "Year": "1977-01-01"
           },
           {
            "Cylinders": 6,
            "Value": 19.5,
            "Year": "1977-01-01"
           },
           {
            "Cylinders": 8,
            "Value": 16,
            "Year": "1977-01-01"
           },
           {
            "Cylinders": 4,
            "Value": 29.576470588235296,
            "Year": "1978-01-01"
           },
           {
            "Cylinders": 5,
            "Value": 20.3,
            "Year": "1978-01-01"
           },
           {
            "Cylinders": 6,
            "Value": 19.066666666666666,
            "Year": "1978-01-01"
           },
           {
            "Cylinders": 8,
            "Value": 19.05,
            "Year": "1978-01-01"
           },
           {
            "Cylinders": 4,
            "Value": 31.525000000000002,
            "Year": "1979-01-01"
           },
           {
            "Cylinders": 5,
            "Value": 25.4,
            "Year": "1979-01-01"
           },
           {
            "Cylinders": 6,
            "Value": 22.95,
            "Year": "1979-01-01"
           },
           {
            "Cylinders": 8,
            "Value": 18.63,
            "Year": "1979-01-01"
           },
           {
            "Cylinders": 3,
            "Value": 23.7,
            "Year": "1980-01-01"
           },
           {
            "Cylinders": 4,
            "Value": 34.611999999999995,
            "Year": "1980-01-01"
           },
           {
            "Cylinders": 5,
            "Value": 36.4,
            "Year": "1980-01-01"
           },
           {
            "Cylinders": 6,
            "Value": 25.900000000000002,
            "Year": "1980-01-01"
           },
           {
            "Cylinders": 4,
            "Value": 32.38979591836735,
            "Year": "1982-01-01"
           },
           {
            "Cylinders": 6,
            "Value": 24.9,
            "Year": "1982-01-01"
           },
           {
            "Cylinders": 8,
            "Value": 26.6,
            "Year": "1982-01-01"
           }
          ]
         },
         "encoding": {
          "color": {
           "condition": {
            "test": "(datum['Value'] > 70)",
            "value": "black"
           },
           "value": "white"
          },
          "text": {
           "field": "Value",
           "format": ".2g",
           "type": "quantitative"
          },
          "x": {
           "field": "Cylinders",
           "type": "ordinal"
          },
          "y": {
           "field": "Year",
           "type": "ordinal"
          }
         },
         "mark": {
          "baseline": "middle",
          "type": "text"
         }
        }
       ]
      },
      "image/png": "[encoded data removed]",
      "text/plain": [
       "<VegaLite 2 object>\n",
       "\n",
       "If you see this message, it means the renderer has not been properly enabled\n",
       "for the frontend that you are using. For more information, see\n",
       "https://altair-viz.github.io/user_guide/troubleshooting.html\n"
      ]
     },
     "execution_count": 27,
     "metadata": {},
     "output_type": "execute_result"
    }
   ],
   "source": [
    "star.heatmap(mpg, annot=True, fmt='.2g')"
   ]
  },
  {
   "cell_type": "markdown",
   "metadata": {},
   "source": [
    "## Strip plot"
   ]
  },
  {
   "cell_type": "code",
   "execution_count": 28,
   "metadata": {},
   "outputs": [
    {
     "data": {
      "text/html": [
       "<div>\n",
       "<style scoped>\n",
       "    .dataframe tbody tr th:only-of-type {\n",
       "        vertical-align: middle;\n",
       "    }\n",
       "\n",
       "    .dataframe tbody tr th {\n",
       "        vertical-align: top;\n",
       "    }\n",
       "\n",
       "    .dataframe thead th {\n",
       "        text-align: right;\n",
       "    }\n",
       "</style>\n",
       "<table border=\"1\" class=\"dataframe\">\n",
       "  <thead>\n",
       "    <tr style=\"text-align: right;\">\n",
       "      <th></th>\n",
       "      <th>total_bill</th>\n",
       "      <th>tip</th>\n",
       "      <th>sex</th>\n",
       "      <th>smoker</th>\n",
       "      <th>day</th>\n",
       "      <th>time</th>\n",
       "      <th>size</th>\n",
       "    </tr>\n",
       "  </thead>\n",
       "  <tbody>\n",
       "    <tr>\n",
       "      <th>0</th>\n",
       "      <td>16.99</td>\n",
       "      <td>1.01</td>\n",
       "      <td>Female</td>\n",
       "      <td>No</td>\n",
       "      <td>Sun</td>\n",
       "      <td>Dinner</td>\n",
       "      <td>2</td>\n",
       "    </tr>\n",
       "    <tr>\n",
       "      <th>1</th>\n",
       "      <td>10.34</td>\n",
       "      <td>1.66</td>\n",
       "      <td>Male</td>\n",
       "      <td>No</td>\n",
       "      <td>Sun</td>\n",
       "      <td>Dinner</td>\n",
       "      <td>3</td>\n",
       "    </tr>\n",
       "    <tr>\n",
       "      <th>2</th>\n",
       "      <td>21.01</td>\n",
       "      <td>3.50</td>\n",
       "      <td>Male</td>\n",
       "      <td>No</td>\n",
       "      <td>Sun</td>\n",
       "      <td>Dinner</td>\n",
       "      <td>3</td>\n",
       "    </tr>\n",
       "  </tbody>\n",
       "</table>\n",
       "</div>"
      ],
      "text/plain": [
       "   total_bill   tip     sex smoker  day    time  size\n",
       "0       16.99  1.01  Female     No  Sun  Dinner     2\n",
       "1       10.34  1.66    Male     No  Sun  Dinner     3\n",
       "2       21.01  3.50    Male     No  Sun  Dinner     3"
      ]
     },
     "execution_count": 28,
     "metadata": {},
     "output_type": "execute_result"
    }
   ],
   "source": [
    "tips = sns.load_dataset(\"tips\")\n",
    "tips[:3]"
   ]
  },
  {
   "cell_type": "code",
   "execution_count": 29,
   "metadata": {},
   "outputs": [
    {
     "data": {
      "text/plain": [
       "<matplotlib.axes._subplots.AxesSubplot at 0x1a1c88c080>"
      ]
     },
     "execution_count": 29,
     "metadata": {},
     "output_type": "execute_result"
    },
    {
     "data": {
      "image/png": "[encoded data removed]",
      "text/plain": [
       "<Figure size 432x288 with 1 Axes>"
      ]
     },
     "metadata": {},
     "output_type": "display_data"
    }
   ],
   "source": [
    "sns.stripplot(x=tips[\"total_bill\"])"
   ]
  },
  {
   "cell_type": "code",
   "execution_count": 30,
   "metadata": {},
   "outputs": [
    {
     "data": {
      "application/vnd.vegalite.v2+json": {
       "$schema": "https://vega.github.io/schema/vega-lite/v2.4.1.json",
       "config": {
        "view": {
         "height": 300,
         "width": 400
        }
       },
       "data": {
        "values": [
         {
          "total_bill": 16.99
         },
         {
          "total_bill": 10.34
         },
         {
          "total_bill": 21.01
         },
         {
          "total_bill": 23.68
         },
         {
          "total_bill": 24.59
         },
         {
          "total_bill": 25.29
         },
         {
          "total_bill": 8.77
         },
         {
          "total_bill": 26.88
         },
         {
          "total_bill": 15.04
         },
         {
          "total_bill": 14.78
         },
         {
          "total_bill": 10.27
         },
         {
          "total_bill": 35.26
         },
         {
          "total_bill": 15.42
         },
         {
          "total_bill": 18.43
         },
         {
          "total_bill": 14.83
         },
         {
          "total_bill": 21.58
         },
         {
          "total_bill": 10.33
         },
         {
          "total_bill": 16.29
         },
         {
          "total_bill": 16.97
         },
         {
          "total_bill": 20.65
         },
         {
          "total_bill": 17.92
         },
         {
          "total_bill": 20.29
         },
         {
          "total_bill": 15.77
         },
         {
          "total_bill": 39.42
         },
         {
          "total_bill": 19.82
         },
         {
          "total_bill": 17.81
         },
         {
          "total_bill": 13.37
         },
         {
          "total_bill": 12.69
         },
         {
          "total_bill": 21.7
         },
         {
          "total_bill": 19.65
         },
         {
          "total_bill": 9.55
         },
         {
          "total_bill": 18.35
         },
         {
          "total_bill": 15.06
         },
         {
          "total_bill": 20.69
         },
         {
          "total_bill": 17.78
         },
         {
          "total_bill": 24.06
         },
         {
          "total_bill": 16.31
         },
         {
          "total_bill": 16.93
         },
         {
          "total_bill": 18.69
         },
         {
          "total_bill": 31.27
         },
         {
          "total_bill": 16.04
         },
         {
          "total_bill": 17.46
         },
         {
          "total_bill": 13.94
         },
         {
          "total_bill": 9.68
         },
         {
          "total_bill": 30.4
         },
         {
          "total_bill": 18.29
         },
         {
          "total_bill": 22.23
         },
         {
          "total_bill": 32.4
         },
         {
          "total_bill": 28.55
         },
         {
          "total_bill": 18.04
         },
         {
          "total_bill": 12.54
         },
         {
          "total_bill": 10.29
         },
         {
          "total_bill": 34.81
         },
         {
          "total_bill": 9.94
         },
         {
          "total_bill": 25.56
         },
         {
          "total_bill": 19.49
         },
         {
          "total_bill": 38.01
         },
         {
          "total_bill": 26.41
         },
         {
          "total_bill": 11.24
         },
         {
          "total_bill": 48.27
         },
         {
          "total_bill": 20.29
         },
         {
          "total_bill": 13.81
         },
         {
          "total_bill": 11.02
         },
         {
          "total_bill": 18.29
         },
         {
          "total_bill": 17.59
         },
         {
          "total_bill": 20.08
         },
         {
          "total_bill": 16.45
         },
         {
          "total_bill": 3.07
         },
         {
          "total_bill": 20.23
         },
         {
          "total_bill": 15.01
         },
         {
          "total_bill": 12.02
         },
         {
          "total_bill": 17.07
         },
         {
          "total_bill": 26.86
         },
         {
          "total_bill": 25.28
         },
         {
          "total_bill": 14.73
         },
         {
          "total_bill": 10.51
         },
         {
          "total_bill": 17.92
         },
         {
          "total_bill": 27.2
         },
         {
          "total_bill": 22.76
         },
         {
          "total_bill": 17.29
         },
         {
          "total_bill": 19.44
         },
         {
          "total_bill": 16.66
         },
         {
          "total_bill": 10.07
         },
         {
          "total_bill": 32.68
         },
         {
          "total_bill": 15.98
         },
         {
          "total_bill": 34.83
         },
         {
          "total_bill": 13.03
         },
         {
          "total_bill": 18.28
         },
         {
          "total_bill": 24.71
         },
         {
          "total_bill": 21.16
         },
         {
          "total_bill": 28.97
         },
         {
          "total_bill": 22.49
         },
         {
          "total_bill": 5.75
         },
         {
          "total_bill": 16.32
         },
         {
          "total_bill": 22.75
         },
         {
          "total_bill": 40.17
         },
         {
          "total_bill": 27.28
         },
         {
          "total_bill": 12.03
         },
         {
          "total_bill": 21.01
         },
         {
          "total_bill": 12.46
         },
         {
          "total_bill": 11.35
         },
         {
          "total_bill": 15.38
         },
         {
          "total_bill": 44.3
         },
         {
          "total_bill": 22.42
         },
         {
          "total_bill": 20.92
         },
         {
          "total_bill": 15.36
         },
         {
          "total_bill": 20.49
         },
         {
          "total_bill": 25.21
         },
         {
          "total_bill": 18.24
         },
         {
          "total_bill": 14.31
         },
         {
          "total_bill": 14
         },
         {
          "total_bill": 7.25
         },
         {
          "total_bill": 38.07
         },
         {
          "total_bill": 23.95
         },
         {
          "total_bill": 25.71
         },
         {
          "total_bill": 17.31
         },
         {
          "total_bill": 29.93
         },
         {
          "total_bill": 10.65
         },
         {
          "total_bill": 12.43
         },
         {
          "total_bill": 24.08
         },
         {
          "total_bill": 11.69
         },
         {
          "total_bill": 13.42
         },
         {
          "total_bill": 14.26
         },
         {
          "total_bill": 15.95
         },
         {
          "total_bill": 12.48
         },
         {
          "total_bill": 29.8
         },
         {
          "total_bill": 8.52
         },
         {
          "total_bill": 14.52
         },
         {
          "total_bill": 11.38
         },
         {
          "total_bill": 22.82
         },
         {
          "total_bill": 19.08
         },
         {
          "total_bill": 20.27
         },
         {
          "total_bill": 11.17
         },
         {
          "total_bill": 12.26
         },
         {
          "total_bill": 18.26
         },
         {
          "total_bill": 8.51
         },
         {
          "total_bill": 10.33
         },
         {
          "total_bill": 14.15
         },
         {
          "total_bill": 16
         },
         {
          "total_bill": 13.16
         },
         {
          "total_bill": 17.47
         },
         {
          "total_bill": 34.3
         },
         {
          "total_bill": 41.19
         },
         {
          "total_bill": 27.05
         },
         {
          "total_bill": 16.43
         },
         {
          "total_bill": 8.35
         },
         {
          "total_bill": 18.64
         },
         {
          "total_bill": 11.87
         },
         {
          "total_bill": 9.78
         },
         {
          "total_bill": 7.51
         },
         {
          "total_bill": 14.07
         },
         {
          "total_bill": 13.13
         },
         {
          "total_bill": 17.26
         },
         {
          "total_bill": 24.55
         },
         {
          "total_bill": 19.77
         },
         {
          "total_bill": 29.85
         },
         {
          "total_bill": 48.17
         },
         {
          "total_bill": 25
         },
         {
          "total_bill": 13.39
         },
         {
          "total_bill": 16.49
         },
         {
          "total_bill": 21.5
         },
         {
          "total_bill": 12.66
         },
         {
          "total_bill": 16.21
         },
         {
          "total_bill": 13.81
         },
         {
          "total_bill": 17.51
         },
         {
          "total_bill": 24.52
         },
         {
          "total_bill": 20.76
         },
         {
          "total_bill": 31.71
         },
         {
          "total_bill": 10.59
         },
         {
          "total_bill": 10.63
         },
         {
          "total_bill": 50.81
         },
         {
          "total_bill": 15.81
         },
         {
          "total_bill": 7.25
         },
         {
          "total_bill": 31.85
         },
         {
          "total_bill": 16.82
         },
         {
          "total_bill": 32.9
         },
         {
          "total_bill": 17.89
         },
         {
          "total_bill": 14.48
         },
         {
          "total_bill": 9.6
         },
         {
          "total_bill": 34.63
         },
         {
          "total_bill": 34.65
         },
         {
          "total_bill": 23.33
         },
         {
          "total_bill": 45.35
         },
         {
          "total_bill": 23.17
         },
         {
          "total_bill": 40.55
         },
         {
          "total_bill": 20.69
         },
         {
          "total_bill": 20.9
         },
         {
          "total_bill": 30.46
         },
         {
          "total_bill": 18.15
         },
         {
          "total_bill": 23.1
         },
         {
          "total_bill": 15.69
         },
         {
          "total_bill": 19.81
         },
         {
          "total_bill": 28.44
         },
         {
          "total_bill": 15.48
         },
         {
          "total_bill": 16.58
         },
         {
          "total_bill": 7.56
         },
         {
          "total_bill": 10.34
         },
         {
          "total_bill": 43.11
         },
         {
          "total_bill": 13
         },
         {
          "total_bill": 13.51
         },
         {
          "total_bill": 18.71
         },
         {
          "total_bill": 12.74
         },
         {
          "total_bill": 13
         },
         {
          "total_bill": 16.4
         },
         {
          "total_bill": 20.53
         },
         {
          "total_bill": 16.47
         },
         {
          "total_bill": 26.59
         },
         {
          "total_bill": 38.73
         },
         {
          "total_bill": 24.27
         },
         {
          "total_bill": 12.76
         },
         {
          "total_bill": 30.06
         },
         {
          "total_bill": 25.89
         },
         {
          "total_bill": 48.33
         },
         {
          "total_bill": 13.27
         },
         {
          "total_bill": 28.17
         },
         {
          "total_bill": 12.9
         },
         {
          "total_bill": 28.15
         },
         {
          "total_bill": 11.59
         },
         {
          "total_bill": 7.74
         },
         {
          "total_bill": 30.14
         },
         {
          "total_bill": 12.16
         },
         {
          "total_bill": 13.42
         },
         {
          "total_bill": 8.58
         },
         {
          "total_bill": 15.98
         },
         {
          "total_bill": 13.42
         },
         {
          "total_bill": 16.27
         },
         {
          "total_bill": 10.09
         },
         {
          "total_bill": 20.45
         },
         {
          "total_bill": 13.28
         },
         {
          "total_bill": 22.12
         },
         {
          "total_bill": 24.01
         },
         {
          "total_bill": 15.69
         },
         {
          "total_bill": 11.61
         },
         {
          "total_bill": 10.77
         },
         {
          "total_bill": 15.53
         },
         {
          "total_bill": 10.07
         },
         {
          "total_bill": 12.6
         },
         {
          "total_bill": 32.83
         },
         {
          "total_bill": 35.83
         },
         {
          "total_bill": 29.03
         },
         {
          "total_bill": 27.18
         },
         {
          "total_bill": 22.67
         },
         {
          "total_bill": 17.82
         },
         {
          "total_bill": 18.78
         }
        ]
       },
       "encoding": {
        "x": {
         "field": "total_bill",
         "type": "quantitative"
        }
       },
       "mark": "tick"
      },
      "image/png": "[encoded data removed]",
      "text/plain": [
       "<VegaLite 2 object>\n",
       "\n",
       "If you see this message, it means the renderer has not been properly enabled\n",
       "for the frontend that you are using. For more information, see\n",
       "https://altair-viz.github.io/user_guide/troubleshooting.html\n"
      ]
     },
     "execution_count": 30,
     "metadata": {},
     "output_type": "execute_result"
    }
   ],
   "source": [
    "star.stripplot(x=tips['total_bill'])"
   ]
  },
  {
   "cell_type": "code",
   "execution_count": 31,
   "metadata": {},
   "outputs": [
    {
     "data": {
      "text/plain": [
       "<matplotlib.axes._subplots.AxesSubplot at 0x1a1c9ba160>"
      ]
     },
     "execution_count": 31,
     "metadata": {},
     "output_type": "execute_result"
    },
    {
     "data": {
      "image/png": "[encoded data removed]",
      "text/plain": [
       "<Figure size 432x288 with 1 Axes>"
      ]
     },
     "metadata": {},
     "output_type": "display_data"
    }
   ],
   "source": [
    "sns.stripplot(y=tips[\"total_bill\"])"
   ]
  },
  {
   "cell_type": "code",
   "execution_count": 32,
   "metadata": {},
   "outputs": [
    {
     "data": {
      "application/vnd.vegalite.v2+json": {
       "$schema": "https://vega.github.io/schema/vega-lite/v2.4.1.json",
       "config": {
        "view": {
         "height": 300,
         "width": 400
        }
       },
       "data": {
        "values": [
         {
          "total_bill": 16.99
         },
         {
          "total_bill": 10.34
         },
         {
          "total_bill": 21.01
         },
         {
          "total_bill": 23.68
         },
         {
          "total_bill": 24.59
         },
         {
          "total_bill": 25.29
         },
         {
          "total_bill": 8.77
         },
         {
          "total_bill": 26.88
         },
         {
          "total_bill": 15.04
         },
         {
          "total_bill": 14.78
         },
         {
          "total_bill": 10.27
         },
         {
          "total_bill": 35.26
         },
         {
          "total_bill": 15.42
         },
         {
          "total_bill": 18.43
         },
         {
          "total_bill": 14.83
         },
         {
          "total_bill": 21.58
         },
         {
          "total_bill": 10.33
         },
         {
          "total_bill": 16.29
         },
         {
          "total_bill": 16.97
         },
         {
          "total_bill": 20.65
         },
         {
          "total_bill": 17.92
         },
         {
          "total_bill": 20.29
         },
         {
          "total_bill": 15.77
         },
         {
          "total_bill": 39.42
         },
         {
          "total_bill": 19.82
         },
         {
          "total_bill": 17.81
         },
         {
          "total_bill": 13.37
         },
         {
          "total_bill": 12.69
         },
         {
          "total_bill": 21.7
         },
         {
          "total_bill": 19.65
         },
         {
          "total_bill": 9.55
         },
         {
          "total_bill": 18.35
         },
         {
          "total_bill": 15.06
         },
         {
          "total_bill": 20.69
         },
         {
          "total_bill": 17.78
         },
         {
          "total_bill": 24.06
         },
         {
          "total_bill": 16.31
         },
         {
          "total_bill": 16.93
         },
         {
          "total_bill": 18.69
         },
         {
          "total_bill": 31.27
         },
         {
          "total_bill": 16.04
         },
         {
          "total_bill": 17.46
         },
         {
          "total_bill": 13.94
         },
         {
          "total_bill": 9.68
         },
         {
          "total_bill": 30.4
         },
         {
          "total_bill": 18.29
         },
         {
          "total_bill": 22.23
         },
         {
          "total_bill": 32.4
         },
         {
          "total_bill": 28.55
         },
         {
          "total_bill": 18.04
         },
         {
          "total_bill": 12.54
         },
         {
          "total_bill": 10.29
         },
         {
          "total_bill": 34.81
         },
         {
          "total_bill": 9.94
         },
         {
          "total_bill": 25.56
         },
         {
          "total_bill": 19.49
         },
         {
          "total_bill": 38.01
         },
         {
          "total_bill": 26.41
         },
         {
          "total_bill": 11.24
         },
         {
          "total_bill": 48.27
         },
         {
          "total_bill": 20.29
         },
         {
          "total_bill": 13.81
         },
         {
          "total_bill": 11.02
         },
         {
          "total_bill": 18.29
         },
         {
          "total_bill": 17.59
         },
         {
          "total_bill": 20.08
         },
         {
          "total_bill": 16.45
         },
         {
          "total_bill": 3.07
         },
         {
          "total_bill": 20.23
         },
         {
          "total_bill": 15.01
         },
         {
          "total_bill": 12.02
         },
         {
          "total_bill": 17.07
         },
         {
          "total_bill": 26.86
         },
         {
          "total_bill": 25.28
         },
         {
          "total_bill": 14.73
         },
         {
          "total_bill": 10.51
         },
         {
          "total_bill": 17.92
         },
         {
          "total_bill": 27.2
         },
         {
          "total_bill": 22.76
         },
         {
          "total_bill": 17.29
         },
         {
          "total_bill": 19.44
         },
         {
          "total_bill": 16.66
         },
         {
          "total_bill": 10.07
         },
         {
          "total_bill": 32.68
         },
         {
          "total_bill": 15.98
         },
         {
          "total_bill": 34.83
         },
         {
          "total_bill": 13.03
         },
         {
          "total_bill": 18.28
         },
         {
          "total_bill": 24.71
         },
         {
          "total_bill": 21.16
         },
         {
          "total_bill": 28.97
         },
         {
          "total_bill": 22.49
         },
         {
          "total_bill": 5.75
         },
         {
          "total_bill": 16.32
         },
         {
          "total_bill": 22.75
         },
         {
          "total_bill": 40.17
         },
         {
          "total_bill": 27.28
         },
         {
          "total_bill": 12.03
         },
         {
          "total_bill": 21.01
         },
         {
          "total_bill": 12.46
         },
         {
          "total_bill": 11.35
         },
         {
          "total_bill": 15.38
         },
         {
          "total_bill": 44.3
         },
         {
          "total_bill": 22.42
         },
         {
          "total_bill": 20.92
         },
         {
          "total_bill": 15.36
         },
         {
          "total_bill": 20.49
         },
         {
          "total_bill": 25.21
         },
         {
          "total_bill": 18.24
         },
         {
          "total_bill": 14.31
         },
         {
          "total_bill": 14
         },
         {
          "total_bill": 7.25
         },
         {
          "total_bill": 38.07
         },
         {
          "total_bill": 23.95
         },
         {
          "total_bill": 25.71
         },
         {
          "total_bill": 17.31
         },
         {
          "total_bill": 29.93
         },
         {
          "total_bill": 10.65
         },
         {
          "total_bill": 12.43
         },
         {
          "total_bill": 24.08
         },
         {
          "total_bill": 11.69
         },
         {
          "total_bill": 13.42
         },
         {
          "total_bill": 14.26
         },
         {
          "total_bill": 15.95
         },
         {
          "total_bill": 12.48
         },
         {
          "total_bill": 29.8
         },
         {
          "total_bill": 8.52
         },
         {
          "total_bill": 14.52
         },
         {
          "total_bill": 11.38
         },
         {
          "total_bill": 22.82
         },
         {
          "total_bill": 19.08
         },
         {
          "total_bill": 20.27
         },
         {
          "total_bill": 11.17
         },
         {
          "total_bill": 12.26
         },
         {
          "total_bill": 18.26
         },
         {
          "total_bill": 8.51
         },
         {
          "total_bill": 10.33
         },
         {
          "total_bill": 14.15
         },
         {
          "total_bill": 16
         },
         {
          "total_bill": 13.16
         },
         {
          "total_bill": 17.47
         },
         {
          "total_bill": 34.3
         },
         {
          "total_bill": 41.19
         },
         {
          "total_bill": 27.05
         },
         {
          "total_bill": 16.43
         },
         {
          "total_bill": 8.35
         },
         {
          "total_bill": 18.64
         },
         {
          "total_bill": 11.87
         },
         {
          "total_bill": 9.78
         },
         {
          "total_bill": 7.51
         },
         {
          "total_bill": 14.07
         },
         {
          "total_bill": 13.13
         },
         {
          "total_bill": 17.26
         },
         {
          "total_bill": 24.55
         },
         {
          "total_bill": 19.77
         },
         {
          "total_bill": 29.85
         },
         {
          "total_bill": 48.17
         },
         {
          "total_bill": 25
         },
         {
          "total_bill": 13.39
         },
         {
          "total_bill": 16.49
         },
         {
          "total_bill": 21.5
         },
         {
          "total_bill": 12.66
         },
         {
          "total_bill": 16.21
         },
         {
          "total_bill": 13.81
         },
         {
          "total_bill": 17.51
         },
         {
          "total_bill": 24.52
         },
         {
          "total_bill": 20.76
         },
         {
          "total_bill": 31.71
         },
         {
          "total_bill": 10.59
         },
         {
          "total_bill": 10.63
         },
         {
          "total_bill": 50.81
         },
         {
          "total_bill": 15.81
         },
         {
          "total_bill": 7.25
         },
         {
          "total_bill": 31.85
         },
         {
          "total_bill": 16.82
         },
         {
          "total_bill": 32.9
         },
         {
          "total_bill": 17.89
         },
         {
          "total_bill": 14.48
         },
         {
          "total_bill": 9.6
         },
         {
          "total_bill": 34.63
         },
         {
          "total_bill": 34.65
         },
         {
          "total_bill": 23.33
         },
         {
          "total_bill": 45.35
         },
         {
          "total_bill": 23.17
         },
         {
          "total_bill": 40.55
         },
         {
          "total_bill": 20.69
         },
         {
          "total_bill": 20.9
         },
         {
          "total_bill": 30.46
         },
         {
          "total_bill": 18.15
         },
         {
          "total_bill": 23.1
         },
         {
          "total_bill": 15.69
         },
         {
          "total_bill": 19.81
         },
         {
          "total_bill": 28.44
         },
         {
          "total_bill": 15.48
         },
         {
          "total_bill": 16.58
         },
         {
          "total_bill": 7.56
         },
         {
          "total_bill": 10.34
         },
         {
          "total_bill": 43.11
         },
         {
          "total_bill": 13
         },
         {
          "total_bill": 13.51
         },
         {
          "total_bill": 18.71
         },
         {
          "total_bill": 12.74
         },
         {
          "total_bill": 13
         },
         {
          "total_bill": 16.4
         },
         {
          "total_bill": 20.53
         },
         {
          "total_bill": 16.47
         },
         {
          "total_bill": 26.59
         },
         {
          "total_bill": 38.73
         },
         {
          "total_bill": 24.27
         },
         {
          "total_bill": 12.76
         },
         {
          "total_bill": 30.06
         },
         {
          "total_bill": 25.89
         },
         {
          "total_bill": 48.33
         },
         {
          "total_bill": 13.27
         },
         {
          "total_bill": 28.17
         },
         {
          "total_bill": 12.9
         },
         {
          "total_bill": 28.15
         },
         {
          "total_bill": 11.59
         },
         {
          "total_bill": 7.74
         },
         {
          "total_bill": 30.14
         },
         {
          "total_bill": 12.16
         },
         {
          "total_bill": 13.42
         },
         {
          "total_bill": 8.58
         },
         {
          "total_bill": 15.98
         },
         {
          "total_bill": 13.42
         },
         {
          "total_bill": 16.27
         },
         {
          "total_bill": 10.09
         },
         {
          "total_bill": 20.45
         },
         {
          "total_bill": 13.28
         },
         {
          "total_bill": 22.12
         },
         {
          "total_bill": 24.01
         },
         {
          "total_bill": 15.69
         },
         {
          "total_bill": 11.61
         },
         {
          "total_bill": 10.77
         },
         {
          "total_bill": 15.53
         },
         {
          "total_bill": 10.07
         },
         {
          "total_bill": 12.6
         },
         {
          "total_bill": 32.83
         },
         {
          "total_bill": 35.83
         },
         {
          "total_bill": 29.03
         },
         {
          "total_bill": 27.18
         },
         {
          "total_bill": 22.67
         },
         {
          "total_bill": 17.82
         },
         {
          "total_bill": 18.78
         }
        ]
       },
       "encoding": {
        "y": {
         "field": "total_bill",
         "type": "quantitative"
        }
       },
       "mark": "tick"
      },
      "image/png": "[encoded data removed]",
      "text/plain": [
       "<VegaLite 2 object>\n",
       "\n",
       "If you see this message, it means the renderer has not been properly enabled\n",
       "for the frontend that you are using. For more information, see\n",
       "https://altair-viz.github.io/user_guide/troubleshooting.html\n"
      ]
     },
     "execution_count": 32,
     "metadata": {},
     "output_type": "execute_result"
    }
   ],
   "source": [
    "star.stripplot(y=tips[\"total_bill\"])"
   ]
  },
  {
   "cell_type": "code",
   "execution_count": 33,
   "metadata": {},
   "outputs": [
    {
     "data": {
      "text/plain": [
       "<matplotlib.axes._subplots.AxesSubplot at 0x1a1c922da0>"
      ]
     },
     "execution_count": 33,
     "metadata": {},
     "output_type": "execute_result"
    },
    {
     "data": {
      "image/png": "[encoded data removed]",
      "text/plain": [
       "<Figure size 432x288 with 1 Axes>"
      ]
     },
     "metadata": {},
     "output_type": "display_data"
    }
   ],
   "source": [
    "sns.stripplot(x=\"sex\", y=\"total_bill\", hue=\"day\",\n",
    "          data=tips)"
   ]
  },
  {
   "cell_type": "code",
   "execution_count": 34,
   "metadata": {},
   "outputs": [
    {
     "data": {
      "application/vnd.vegalite.v2+json": {
       "$schema": "https://vega.github.io/schema/vega-lite/v2.4.1.json",
       "config": {
        "view": {
         "height": 300,
         "width": 400
        }
       },
       "data": {
        "values": [
         {
          "day": "Sun",
          "sex": "Female",
          "size": 2,
          "smoker": "No",
          "time": "Dinner",
          "tip": 1.01,
          "total_bill": 16.99
         },
         {
          "day": "Sun",
          "sex": "Male",
          "size": 3,
          "smoker": "No",
          "time": "Dinner",
          "tip": 1.66,
          "total_bill": 10.34
         },
         {
          "day": "Sun",
          "sex": "Male",
          "size": 3,
          "smoker": "No",
          "time": "Dinner",
          "tip": 3.5,
          "total_bill": 21.01
         },
         {
          "day": "Sun",
          "sex": "Male",
          "size": 2,
          "smoker": "No",
          "time": "Dinner",
          "tip": 3.31,
          "total_bill": 23.68
         },
         {
          "day": "Sun",
          "sex": "Female",
          "size": 4,
          "smoker": "No",
          "time": "Dinner",
          "tip": 3.61,
          "total_bill": 24.59
         },
         {
          "day": "Sun",
          "sex": "Male",
          "size": 4,
          "smoker": "No",
          "time": "Dinner",
          "tip": 4.71,
          "total_bill": 25.29
         },
         {
          "day": "Sun",
          "sex": "Male",
          "size": 2,
          "smoker": "No",
          "time": "Dinner",
          "tip": 2,
          "total_bill": 8.77
         },
         {
          "day": "Sun",
          "sex": "Male",
          "size": 4,
          "smoker": "No",
          "time": "Dinner",
          "tip": 3.12,
          "total_bill": 26.88
         },
         {
          "day": "Sun",
          "sex": "Male",
          "size": 2,
          "smoker": "No",
          "time": "Dinner",
          "tip": 1.96,
          "total_bill": 15.04
         },
         {
          "day": "Sun",
          "sex": "Male",
          "size": 2,
          "smoker": "No",
          "time": "Dinner",
          "tip": 3.23,
          "total_bill": 14.78
         },
         {
          "day": "Sun",
          "sex": "Male",
          "size": 2,
          "smoker": "No",
          "time": "Dinner",
          "tip": 1.71,
          "total_bill": 10.27
         },
         {
          "day": "Sun",
          "sex": "Female",
          "size": 4,
          "smoker": "No",
          "time": "Dinner",
          "tip": 5,
          "total_bill": 35.26
         },
         {
          "day": "Sun",
          "sex": "Male",
          "size": 2,
          "smoker": "No",
          "time": "Dinner",
          "tip": 1.57,
          "total_bill": 15.42
         },
         {
          "day": "Sun",
          "sex": "Male",
          "size": 4,
          "smoker": "No",
          "time": "Dinner",
          "tip": 3,
          "total_bill": 18.43
         },
         {
          "day": "Sun",
          "sex": "Female",
          "size": 2,
          "smoker": "No",
          "time": "Dinner",
          "tip": 3.02,
          "total_bill": 14.83
         },
         {
          "day": "Sun",
          "sex": "Male",
          "size": 2,
          "smoker": "No",
          "time": "Dinner",
          "tip": 3.92,
          "total_bill": 21.58
         },
         {
          "day": "Sun",
          "sex": "Female",
          "size": 3,
          "smoker": "No",
          "time": "Dinner",
          "tip": 1.67,
          "total_bill": 10.33
         },
         {
          "day": "Sun",
          "sex": "Male",
          "size": 3,
          "smoker": "No",
          "time": "Dinner",
          "tip": 3.71,
          "total_bill": 16.29
         },
         {
          "day": "Sun",
          "sex": "Female",
          "size": 3,
          "smoker": "No",
          "time": "Dinner",
          "tip": 3.5,
          "total_bill": 16.97
         },
         {
          "day": "Sat",
          "sex": "Male",
          "size": 3,
          "smoker": "No",
          "time": "Dinner",
          "tip": 3.35,
          "total_bill": 20.65
         },
         {
          "day": "Sat",
          "sex": "Male",
          "size": 2,
          "smoker": "No",
          "time": "Dinner",
          "tip": 4.08,
          "total_bill": 17.92
         },
         {
          "day": "Sat",
          "sex": "Female",
          "size": 2,
          "smoker": "No",
          "time": "Dinner",
          "tip": 2.75,
          "total_bill": 20.29
         },
         {
          "day": "Sat",
          "sex": "Female",
          "size": 2,
          "smoker": "No",
          "time": "Dinner",
          "tip": 2.23,
          "total_bill": 15.77
         },
         {
          "day": "Sat",
          "sex": "Male",
          "size": 4,
          "smoker": "No",
          "time": "Dinner",
          "tip": 7.58,
          "total_bill": 39.42
         },
         {
          "day": "Sat",
          "sex": "Male",
          "size": 2,
          "smoker": "No",
          "time": "Dinner",
          "tip": 3.18,
          "total_bill": 19.82
         },
         {
          "day": "Sat",
          "sex": "Male",
          "size": 4,
          "smoker": "No",
          "time": "Dinner",
          "tip": 2.34,
          "total_bill": 17.81
         },
         {
          "day": "Sat",
          "sex": "Male",
          "size": 2,
          "smoker": "No",
          "time": "Dinner",
          "tip": 2,
          "total_bill": 13.37
         },
         {
          "day": "Sat",
          "sex": "Male",
          "size": 2,
          "smoker": "No",
          "time": "Dinner",
          "tip": 2,
          "total_bill": 12.69
         },
         {
          "day": "Sat",
          "sex": "Male",
          "size": 2,
          "smoker": "No",
          "time": "Dinner",
          "tip": 4.3,
          "total_bill": 21.7
         },
         {
          "day": "Sat",
          "sex": "Female",
          "size": 2,
          "smoker": "No",
          "time": "Dinner",
          "tip": 3,
          "total_bill": 19.65
         },
         {
          "day": "Sat",
          "sex": "Male",
          "size": 2,
          "smoker": "No",
          "time": "Dinner",
          "tip": 1.45,
          "total_bill": 9.55
         },
         {
          "day": "Sat",
          "sex": "Male",
          "size": 4,
          "smoker": "No",
          "time": "Dinner",
          "tip": 2.5,
          "total_bill": 18.35
         },
         {
          "day": "Sat",
          "sex": "Female",
          "size": 2,
          "smoker": "No",
          "time": "Dinner",
          "tip": 3,
          "total_bill": 15.06
         },
         {
          "day": "Sat",
          "sex": "Female",
          "size": 4,
          "smoker": "No",
          "time": "Dinner",
          "tip": 2.45,
          "total_bill": 20.69
         },
         {
          "day": "Sat",
          "sex": "Male",
          "size": 2,
          "smoker": "No",
          "time": "Dinner",
          "tip": 3.27,
          "total_bill": 17.78
         },
         {
          "day": "Sat",
          "sex": "Male",
          "size": 3,
          "smoker": "No",
          "time": "Dinner",
          "tip": 3.6,
          "total_bill": 24.06
         },
         {
          "day": "Sat",
          "sex": "Male",
          "size": 3,
          "smoker": "No",
          "time": "Dinner",
          "tip": 2,
          "total_bill": 16.31
         },
         {
          "day": "Sat",
          "sex": "Female",
          "size": 3,
          "smoker": "No",
          "time": "Dinner",
          "tip": 3.07,
          "total_bill": 16.93
         },
         {
          "day": "Sat",
          "sex": "Male",
          "size": 3,
          "smoker": "No",
          "time": "Dinner",
          "tip": 2.31,
          "total_bill": 18.69
         },
         {
          "day": "Sat",
          "sex": "Male",
          "size": 3,
          "smoker": "No",
          "time": "Dinner",
          "tip": 5,
          "total_bill": 31.27
         },
         {
          "day": "Sat",
          "sex": "Male",
          "size": 3,
          "smoker": "No",
          "time": "Dinner",
          "tip": 2.24,
          "total_bill": 16.04
         },
         {
          "day": "Sun",
          "sex": "Male",
          "size": 2,
          "smoker": "No",
          "time": "Dinner",
          "tip": 2.54,
          "total_bill": 17.46
         },
         {
          "day": "Sun",
          "sex": "Male",
          "size": 2,
          "smoker": "No",
          "time": "Dinner",
          "tip": 3.06,
          "total_bill": 13.94
         },
         {
          "day": "Sun",
          "sex": "Male",
          "size": 2,
          "smoker": "No",
          "time": "Dinner",
          "tip": 1.32,
          "total_bill": 9.68
         },
         {
          "day": "Sun",
          "sex": "Male",
          "size": 4,
          "smoker": "No",
          "time": "Dinner",
          "tip": 5.6,
          "total_bill": 30.4
         },
         {
          "day": "Sun",
          "sex": "Male",
          "size": 2,
          "smoker": "No",
          "time": "Dinner",
          "tip": 3,
          "total_bill": 18.29
         },
         {
          "day": "Sun",
          "sex": "Male",
          "size": 2,
          "smoker": "No",
          "time": "Dinner",
          "tip": 5,
          "total_bill": 22.23
         },
         {
          "day": "Sun",
          "sex": "Male",
          "size": 4,
          "smoker": "No",
          "time": "Dinner",
          "tip": 6,
          "total_bill": 32.4
         },
         {
          "day": "Sun",
          "sex": "Male",
          "size": 3,
          "smoker": "No",
          "time": "Dinner",
          "tip": 2.05,
          "total_bill": 28.55
         },
         {
          "day": "Sun",
          "sex": "Male",
          "size": 2,
          "smoker": "No",
          "time": "Dinner",
          "tip": 3,
          "total_bill": 18.04
         },
         {
          "day": "Sun",
          "sex": "Male",
          "size": 2,
          "smoker": "No",
          "time": "Dinner",
          "tip": 2.5,
          "total_bill": 12.54
         },
         {
          "day": "Sun",
          "sex": "Female",
          "size": 2,
          "smoker": "No",
          "time": "Dinner",
          "tip": 2.6,
          "total_bill": 10.29
         },
         {
          "day": "Sun",
          "sex": "Female",
          "size": 4,
          "smoker": "No",
          "time": "Dinner",
          "tip": 5.2,
          "total_bill": 34.81
         },
         {
          "day": "Sun",
          "sex": "Male",
          "size": 2,
          "smoker": "No",
          "time": "Dinner",
          "tip": 1.56,
          "total_bill": 9.94
         },
         {
          "day": "Sun",
          "sex": "Male",
          "size": 4,
          "smoker": "No",
          "time": "Dinner",
          "tip": 4.34,
          "total_bill": 25.56
         },
         {
          "day": "Sun",
          "sex": "Male",
          "size": 2,
          "smoker": "No",
          "time": "Dinner",
          "tip": 3.51,
          "total_bill": 19.49
         },
         {
          "day": "Sat",
          "sex": "Male",
          "size": 4,
          "smoker": "Yes",
          "time": "Dinner",
          "tip": 3,
          "total_bill": 38.01
         },
         {
          "day": "Sat",
          "sex": "Female",
          "size": 2,
          "smoker": "No",
          "time": "Dinner",
          "tip": 1.5,
          "total_bill": 26.41
         },
         {
          "day": "Sat",
          "sex": "Male",
          "size": 2,
          "smoker": "Yes",
          "time": "Dinner",
          "tip": 1.76,
          "total_bill": 11.24
         },
         {
          "day": "Sat",
          "sex": "Male",
          "size": 4,
          "smoker": "No",
          "time": "Dinner",
          "tip": 6.73,
          "total_bill": 48.27
         },
         {
          "day": "Sat",
          "sex": "Male",
          "size": 2,
          "smoker": "Yes",
          "time": "Dinner",
          "tip": 3.21,
          "total_bill": 20.29
         },
         {
          "day": "Sat",
          "sex": "Male",
          "size": 2,
          "smoker": "Yes",
          "time": "Dinner",
          "tip": 2,
          "total_bill": 13.81
         },
         {
          "day": "Sat",
          "sex": "Male",
          "size": 2,
          "smoker": "Yes",
          "time": "Dinner",
          "tip": 1.98,
          "total_bill": 11.02
         },
         {
          "day": "Sat",
          "sex": "Male",
          "size": 4,
          "smoker": "Yes",
          "time": "Dinner",
          "tip": 3.76,
          "total_bill": 18.29
         },
         {
          "day": "Sat",
          "sex": "Male",
          "size": 3,
          "smoker": "No",
          "time": "Dinner",
          "tip": 2.64,
          "total_bill": 17.59
         },
         {
          "day": "Sat",
          "sex": "Male",
          "size": 3,
          "smoker": "No",
          "time": "Dinner",
          "tip": 3.15,
          "total_bill": 20.08
         },
         {
          "day": "Sat",
          "sex": "Female",
          "size": 2,
          "smoker": "No",
          "time": "Dinner",
          "tip": 2.47,
          "total_bill": 16.45
         },
         {
          "day": "Sat",
          "sex": "Female",
          "size": 1,
          "smoker": "Yes",
          "time": "Dinner",
          "tip": 1,
          "total_bill": 3.07
         },
         {
          "day": "Sat",
          "sex": "Male",
          "size": 2,
          "smoker": "No",
          "time": "Dinner",
          "tip": 2.01,
          "total_bill": 20.23
         },
         {
          "day": "Sat",
          "sex": "Male",
          "size": 2,
          "smoker": "Yes",
          "time": "Dinner",
          "tip": 2.09,
          "total_bill": 15.01
         },
         {
          "day": "Sat",
          "sex": "Male",
          "size": 2,
          "smoker": "No",
          "time": "Dinner",
          "tip": 1.97,
          "total_bill": 12.02
         },
         {
          "day": "Sat",
          "sex": "Female",
          "size": 3,
          "smoker": "No",
          "time": "Dinner",
          "tip": 3,
          "total_bill": 17.07
         },
         {
          "day": "Sat",
          "sex": "Female",
          "size": 2,
          "smoker": "Yes",
          "time": "Dinner",
          "tip": 3.14,
          "total_bill": 26.86
         },
         {
          "day": "Sat",
          "sex": "Female",
          "size": 2,
          "smoker": "Yes",
          "time": "Dinner",
          "tip": 5,
          "total_bill": 25.28
         },
         {
          "day": "Sat",
          "sex": "Female",
          "size": 2,
          "smoker": "No",
          "time": "Dinner",
          "tip": 2.2,
          "total_bill": 14.73
         },
         {
          "day": "Sat",
          "sex": "Male",
          "size": 2,
          "smoker": "No",
          "time": "Dinner",
          "tip": 1.25,
          "total_bill": 10.51
         },
         {
          "day": "Sat",
          "sex": "Male",
          "size": 2,
          "smoker": "Yes",
          "time": "Dinner",
          "tip": 3.08,
          "total_bill": 17.92
         },
         {
          "day": "Thur",
          "sex": "Male",
          "size": 4,
          "smoker": "No",
          "time": "Lunch",
          "tip": 4,
          "total_bill": 27.2
         },
         {
          "day": "Thur",
          "sex": "Male",
          "size": 2,
          "smoker": "No",
          "time": "Lunch",
          "tip": 3,
          "total_bill": 22.76
         },
         {
          "day": "Thur",
          "sex": "Male",
          "size": 2,
          "smoker": "No",
          "time": "Lunch",
          "tip": 2.71,
          "total_bill": 17.29
         },
         {
          "day": "Thur",
          "sex": "Male",
          "size": 2,
          "smoker": "Yes",
          "time": "Lunch",
          "tip": 3,
          "total_bill": 19.44
         },
         {
          "day": "Thur",
          "sex": "Male",
          "size": 2,
          "smoker": "No",
          "time": "Lunch",
          "tip": 3.4,
          "total_bill": 16.66
         },
         {
          "day": "Thur",
          "sex": "Female",
          "size": 1,
          "smoker": "No",
          "time": "Lunch",
          "tip": 1.83,
          "total_bill": 10.07
         },
         {
          "day": "Thur",
          "sex": "Male",
          "size": 2,
          "smoker": "Yes",
          "time": "Lunch",
          "tip": 5,
          "total_bill": 32.68
         },
         {
          "day": "Thur",
          "sex": "Male",
          "size": 2,
          "smoker": "No",
          "time": "Lunch",
          "tip": 2.03,
          "total_bill": 15.98
         },
         {
          "day": "Thur",
          "sex": "Female",
          "size": 4,
          "smoker": "No",
          "time": "Lunch",
          "tip": 5.17,
          "total_bill": 34.83
         },
         {
          "day": "Thur",
          "sex": "Male",
          "size": 2,
          "smoker": "No",
          "time": "Lunch",
          "tip": 2,
          "total_bill": 13.03
         },
         {
          "day": "Thur",
          "sex": "Male",
          "size": 2,
          "smoker": "No",
          "time": "Lunch",
          "tip": 4,
          "total_bill": 18.28
         },
         {
          "day": "Thur",
          "sex": "Male",
          "size": 2,
          "smoker": "No",
          "time": "Lunch",
          "tip": 5.85,
          "total_bill": 24.71
         },
         {
          "day": "Thur",
          "sex": "Male",
          "size": 2,
          "smoker": "No",
          "time": "Lunch",
          "tip": 3,
          "total_bill": 21.16
         },
         {
          "day": "Fri",
          "sex": "Male",
          "size": 2,
          "smoker": "Yes",
          "time": "Dinner",
          "tip": 3,
          "total_bill": 28.97
         },
         {
          "day": "Fri",
          "sex": "Male",
          "size": 2,
          "smoker": "No",
          "time": "Dinner",
          "tip": 3.5,
          "total_bill": 22.49
         },
         {
          "day": "Fri",
          "sex": "Female",
          "size": 2,
          "smoker": "Yes",
          "time": "Dinner",
          "tip": 1,
          "total_bill": 5.75
         },
         {
          "day": "Fri",
          "sex": "Female",
          "size": 2,
          "smoker": "Yes",
          "time": "Dinner",
          "tip": 4.3,
          "total_bill": 16.32
         },
         {
          "day": "Fri",
          "sex": "Female",
          "size": 2,
          "smoker": "No",
          "time": "Dinner",
          "tip": 3.25,
          "total_bill": 22.75
         },
         {
          "day": "Fri",
          "sex": "Male",
          "size": 4,
          "smoker": "Yes",
          "time": "Dinner",
          "tip": 4.73,
          "total_bill": 40.17
         },
         {
          "day": "Fri",
          "sex": "Male",
          "size": 2,
          "smoker": "Yes",
          "time": "Dinner",
          "tip": 4,
          "total_bill": 27.28
         },
         {
          "day": "Fri",
          "sex": "Male",
          "size": 2,
          "smoker": "Yes",
          "time": "Dinner",
          "tip": 1.5,
          "total_bill": 12.03
         },
         {
          "day": "Fri",
          "sex": "Male",
          "size": 2,
          "smoker": "Yes",
          "time": "Dinner",
          "tip": 3,
          "total_bill": 21.01
         },
         {
          "day": "Fri",
          "sex": "Male",
          "size": 2,
          "smoker": "No",
          "time": "Dinner",
          "tip": 1.5,
          "total_bill": 12.46
         },
         {
          "day": "Fri",
          "sex": "Female",
          "size": 2,
          "smoker": "Yes",
          "time": "Dinner",
          "tip": 2.5,
          "total_bill": 11.35
         },
         {
          "day": "Fri",
          "sex": "Female",
          "size": 2,
          "smoker": "Yes",
          "time": "Dinner",
          "tip": 3,
          "total_bill": 15.38
         },
         {
          "day": "Sat",
          "sex": "Female",
          "size": 3,
          "smoker": "Yes",
          "time": "Dinner",
          "tip": 2.5,
          "total_bill": 44.3
         },
         {
          "day": "Sat",
          "sex": "Female",
          "size": 2,
          "smoker": "Yes",
          "time": "Dinner",
          "tip": 3.48,
          "total_bill": 22.42
         },
         {
          "day": "Sat",
          "sex": "Female",
          "size": 2,
          "smoker": "No",
          "time": "Dinner",
          "tip": 4.08,
          "total_bill": 20.92
         },
         {
          "day": "Sat",
          "sex": "Male",
          "size": 2,
          "smoker": "Yes",
          "time": "Dinner",
          "tip": 1.64,
          "total_bill": 15.36
         },
         {
          "day": "Sat",
          "sex": "Male",
          "size": 2,
          "smoker": "Yes",
          "time": "Dinner",
          "tip": 4.06,
          "total_bill": 20.49
         },
         {
          "day": "Sat",
          "sex": "Male",
          "size": 2,
          "smoker": "Yes",
          "time": "Dinner",
          "tip": 4.29,
          "total_bill": 25.21
         },
         {
          "day": "Sat",
          "sex": "Male",
          "size": 2,
          "smoker": "No",
          "time": "Dinner",
          "tip": 3.76,
          "total_bill": 18.24
         },
         {
          "day": "Sat",
          "sex": "Female",
          "size": 2,
          "smoker": "Yes",
          "time": "Dinner",
          "tip": 4,
          "total_bill": 14.31
         },
         {
          "day": "Sat",
          "sex": "Male",
          "size": 2,
          "smoker": "No",
          "time": "Dinner",
          "tip": 3,
          "total_bill": 14
         },
         {
          "day": "Sat",
          "sex": "Female",
          "size": 1,
          "smoker": "No",
          "time": "Dinner",
          "tip": 1,
          "total_bill": 7.25
         },
         {
          "day": "Sun",
          "sex": "Male",
          "size": 3,
          "smoker": "No",
          "time": "Dinner",
          "tip": 4,
          "total_bill": 38.07
         },
         {
          "day": "Sun",
          "sex": "Male",
          "size": 2,
          "smoker": "No",
          "time": "Dinner",
          "tip": 2.55,
          "total_bill": 23.95
         },
         {
          "day": "Sun",
          "sex": "Female",
          "size": 3,
          "smoker": "No",
          "time": "Dinner",
          "tip": 4,
          "total_bill": 25.71
         },
         {
          "day": "Sun",
          "sex": "Female",
          "size": 2,
          "smoker": "No",
          "time": "Dinner",
          "tip": 3.5,
          "total_bill": 17.31
         },
         {
          "day": "Sun",
          "sex": "Male",
          "size": 4,
          "smoker": "No",
          "time": "Dinner",
          "tip": 5.07,
          "total_bill": 29.93
         },
         {
          "day": "Thur",
          "sex": "Female",
          "size": 2,
          "smoker": "No",
          "time": "Lunch",
          "tip": 1.5,
          "total_bill": 10.65
         },
         {
          "day": "Thur",
          "sex": "Female",
          "size": 2,
          "smoker": "No",
          "time": "Lunch",
          "tip": 1.8,
          "total_bill": 12.43
         },
         {
          "day": "Thur",
          "sex": "Female",
          "size": 4,
          "smoker": "No",
          "time": "Lunch",
          "tip": 2.92,
          "total_bill": 24.08
         },
         {
          "day": "Thur",
          "sex": "Male",
          "size": 2,
          "smoker": "No",
          "time": "Lunch",
          "tip": 2.31,
          "total_bill": 11.69
         },
         {
          "day": "Thur",
          "sex": "Female",
          "size": 2,
          "smoker": "No",
          "time": "Lunch",
          "tip": 1.68,
          "total_bill": 13.42
         },
         {
          "day": "Thur",
          "sex": "Male",
          "size": 2,
          "smoker": "No",
          "time": "Lunch",
          "tip": 2.5,
          "total_bill": 14.26
         },
         {
          "day": "Thur",
          "sex": "Male",
          "size": 2,
          "smoker": "No",
          "time": "Lunch",
          "tip": 2,
          "total_bill": 15.95
         },
         {
          "day": "Thur",
          "sex": "Female",
          "size": 2,
          "smoker": "No",
          "time": "Lunch",
          "tip": 2.52,
          "total_bill": 12.48
         },
         {
          "day": "Thur",
          "sex": "Female",
          "size": 6,
          "smoker": "No",
          "time": "Lunch",
          "tip": 4.2,
          "total_bill": 29.8
         },
         {
          "day": "Thur",
          "sex": "Male",
          "size": 2,
          "smoker": "No",
          "time": "Lunch",
          "tip": 1.48,
          "total_bill": 8.52
         },
         {
          "day": "Thur",
          "sex": "Female",
          "size": 2,
          "smoker": "No",
          "time": "Lunch",
          "tip": 2,
          "total_bill": 14.52
         },
         {
          "day": "Thur",
          "sex": "Female",
          "size": 2,
          "smoker": "No",
          "time": "Lunch",
          "tip": 2,
          "total_bill": 11.38
         },
         {
          "day": "Thur",
          "sex": "Male",
          "size": 3,
          "smoker": "No",
          "time": "Lunch",
          "tip": 2.18,
          "total_bill": 22.82
         },
         {
          "day": "Thur",
          "sex": "Male",
          "size": 2,
          "smoker": "No",
          "time": "Lunch",
          "tip": 1.5,
          "total_bill": 19.08
         },
         {
          "day": "Thur",
          "sex": "Female",
          "size": 2,
          "smoker": "No",
          "time": "Lunch",
          "tip": 2.83,
          "total_bill": 20.27
         },
         {
          "day": "Thur",
          "sex": "Female",
          "size": 2,
          "smoker": "No",
          "time": "Lunch",
          "tip": 1.5,
          "total_bill": 11.17
         },
         {
          "day": "Thur",
          "sex": "Female",
          "size": 2,
          "smoker": "No",
          "time": "Lunch",
          "tip": 2,
          "total_bill": 12.26
         },
         {
          "day": "Thur",
          "sex": "Female",
          "size": 2,
          "smoker": "No",
          "time": "Lunch",
          "tip": 3.25,
          "total_bill": 18.26
         },
         {
          "day": "Thur",
          "sex": "Female",
          "size": 2,
          "smoker": "No",
          "time": "Lunch",
          "tip": 1.25,
          "total_bill": 8.51
         },
         {
          "day": "Thur",
          "sex": "Female",
          "size": 2,
          "smoker": "No",
          "time": "Lunch",
          "tip": 2,
          "total_bill": 10.33
         },
         {
          "day": "Thur",
          "sex": "Female",
          "size": 2,
          "smoker": "No",
          "time": "Lunch",
          "tip": 2,
          "total_bill": 14.15
         },
         {
          "day": "Thur",
          "sex": "Male",
          "size": 2,
          "smoker": "Yes",
          "time": "Lunch",
          "tip": 2,
          "total_bill": 16
         },
         {
          "day": "Thur",
          "sex": "Female",
          "size": 2,
          "smoker": "No",
          "time": "Lunch",
          "tip": 2.75,
          "total_bill": 13.16
         },
         {
          "day": "Thur",
          "sex": "Female",
          "size": 2,
          "smoker": "No",
          "time": "Lunch",
          "tip": 3.5,
          "total_bill": 17.47
         },
         {
          "day": "Thur",
          "sex": "Male",
          "size": 6,
          "smoker": "No",
          "time": "Lunch",
          "tip": 6.7,
          "total_bill": 34.3
         },
         {
          "day": "Thur",
          "sex": "Male",
          "size": 5,
          "smoker": "No",
          "time": "Lunch",
          "tip": 5,
          "total_bill": 41.19
         },
         {
          "day": "Thur",
          "sex": "Female",
          "size": 6,
          "smoker": "No",
          "time": "Lunch",
          "tip": 5,
          "total_bill": 27.05
         },
         {
          "day": "Thur",
          "sex": "Female",
          "size": 2,
          "smoker": "No",
          "time": "Lunch",
          "tip": 2.3,
          "total_bill": 16.43
         },
         {
          "day": "Thur",
          "sex": "Female",
          "size": 2,
          "smoker": "No",
          "time": "Lunch",
          "tip": 1.5,
          "total_bill": 8.35
         },
         {
          "day": "Thur",
          "sex": "Female",
          "size": 3,
          "smoker": "No",
          "time": "Lunch",
          "tip": 1.36,
          "total_bill": 18.64
         },
         {
          "day": "Thur",
          "sex": "Female",
          "size": 2,
          "smoker": "No",
          "time": "Lunch",
          "tip": 1.63,
          "total_bill": 11.87
         },
         {
          "day": "Thur",
          "sex": "Male",
          "size": 2,
          "smoker": "No",
          "time": "Lunch",
          "tip": 1.73,
          "total_bill": 9.78
         },
         {
          "day": "Thur",
          "sex": "Male",
          "size": 2,
          "smoker": "No",
          "time": "Lunch",
          "tip": 2,
          "total_bill": 7.51
         },
         {
          "day": "Sun",
          "sex": "Male",
          "size": 2,
          "smoker": "No",
          "time": "Dinner",
          "tip": 2.5,
          "total_bill": 14.07
         },
         {
          "day": "Sun",
          "sex": "Male",
          "size": 2,
          "smoker": "No",
          "time": "Dinner",
          "tip": 2,
          "total_bill": 13.13
         },
         {
          "day": "Sun",
          "sex": "Male",
          "size": 3,
          "smoker": "No",
          "time": "Dinner",
          "tip": 2.74,
          "total_bill": 17.26
         },
         {
          "day": "Sun",
          "sex": "Male",
          "size": 4,
          "smoker": "No",
          "time": "Dinner",
          "tip": 2,
          "total_bill": 24.55
         },
         {
          "day": "Sun",
          "sex": "Male",
          "size": 4,
          "smoker": "No",
          "time": "Dinner",
          "tip": 2,
          "total_bill": 19.77
         },
         {
          "day": "Sun",
          "sex": "Female",
          "size": 5,
          "smoker": "No",
          "time": "Dinner",
          "tip": 5.14,
          "total_bill": 29.85
         },
         {
          "day": "Sun",
          "sex": "Male",
          "size": 6,
          "smoker": "No",
          "time": "Dinner",
          "tip": 5,
          "total_bill": 48.17
         },
         {
          "day": "Sun",
          "sex": "Female",
          "size": 4,
          "smoker": "No",
          "time": "Dinner",
          "tip": 3.75,
          "total_bill": 25
         },
         {
          "day": "Sun",
          "sex": "Female",
          "size": 2,
          "smoker": "No",
          "time": "Dinner",
          "tip": 2.61,
          "total_bill": 13.39
         },
         {
          "day": "Sun",
          "sex": "Male",
          "size": 4,
          "smoker": "No",
          "time": "Dinner",
          "tip": 2,
          "total_bill": 16.49
         },
         {
          "day": "Sun",
          "sex": "Male",
          "size": 4,
          "smoker": "No",
          "time": "Dinner",
          "tip": 3.5,
          "total_bill": 21.5
         },
         {
          "day": "Sun",
          "sex": "Male",
          "size": 2,
          "smoker": "No",
          "time": "Dinner",
          "tip": 2.5,
          "total_bill": 12.66
         },
         {
          "day": "Sun",
          "sex": "Female",
          "size": 3,
          "smoker": "No",
          "time": "Dinner",
          "tip": 2,
          "total_bill": 16.21
         },
         {
          "day": "Sun",
          "sex": "Male",
          "size": 2,
          "smoker": "No",
          "time": "Dinner",
          "tip": 2,
          "total_bill": 13.81
         },
         {
          "day": "Sun",
          "sex": "Female",
          "size": 2,
          "smoker": "Yes",
          "time": "Dinner",
          "tip": 3,
          "total_bill": 17.51
         },
         {
          "day": "Sun",
          "sex": "Male",
          "size": 3,
          "smoker": "No",
          "time": "Dinner",
          "tip": 3.48,
          "total_bill": 24.52
         },
         {
          "day": "Sun",
          "sex": "Male",
          "size": 2,
          "smoker": "No",
          "time": "Dinner",
          "tip": 2.24,
          "total_bill": 20.76
         },
         {
          "day": "Sun",
          "sex": "Male",
          "size": 4,
          "smoker": "No",
          "time": "Dinner",
          "tip": 4.5,
          "total_bill": 31.71
         },
         {
          "day": "Sat",
          "sex": "Female",
          "size": 2,
          "smoker": "Yes",
          "time": "Dinner",
          "tip": 1.61,
          "total_bill": 10.59
         },
         {
          "day": "Sat",
          "sex": "Female",
          "size": 2,
          "smoker": "Yes",
          "time": "Dinner",
          "tip": 2,
          "total_bill": 10.63
         },
         {
          "day": "Sat",
          "sex": "Male",
          "size": 3,
          "smoker": "Yes",
          "time": "Dinner",
          "tip": 10,
          "total_bill": 50.81
         },
         {
          "day": "Sat",
          "sex": "Male",
          "size": 2,
          "smoker": "Yes",
          "time": "Dinner",
          "tip": 3.16,
          "total_bill": 15.81
         },
         {
          "day": "Sun",
          "sex": "Male",
          "size": 2,
          "smoker": "Yes",
          "time": "Dinner",
          "tip": 5.15,
          "total_bill": 7.25
         },
         {
          "day": "Sun",
          "sex": "Male",
          "size": 2,
          "smoker": "Yes",
          "time": "Dinner",
          "tip": 3.18,
          "total_bill": 31.85
         },
         {
          "day": "Sun",
          "sex": "Male",
          "size": 2,
          "smoker": "Yes",
          "time": "Dinner",
          "tip": 4,
          "total_bill": 16.82
         },
         {
          "day": "Sun",
          "sex": "Male",
          "size": 2,
          "smoker": "Yes",
          "time": "Dinner",
          "tip": 3.11,
          "total_bill": 32.9
         },
         {
          "day": "Sun",
          "sex": "Male",
          "size": 2,
          "smoker": "Yes",
          "time": "Dinner",
          "tip": 2,
          "total_bill": 17.89
         },
         {
          "day": "Sun",
          "sex": "Male",
          "size": 2,
          "smoker": "Yes",
          "time": "Dinner",
          "tip": 2,
          "total_bill": 14.48
         },
         {
          "day": "Sun",
          "sex": "Female",
          "size": 2,
          "smoker": "Yes",
          "time": "Dinner",
          "tip": 4,
          "total_bill": 9.6
         },
         {
          "day": "Sun",
          "sex": "Male",
          "size": 2,
          "smoker": "Yes",
          "time": "Dinner",
          "tip": 3.55,
          "total_bill": 34.63
         },
         {
          "day": "Sun",
          "sex": "Male",
          "size": 4,
          "smoker": "Yes",
          "time": "Dinner",
          "tip": 3.68,
          "total_bill": 34.65
         },
         {
          "day": "Sun",
          "sex": "Male",
          "size": 2,
          "smoker": "Yes",
          "time": "Dinner",
          "tip": 5.65,
          "total_bill": 23.33
         },
         {
          "day": "Sun",
          "sex": "Male",
          "size": 3,
          "smoker": "Yes",
          "time": "Dinner",
          "tip": 3.5,
          "total_bill": 45.35
         },
         {
          "day": "Sun",
          "sex": "Male",
          "size": 4,
          "smoker": "Yes",
          "time": "Dinner",
          "tip": 6.5,
          "total_bill": 23.17
         },
         {
          "day": "Sun",
          "sex": "Male",
          "size": 2,
          "smoker": "Yes",
          "time": "Dinner",
          "tip": 3,
          "total_bill": 40.55
         },
         {
          "day": "Sun",
          "sex": "Male",
          "size": 5,
          "smoker": "No",
          "time": "Dinner",
          "tip": 5,
          "total_bill": 20.69
         },
         {
          "day": "Sun",
          "sex": "Female",
          "size": 3,
          "smoker": "Yes",
          "time": "Dinner",
          "tip": 3.5,
          "total_bill": 20.9
         },
         {
          "day": "Sun",
          "sex": "Male",
          "size": 5,
          "smoker": "Yes",
          "time": "Dinner",
          "tip": 2,
          "total_bill": 30.46
         },
         {
          "day": "Sun",
          "sex": "Female",
          "size": 3,
          "smoker": "Yes",
          "time": "Dinner",
          "tip": 3.5,
          "total_bill": 18.15
         },
         {
          "day": "Sun",
          "sex": "Male",
          "size": 3,
          "smoker": "Yes",
          "time": "Dinner",
          "tip": 4,
          "total_bill": 23.1
         },
         {
          "day": "Sun",
          "sex": "Male",
          "size": 2,
          "smoker": "Yes",
          "time": "Dinner",
          "tip": 1.5,
          "total_bill": 15.69
         },
         {
          "day": "Thur",
          "sex": "Female",
          "size": 2,
          "smoker": "Yes",
          "time": "Lunch",
          "tip": 4.19,
          "total_bill": 19.81
         },
         {
          "day": "Thur",
          "sex": "Male",
          "size": 2,
          "smoker": "Yes",
          "time": "Lunch",
          "tip": 2.56,
          "total_bill": 28.44
         },
         {
          "day": "Thur",
          "sex": "Male",
          "size": 2,
          "smoker": "Yes",
          "time": "Lunch",
          "tip": 2.02,
          "total_bill": 15.48
         },
         {
          "day": "Thur",
          "sex": "Male",
          "size": 2,
          "smoker": "Yes",
          "time": "Lunch",
          "tip": 4,
          "total_bill": 16.58
         },
         {
          "day": "Thur",
          "sex": "Male",
          "size": 2,
          "smoker": "No",
          "time": "Lunch",
          "tip": 1.44,
          "total_bill": 7.56
         },
         {
          "day": "Thur",
          "sex": "Male",
          "size": 2,
          "smoker": "Yes",
          "time": "Lunch",
          "tip": 2,
          "total_bill": 10.34
         },
         {
          "day": "Thur",
          "sex": "Female",
          "size": 4,
          "smoker": "Yes",
          "time": "Lunch",
          "tip": 5,
          "total_bill": 43.11
         },
         {
          "day": "Thur",
          "sex": "Female",
          "size": 2,
          "smoker": "Yes",
          "time": "Lunch",
          "tip": 2,
          "total_bill": 13
         },
         {
          "day": "Thur",
          "sex": "Male",
          "size": 2,
          "smoker": "Yes",
          "time": "Lunch",
          "tip": 2,
          "total_bill": 13.51
         },
         {
          "day": "Thur",
          "sex": "Male",
          "size": 3,
          "smoker": "Yes",
          "time": "Lunch",
          "tip": 4,
          "total_bill": 18.71
         },
         {
          "day": "Thur",
          "sex": "Female",
          "size": 2,
          "smoker": "Yes",
          "time": "Lunch",
          "tip": 2.01,
          "total_bill": 12.74
         },
         {
          "day": "Thur",
          "sex": "Female",
          "size": 2,
          "smoker": "Yes",
          "time": "Lunch",
          "tip": 2,
          "total_bill": 13
         },
         {
          "day": "Thur",
          "sex": "Female",
          "size": 2,
          "smoker": "Yes",
          "time": "Lunch",
          "tip": 2.5,
          "total_bill": 16.4
         },
         {
          "day": "Thur",
          "sex": "Male",
          "size": 4,
          "smoker": "Yes",
          "time": "Lunch",
          "tip": 4,
          "total_bill": 20.53
         },
         {
          "day": "Thur",
          "sex": "Female",
          "size": 3,
          "smoker": "Yes",
          "time": "Lunch",
          "tip": 3.23,
          "total_bill": 16.47
         },
         {
          "day": "Sat",
          "sex": "Male",
          "size": 3,
          "smoker": "Yes",
          "time": "Dinner",
          "tip": 3.41,
          "total_bill": 26.59
         },
         {
          "day": "Sat",
          "sex": "Male",
          "size": 4,
          "smoker": "Yes",
          "time": "Dinner",
          "tip": 3,
          "total_bill": 38.73
         },
         {
          "day": "Sat",
          "sex": "Male",
          "size": 2,
          "smoker": "Yes",
          "time": "Dinner",
          "tip": 2.03,
          "total_bill": 24.27
         },
         {
          "day": "Sat",
          "sex": "Female",
          "size": 2,
          "smoker": "Yes",
          "time": "Dinner",
          "tip": 2.23,
          "total_bill": 12.76
         },
         {
          "day": "Sat",
          "sex": "Male",
          "size": 3,
          "smoker": "Yes",
          "time": "Dinner",
          "tip": 2,
          "total_bill": 30.06
         },
         {
          "day": "Sat",
          "sex": "Male",
          "size": 4,
          "smoker": "Yes",
          "time": "Dinner",
          "tip": 5.16,
          "total_bill": 25.89
         },
         {
          "day": "Sat",
          "sex": "Male",
          "size": 4,
          "smoker": "No",
          "time": "Dinner",
          "tip": 9,
          "total_bill": 48.33
         },
         {
          "day": "Sat",
          "sex": "Female",
          "size": 2,
          "smoker": "Yes",
          "time": "Dinner",
          "tip": 2.5,
          "total_bill": 13.27
         },
         {
          "day": "Sat",
          "sex": "Female",
          "size": 3,
          "smoker": "Yes",
          "time": "Dinner",
          "tip": 6.5,
          "total_bill": 28.17
         },
         {
          "day": "Sat",
          "sex": "Female",
          "size": 2,
          "smoker": "Yes",
          "time": "Dinner",
          "tip": 1.1,
          "total_bill": 12.9
         },
         {
          "day": "Sat",
          "sex": "Male",
          "size": 5,
          "smoker": "Yes",
          "time": "Dinner",
          "tip": 3,
          "total_bill": 28.15
         },
         {
          "day": "Sat",
          "sex": "Male",
          "size": 2,
          "smoker": "Yes",
          "time": "Dinner",
          "tip": 1.5,
          "total_bill": 11.59
         },
         {
          "day": "Sat",
          "sex": "Male",
          "size": 2,
          "smoker": "Yes",
          "time": "Dinner",
          "tip": 1.44,
          "total_bill": 7.74
         },
         {
          "day": "Sat",
          "sex": "Female",
          "size": 4,
          "smoker": "Yes",
          "time": "Dinner",
          "tip": 3.09,
          "total_bill": 30.14
         },
         {
          "day": "Fri",
          "sex": "Male",
          "size": 2,
          "smoker": "Yes",
          "time": "Lunch",
          "tip": 2.2,
          "total_bill": 12.16
         },
         {
          "day": "Fri",
          "sex": "Female",
          "size": 2,
          "smoker": "Yes",
          "time": "Lunch",
          "tip": 3.48,
          "total_bill": 13.42
         },
         {
          "day": "Fri",
          "sex": "Male",
          "size": 1,
          "smoker": "Yes",
          "time": "Lunch",
          "tip": 1.92,
          "total_bill": 8.58
         },
         {
          "day": "Fri",
          "sex": "Female",
          "size": 3,
          "smoker": "No",
          "time": "Lunch",
          "tip": 3,
          "total_bill": 15.98
         },
         {
          "day": "Fri",
          "sex": "Male",
          "size": 2,
          "smoker": "Yes",
          "time": "Lunch",
          "tip": 1.58,
          "total_bill": 13.42
         },
         {
          "day": "Fri",
          "sex": "Female",
          "size": 2,
          "smoker": "Yes",
          "time": "Lunch",
          "tip": 2.5,
          "total_bill": 16.27
         },
         {
          "day": "Fri",
          "sex": "Female",
          "size": 2,
          "smoker": "Yes",
          "time": "Lunch",
          "tip": 2,
          "total_bill": 10.09
         },
         {
          "day": "Sat",
          "sex": "Male",
          "size": 4,
          "smoker": "No",
          "time": "Dinner",
          "tip": 3,
          "total_bill": 20.45
         },
         {
          "day": "Sat",
          "sex": "Male",
          "size": 2,
          "smoker": "No",
          "time": "Dinner",
          "tip": 2.72,
          "total_bill": 13.28
         },
         {
          "day": "Sat",
          "sex": "Female",
          "size": 2,
          "smoker": "Yes",
          "time": "Dinner",
          "tip": 2.88,
          "total_bill": 22.12
         },
         {
          "day": "Sat",
          "sex": "Male",
          "size": 4,
          "smoker": "Yes",
          "time": "Dinner",
          "tip": 2,
          "total_bill": 24.01
         },
         {
          "day": "Sat",
          "sex": "Male",
          "size": 3,
          "smoker": "Yes",
          "time": "Dinner",
          "tip": 3,
          "total_bill": 15.69
         },
         {
          "day": "Sat",
          "sex": "Male",
          "size": 2,
          "smoker": "No",
          "time": "Dinner",
          "tip": 3.39,
          "total_bill": 11.61
         },
         {
          "day": "Sat",
          "sex": "Male",
          "size": 2,
          "smoker": "No",
          "time": "Dinner",
          "tip": 1.47,
          "total_bill": 10.77
         },
         {
          "day": "Sat",
          "sex": "Male",
          "size": 2,
          "smoker": "Yes",
          "time": "Dinner",
          "tip": 3,
          "total_bill": 15.53
         },
         {
          "day": "Sat",
          "sex": "Male",
          "size": 2,
          "smoker": "No",
          "time": "Dinner",
          "tip": 1.25,
          "total_bill": 10.07
         },
         {
          "day": "Sat",
          "sex": "Male",
          "size": 2,
          "smoker": "Yes",
          "time": "Dinner",
          "tip": 1,
          "total_bill": 12.6
         },
         {
          "day": "Sat",
          "sex": "Male",
          "size": 2,
          "smoker": "Yes",
          "time": "Dinner",
          "tip": 1.17,
          "total_bill": 32.83
         },
         {
          "day": "Sat",
          "sex": "Female",
          "size": 3,
          "smoker": "No",
          "time": "Dinner",
          "tip": 4.67,
          "total_bill": 35.83
         },
         {
          "day": "Sat",
          "sex": "Male",
          "size": 3,
          "smoker": "No",
          "time": "Dinner",
          "tip": 5.92,
          "total_bill": 29.03
         },
         {
          "day": "Sat",
          "sex": "Female",
          "size": 2,
          "smoker": "Yes",
          "time": "Dinner",
          "tip": 2,
          "total_bill": 27.18
         },
         {
          "day": "Sat",
          "sex": "Male",
          "size": 2,
          "smoker": "Yes",
          "time": "Dinner",
          "tip": 2,
          "total_bill": 22.67
         },
         {
          "day": "Sat",
          "sex": "Male",
          "size": 2,
          "smoker": "No",
          "time": "Dinner",
          "tip": 1.75,
          "total_bill": 17.82
         },
         {
          "day": "Thur",
          "sex": "Female",
          "size": 2,
          "smoker": "No",
          "time": "Dinner",
          "tip": 3,
          "total_bill": 18.78
         }
        ]
       },
       "encoding": {
        "color": {
         "field": "day",
         "type": "nominal"
        },
        "x": {
         "field": "sex",
         "type": "nominal"
        },
        "y": {
         "field": "total_bill",
         "type": "quantitative"
        }
       },
       "mark": "tick"
      },
      "image/png": "[encoded data removed]",
      "text/plain": [
       "<VegaLite 2 object>\n",
       "\n",
       "If you see this message, it means the renderer has not been properly enabled\n",
       "for the frontend that you are using. For more information, see\n",
       "https://altair-viz.github.io/user_guide/troubleshooting.html\n"
      ]
     },
     "execution_count": 34,
     "metadata": {},
     "output_type": "execute_result"
    }
   ],
   "source": [
    "star.stripplot(x=\"sex\", y=\"total_bill\", hue=\"day\",\n",
    "               data=tips)"
   ]
  },
  {
   "cell_type": "code",
   "execution_count": 35,
   "metadata": {},
   "outputs": [
    {
     "data": {
      "text/plain": [
       "<matplotlib.axes._subplots.AxesSubplot at 0x1a1cb3cac8>"
      ]
     },
     "execution_count": 35,
     "metadata": {},
     "output_type": "execute_result"
    },
    {
     "data": {
      "image/png": "[encoded data removed]",
      "text/plain": [
       "<Figure size 432x288 with 1 Axes>"
      ]
     },
     "metadata": {},
     "output_type": "display_data"
    }
   ],
   "source": [
    "sns.stripplot(y=\"sex\", x=\"total_bill\", hue=\"day\",\n",
    "          data=tips)"
   ]
  },
  {
   "cell_type": "code",
   "execution_count": 36,
   "metadata": {},
   "outputs": [
    {
     "data": {
      "application/vnd.vegalite.v2+json": {
       "$schema": "https://vega.github.io/schema/vega-lite/v2.4.1.json",
       "config": {
        "view": {
         "height": 300,
         "width": 400
        }
       },
       "data": {
        "values": [
         {
          "day": "Sun",
          "sex": "Female",
          "size": 2,
          "smoker": "No",
          "time": "Dinner",
          "tip": 1.01,
          "total_bill": 16.99
         },
         {
          "day": "Sun",
          "sex": "Male",
          "size": 3,
          "smoker": "No",
          "time": "Dinner",
          "tip": 1.66,
          "total_bill": 10.34
         },
         {
          "day": "Sun",
          "sex": "Male",
          "size": 3,
          "smoker": "No",
          "time": "Dinner",
          "tip": 3.5,
          "total_bill": 21.01
         },
         {
          "day": "Sun",
          "sex": "Male",
          "size": 2,
          "smoker": "No",
          "time": "Dinner",
          "tip": 3.31,
          "total_bill": 23.68
         },
         {
          "day": "Sun",
          "sex": "Female",
          "size": 4,
          "smoker": "No",
          "time": "Dinner",
          "tip": 3.61,
          "total_bill": 24.59
         },
         {
          "day": "Sun",
          "sex": "Male",
          "size": 4,
          "smoker": "No",
          "time": "Dinner",
          "tip": 4.71,
          "total_bill": 25.29
         },
         {
          "day": "Sun",
          "sex": "Male",
          "size": 2,
          "smoker": "No",
          "time": "Dinner",
          "tip": 2,
          "total_bill": 8.77
         },
         {
          "day": "Sun",
          "sex": "Male",
          "size": 4,
          "smoker": "No",
          "time": "Dinner",
          "tip": 3.12,
          "total_bill": 26.88
         },
         {
          "day": "Sun",
          "sex": "Male",
          "size": 2,
          "smoker": "No",
          "time": "Dinner",
          "tip": 1.96,
          "total_bill": 15.04
         },
         {
          "day": "Sun",
          "sex": "Male",
          "size": 2,
          "smoker": "No",
          "time": "Dinner",
          "tip": 3.23,
          "total_bill": 14.78
         },
         {
          "day": "Sun",
          "sex": "Male",
          "size": 2,
          "smoker": "No",
          "time": "Dinner",
          "tip": 1.71,
          "total_bill": 10.27
         },
         {
          "day": "Sun",
          "sex": "Female",
          "size": 4,
          "smoker": "No",
          "time": "Dinner",
          "tip": 5,
          "total_bill": 35.26
         },
         {
          "day": "Sun",
          "sex": "Male",
          "size": 2,
          "smoker": "No",
          "time": "Dinner",
          "tip": 1.57,
          "total_bill": 15.42
         },
         {
          "day": "Sun",
          "sex": "Male",
          "size": 4,
          "smoker": "No",
          "time": "Dinner",
          "tip": 3,
          "total_bill": 18.43
         },
         {
          "day": "Sun",
          "sex": "Female",
          "size": 2,
          "smoker": "No",
          "time": "Dinner",
          "tip": 3.02,
          "total_bill": 14.83
         },
         {
          "day": "Sun",
          "sex": "Male",
          "size": 2,
          "smoker": "No",
          "time": "Dinner",
          "tip": 3.92,
          "total_bill": 21.58
         },
         {
          "day": "Sun",
          "sex": "Female",
          "size": 3,
          "smoker": "No",
          "time": "Dinner",
          "tip": 1.67,
          "total_bill": 10.33
         },
         {
          "day": "Sun",
          "sex": "Male",
          "size": 3,
          "smoker": "No",
          "time": "Dinner",
          "tip": 3.71,
          "total_bill": 16.29
         },
         {
          "day": "Sun",
          "sex": "Female",
          "size": 3,
          "smoker": "No",
          "time": "Dinner",
          "tip": 3.5,
          "total_bill": 16.97
         },
         {
          "day": "Sat",
          "sex": "Male",
          "size": 3,
          "smoker": "No",
          "time": "Dinner",
          "tip": 3.35,
          "total_bill": 20.65
         },
         {
          "day": "Sat",
          "sex": "Male",
          "size": 2,
          "smoker": "No",
          "time": "Dinner",
          "tip": 4.08,
          "total_bill": 17.92
         },
         {
          "day": "Sat",
          "sex": "Female",
          "size": 2,
          "smoker": "No",
          "time": "Dinner",
          "tip": 2.75,
          "total_bill": 20.29
         },
         {
          "day": "Sat",
          "sex": "Female",
          "size": 2,
          "smoker": "No",
          "time": "Dinner",
          "tip": 2.23,
          "total_bill": 15.77
         },
         {
          "day": "Sat",
          "sex": "Male",
          "size": 4,
          "smoker": "No",
          "time": "Dinner",
          "tip": 7.58,
          "total_bill": 39.42
         },
         {
          "day": "Sat",
          "sex": "Male",
          "size": 2,
          "smoker": "No",
          "time": "Dinner",
          "tip": 3.18,
          "total_bill": 19.82
         },
         {
          "day": "Sat",
          "sex": "Male",
          "size": 4,
          "smoker": "No",
          "time": "Dinner",
          "tip": 2.34,
          "total_bill": 17.81
         },
         {
          "day": "Sat",
          "sex": "Male",
          "size": 2,
          "smoker": "No",
          "time": "Dinner",
          "tip": 2,
          "total_bill": 13.37
         },
         {
          "day": "Sat",
          "sex": "Male",
          "size": 2,
          "smoker": "No",
          "time": "Dinner",
          "tip": 2,
          "total_bill": 12.69
         },
         {
          "day": "Sat",
          "sex": "Male",
          "size": 2,
          "smoker": "No",
          "time": "Dinner",
          "tip": 4.3,
          "total_bill": 21.7
         },
         {
          "day": "Sat",
          "sex": "Female",
          "size": 2,
          "smoker": "No",
          "time": "Dinner",
          "tip": 3,
          "total_bill": 19.65
         },
         {
          "day": "Sat",
          "sex": "Male",
          "size": 2,
          "smoker": "No",
          "time": "Dinner",
          "tip": 1.45,
          "total_bill": 9.55
         },
         {
          "day": "Sat",
          "sex": "Male",
          "size": 4,
          "smoker": "No",
          "time": "Dinner",
          "tip": 2.5,
          "total_bill": 18.35
         },
         {
          "day": "Sat",
          "sex": "Female",
          "size": 2,
          "smoker": "No",
          "time": "Dinner",
          "tip": 3,
          "total_bill": 15.06
         },
         {
          "day": "Sat",
          "sex": "Female",
          "size": 4,
          "smoker": "No",
          "time": "Dinner",
          "tip": 2.45,
          "total_bill": 20.69
         },
         {
          "day": "Sat",
          "sex": "Male",
          "size": 2,
          "smoker": "No",
          "time": "Dinner",
          "tip": 3.27,
          "total_bill": 17.78
         },
         {
          "day": "Sat",
          "sex": "Male",
          "size": 3,
          "smoker": "No",
          "time": "Dinner",
          "tip": 3.6,
          "total_bill": 24.06
         },
         {
          "day": "Sat",
          "sex": "Male",
          "size": 3,
          "smoker": "No",
          "time": "Dinner",
          "tip": 2,
          "total_bill": 16.31
         },
         {
          "day": "Sat",
          "sex": "Female",
          "size": 3,
          "smoker": "No",
          "time": "Dinner",
          "tip": 3.07,
          "total_bill": 16.93
         },
         {
          "day": "Sat",
          "sex": "Male",
          "size": 3,
          "smoker": "No",
          "time": "Dinner",
          "tip": 2.31,
          "total_bill": 18.69
         },
         {
          "day": "Sat",
          "sex": "Male",
          "size": 3,
          "smoker": "No",
          "time": "Dinner",
          "tip": 5,
          "total_bill": 31.27
         },
         {
          "day": "Sat",
          "sex": "Male",
          "size": 3,
          "smoker": "No",
          "time": "Dinner",
          "tip": 2.24,
          "total_bill": 16.04
         },
         {
          "day": "Sun",
          "sex": "Male",
          "size": 2,
          "smoker": "No",
          "time": "Dinner",
          "tip": 2.54,
          "total_bill": 17.46
         },
         {
          "day": "Sun",
          "sex": "Male",
          "size": 2,
          "smoker": "No",
          "time": "Dinner",
          "tip": 3.06,
          "total_bill": 13.94
         },
         {
          "day": "Sun",
          "sex": "Male",
          "size": 2,
          "smoker": "No",
          "time": "Dinner",
          "tip": 1.32,
          "total_bill": 9.68
         },
         {
          "day": "Sun",
          "sex": "Male",
          "size": 4,
          "smoker": "No",
          "time": "Dinner",
          "tip": 5.6,
          "total_bill": 30.4
         },
         {
          "day": "Sun",
          "sex": "Male",
          "size": 2,
          "smoker": "No",
          "time": "Dinner",
          "tip": 3,
          "total_bill": 18.29
         },
         {
          "day": "Sun",
          "sex": "Male",
          "size": 2,
          "smoker": "No",
          "time": "Dinner",
          "tip": 5,
          "total_bill": 22.23
         },
         {
          "day": "Sun",
          "sex": "Male",
          "size": 4,
          "smoker": "No",
          "time": "Dinner",
          "tip": 6,
          "total_bill": 32.4
         },
         {
          "day": "Sun",
          "sex": "Male",
          "size": 3,
          "smoker": "No",
          "time": "Dinner",
          "tip": 2.05,
          "total_bill": 28.55
         },
         {
          "day": "Sun",
          "sex": "Male",
          "size": 2,
          "smoker": "No",
          "time": "Dinner",
          "tip": 3,
          "total_bill": 18.04
         },
         {
          "day": "Sun",
          "sex": "Male",
          "size": 2,
          "smoker": "No",
          "time": "Dinner",
          "tip": 2.5,
          "total_bill": 12.54
         },
         {
          "day": "Sun",
          "sex": "Female",
          "size": 2,
          "smoker": "No",
          "time": "Dinner",
          "tip": 2.6,
          "total_bill": 10.29
         },
         {
          "day": "Sun",
          "sex": "Female",
          "size": 4,
          "smoker": "No",
          "time": "Dinner",
          "tip": 5.2,
          "total_bill": 34.81
         },
         {
          "day": "Sun",
          "sex": "Male",
          "size": 2,
          "smoker": "No",
          "time": "Dinner",
          "tip": 1.56,
          "total_bill": 9.94
         },
         {
          "day": "Sun",
          "sex": "Male",
          "size": 4,
          "smoker": "No",
          "time": "Dinner",
          "tip": 4.34,
          "total_bill": 25.56
         },
         {
          "day": "Sun",
          "sex": "Male",
          "size": 2,
          "smoker": "No",
          "time": "Dinner",
          "tip": 3.51,
          "total_bill": 19.49
         },
         {
          "day": "Sat",
          "sex": "Male",
          "size": 4,
          "smoker": "Yes",
          "time": "Dinner",
          "tip": 3,
          "total_bill": 38.01
         },
         {
          "day": "Sat",
          "sex": "Female",
          "size": 2,
          "smoker": "No",
          "time": "Dinner",
          "tip": 1.5,
          "total_bill": 26.41
         },
         {
          "day": "Sat",
          "sex": "Male",
          "size": 2,
          "smoker": "Yes",
          "time": "Dinner",
          "tip": 1.76,
          "total_bill": 11.24
         },
         {
          "day": "Sat",
          "sex": "Male",
          "size": 4,
          "smoker": "No",
          "time": "Dinner",
          "tip": 6.73,
          "total_bill": 48.27
         },
         {
          "day": "Sat",
          "sex": "Male",
          "size": 2,
          "smoker": "Yes",
          "time": "Dinner",
          "tip": 3.21,
          "total_bill": 20.29
         },
         {
          "day": "Sat",
          "sex": "Male",
          "size": 2,
          "smoker": "Yes",
          "time": "Dinner",
          "tip": 2,
          "total_bill": 13.81
         },
         {
          "day": "Sat",
          "sex": "Male",
          "size": 2,
          "smoker": "Yes",
          "time": "Dinner",
          "tip": 1.98,
          "total_bill": 11.02
         },
         {
          "day": "Sat",
          "sex": "Male",
          "size": 4,
          "smoker": "Yes",
          "time": "Dinner",
          "tip": 3.76,
          "total_bill": 18.29
         },
         {
          "day": "Sat",
          "sex": "Male",
          "size": 3,
          "smoker": "No",
          "time": "Dinner",
          "tip": 2.64,
          "total_bill": 17.59
         },
         {
          "day": "Sat",
          "sex": "Male",
          "size": 3,
          "smoker": "No",
          "time": "Dinner",
          "tip": 3.15,
          "total_bill": 20.08
         },
         {
          "day": "Sat",
          "sex": "Female",
          "size": 2,
          "smoker": "No",
          "time": "Dinner",
          "tip": 2.47,
          "total_bill": 16.45
         },
         {
          "day": "Sat",
          "sex": "Female",
          "size": 1,
          "smoker": "Yes",
          "time": "Dinner",
          "tip": 1,
          "total_bill": 3.07
         },
         {
          "day": "Sat",
          "sex": "Male",
          "size": 2,
          "smoker": "No",
          "time": "Dinner",
          "tip": 2.01,
          "total_bill": 20.23
         },
         {
          "day": "Sat",
          "sex": "Male",
          "size": 2,
          "smoker": "Yes",
          "time": "Dinner",
          "tip": 2.09,
          "total_bill": 15.01
         },
         {
          "day": "Sat",
          "sex": "Male",
          "size": 2,
          "smoker": "No",
          "time": "Dinner",
          "tip": 1.97,
          "total_bill": 12.02
         },
         {
          "day": "Sat",
          "sex": "Female",
          "size": 3,
          "smoker": "No",
          "time": "Dinner",
          "tip": 3,
          "total_bill": 17.07
         },
         {
          "day": "Sat",
          "sex": "Female",
          "size": 2,
          "smoker": "Yes",
          "time": "Dinner",
          "tip": 3.14,
          "total_bill": 26.86
         },
         {
          "day": "Sat",
          "sex": "Female",
          "size": 2,
          "smoker": "Yes",
          "time": "Dinner",
          "tip": 5,
          "total_bill": 25.28
         },
         {
          "day": "Sat",
          "sex": "Female",
          "size": 2,
          "smoker": "No",
          "time": "Dinner",
          "tip": 2.2,
          "total_bill": 14.73
         },
         {
          "day": "Sat",
          "sex": "Male",
          "size": 2,
          "smoker": "No",
          "time": "Dinner",
          "tip": 1.25,
          "total_bill": 10.51
         },
         {
          "day": "Sat",
          "sex": "Male",
          "size": 2,
          "smoker": "Yes",
          "time": "Dinner",
          "tip": 3.08,
          "total_bill": 17.92
         },
         {
          "day": "Thur",
          "sex": "Male",
          "size": 4,
          "smoker": "No",
          "time": "Lunch",
          "tip": 4,
          "total_bill": 27.2
         },
         {
          "day": "Thur",
          "sex": "Male",
          "size": 2,
          "smoker": "No",
          "time": "Lunch",
          "tip": 3,
          "total_bill": 22.76
         },
         {
          "day": "Thur",
          "sex": "Male",
          "size": 2,
          "smoker": "No",
          "time": "Lunch",
          "tip": 2.71,
          "total_bill": 17.29
         },
         {
          "day": "Thur",
          "sex": "Male",
          "size": 2,
          "smoker": "Yes",
          "time": "Lunch",
          "tip": 3,
          "total_bill": 19.44
         },
         {
          "day": "Thur",
          "sex": "Male",
          "size": 2,
          "smoker": "No",
          "time": "Lunch",
          "tip": 3.4,
          "total_bill": 16.66
         },
         {
          "day": "Thur",
          "sex": "Female",
          "size": 1,
          "smoker": "No",
          "time": "Lunch",
          "tip": 1.83,
          "total_bill": 10.07
         },
         {
          "day": "Thur",
          "sex": "Male",
          "size": 2,
          "smoker": "Yes",
          "time": "Lunch",
          "tip": 5,
          "total_bill": 32.68
         },
         {
          "day": "Thur",
          "sex": "Male",
          "size": 2,
          "smoker": "No",
          "time": "Lunch",
          "tip": 2.03,
          "total_bill": 15.98
         },
         {
          "day": "Thur",
          "sex": "Female",
          "size": 4,
          "smoker": "No",
          "time": "Lunch",
          "tip": 5.17,
          "total_bill": 34.83
         },
         {
          "day": "Thur",
          "sex": "Male",
          "size": 2,
          "smoker": "No",
          "time": "Lunch",
          "tip": 2,
          "total_bill": 13.03
         },
         {
          "day": "Thur",
          "sex": "Male",
          "size": 2,
          "smoker": "No",
          "time": "Lunch",
          "tip": 4,
          "total_bill": 18.28
         },
         {
          "day": "Thur",
          "sex": "Male",
          "size": 2,
          "smoker": "No",
          "time": "Lunch",
          "tip": 5.85,
          "total_bill": 24.71
         },
         {
          "day": "Thur",
          "sex": "Male",
          "size": 2,
          "smoker": "No",
          "time": "Lunch",
          "tip": 3,
          "total_bill": 21.16
         },
         {
          "day": "Fri",
          "sex": "Male",
          "size": 2,
          "smoker": "Yes",
          "time": "Dinner",
          "tip": 3,
          "total_bill": 28.97
         },
         {
          "day": "Fri",
          "sex": "Male",
          "size": 2,
          "smoker": "No",
          "time": "Dinner",
          "tip": 3.5,
          "total_bill": 22.49
         },
         {
          "day": "Fri",
          "sex": "Female",
          "size": 2,
          "smoker": "Yes",
          "time": "Dinner",
          "tip": 1,
          "total_bill": 5.75
         },
         {
          "day": "Fri",
          "sex": "Female",
          "size": 2,
          "smoker": "Yes",
          "time": "Dinner",
          "tip": 4.3,
          "total_bill": 16.32
         },
         {
          "day": "Fri",
          "sex": "Female",
          "size": 2,
          "smoker": "No",
          "time": "Dinner",
          "tip": 3.25,
          "total_bill": 22.75
         },
         {
          "day": "Fri",
          "sex": "Male",
          "size": 4,
          "smoker": "Yes",
          "time": "Dinner",
          "tip": 4.73,
          "total_bill": 40.17
         },
         {
          "day": "Fri",
          "sex": "Male",
          "size": 2,
          "smoker": "Yes",
          "time": "Dinner",
          "tip": 4,
          "total_bill": 27.28
         },
         {
          "day": "Fri",
          "sex": "Male",
          "size": 2,
          "smoker": "Yes",
          "time": "Dinner",
          "tip": 1.5,
          "total_bill": 12.03
         },
         {
          "day": "Fri",
          "sex": "Male",
          "size": 2,
          "smoker": "Yes",
          "time": "Dinner",
          "tip": 3,
          "total_bill": 21.01
         },
         {
          "day": "Fri",
          "sex": "Male",
          "size": 2,
          "smoker": "No",
          "time": "Dinner",
          "tip": 1.5,
          "total_bill": 12.46
         },
         {
          "day": "Fri",
          "sex": "Female",
          "size": 2,
          "smoker": "Yes",
          "time": "Dinner",
          "tip": 2.5,
          "total_bill": 11.35
         },
         {
          "day": "Fri",
          "sex": "Female",
          "size": 2,
          "smoker": "Yes",
          "time": "Dinner",
          "tip": 3,
          "total_bill": 15.38
         },
         {
          "day": "Sat",
          "sex": "Female",
          "size": 3,
          "smoker": "Yes",
          "time": "Dinner",
          "tip": 2.5,
          "total_bill": 44.3
         },
         {
          "day": "Sat",
          "sex": "Female",
          "size": 2,
          "smoker": "Yes",
          "time": "Dinner",
          "tip": 3.48,
          "total_bill": 22.42
         },
         {
          "day": "Sat",
          "sex": "Female",
          "size": 2,
          "smoker": "No",
          "time": "Dinner",
          "tip": 4.08,
          "total_bill": 20.92
         },
         {
          "day": "Sat",
          "sex": "Male",
          "size": 2,
          "smoker": "Yes",
          "time": "Dinner",
          "tip": 1.64,
          "total_bill": 15.36
         },
         {
          "day": "Sat",
          "sex": "Male",
          "size": 2,
          "smoker": "Yes",
          "time": "Dinner",
          "tip": 4.06,
          "total_bill": 20.49
         },
         {
          "day": "Sat",
          "sex": "Male",
          "size": 2,
          "smoker": "Yes",
          "time": "Dinner",
          "tip": 4.29,
          "total_bill": 25.21
         },
         {
          "day": "Sat",
          "sex": "Male",
          "size": 2,
          "smoker": "No",
          "time": "Dinner",
          "tip": 3.76,
          "total_bill": 18.24
         },
         {
          "day": "Sat",
          "sex": "Female",
          "size": 2,
          "smoker": "Yes",
          "time": "Dinner",
          "tip": 4,
          "total_bill": 14.31
         },
         {
          "day": "Sat",
          "sex": "Male",
          "size": 2,
          "smoker": "No",
          "time": "Dinner",
          "tip": 3,
          "total_bill": 14
         },
         {
          "day": "Sat",
          "sex": "Female",
          "size": 1,
          "smoker": "No",
          "time": "Dinner",
          "tip": 1,
          "total_bill": 7.25
         },
         {
          "day": "Sun",
          "sex": "Male",
          "size": 3,
          "smoker": "No",
          "time": "Dinner",
          "tip": 4,
          "total_bill": 38.07
         },
         {
          "day": "Sun",
          "sex": "Male",
          "size": 2,
          "smoker": "No",
          "time": "Dinner",
          "tip": 2.55,
          "total_bill": 23.95
         },
         {
          "day": "Sun",
          "sex": "Female",
          "size": 3,
          "smoker": "No",
          "time": "Dinner",
          "tip": 4,
          "total_bill": 25.71
         },
         {
          "day": "Sun",
          "sex": "Female",
          "size": 2,
          "smoker": "No",
          "time": "Dinner",
          "tip": 3.5,
          "total_bill": 17.31
         },
         {
          "day": "Sun",
          "sex": "Male",
          "size": 4,
          "smoker": "No",
          "time": "Dinner",
          "tip": 5.07,
          "total_bill": 29.93
         },
         {
          "day": "Thur",
          "sex": "Female",
          "size": 2,
          "smoker": "No",
          "time": "Lunch",
          "tip": 1.5,
          "total_bill": 10.65
         },
         {
          "day": "Thur",
          "sex": "Female",
          "size": 2,
          "smoker": "No",
          "time": "Lunch",
          "tip": 1.8,
          "total_bill": 12.43
         },
         {
          "day": "Thur",
          "sex": "Female",
          "size": 4,
          "smoker": "No",
          "time": "Lunch",
          "tip": 2.92,
          "total_bill": 24.08
         },
         {
          "day": "Thur",
          "sex": "Male",
          "size": 2,
          "smoker": "No",
          "time": "Lunch",
          "tip": 2.31,
          "total_bill": 11.69
         },
         {
          "day": "Thur",
          "sex": "Female",
          "size": 2,
          "smoker": "No",
          "time": "Lunch",
          "tip": 1.68,
          "total_bill": 13.42
         },
         {
          "day": "Thur",
          "sex": "Male",
          "size": 2,
          "smoker": "No",
          "time": "Lunch",
          "tip": 2.5,
          "total_bill": 14.26
         },
         {
          "day": "Thur",
          "sex": "Male",
          "size": 2,
          "smoker": "No",
          "time": "Lunch",
          "tip": 2,
          "total_bill": 15.95
         },
         {
          "day": "Thur",
          "sex": "Female",
          "size": 2,
          "smoker": "No",
          "time": "Lunch",
          "tip": 2.52,
          "total_bill": 12.48
         },
         {
          "day": "Thur",
          "sex": "Female",
          "size": 6,
          "smoker": "No",
          "time": "Lunch",
          "tip": 4.2,
          "total_bill": 29.8
         },
         {
          "day": "Thur",
          "sex": "Male",
          "size": 2,
          "smoker": "No",
          "time": "Lunch",
          "tip": 1.48,
          "total_bill": 8.52
         },
         {
          "day": "Thur",
          "sex": "Female",
          "size": 2,
          "smoker": "No",
          "time": "Lunch",
          "tip": 2,
          "total_bill": 14.52
         },
         {
          "day": "Thur",
          "sex": "Female",
          "size": 2,
          "smoker": "No",
          "time": "Lunch",
          "tip": 2,
          "total_bill": 11.38
         },
         {
          "day": "Thur",
          "sex": "Male",
          "size": 3,
          "smoker": "No",
          "time": "Lunch",
          "tip": 2.18,
          "total_bill": 22.82
         },
         {
          "day": "Thur",
          "sex": "Male",
          "size": 2,
          "smoker": "No",
          "time": "Lunch",
          "tip": 1.5,
          "total_bill": 19.08
         },
         {
          "day": "Thur",
          "sex": "Female",
          "size": 2,
          "smoker": "No",
          "time": "Lunch",
          "tip": 2.83,
          "total_bill": 20.27
         },
         {
          "day": "Thur",
          "sex": "Female",
          "size": 2,
          "smoker": "No",
          "time": "Lunch",
          "tip": 1.5,
          "total_bill": 11.17
         },
         {
          "day": "Thur",
          "sex": "Female",
          "size": 2,
          "smoker": "No",
          "time": "Lunch",
          "tip": 2,
          "total_bill": 12.26
         },
         {
          "day": "Thur",
          "sex": "Female",
          "size": 2,
          "smoker": "No",
          "time": "Lunch",
          "tip": 3.25,
          "total_bill": 18.26
         },
         {
          "day": "Thur",
          "sex": "Female",
          "size": 2,
          "smoker": "No",
          "time": "Lunch",
          "tip": 1.25,
          "total_bill": 8.51
         },
         {
          "day": "Thur",
          "sex": "Female",
          "size": 2,
          "smoker": "No",
          "time": "Lunch",
          "tip": 2,
          "total_bill": 10.33
         },
         {
          "day": "Thur",
          "sex": "Female",
          "size": 2,
          "smoker": "No",
          "time": "Lunch",
          "tip": 2,
          "total_bill": 14.15
         },
         {
          "day": "Thur",
          "sex": "Male",
          "size": 2,
          "smoker": "Yes",
          "time": "Lunch",
          "tip": 2,
          "total_bill": 16
         },
         {
          "day": "Thur",
          "sex": "Female",
          "size": 2,
          "smoker": "No",
          "time": "Lunch",
          "tip": 2.75,
          "total_bill": 13.16
         },
         {
          "day": "Thur",
          "sex": "Female",
          "size": 2,
          "smoker": "No",
          "time": "Lunch",
          "tip": 3.5,
          "total_bill": 17.47
         },
         {
          "day": "Thur",
          "sex": "Male",
          "size": 6,
          "smoker": "No",
          "time": "Lunch",
          "tip": 6.7,
          "total_bill": 34.3
         },
         {
          "day": "Thur",
          "sex": "Male",
          "size": 5,
          "smoker": "No",
          "time": "Lunch",
          "tip": 5,
          "total_bill": 41.19
         },
         {
          "day": "Thur",
          "sex": "Female",
          "size": 6,
          "smoker": "No",
          "time": "Lunch",
          "tip": 5,
          "total_bill": 27.05
         },
         {
          "day": "Thur",
          "sex": "Female",
          "size": 2,
          "smoker": "No",
          "time": "Lunch",
          "tip": 2.3,
          "total_bill": 16.43
         },
         {
          "day": "Thur",
          "sex": "Female",
          "size": 2,
          "smoker": "No",
          "time": "Lunch",
          "tip": 1.5,
          "total_bill": 8.35
         },
         {
          "day": "Thur",
          "sex": "Female",
          "size": 3,
          "smoker": "No",
          "time": "Lunch",
          "tip": 1.36,
          "total_bill": 18.64
         },
         {
          "day": "Thur",
          "sex": "Female",
          "size": 2,
          "smoker": "No",
          "time": "Lunch",
          "tip": 1.63,
          "total_bill": 11.87
         },
         {
          "day": "Thur",
          "sex": "Male",
          "size": 2,
          "smoker": "No",
          "time": "Lunch",
          "tip": 1.73,
          "total_bill": 9.78
         },
         {
          "day": "Thur",
          "sex": "Male",
          "size": 2,
          "smoker": "No",
          "time": "Lunch",
          "tip": 2,
          "total_bill": 7.51
         },
         {
          "day": "Sun",
          "sex": "Male",
          "size": 2,
          "smoker": "No",
          "time": "Dinner",
          "tip": 2.5,
          "total_bill": 14.07
         },
         {
          "day": "Sun",
          "sex": "Male",
          "size": 2,
          "smoker": "No",
          "time": "Dinner",
          "tip": 2,
          "total_bill": 13.13
         },
         {
          "day": "Sun",
          "sex": "Male",
          "size": 3,
          "smoker": "No",
          "time": "Dinner",
          "tip": 2.74,
          "total_bill": 17.26
         },
         {
          "day": "Sun",
          "sex": "Male",
          "size": 4,
          "smoker": "No",
          "time": "Dinner",
          "tip": 2,
          "total_bill": 24.55
         },
         {
          "day": "Sun",
          "sex": "Male",
          "size": 4,
          "smoker": "No",
          "time": "Dinner",
          "tip": 2,
          "total_bill": 19.77
         },
         {
          "day": "Sun",
          "sex": "Female",
          "size": 5,
          "smoker": "No",
          "time": "Dinner",
          "tip": 5.14,
          "total_bill": 29.85
         },
         {
          "day": "Sun",
          "sex": "Male",
          "size": 6,
          "smoker": "No",
          "time": "Dinner",
          "tip": 5,
          "total_bill": 48.17
         },
         {
          "day": "Sun",
          "sex": "Female",
          "size": 4,
          "smoker": "No",
          "time": "Dinner",
          "tip": 3.75,
          "total_bill": 25
         },
         {
          "day": "Sun",
          "sex": "Female",
          "size": 2,
          "smoker": "No",
          "time": "Dinner",
          "tip": 2.61,
          "total_bill": 13.39
         },
         {
          "day": "Sun",
          "sex": "Male",
          "size": 4,
          "smoker": "No",
          "time": "Dinner",
          "tip": 2,
          "total_bill": 16.49
         },
         {
          "day": "Sun",
          "sex": "Male",
          "size": 4,
          "smoker": "No",
          "time": "Dinner",
          "tip": 3.5,
          "total_bill": 21.5
         },
         {
          "day": "Sun",
          "sex": "Male",
          "size": 2,
          "smoker": "No",
          "time": "Dinner",
          "tip": 2.5,
          "total_bill": 12.66
         },
         {
          "day": "Sun",
          "sex": "Female",
          "size": 3,
          "smoker": "No",
          "time": "Dinner",
          "tip": 2,
          "total_bill": 16.21
         },
         {
          "day": "Sun",
          "sex": "Male",
          "size": 2,
          "smoker": "No",
          "time": "Dinner",
          "tip": 2,
          "total_bill": 13.81
         },
         {
          "day": "Sun",
          "sex": "Female",
          "size": 2,
          "smoker": "Yes",
          "time": "Dinner",
          "tip": 3,
          "total_bill": 17.51
         },
         {
          "day": "Sun",
          "sex": "Male",
          "size": 3,
          "smoker": "No",
          "time": "Dinner",
          "tip": 3.48,
          "total_bill": 24.52
         },
         {
          "day": "Sun",
          "sex": "Male",
          "size": 2,
          "smoker": "No",
          "time": "Dinner",
          "tip": 2.24,
          "total_bill": 20.76
         },
         {
          "day": "Sun",
          "sex": "Male",
          "size": 4,
          "smoker": "No",
          "time": "Dinner",
          "tip": 4.5,
          "total_bill": 31.71
         },
         {
          "day": "Sat",
          "sex": "Female",
          "size": 2,
          "smoker": "Yes",
          "time": "Dinner",
          "tip": 1.61,
          "total_bill": 10.59
         },
         {
          "day": "Sat",
          "sex": "Female",
          "size": 2,
          "smoker": "Yes",
          "time": "Dinner",
          "tip": 2,
          "total_bill": 10.63
         },
         {
          "day": "Sat",
          "sex": "Male",
          "size": 3,
          "smoker": "Yes",
          "time": "Dinner",
          "tip": 10,
          "total_bill": 50.81
         },
         {
          "day": "Sat",
          "sex": "Male",
          "size": 2,
          "smoker": "Yes",
          "time": "Dinner",
          "tip": 3.16,
          "total_bill": 15.81
         },
         {
          "day": "Sun",
          "sex": "Male",
          "size": 2,
          "smoker": "Yes",
          "time": "Dinner",
          "tip": 5.15,
          "total_bill": 7.25
         },
         {
          "day": "Sun",
          "sex": "Male",
          "size": 2,
          "smoker": "Yes",
          "time": "Dinner",
          "tip": 3.18,
          "total_bill": 31.85
         },
         {
          "day": "Sun",
          "sex": "Male",
          "size": 2,
          "smoker": "Yes",
          "time": "Dinner",
          "tip": 4,
          "total_bill": 16.82
         },
         {
          "day": "Sun",
          "sex": "Male",
          "size": 2,
          "smoker": "Yes",
          "time": "Dinner",
          "tip": 3.11,
          "total_bill": 32.9
         },
         {
          "day": "Sun",
          "sex": "Male",
          "size": 2,
          "smoker": "Yes",
          "time": "Dinner",
          "tip": 2,
          "total_bill": 17.89
         },
         {
          "day": "Sun",
          "sex": "Male",
          "size": 2,
          "smoker": "Yes",
          "time": "Dinner",
          "tip": 2,
          "total_bill": 14.48
         },
         {
          "day": "Sun",
          "sex": "Female",
          "size": 2,
          "smoker": "Yes",
          "time": "Dinner",
          "tip": 4,
          "total_bill": 9.6
         },
         {
          "day": "Sun",
          "sex": "Male",
          "size": 2,
          "smoker": "Yes",
          "time": "Dinner",
          "tip": 3.55,
          "total_bill": 34.63
         },
         {
          "day": "Sun",
          "sex": "Male",
          "size": 4,
          "smoker": "Yes",
          "time": "Dinner",
          "tip": 3.68,
          "total_bill": 34.65
         },
         {
          "day": "Sun",
          "sex": "Male",
          "size": 2,
          "smoker": "Yes",
          "time": "Dinner",
          "tip": 5.65,
          "total_bill": 23.33
         },
         {
          "day": "Sun",
          "sex": "Male",
          "size": 3,
          "smoker": "Yes",
          "time": "Dinner",
          "tip": 3.5,
          "total_bill": 45.35
         },
         {
          "day": "Sun",
          "sex": "Male",
          "size": 4,
          "smoker": "Yes",
          "time": "Dinner",
          "tip": 6.5,
          "total_bill": 23.17
         },
         {
          "day": "Sun",
          "sex": "Male",
          "size": 2,
          "smoker": "Yes",
          "time": "Dinner",
          "tip": 3,
          "total_bill": 40.55
         },
         {
          "day": "Sun",
          "sex": "Male",
          "size": 5,
          "smoker": "No",
          "time": "Dinner",
          "tip": 5,
          "total_bill": 20.69
         },
         {
          "day": "Sun",
          "sex": "Female",
          "size": 3,
          "smoker": "Yes",
          "time": "Dinner",
          "tip": 3.5,
          "total_bill": 20.9
         },
         {
          "day": "Sun",
          "sex": "Male",
          "size": 5,
          "smoker": "Yes",
          "time": "Dinner",
          "tip": 2,
          "total_bill": 30.46
         },
         {
          "day": "Sun",
          "sex": "Female",
          "size": 3,
          "smoker": "Yes",
          "time": "Dinner",
          "tip": 3.5,
          "total_bill": 18.15
         },
         {
          "day": "Sun",
          "sex": "Male",
          "size": 3,
          "smoker": "Yes",
          "time": "Dinner",
          "tip": 4,
          "total_bill": 23.1
         },
         {
          "day": "Sun",
          "sex": "Male",
          "size": 2,
          "smoker": "Yes",
          "time": "Dinner",
          "tip": 1.5,
          "total_bill": 15.69
         },
         {
          "day": "Thur",
          "sex": "Female",
          "size": 2,
          "smoker": "Yes",
          "time": "Lunch",
          "tip": 4.19,
          "total_bill": 19.81
         },
         {
          "day": "Thur",
          "sex": "Male",
          "size": 2,
          "smoker": "Yes",
          "time": "Lunch",
          "tip": 2.56,
          "total_bill": 28.44
         },
         {
          "day": "Thur",
          "sex": "Male",
          "size": 2,
          "smoker": "Yes",
          "time": "Lunch",
          "tip": 2.02,
          "total_bill": 15.48
         },
         {
          "day": "Thur",
          "sex": "Male",
          "size": 2,
          "smoker": "Yes",
          "time": "Lunch",
          "tip": 4,
          "total_bill": 16.58
         },
         {
          "day": "Thur",
          "sex": "Male",
          "size": 2,
          "smoker": "No",
          "time": "Lunch",
          "tip": 1.44,
          "total_bill": 7.56
         },
         {
          "day": "Thur",
          "sex": "Male",
          "size": 2,
          "smoker": "Yes",
          "time": "Lunch",
          "tip": 2,
          "total_bill": 10.34
         },
         {
          "day": "Thur",
          "sex": "Female",
          "size": 4,
          "smoker": "Yes",
          "time": "Lunch",
          "tip": 5,
          "total_bill": 43.11
         },
         {
          "day": "Thur",
          "sex": "Female",
          "size": 2,
          "smoker": "Yes",
          "time": "Lunch",
          "tip": 2,
          "total_bill": 13
         },
         {
          "day": "Thur",
          "sex": "Male",
          "size": 2,
          "smoker": "Yes",
          "time": "Lunch",
          "tip": 2,
          "total_bill": 13.51
         },
         {
          "day": "Thur",
          "sex": "Male",
          "size": 3,
          "smoker": "Yes",
          "time": "Lunch",
          "tip": 4,
          "total_bill": 18.71
         },
         {
          "day": "Thur",
          "sex": "Female",
          "size": 2,
          "smoker": "Yes",
          "time": "Lunch",
          "tip": 2.01,
          "total_bill": 12.74
         },
         {
          "day": "Thur",
          "sex": "Female",
          "size": 2,
          "smoker": "Yes",
          "time": "Lunch",
          "tip": 2,
          "total_bill": 13
         },
         {
          "day": "Thur",
          "sex": "Female",
          "size": 2,
          "smoker": "Yes",
          "time": "Lunch",
          "tip": 2.5,
          "total_bill": 16.4
         },
         {
          "day": "Thur",
          "sex": "Male",
          "size": 4,
          "smoker": "Yes",
          "time": "Lunch",
          "tip": 4,
          "total_bill": 20.53
         },
         {
          "day": "Thur",
          "sex": "Female",
          "size": 3,
          "smoker": "Yes",
          "time": "Lunch",
          "tip": 3.23,
          "total_bill": 16.47
         },
         {
          "day": "Sat",
          "sex": "Male",
          "size": 3,
          "smoker": "Yes",
          "time": "Dinner",
          "tip": 3.41,
          "total_bill": 26.59
         },
         {
          "day": "Sat",
          "sex": "Male",
          "size": 4,
          "smoker": "Yes",
          "time": "Dinner",
          "tip": 3,
          "total_bill": 38.73
         },
         {
          "day": "Sat",
          "sex": "Male",
          "size": 2,
          "smoker": "Yes",
          "time": "Dinner",
          "tip": 2.03,
          "total_bill": 24.27
         },
         {
          "day": "Sat",
          "sex": "Female",
          "size": 2,
          "smoker": "Yes",
          "time": "Dinner",
          "tip": 2.23,
          "total_bill": 12.76
         },
         {
          "day": "Sat",
          "sex": "Male",
          "size": 3,
          "smoker": "Yes",
          "time": "Dinner",
          "tip": 2,
          "total_bill": 30.06
         },
         {
          "day": "Sat",
          "sex": "Male",
          "size": 4,
          "smoker": "Yes",
          "time": "Dinner",
          "tip": 5.16,
          "total_bill": 25.89
         },
         {
          "day": "Sat",
          "sex": "Male",
          "size": 4,
          "smoker": "No",
          "time": "Dinner",
          "tip": 9,
          "total_bill": 48.33
         },
         {
          "day": "Sat",
          "sex": "Female",
          "size": 2,
          "smoker": "Yes",
          "time": "Dinner",
          "tip": 2.5,
          "total_bill": 13.27
         },
         {
          "day": "Sat",
          "sex": "Female",
          "size": 3,
          "smoker": "Yes",
          "time": "Dinner",
          "tip": 6.5,
          "total_bill": 28.17
         },
         {
          "day": "Sat",
          "sex": "Female",
          "size": 2,
          "smoker": "Yes",
          "time": "Dinner",
          "tip": 1.1,
          "total_bill": 12.9
         },
         {
          "day": "Sat",
          "sex": "Male",
          "size": 5,
          "smoker": "Yes",
          "time": "Dinner",
          "tip": 3,
          "total_bill": 28.15
         },
         {
          "day": "Sat",
          "sex": "Male",
          "size": 2,
          "smoker": "Yes",
          "time": "Dinner",
          "tip": 1.5,
          "total_bill": 11.59
         },
         {
          "day": "Sat",
          "sex": "Male",
          "size": 2,
          "smoker": "Yes",
          "time": "Dinner",
          "tip": 1.44,
          "total_bill": 7.74
         },
         {
          "day": "Sat",
          "sex": "Female",
          "size": 4,
          "smoker": "Yes",
          "time": "Dinner",
          "tip": 3.09,
          "total_bill": 30.14
         },
         {
          "day": "Fri",
          "sex": "Male",
          "size": 2,
          "smoker": "Yes",
          "time": "Lunch",
          "tip": 2.2,
          "total_bill": 12.16
         },
         {
          "day": "Fri",
          "sex": "Female",
          "size": 2,
          "smoker": "Yes",
          "time": "Lunch",
          "tip": 3.48,
          "total_bill": 13.42
         },
         {
          "day": "Fri",
          "sex": "Male",
          "size": 1,
          "smoker": "Yes",
          "time": "Lunch",
          "tip": 1.92,
          "total_bill": 8.58
         },
         {
          "day": "Fri",
          "sex": "Female",
          "size": 3,
          "smoker": "No",
          "time": "Lunch",
          "tip": 3,
          "total_bill": 15.98
         },
         {
          "day": "Fri",
          "sex": "Male",
          "size": 2,
          "smoker": "Yes",
          "time": "Lunch",
          "tip": 1.58,
          "total_bill": 13.42
         },
         {
          "day": "Fri",
          "sex": "Female",
          "size": 2,
          "smoker": "Yes",
          "time": "Lunch",
          "tip": 2.5,
          "total_bill": 16.27
         },
         {
          "day": "Fri",
          "sex": "Female",
          "size": 2,
          "smoker": "Yes",
          "time": "Lunch",
          "tip": 2,
          "total_bill": 10.09
         },
         {
          "day": "Sat",
          "sex": "Male",
          "size": 4,
          "smoker": "No",
          "time": "Dinner",
          "tip": 3,
          "total_bill": 20.45
         },
         {
          "day": "Sat",
          "sex": "Male",
          "size": 2,
          "smoker": "No",
          "time": "Dinner",
          "tip": 2.72,
          "total_bill": 13.28
         },
         {
          "day": "Sat",
          "sex": "Female",
          "size": 2,
          "smoker": "Yes",
          "time": "Dinner",
          "tip": 2.88,
          "total_bill": 22.12
         },
         {
          "day": "Sat",
          "sex": "Male",
          "size": 4,
          "smoker": "Yes",
          "time": "Dinner",
          "tip": 2,
          "total_bill": 24.01
         },
         {
          "day": "Sat",
          "sex": "Male",
          "size": 3,
          "smoker": "Yes",
          "time": "Dinner",
          "tip": 3,
          "total_bill": 15.69
         },
         {
          "day": "Sat",
          "sex": "Male",
          "size": 2,
          "smoker": "No",
          "time": "Dinner",
          "tip": 3.39,
          "total_bill": 11.61
         },
         {
          "day": "Sat",
          "sex": "Male",
          "size": 2,
          "smoker": "No",
          "time": "Dinner",
          "tip": 1.47,
          "total_bill": 10.77
         },
         {
          "day": "Sat",
          "sex": "Male",
          "size": 2,
          "smoker": "Yes",
          "time": "Dinner",
          "tip": 3,
          "total_bill": 15.53
         },
         {
          "day": "Sat",
          "sex": "Male",
          "size": 2,
          "smoker": "No",
          "time": "Dinner",
          "tip": 1.25,
          "total_bill": 10.07
         },
         {
          "day": "Sat",
          "sex": "Male",
          "size": 2,
          "smoker": "Yes",
          "time": "Dinner",
          "tip": 1,
          "total_bill": 12.6
         },
         {
          "day": "Sat",
          "sex": "Male",
          "size": 2,
          "smoker": "Yes",
          "time": "Dinner",
          "tip": 1.17,
          "total_bill": 32.83
         },
         {
          "day": "Sat",
          "sex": "Female",
          "size": 3,
          "smoker": "No",
          "time": "Dinner",
          "tip": 4.67,
          "total_bill": 35.83
         },
         {
          "day": "Sat",
          "sex": "Male",
          "size": 3,
          "smoker": "No",
          "time": "Dinner",
          "tip": 5.92,
          "total_bill": 29.03
         },
         {
          "day": "Sat",
          "sex": "Female",
          "size": 2,
          "smoker": "Yes",
          "time": "Dinner",
          "tip": 2,
          "total_bill": 27.18
         },
         {
          "day": "Sat",
          "sex": "Male",
          "size": 2,
          "smoker": "Yes",
          "time": "Dinner",
          "tip": 2,
          "total_bill": 22.67
         },
         {
          "day": "Sat",
          "sex": "Male",
          "size": 2,
          "smoker": "No",
          "time": "Dinner",
          "tip": 1.75,
          "total_bill": 17.82
         },
         {
          "day": "Thur",
          "sex": "Female",
          "size": 2,
          "smoker": "No",
          "time": "Dinner",
          "tip": 3,
          "total_bill": 18.78
         }
        ]
       },
       "encoding": {
        "color": {
         "field": "day",
         "type": "nominal"
        },
        "x": {
         "field": "total_bill",
         "type": "quantitative"
        },
        "y": {
         "field": "sex",
         "type": "nominal"
        }
       },
       "mark": "tick"
      },
      "image/png": "[encoded data removed]",
      "text/plain": [
       "<VegaLite 2 object>\n",
       "\n",
       "If you see this message, it means the renderer has not been properly enabled\n",
       "for the frontend that you are using. For more information, see\n",
       "https://altair-viz.github.io/user_guide/troubleshooting.html\n"
      ]
     },
     "execution_count": 36,
     "metadata": {},
     "output_type": "execute_result"
    }
   ],
   "source": [
    "star.stripplot(y=\"sex\", x=\"total_bill\", hue=\"day\",\n",
    "          data=tips)"
   ]
  }
 ],
 "metadata": {
  "kernelspec": {
   "display_name": "py36",
   "language": "python",
   "name": "py36"
  },
  "language_info": {
   "codemirror_mode": {
    "name": "ipython",
    "version": 3
   },
   "file_extension": ".py",
   "mimetype": "text/x-python",
   "name": "python",
   "nbconvert_exporter": "python",
   "pygments_lexer": "ipython3",
   "version": "3.6.5"
  }
 },
 "nbformat": 4,
 "nbformat_minor": 2
}
